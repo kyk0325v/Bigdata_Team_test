{
 "cells": [
  {
   "cell_type": "code",
   "execution_count": 1,
   "metadata": {},
   "outputs": [],
   "source": [
    "import numpy as np\n",
    "import pandas as pd\n",
    "from scipy.stats import randint, uniform\n",
    "import matplotlib.pyplot as plt\n",
    "from matplotlib import font_manager, rc\n",
    "import seaborn as sns\n",
    "import warnings\n",
    "from imblearn.combine import *\n",
    "from sklearn.model_selection import train_test_split\n",
    "from sklearn.metrics import roc_curve, classification_report\n",
    "#from sklearn.preprocessing import Imputer\n",
    "from sklearn.preprocessing import StandardScaler, MinMaxScaler\n",
    "from sklearn.model_selection import cross_val_score, KFold\n",
    "from sklearn.metrics import accuracy_score, roc_auc_score, f1_score\n",
    "from xgboost import XGBClassifier\n",
    "from lightgbm import LGBMClassifier\n",
    "from sklearn.model_selection import GridSearchCV\n",
    "from sklearn.svm import SVC \n",
    "from sklearn.model_selection import RandomizedSearchCV\n",
    "from sklearn.preprocessing import PolynomialFeatures, OneHotEncoder\n",
    "from sklearn.pipeline import make_pipeline\n",
    "from sklearn.datasets import make_classification\n",
    "from collections import Counter\n",
    "from sklearn.pipeline import Pipeline\n",
    "from sklearn.pipeline import FeatureUnion\n",
    "from sklearn.decomposition import PCA\n",
    "from sklearn.feature_selection import SelectKBest\n",
    "\n",
    "warnings.filterwarnings(\"ignore\", category=DeprecationWarning)\n",
    "%matplotlib inline\n",
    "\n",
    "# 한글 설정\n",
    "import matplotlib.font_manager as fm\n",
    "\n",
    "# font_list = fm.findSystemFonts(fontpaths=None, fontext='ttf')\n",
    "# ttf 폰트 전체개수\n",
    "# print(len(font_list))\n",
    "# [(f.name, f.fname) for f in fm.fontManager.ttflist if 'Gothic' in f.name]\n",
    "\n",
    "font_path = 'C:\\\\WINDOWS\\\\Fonts\\\\malgunsl.ttf'\n",
    "font_prop = fm.FontProperties(fname=font_path, size=12)\n",
    "font_name = font_prop.get_name()\n",
    "\n",
    "rc('font', family=font_name)"
   ]
  },
  {
   "cell_type": "code",
   "execution_count": 2,
   "metadata": {},
   "outputs": [
    {
     "data": {
      "text/html": [
       "<div>\n",
       "<style scoped>\n",
       "    .dataframe tbody tr th:only-of-type {\n",
       "        vertical-align: middle;\n",
       "    }\n",
       "\n",
       "    .dataframe tbody tr th {\n",
       "        vertical-align: top;\n",
       "    }\n",
       "\n",
       "    .dataframe thead th {\n",
       "        text-align: right;\n",
       "    }\n",
       "</style>\n",
       "<table border=\"1\" class=\"dataframe\">\n",
       "  <thead>\n",
       "    <tr style=\"text-align: right;\">\n",
       "      <th></th>\n",
       "      <th>custid</th>\n",
       "      <th>총구매액</th>\n",
       "      <th>구매건수</th>\n",
       "      <th>평균구매가격</th>\n",
       "      <th>평균할부개월수</th>\n",
       "      <th>구매브랜드종류</th>\n",
       "      <th>내점일수</th>\n",
       "      <th>수입상품_구매비율</th>\n",
       "      <th>주말방문비율</th>\n",
       "      <th>가을_구매건수</th>\n",
       "      <th>겨울_구매건수</th>\n",
       "      <th>봄_구매건수</th>\n",
       "      <th>여름_구매건수</th>\n",
       "      <th>아침_구매건수</th>\n",
       "      <th>저녁_구매건수</th>\n",
       "      <th>점심_구매건수</th>\n",
       "      <th>주구매코너</th>\n",
       "    </tr>\n",
       "  </thead>\n",
       "  <tbody>\n",
       "    <tr>\n",
       "      <th>0</th>\n",
       "      <td>100001</td>\n",
       "      <td>3439000</td>\n",
       "      <td>25</td>\n",
       "      <td>137560</td>\n",
       "      <td>2.2</td>\n",
       "      <td>19</td>\n",
       "      <td>16</td>\n",
       "      <td>12.0</td>\n",
       "      <td>31.2</td>\n",
       "      <td>5.0</td>\n",
       "      <td>4.0</td>\n",
       "      <td>7.0</td>\n",
       "      <td>9.0</td>\n",
       "      <td>13.0</td>\n",
       "      <td>1.0</td>\n",
       "      <td>11.0</td>\n",
       "      <td>장신구</td>\n",
       "    </tr>\n",
       "    <tr>\n",
       "      <th>1</th>\n",
       "      <td>100002</td>\n",
       "      <td>2073090</td>\n",
       "      <td>39</td>\n",
       "      <td>53156</td>\n",
       "      <td>1.3</td>\n",
       "      <td>18</td>\n",
       "      <td>29</td>\n",
       "      <td>0.0</td>\n",
       "      <td>20.7</td>\n",
       "      <td>13.0</td>\n",
       "      <td>8.0</td>\n",
       "      <td>10.0</td>\n",
       "      <td>8.0</td>\n",
       "      <td>4.0</td>\n",
       "      <td>10.0</td>\n",
       "      <td>25.0</td>\n",
       "      <td>유아동복</td>\n",
       "    </tr>\n",
       "    <tr>\n",
       "      <th>2</th>\n",
       "      <td>100003</td>\n",
       "      <td>1303800</td>\n",
       "      <td>22</td>\n",
       "      <td>59264</td>\n",
       "      <td>1.8</td>\n",
       "      <td>14</td>\n",
       "      <td>12</td>\n",
       "      <td>0.0</td>\n",
       "      <td>41.7</td>\n",
       "      <td>6.0</td>\n",
       "      <td>7.0</td>\n",
       "      <td>3.0</td>\n",
       "      <td>6.0</td>\n",
       "      <td>3.0</td>\n",
       "      <td>1.0</td>\n",
       "      <td>18.0</td>\n",
       "      <td>유아동복</td>\n",
       "    </tr>\n",
       "    <tr>\n",
       "      <th>3</th>\n",
       "      <td>100004</td>\n",
       "      <td>6696522</td>\n",
       "      <td>46</td>\n",
       "      <td>145577</td>\n",
       "      <td>1.7</td>\n",
       "      <td>31</td>\n",
       "      <td>22</td>\n",
       "      <td>37.0</td>\n",
       "      <td>50.0</td>\n",
       "      <td>5.0</td>\n",
       "      <td>15.0</td>\n",
       "      <td>9.0</td>\n",
       "      <td>17.0</td>\n",
       "      <td>NaN</td>\n",
       "      <td>4.0</td>\n",
       "      <td>42.0</td>\n",
       "      <td>수입명품</td>\n",
       "    </tr>\n",
       "    <tr>\n",
       "      <th>4</th>\n",
       "      <td>100005</td>\n",
       "      <td>1297640</td>\n",
       "      <td>26</td>\n",
       "      <td>49909</td>\n",
       "      <td>2.3</td>\n",
       "      <td>13</td>\n",
       "      <td>9</td>\n",
       "      <td>11.5</td>\n",
       "      <td>22.2</td>\n",
       "      <td>18.0</td>\n",
       "      <td>NaN</td>\n",
       "      <td>5.0</td>\n",
       "      <td>3.0</td>\n",
       "      <td>NaN</td>\n",
       "      <td>NaN</td>\n",
       "      <td>26.0</td>\n",
       "      <td>스포츠</td>\n",
       "    </tr>\n",
       "  </tbody>\n",
       "</table>\n",
       "</div>"
      ],
      "text/plain": [
       "   custid     총구매액  구매건수  평균구매가격  평균할부개월수  구매브랜드종류  내점일수  수입상품_구매비율  주말방문비율  \\\n",
       "0  100001  3439000    25  137560      2.2       19    16       12.0    31.2   \n",
       "1  100002  2073090    39   53156      1.3       18    29        0.0    20.7   \n",
       "2  100003  1303800    22   59264      1.8       14    12        0.0    41.7   \n",
       "3  100004  6696522    46  145577      1.7       31    22       37.0    50.0   \n",
       "4  100005  1297640    26   49909      2.3       13     9       11.5    22.2   \n",
       "\n",
       "   가을_구매건수  겨울_구매건수  봄_구매건수  여름_구매건수  아침_구매건수  저녁_구매건수  점심_구매건수 주구매코너  \n",
       "0      5.0      4.0     7.0      9.0     13.0      1.0     11.0   장신구  \n",
       "1     13.0      8.0    10.0      8.0      4.0     10.0     25.0  유아동복  \n",
       "2      6.0      7.0     3.0      6.0      3.0      1.0     18.0  유아동복  \n",
       "3      5.0     15.0     9.0     17.0      NaN      4.0     42.0  수입명품  \n",
       "4     18.0      NaN     5.0      3.0      NaN      NaN     26.0   스포츠  "
      ]
     },
     "execution_count": 2,
     "metadata": {},
     "output_type": "execute_result"
    }
   ],
   "source": [
    "test = pd.read_csv('D:\\python\\연습\\store/test.csv',encoding='CP949')\n",
    "test.head()"
   ]
  },
  {
   "cell_type": "code",
   "execution_count": 3,
   "metadata": {},
   "outputs": [
    {
     "name": "stdout",
     "output_type": "stream",
     "text": [
      "<class 'pandas.core.frame.DataFrame'>\n",
      "RangeIndex: 5000 entries, 0 to 4999\n",
      "Data columns (total 17 columns):\n",
      " #   Column     Non-Null Count  Dtype  \n",
      "---  ------     --------------  -----  \n",
      " 0   custid     5000 non-null   int64  \n",
      " 1   총구매액       5000 non-null   int64  \n",
      " 2   구매건수       5000 non-null   int64  \n",
      " 3   평균구매가격     5000 non-null   int64  \n",
      " 4   평균할부개월수    5000 non-null   float64\n",
      " 5   구매브랜드종류    5000 non-null   int64  \n",
      " 6   내점일수       5000 non-null   int64  \n",
      " 7   수입상품_구매비율  5000 non-null   float64\n",
      " 8   주말방문비율     5000 non-null   float64\n",
      " 9   가을_구매건수    4052 non-null   float64\n",
      " 10  겨울_구매건수    4089 non-null   float64\n",
      " 11  봄_구매건수     4319 non-null   float64\n",
      " 12  여름_구매건수    4009 non-null   float64\n",
      " 13  아침_구매건수    3608 non-null   float64\n",
      " 14  저녁_구매건수    3975 non-null   float64\n",
      " 15  점심_구매건수    4861 non-null   float64\n",
      " 16  주구매코너      5000 non-null   object \n",
      "dtypes: float64(10), int64(6), object(1)\n",
      "memory usage: 664.2+ KB\n"
     ]
    }
   ],
   "source": [
    "test.info()"
   ]
  },
  {
   "cell_type": "markdown",
   "metadata": {},
   "source": [
    "#### 데이터의 행수, 열수를 확인"
   ]
  },
  {
   "cell_type": "code",
   "execution_count": 4,
   "metadata": {},
   "outputs": [
    {
     "data": {
      "text/plain": [
       "(5000, 17)"
      ]
     },
     "execution_count": 4,
     "metadata": {},
     "output_type": "execute_result"
    }
   ],
   "source": [
    "test.shape"
   ]
  },
  {
   "cell_type": "markdown",
   "metadata": {},
   "source": [
    "#### 데이터 형을 확인"
   ]
  },
  {
   "cell_type": "code",
   "execution_count": 5,
   "metadata": {},
   "outputs": [
    {
     "data": {
      "text/plain": [
       "custid         int64\n",
       "총구매액           int64\n",
       "구매건수           int64\n",
       "평균구매가격         int64\n",
       "평균할부개월수      float64\n",
       "구매브랜드종류        int64\n",
       "내점일수           int64\n",
       "수입상품_구매비율    float64\n",
       "주말방문비율       float64\n",
       "가을_구매건수      float64\n",
       "겨울_구매건수      float64\n",
       "봄_구매건수       float64\n",
       "여름_구매건수      float64\n",
       "아침_구매건수      float64\n",
       "저녁_구매건수      float64\n",
       "점심_구매건수      float64\n",
       "주구매코너         object\n",
       "dtype: object"
      ]
     },
     "execution_count": 5,
     "metadata": {},
     "output_type": "execute_result"
    }
   ],
   "source": [
    "test.dtypes"
   ]
  },
  {
   "cell_type": "markdown",
   "metadata": {},
   "source": [
    "#### 결손값, 결측치, 결측값 확인"
   ]
  },
  {
   "cell_type": "code",
   "execution_count": 6,
   "metadata": {},
   "outputs": [
    {
     "data": {
      "text/plain": [
       "6087"
      ]
     },
     "execution_count": 6,
     "metadata": {},
     "output_type": "execute_result"
    }
   ],
   "source": [
    "test.isnull().sum().sum()"
   ]
  },
  {
   "cell_type": "markdown",
   "metadata": {},
   "source": [
    "#### 데이터행별 결손값의 개수가 많은 순서로 정렬"
   ]
  },
  {
   "cell_type": "code",
   "execution_count": 7,
   "metadata": {},
   "outputs": [
    {
     "data": {
      "text/plain": [
       "아침_구매건수      1392\n",
       "저녁_구매건수      1025\n",
       "여름_구매건수       991\n",
       "가을_구매건수       948\n",
       "겨울_구매건수       911\n",
       "봄_구매건수        681\n",
       "점심_구매건수       139\n",
       "주구매코너           0\n",
       "평균할부개월수         0\n",
       "총구매액            0\n",
       "구매건수            0\n",
       "평균구매가격          0\n",
       "주말방문비율          0\n",
       "구매브랜드종류         0\n",
       "내점일수            0\n",
       "수입상품_구매비율       0\n",
       "custid          0\n",
       "dtype: int64"
      ]
     },
     "execution_count": 7,
     "metadata": {},
     "output_type": "execute_result"
    }
   ],
   "source": [
    "test.isnull().sum(axis=0).sort_values(ascending=False)"
   ]
  },
  {
   "cell_type": "markdown",
   "metadata": {},
   "source": [
    "#### 데이터형이 수치형인 각종 통계량의 계산"
   ]
  },
  {
   "cell_type": "code",
   "execution_count": 8,
   "metadata": {},
   "outputs": [
    {
     "data": {
      "text/html": [
       "<div>\n",
       "<style scoped>\n",
       "    .dataframe tbody tr th:only-of-type {\n",
       "        vertical-align: middle;\n",
       "    }\n",
       "\n",
       "    .dataframe tbody tr th {\n",
       "        vertical-align: top;\n",
       "    }\n",
       "\n",
       "    .dataframe thead th {\n",
       "        text-align: right;\n",
       "    }\n",
       "</style>\n",
       "<table border=\"1\" class=\"dataframe\">\n",
       "  <thead>\n",
       "    <tr style=\"text-align: right;\">\n",
       "      <th></th>\n",
       "      <th>custid</th>\n",
       "      <th>총구매액</th>\n",
       "      <th>구매건수</th>\n",
       "      <th>평균구매가격</th>\n",
       "      <th>평균할부개월수</th>\n",
       "      <th>구매브랜드종류</th>\n",
       "      <th>내점일수</th>\n",
       "      <th>수입상품_구매비율</th>\n",
       "      <th>주말방문비율</th>\n",
       "      <th>가을_구매건수</th>\n",
       "      <th>겨울_구매건수</th>\n",
       "      <th>봄_구매건수</th>\n",
       "      <th>여름_구매건수</th>\n",
       "      <th>아침_구매건수</th>\n",
       "      <th>저녁_구매건수</th>\n",
       "      <th>점심_구매건수</th>\n",
       "    </tr>\n",
       "  </thead>\n",
       "  <tbody>\n",
       "    <tr>\n",
       "      <th>count</th>\n",
       "      <td>5000.000000</td>\n",
       "      <td>5.000000e+03</td>\n",
       "      <td>5000.000000</td>\n",
       "      <td>5.000000e+03</td>\n",
       "      <td>5000.00000</td>\n",
       "      <td>5000.000000</td>\n",
       "      <td>5000.000000</td>\n",
       "      <td>5000.000000</td>\n",
       "      <td>5000.00000</td>\n",
       "      <td>4052.000000</td>\n",
       "      <td>4089.000000</td>\n",
       "      <td>4319.000000</td>\n",
       "      <td>4009.000000</td>\n",
       "      <td>3608.000000</td>\n",
       "      <td>3975.000000</td>\n",
       "      <td>4861.000000</td>\n",
       "    </tr>\n",
       "    <tr>\n",
       "      <th>mean</th>\n",
       "      <td>102500.500000</td>\n",
       "      <td>3.441780e+06</td>\n",
       "      <td>34.811400</td>\n",
       "      <td>1.012712e+05</td>\n",
       "      <td>1.90960</td>\n",
       "      <td>17.703400</td>\n",
       "      <td>18.060400</td>\n",
       "      <td>17.448680</td>\n",
       "      <td>38.59578</td>\n",
       "      <td>10.469891</td>\n",
       "      <td>9.895573</td>\n",
       "      <td>10.624682</td>\n",
       "      <td>11.295086</td>\n",
       "      <td>8.595621</td>\n",
       "      <td>9.521258</td>\n",
       "      <td>21.641020</td>\n",
       "    </tr>\n",
       "    <tr>\n",
       "      <th>std</th>\n",
       "      <td>1443.520003</td>\n",
       "      <td>4.992757e+06</td>\n",
       "      <td>40.082429</td>\n",
       "      <td>8.359185e+04</td>\n",
       "      <td>0.72939</td>\n",
       "      <td>14.922063</td>\n",
       "      <td>19.313637</td>\n",
       "      <td>18.566486</td>\n",
       "      <td>24.25075</td>\n",
       "      <td>11.749245</td>\n",
       "      <td>11.357972</td>\n",
       "      <td>11.734012</td>\n",
       "      <td>12.038547</td>\n",
       "      <td>13.003838</td>\n",
       "      <td>13.082006</td>\n",
       "      <td>25.838899</td>\n",
       "    </tr>\n",
       "    <tr>\n",
       "      <th>min</th>\n",
       "      <td>100001.000000</td>\n",
       "      <td>-6.696500e+04</td>\n",
       "      <td>1.000000</td>\n",
       "      <td>-1.196000e+03</td>\n",
       "      <td>1.00000</td>\n",
       "      <td>1.000000</td>\n",
       "      <td>1.000000</td>\n",
       "      <td>0.000000</td>\n",
       "      <td>0.00000</td>\n",
       "      <td>1.000000</td>\n",
       "      <td>1.000000</td>\n",
       "      <td>1.000000</td>\n",
       "      <td>1.000000</td>\n",
       "      <td>1.000000</td>\n",
       "      <td>1.000000</td>\n",
       "      <td>1.000000</td>\n",
       "    </tr>\n",
       "    <tr>\n",
       "      <th>25%</th>\n",
       "      <td>101250.750000</td>\n",
       "      <td>7.183012e+05</td>\n",
       "      <td>10.000000</td>\n",
       "      <td>5.499500e+04</td>\n",
       "      <td>1.40000</td>\n",
       "      <td>7.000000</td>\n",
       "      <td>6.000000</td>\n",
       "      <td>5.100000</td>\n",
       "      <td>22.90000</td>\n",
       "      <td>3.000000</td>\n",
       "      <td>3.000000</td>\n",
       "      <td>3.000000</td>\n",
       "      <td>3.000000</td>\n",
       "      <td>2.000000</td>\n",
       "      <td>2.000000</td>\n",
       "      <td>6.000000</td>\n",
       "    </tr>\n",
       "    <tr>\n",
       "      <th>50%</th>\n",
       "      <td>102500.500000</td>\n",
       "      <td>1.839293e+06</td>\n",
       "      <td>22.000000</td>\n",
       "      <td>8.164500e+04</td>\n",
       "      <td>1.80000</td>\n",
       "      <td>13.000000</td>\n",
       "      <td>12.000000</td>\n",
       "      <td>12.500000</td>\n",
       "      <td>35.00000</td>\n",
       "      <td>7.000000</td>\n",
       "      <td>6.000000</td>\n",
       "      <td>7.000000</td>\n",
       "      <td>7.000000</td>\n",
       "      <td>4.000000</td>\n",
       "      <td>5.000000</td>\n",
       "      <td>13.000000</td>\n",
       "    </tr>\n",
       "    <tr>\n",
       "      <th>75%</th>\n",
       "      <td>103750.250000</td>\n",
       "      <td>4.085492e+06</td>\n",
       "      <td>44.000000</td>\n",
       "      <td>1.215162e+05</td>\n",
       "      <td>2.30000</td>\n",
       "      <td>24.000000</td>\n",
       "      <td>23.000000</td>\n",
       "      <td>24.000000</td>\n",
       "      <td>50.00000</td>\n",
       "      <td>13.000000</td>\n",
       "      <td>13.000000</td>\n",
       "      <td>14.000000</td>\n",
       "      <td>15.000000</td>\n",
       "      <td>10.000000</td>\n",
       "      <td>11.000000</td>\n",
       "      <td>27.000000</td>\n",
       "    </tr>\n",
       "    <tr>\n",
       "      <th>max</th>\n",
       "      <td>105000.000000</td>\n",
       "      <td>6.440467e+07</td>\n",
       "      <td>474.000000</td>\n",
       "      <td>1.887526e+06</td>\n",
       "      <td>12.00000</td>\n",
       "      <td>147.000000</td>\n",
       "      <td>187.000000</td>\n",
       "      <td>100.000000</td>\n",
       "      <td>100.00000</td>\n",
       "      <td>159.000000</td>\n",
       "      <td>158.000000</td>\n",
       "      <td>164.000000</td>\n",
       "      <td>109.000000</td>\n",
       "      <td>220.000000</td>\n",
       "      <td>227.000000</td>\n",
       "      <td>275.000000</td>\n",
       "    </tr>\n",
       "  </tbody>\n",
       "</table>\n",
       "</div>"
      ],
      "text/plain": [
       "              custid          총구매액         구매건수        평균구매가격     평균할부개월수  \\\n",
       "count    5000.000000  5.000000e+03  5000.000000  5.000000e+03  5000.00000   \n",
       "mean   102500.500000  3.441780e+06    34.811400  1.012712e+05     1.90960   \n",
       "std      1443.520003  4.992757e+06    40.082429  8.359185e+04     0.72939   \n",
       "min    100001.000000 -6.696500e+04     1.000000 -1.196000e+03     1.00000   \n",
       "25%    101250.750000  7.183012e+05    10.000000  5.499500e+04     1.40000   \n",
       "50%    102500.500000  1.839293e+06    22.000000  8.164500e+04     1.80000   \n",
       "75%    103750.250000  4.085492e+06    44.000000  1.215162e+05     2.30000   \n",
       "max    105000.000000  6.440467e+07   474.000000  1.887526e+06    12.00000   \n",
       "\n",
       "           구매브랜드종류         내점일수    수입상품_구매비율      주말방문비율      가을_구매건수  \\\n",
       "count  5000.000000  5000.000000  5000.000000  5000.00000  4052.000000   \n",
       "mean     17.703400    18.060400    17.448680    38.59578    10.469891   \n",
       "std      14.922063    19.313637    18.566486    24.25075    11.749245   \n",
       "min       1.000000     1.000000     0.000000     0.00000     1.000000   \n",
       "25%       7.000000     6.000000     5.100000    22.90000     3.000000   \n",
       "50%      13.000000    12.000000    12.500000    35.00000     7.000000   \n",
       "75%      24.000000    23.000000    24.000000    50.00000    13.000000   \n",
       "max     147.000000   187.000000   100.000000   100.00000   159.000000   \n",
       "\n",
       "           겨울_구매건수       봄_구매건수      여름_구매건수      아침_구매건수      저녁_구매건수  \\\n",
       "count  4089.000000  4319.000000  4009.000000  3608.000000  3975.000000   \n",
       "mean      9.895573    10.624682    11.295086     8.595621     9.521258   \n",
       "std      11.357972    11.734012    12.038547    13.003838    13.082006   \n",
       "min       1.000000     1.000000     1.000000     1.000000     1.000000   \n",
       "25%       3.000000     3.000000     3.000000     2.000000     2.000000   \n",
       "50%       6.000000     7.000000     7.000000     4.000000     5.000000   \n",
       "75%      13.000000    14.000000    15.000000    10.000000    11.000000   \n",
       "max     158.000000   164.000000   109.000000   220.000000   227.000000   \n",
       "\n",
       "           점심_구매건수  \n",
       "count  4861.000000  \n",
       "mean     21.641020  \n",
       "std      25.838899  \n",
       "min       1.000000  \n",
       "25%       6.000000  \n",
       "50%      13.000000  \n",
       "75%      27.000000  \n",
       "max     275.000000  "
      ]
     },
     "execution_count": 8,
     "metadata": {},
     "output_type": "execute_result"
    }
   ],
   "source": [
    "test.describe()"
   ]
  },
  {
   "cell_type": "markdown",
   "metadata": {},
   "source": [
    "#### 데이터형이 문자열인 각종 통계량의 계산"
   ]
  },
  {
   "cell_type": "code",
   "execution_count": 9,
   "metadata": {},
   "outputs": [
    {
     "data": {
      "text/html": [
       "<div>\n",
       "<style scoped>\n",
       "    .dataframe tbody tr th:only-of-type {\n",
       "        vertical-align: middle;\n",
       "    }\n",
       "\n",
       "    .dataframe tbody tr th {\n",
       "        vertical-align: top;\n",
       "    }\n",
       "\n",
       "    .dataframe thead th {\n",
       "        text-align: right;\n",
       "    }\n",
       "</style>\n",
       "<table border=\"1\" class=\"dataframe\">\n",
       "  <thead>\n",
       "    <tr style=\"text-align: right;\">\n",
       "      <th></th>\n",
       "      <th>주구매코너</th>\n",
       "    </tr>\n",
       "  </thead>\n",
       "  <tbody>\n",
       "    <tr>\n",
       "      <th>count</th>\n",
       "      <td>5000</td>\n",
       "    </tr>\n",
       "    <tr>\n",
       "      <th>unique</th>\n",
       "      <td>25</td>\n",
       "    </tr>\n",
       "    <tr>\n",
       "      <th>top</th>\n",
       "      <td>일반식품</td>\n",
       "    </tr>\n",
       "    <tr>\n",
       "      <th>freq</th>\n",
       "      <td>1293</td>\n",
       "    </tr>\n",
       "  </tbody>\n",
       "</table>\n",
       "</div>"
      ],
      "text/plain": [
       "       주구매코너\n",
       "count   5000\n",
       "unique    25\n",
       "top     일반식품\n",
       "freq    1293"
      ]
     },
     "execution_count": 9,
     "metadata": {},
     "output_type": "execute_result"
    }
   ],
   "source": [
    "test.describe(include=[object])"
   ]
  },
  {
   "cell_type": "code",
   "execution_count": 10,
   "metadata": {},
   "outputs": [
    {
     "data": {
      "text/html": [
       "<div>\n",
       "<style scoped>\n",
       "    .dataframe tbody tr th:only-of-type {\n",
       "        vertical-align: middle;\n",
       "    }\n",
       "\n",
       "    .dataframe tbody tr th {\n",
       "        vertical-align: top;\n",
       "    }\n",
       "\n",
       "    .dataframe thead th {\n",
       "        text-align: right;\n",
       "    }\n",
       "</style>\n",
       "<table border=\"1\" class=\"dataframe\">\n",
       "  <thead>\n",
       "    <tr style=\"text-align: right;\">\n",
       "      <th></th>\n",
       "      <th>custid</th>\n",
       "      <th>gender</th>\n",
       "      <th>총구매액</th>\n",
       "      <th>구매건수</th>\n",
       "      <th>평균구매가격</th>\n",
       "      <th>평균할부개월수</th>\n",
       "      <th>구매브랜드종류</th>\n",
       "      <th>내점일수</th>\n",
       "      <th>수입상품_구매비율</th>\n",
       "      <th>주말방문비율</th>\n",
       "      <th>가을_구매건수</th>\n",
       "      <th>겨울_구매건수</th>\n",
       "      <th>봄_구매건수</th>\n",
       "      <th>여름_구매건수</th>\n",
       "      <th>아침_구매건수</th>\n",
       "      <th>저녁_구매건수</th>\n",
       "      <th>점심_구매건수</th>\n",
       "      <th>주구매코너</th>\n",
       "    </tr>\n",
       "  </thead>\n",
       "  <tbody>\n",
       "    <tr>\n",
       "      <th>0</th>\n",
       "      <td>18</td>\n",
       "      <td>0</td>\n",
       "      <td>680100</td>\n",
       "      <td>15</td>\n",
       "      <td>45340</td>\n",
       "      <td>1.7</td>\n",
       "      <td>9</td>\n",
       "      <td>10</td>\n",
       "      <td>26.7</td>\n",
       "      <td>100.0</td>\n",
       "      <td>NaN</td>\n",
       "      <td>9.0</td>\n",
       "      <td>6.0</td>\n",
       "      <td>NaN</td>\n",
       "      <td>NaN</td>\n",
       "      <td>6.0</td>\n",
       "      <td>9.0</td>\n",
       "      <td>화장품</td>\n",
       "    </tr>\n",
       "    <tr>\n",
       "      <th>1</th>\n",
       "      <td>21</td>\n",
       "      <td>0</td>\n",
       "      <td>353450</td>\n",
       "      <td>9</td>\n",
       "      <td>39272</td>\n",
       "      <td>1.2</td>\n",
       "      <td>6</td>\n",
       "      <td>8</td>\n",
       "      <td>11.1</td>\n",
       "      <td>37.5</td>\n",
       "      <td>NaN</td>\n",
       "      <td>5.0</td>\n",
       "      <td>4.0</td>\n",
       "      <td>NaN</td>\n",
       "      <td>3.0</td>\n",
       "      <td>NaN</td>\n",
       "      <td>6.0</td>\n",
       "      <td>영캐주얼</td>\n",
       "    </tr>\n",
       "    <tr>\n",
       "      <th>2</th>\n",
       "      <td>23</td>\n",
       "      <td>0</td>\n",
       "      <td>5671400</td>\n",
       "      <td>36</td>\n",
       "      <td>157539</td>\n",
       "      <td>2.8</td>\n",
       "      <td>22</td>\n",
       "      <td>16</td>\n",
       "      <td>5.6</td>\n",
       "      <td>37.5</td>\n",
       "      <td>7.0</td>\n",
       "      <td>17.0</td>\n",
       "      <td>12.0</td>\n",
       "      <td>NaN</td>\n",
       "      <td>10.0</td>\n",
       "      <td>11.0</td>\n",
       "      <td>15.0</td>\n",
       "      <td>장신구</td>\n",
       "    </tr>\n",
       "    <tr>\n",
       "      <th>3</th>\n",
       "      <td>26</td>\n",
       "      <td>0</td>\n",
       "      <td>1964000</td>\n",
       "      <td>28</td>\n",
       "      <td>70143</td>\n",
       "      <td>1.4</td>\n",
       "      <td>15</td>\n",
       "      <td>14</td>\n",
       "      <td>39.3</td>\n",
       "      <td>28.6</td>\n",
       "      <td>5.0</td>\n",
       "      <td>8.0</td>\n",
       "      <td>15.0</td>\n",
       "      <td>NaN</td>\n",
       "      <td>NaN</td>\n",
       "      <td>18.0</td>\n",
       "      <td>10.0</td>\n",
       "      <td>화장품</td>\n",
       "    </tr>\n",
       "    <tr>\n",
       "      <th>4</th>\n",
       "      <td>35</td>\n",
       "      <td>0</td>\n",
       "      <td>885000</td>\n",
       "      <td>5</td>\n",
       "      <td>177000</td>\n",
       "      <td>6.0</td>\n",
       "      <td>5</td>\n",
       "      <td>2</td>\n",
       "      <td>0.0</td>\n",
       "      <td>100.0</td>\n",
       "      <td>NaN</td>\n",
       "      <td>NaN</td>\n",
       "      <td>5.0</td>\n",
       "      <td>NaN</td>\n",
       "      <td>NaN</td>\n",
       "      <td>5.0</td>\n",
       "      <td>NaN</td>\n",
       "      <td>피혁A</td>\n",
       "    </tr>\n",
       "  </tbody>\n",
       "</table>\n",
       "</div>"
      ],
      "text/plain": [
       "   custid  gender     총구매액  구매건수  평균구매가격  평균할부개월수  구매브랜드종류  내점일수  수입상품_구매비율  \\\n",
       "0      18       0   680100    15   45340      1.7        9    10       26.7   \n",
       "1      21       0   353450     9   39272      1.2        6     8       11.1   \n",
       "2      23       0  5671400    36  157539      2.8       22    16        5.6   \n",
       "3      26       0  1964000    28   70143      1.4       15    14       39.3   \n",
       "4      35       0   885000     5  177000      6.0        5     2        0.0   \n",
       "\n",
       "   주말방문비율  가을_구매건수  겨울_구매건수  봄_구매건수  여름_구매건수  아침_구매건수  저녁_구매건수  점심_구매건수 주구매코너  \n",
       "0   100.0      NaN      9.0     6.0      NaN      NaN      6.0      9.0   화장품  \n",
       "1    37.5      NaN      5.0     4.0      NaN      3.0      NaN      6.0  영캐주얼  \n",
       "2    37.5      7.0     17.0    12.0      NaN     10.0     11.0     15.0   장신구  \n",
       "3    28.6      5.0      8.0    15.0      NaN      NaN     18.0     10.0   화장품  \n",
       "4   100.0      NaN      NaN     5.0      NaN      NaN      5.0      NaN   피혁A  "
      ]
     },
     "execution_count": 10,
     "metadata": {},
     "output_type": "execute_result"
    }
   ],
   "source": [
    "train = pd.read_csv('D:\\python\\연습\\store/train.csv', encoding='CP949')\n",
    "train.head()"
   ]
  },
  {
   "cell_type": "code",
   "execution_count": 11,
   "metadata": {},
   "outputs": [
    {
     "data": {
      "text/plain": [
       "custid          0\n",
       "gender          0\n",
       "총구매액            0\n",
       "구매건수            0\n",
       "평균구매가격          0\n",
       "평균할부개월수         0\n",
       "구매브랜드종류         0\n",
       "내점일수            0\n",
       "수입상품_구매비율       0\n",
       "주말방문비율          0\n",
       "가을_구매건수       945\n",
       "겨울_구매건수       897\n",
       "봄_구매건수        689\n",
       "여름_구매건수      1022\n",
       "아침_구매건수      1442\n",
       "저녁_구매건수       967\n",
       "점심_구매건수       145\n",
       "주구매코너           0\n",
       "dtype: int64"
      ]
     },
     "execution_count": 11,
     "metadata": {},
     "output_type": "execute_result"
    }
   ],
   "source": [
    "train.isnull().sum()"
   ]
  },
  {
   "cell_type": "code",
   "execution_count": 12,
   "metadata": {},
   "outputs": [
    {
     "data": {
      "text/plain": [
       "(5000, 18)"
      ]
     },
     "execution_count": 12,
     "metadata": {},
     "output_type": "execute_result"
    }
   ],
   "source": [
    "train.shape"
   ]
  },
  {
   "cell_type": "code",
   "execution_count": 13,
   "metadata": {},
   "outputs": [],
   "source": [
    "tdf = test.copy()\n",
    "ndf = train.copy()"
   ]
  },
  {
   "cell_type": "code",
   "execution_count": 14,
   "metadata": {},
   "outputs": [],
   "source": [
    "tdf['gender'] = ndf['gender']"
   ]
  },
  {
   "cell_type": "code",
   "execution_count": 15,
   "metadata": {},
   "outputs": [
    {
     "data": {
      "text/html": [
       "<div>\n",
       "<style scoped>\n",
       "    .dataframe tbody tr th:only-of-type {\n",
       "        vertical-align: middle;\n",
       "    }\n",
       "\n",
       "    .dataframe tbody tr th {\n",
       "        vertical-align: top;\n",
       "    }\n",
       "\n",
       "    .dataframe thead th {\n",
       "        text-align: right;\n",
       "    }\n",
       "</style>\n",
       "<table border=\"1\" class=\"dataframe\">\n",
       "  <thead>\n",
       "    <tr style=\"text-align: right;\">\n",
       "      <th></th>\n",
       "      <th>custid</th>\n",
       "      <th>총구매액</th>\n",
       "      <th>구매건수</th>\n",
       "      <th>평균구매가격</th>\n",
       "      <th>평균할부개월수</th>\n",
       "      <th>구매브랜드종류</th>\n",
       "      <th>내점일수</th>\n",
       "      <th>수입상품_구매비율</th>\n",
       "      <th>주말방문비율</th>\n",
       "      <th>가을_구매건수</th>\n",
       "      <th>겨울_구매건수</th>\n",
       "      <th>봄_구매건수</th>\n",
       "      <th>여름_구매건수</th>\n",
       "      <th>아침_구매건수</th>\n",
       "      <th>저녁_구매건수</th>\n",
       "      <th>점심_구매건수</th>\n",
       "      <th>주구매코너</th>\n",
       "      <th>gender</th>\n",
       "    </tr>\n",
       "  </thead>\n",
       "  <tbody>\n",
       "    <tr>\n",
       "      <th>0</th>\n",
       "      <td>100001</td>\n",
       "      <td>3439000</td>\n",
       "      <td>25</td>\n",
       "      <td>137560</td>\n",
       "      <td>2.2</td>\n",
       "      <td>19</td>\n",
       "      <td>16</td>\n",
       "      <td>12.0</td>\n",
       "      <td>31.2</td>\n",
       "      <td>5.0</td>\n",
       "      <td>4.0</td>\n",
       "      <td>7.0</td>\n",
       "      <td>9.0</td>\n",
       "      <td>13.0</td>\n",
       "      <td>1.0</td>\n",
       "      <td>11.0</td>\n",
       "      <td>장신구</td>\n",
       "      <td>0</td>\n",
       "    </tr>\n",
       "    <tr>\n",
       "      <th>1</th>\n",
       "      <td>100002</td>\n",
       "      <td>2073090</td>\n",
       "      <td>39</td>\n",
       "      <td>53156</td>\n",
       "      <td>1.3</td>\n",
       "      <td>18</td>\n",
       "      <td>29</td>\n",
       "      <td>0.0</td>\n",
       "      <td>20.7</td>\n",
       "      <td>13.0</td>\n",
       "      <td>8.0</td>\n",
       "      <td>10.0</td>\n",
       "      <td>8.0</td>\n",
       "      <td>4.0</td>\n",
       "      <td>10.0</td>\n",
       "      <td>25.0</td>\n",
       "      <td>유아동복</td>\n",
       "      <td>0</td>\n",
       "    </tr>\n",
       "    <tr>\n",
       "      <th>2</th>\n",
       "      <td>100003</td>\n",
       "      <td>1303800</td>\n",
       "      <td>22</td>\n",
       "      <td>59264</td>\n",
       "      <td>1.8</td>\n",
       "      <td>14</td>\n",
       "      <td>12</td>\n",
       "      <td>0.0</td>\n",
       "      <td>41.7</td>\n",
       "      <td>6.0</td>\n",
       "      <td>7.0</td>\n",
       "      <td>3.0</td>\n",
       "      <td>6.0</td>\n",
       "      <td>3.0</td>\n",
       "      <td>1.0</td>\n",
       "      <td>18.0</td>\n",
       "      <td>유아동복</td>\n",
       "      <td>0</td>\n",
       "    </tr>\n",
       "    <tr>\n",
       "      <th>3</th>\n",
       "      <td>100004</td>\n",
       "      <td>6696522</td>\n",
       "      <td>46</td>\n",
       "      <td>145577</td>\n",
       "      <td>1.7</td>\n",
       "      <td>31</td>\n",
       "      <td>22</td>\n",
       "      <td>37.0</td>\n",
       "      <td>50.0</td>\n",
       "      <td>5.0</td>\n",
       "      <td>15.0</td>\n",
       "      <td>9.0</td>\n",
       "      <td>17.0</td>\n",
       "      <td>NaN</td>\n",
       "      <td>4.0</td>\n",
       "      <td>42.0</td>\n",
       "      <td>수입명품</td>\n",
       "      <td>0</td>\n",
       "    </tr>\n",
       "    <tr>\n",
       "      <th>4</th>\n",
       "      <td>100005</td>\n",
       "      <td>1297640</td>\n",
       "      <td>26</td>\n",
       "      <td>49909</td>\n",
       "      <td>2.3</td>\n",
       "      <td>13</td>\n",
       "      <td>9</td>\n",
       "      <td>11.5</td>\n",
       "      <td>22.2</td>\n",
       "      <td>18.0</td>\n",
       "      <td>NaN</td>\n",
       "      <td>5.0</td>\n",
       "      <td>3.0</td>\n",
       "      <td>NaN</td>\n",
       "      <td>NaN</td>\n",
       "      <td>26.0</td>\n",
       "      <td>스포츠</td>\n",
       "      <td>0</td>\n",
       "    </tr>\n",
       "  </tbody>\n",
       "</table>\n",
       "</div>"
      ],
      "text/plain": [
       "   custid     총구매액  구매건수  평균구매가격  평균할부개월수  구매브랜드종류  내점일수  수입상품_구매비율  주말방문비율  \\\n",
       "0  100001  3439000    25  137560      2.2       19    16       12.0    31.2   \n",
       "1  100002  2073090    39   53156      1.3       18    29        0.0    20.7   \n",
       "2  100003  1303800    22   59264      1.8       14    12        0.0    41.7   \n",
       "3  100004  6696522    46  145577      1.7       31    22       37.0    50.0   \n",
       "4  100005  1297640    26   49909      2.3       13     9       11.5    22.2   \n",
       "\n",
       "   가을_구매건수  겨울_구매건수  봄_구매건수  여름_구매건수  아침_구매건수  저녁_구매건수  점심_구매건수 주구매코너  gender  \n",
       "0      5.0      4.0     7.0      9.0     13.0      1.0     11.0   장신구       0  \n",
       "1     13.0      8.0    10.0      8.0      4.0     10.0     25.0  유아동복       0  \n",
       "2      6.0      7.0     3.0      6.0      3.0      1.0     18.0  유아동복       0  \n",
       "3      5.0     15.0     9.0     17.0      NaN      4.0     42.0  수입명품       0  \n",
       "4     18.0      NaN     5.0      3.0      NaN      NaN     26.0   스포츠       0  "
      ]
     },
     "execution_count": 15,
     "metadata": {},
     "output_type": "execute_result"
    }
   ],
   "source": [
    "tdf.head()"
   ]
  },
  {
   "cell_type": "code",
   "execution_count": 16,
   "metadata": {},
   "outputs": [],
   "source": [
    "# matplotlib 패키지 한글화하기"
   ]
  },
  {
   "cell_type": "code",
   "execution_count": 17,
   "metadata": {},
   "outputs": [],
   "source": [
    "import matplotlib\n",
    "matplotlib.rcParams['axes.unicode_minus'] = False"
   ]
  },
  {
   "cell_type": "code",
   "execution_count": 18,
   "metadata": {},
   "outputs": [],
   "source": [
    "import matplotlib\n",
    "from matplotlib import font_manager, rc\n",
    "import platform\n",
    "\n",
    "if platform.system() == 'Windows':\n",
    "# 윈도우인 경우\n",
    "    font_name = font_manager.FontProperties(fname=\"c:/Windows/Fonts/malgun.ttf\").get_name()\n",
    "    rc('font', family=font_name)\n",
    "else:    \n",
    "# Mac 인 경우\n",
    "    rc('font', family='AppleGothic')\n",
    "    \n",
    "matplotlib.rcParams['axes.unicode_minus'] = False   \n",
    "#그래프에서 마이너스 기호가 표시되도록 하는 설정입니다. "
   ]
  },
  {
   "cell_type": "markdown",
   "metadata": {},
   "source": [
    "#### 데이터의 시각화"
   ]
  },
  {
   "cell_type": "code",
   "execution_count": 19,
   "metadata": {},
   "outputs": [
    {
     "name": "stderr",
     "output_type": "stream",
     "text": [
      "C:\\anaconda3\\lib\\site-packages\\seaborn\\_decorators.py:36: FutureWarning: Pass the following variable as a keyword arg: x. From version 0.12, the only valid positional argument will be `data`, and passing other arguments without an explicit keyword will result in an error or misinterpretation.\n",
      "  warnings.warn(\n"
     ]
    },
    {
     "data": {
      "image/png": "[encoded data removed]",
      "text/plain": [
       "<Figure size 1296x576 with 2 Axes>"
      ]
     },
     "metadata": {
      "needs_background": "light"
     },
     "output_type": "display_data"
    }
   ],
   "source": [
    "f, ax = plt.subplots(1,2,figsize=(18,8))\n",
    "\n",
    "# 구매에 대한 남녀 빈도 체크\n",
    "gender_freq = ndf.gender.value_counts()\n",
    "gender_freq.plot.pie(explode=[0,0.05], autopct='%1.1f%%', ax=ax[0], shadow=True)\n",
    "ax[0].set_title('남녀 구매비율')\n",
    "ax[0].set_ylabel('')\n",
    "\n",
    "# 구매에 대한 남녀 빈도 체크 -> 히스토그램\n",
    "sns.countplot('gender', data=ndf, ax=ax[1])\n",
    "ax[1].set_title('성별 구매빈도수')\n",
    "plt.show()"
   ]
  },
  {
   "cell_type": "code",
   "execution_count": 20,
   "metadata": {},
   "outputs": [
    {
     "name": "stderr",
     "output_type": "stream",
     "text": [
      "C:\\anaconda3\\lib\\site-packages\\seaborn\\categorical.py:3704: UserWarning: The `factorplot` function has been renamed to `catplot`. The original name will be removed in a future release. Please update your code. Note that the default `kind` in `factorplot` (`'point'`) has changed `'strip'` in `catplot`.\n",
      "  warnings.warn(msg)\n",
      "C:\\anaconda3\\lib\\site-packages\\seaborn\\_decorators.py:36: FutureWarning: Pass the following variables as keyword args: x, y. From version 0.12, the only valid positional argument will be `data`, and passing other arguments without an explicit keyword will result in an error or misinterpretation.\n",
      "  warnings.warn(\n"
     ]
    },
    {
     "data": {
      "text/plain": [
       "<seaborn.axisgrid.FacetGrid at 0x261ae96d910>"
      ]
     },
     "execution_count": 20,
     "metadata": {},
     "output_type": "execute_result"
    },
    {
     "data": {
      "image/png": "[encoded data removed]",
      "text/plain": [
       "<Figure size 401.5x360 with 1 Axes>"
      ]
     },
     "metadata": {
      "needs_background": "light"
     },
     "output_type": "display_data"
    }
   ],
   "source": [
    "# 남녀별 주구매코너별 구매율\n",
    "gender_catcnt = ndf.groupby(['gender', '주구매코너'])['custid'].agg('count').to_frame()\n",
    "df_catecnt = gender_catcnt.reset_index()\n",
    "df_catecnt.columns = ['gender', '주구매코너', 'counts']\n",
    "\n",
    "sns.factorplot('counts', '주구매코너', hue='gender', data=df_catecnt)"
   ]
  },
  {
   "cell_type": "code",
   "execution_count": 21,
   "metadata": {
    "scrolled": true
   },
   "outputs": [
    {
     "data": {
      "image/png": "[encoded data removed]",
      "text/plain": [
       "<Figure size 1296x576 with 2 Axes>"
      ]
     },
     "metadata": {
      "needs_background": "light"
     },
     "output_type": "display_data"
    }
   ],
   "source": [
    "# 일반식품 -> 화장품 순으로 구매자수가 많음\n",
    "# 여자는 화장품 -> 일반식풉 -> 유니캐주얼 순이고, 남자는 일반식품 -> 화장품 -> 유아동복 순으로 구매함.\n",
    "f, ax = plt.subplots(1,2, figsize=(18,8))\n",
    "ndf['주구매코너'].value_counts().plot.bar(ax=ax[0])\n",
    "ax[0].set_title('주구매코너별 구매자수')\n",
    "ax[0].set_ylabel('구매자수')\n",
    "sns.countplot(y='주구매코너', hue='gender', data=ndf, ax=ax[1])\n",
    "plt.show()"
   ]
  },
  {
   "cell_type": "code",
   "execution_count": 22,
   "metadata": {
    "scrolled": true
   },
   "outputs": [
    {
     "data": {
      "text/html": [
       "<style  type=\"text/css\" >\n",
       "#T_7405567c_5ece_11eb_8d65_d050991d8411row0_col0,#T_7405567c_5ece_11eb_8d65_d050991d8411row0_col1,#T_7405567c_5ece_11eb_8d65_d050991d8411row0_col2,#T_7405567c_5ece_11eb_8d65_d050991d8411row1_col0,#T_7405567c_5ece_11eb_8d65_d050991d8411row1_col1,#T_7405567c_5ece_11eb_8d65_d050991d8411row1_col2,#T_7405567c_5ece_11eb_8d65_d050991d8411row2_col0,#T_7405567c_5ece_11eb_8d65_d050991d8411row2_col1,#T_7405567c_5ece_11eb_8d65_d050991d8411row2_col2,#T_7405567c_5ece_11eb_8d65_d050991d8411row4_col0,#T_7405567c_5ece_11eb_8d65_d050991d8411row4_col1,#T_7405567c_5ece_11eb_8d65_d050991d8411row4_col2,#T_7405567c_5ece_11eb_8d65_d050991d8411row17_col1,#T_7405567c_5ece_11eb_8d65_d050991d8411row18_col0,#T_7405567c_5ece_11eb_8d65_d050991d8411row18_col1,#T_7405567c_5ece_11eb_8d65_d050991d8411row18_col2,#T_7405567c_5ece_11eb_8d65_d050991d8411row20_col0,#T_7405567c_5ece_11eb_8d65_d050991d8411row20_col1,#T_7405567c_5ece_11eb_8d65_d050991d8411row20_col2{\n",
       "            background-color:  #ffff66;\n",
       "            color:  #000000;\n",
       "        }#T_7405567c_5ece_11eb_8d65_d050991d8411row3_col0,#T_7405567c_5ece_11eb_8d65_d050991d8411row7_col0,#T_7405567c_5ece_11eb_8d65_d050991d8411row8_col0,#T_7405567c_5ece_11eb_8d65_d050991d8411row21_col1{\n",
       "            background-color:  #fafc66;\n",
       "            color:  #000000;\n",
       "        }#T_7405567c_5ece_11eb_8d65_d050991d8411row3_col1,#T_7405567c_5ece_11eb_8d65_d050991d8411row5_col0,#T_7405567c_5ece_11eb_8d65_d050991d8411row5_col1,#T_7405567c_5ece_11eb_8d65_d050991d8411row5_col2,#T_7405567c_5ece_11eb_8d65_d050991d8411row6_col1,#T_7405567c_5ece_11eb_8d65_d050991d8411row10_col1,#T_7405567c_5ece_11eb_8d65_d050991d8411row15_col1,#T_7405567c_5ece_11eb_8d65_d050991d8411row23_col2{\n",
       "            background-color:  #fdfe66;\n",
       "            color:  #000000;\n",
       "        }#T_7405567c_5ece_11eb_8d65_d050991d8411row3_col2,#T_7405567c_5ece_11eb_8d65_d050991d8411row7_col2,#T_7405567c_5ece_11eb_8d65_d050991d8411row10_col0,#T_7405567c_5ece_11eb_8d65_d050991d8411row16_col2,#T_7405567c_5ece_11eb_8d65_d050991d8411row21_col2,#T_7405567c_5ece_11eb_8d65_d050991d8411row22_col1{\n",
       "            background-color:  #fbfd66;\n",
       "            color:  #000000;\n",
       "        }#T_7405567c_5ece_11eb_8d65_d050991d8411row6_col0,#T_7405567c_5ece_11eb_8d65_d050991d8411row6_col2,#T_7405567c_5ece_11eb_8d65_d050991d8411row17_col0,#T_7405567c_5ece_11eb_8d65_d050991d8411row17_col2,#T_7405567c_5ece_11eb_8d65_d050991d8411row23_col1{\n",
       "            background-color:  #fefe66;\n",
       "            color:  #000000;\n",
       "        }#T_7405567c_5ece_11eb_8d65_d050991d8411row7_col1,#T_7405567c_5ece_11eb_8d65_d050991d8411row10_col2,#T_7405567c_5ece_11eb_8d65_d050991d8411row15_col0,#T_7405567c_5ece_11eb_8d65_d050991d8411row15_col2,#T_7405567c_5ece_11eb_8d65_d050991d8411row16_col0,#T_7405567c_5ece_11eb_8d65_d050991d8411row21_col0,#T_7405567c_5ece_11eb_8d65_d050991d8411row22_col0,#T_7405567c_5ece_11eb_8d65_d050991d8411row22_col2,#T_7405567c_5ece_11eb_8d65_d050991d8411row23_col0{\n",
       "            background-color:  #fcfe66;\n",
       "            color:  #000000;\n",
       "        }#T_7405567c_5ece_11eb_8d65_d050991d8411row8_col1,#T_7405567c_5ece_11eb_8d65_d050991d8411row11_col1{\n",
       "            background-color:  #f7fb66;\n",
       "            color:  #000000;\n",
       "        }#T_7405567c_5ece_11eb_8d65_d050991d8411row8_col2{\n",
       "            background-color:  #f9fc66;\n",
       "            color:  #000000;\n",
       "        }#T_7405567c_5ece_11eb_8d65_d050991d8411row9_col0,#T_7405567c_5ece_11eb_8d65_d050991d8411row11_col2{\n",
       "            background-color:  #f3f966;\n",
       "            color:  #000000;\n",
       "        }#T_7405567c_5ece_11eb_8d65_d050991d8411row9_col1,#T_7405567c_5ece_11eb_8d65_d050991d8411row12_col2{\n",
       "            background-color:  #ebf566;\n",
       "            color:  #000000;\n",
       "        }#T_7405567c_5ece_11eb_8d65_d050991d8411row9_col2{\n",
       "            background-color:  #f0f866;\n",
       "            color:  #000000;\n",
       "        }#T_7405567c_5ece_11eb_8d65_d050991d8411row11_col0{\n",
       "            background-color:  #f1f866;\n",
       "            color:  #000000;\n",
       "        }#T_7405567c_5ece_11eb_8d65_d050991d8411row12_col0{\n",
       "            background-color:  #eaf466;\n",
       "            color:  #000000;\n",
       "        }#T_7405567c_5ece_11eb_8d65_d050991d8411row12_col1{\n",
       "            background-color:  #edf666;\n",
       "            color:  #000000;\n",
       "        }#T_7405567c_5ece_11eb_8d65_d050991d8411row13_col0{\n",
       "            background-color:  #eef666;\n",
       "            color:  #000000;\n",
       "        }#T_7405567c_5ece_11eb_8d65_d050991d8411row13_col1{\n",
       "            background-color:  #e8f466;\n",
       "            color:  #000000;\n",
       "        }#T_7405567c_5ece_11eb_8d65_d050991d8411row13_col2{\n",
       "            background-color:  #ecf666;\n",
       "            color:  #000000;\n",
       "        }#T_7405567c_5ece_11eb_8d65_d050991d8411row14_col0{\n",
       "            background-color:  #c1e066;\n",
       "            color:  #000000;\n",
       "        }#T_7405567c_5ece_11eb_8d65_d050991d8411row14_col1{\n",
       "            background-color:  #b4da66;\n",
       "            color:  #000000;\n",
       "        }#T_7405567c_5ece_11eb_8d65_d050991d8411row14_col2{\n",
       "            background-color:  #bdde66;\n",
       "            color:  #000000;\n",
       "        }#T_7405567c_5ece_11eb_8d65_d050991d8411row16_col1,#T_7405567c_5ece_11eb_8d65_d050991d8411row19_col1{\n",
       "            background-color:  #f8fc66;\n",
       "            color:  #000000;\n",
       "        }#T_7405567c_5ece_11eb_8d65_d050991d8411row19_col0{\n",
       "            background-color:  #f5fa66;\n",
       "            color:  #000000;\n",
       "        }#T_7405567c_5ece_11eb_8d65_d050991d8411row19_col2{\n",
       "            background-color:  #f6fa66;\n",
       "            color:  #000000;\n",
       "        }#T_7405567c_5ece_11eb_8d65_d050991d8411row24_col0{\n",
       "            background-color:  #bede66;\n",
       "            color:  #000000;\n",
       "        }#T_7405567c_5ece_11eb_8d65_d050991d8411row24_col1{\n",
       "            background-color:  #cce666;\n",
       "            color:  #000000;\n",
       "        }#T_7405567c_5ece_11eb_8d65_d050991d8411row24_col2{\n",
       "            background-color:  #c2e066;\n",
       "            color:  #000000;\n",
       "        }#T_7405567c_5ece_11eb_8d65_d050991d8411row25_col0,#T_7405567c_5ece_11eb_8d65_d050991d8411row25_col1,#T_7405567c_5ece_11eb_8d65_d050991d8411row25_col2{\n",
       "            background-color:  #008066;\n",
       "            color:  #f1f1f1;\n",
       "        }</style><table id=\"T_7405567c_5ece_11eb_8d65_d050991d8411\" ><thead>    <tr>        <th class=\"index_name level0\" >gender</th>        <th class=\"col_heading level0 col0\" >0</th>        <th class=\"col_heading level0 col1\" >1</th>        <th class=\"col_heading level0 col2\" >All</th>    </tr>    <tr>        <th class=\"index_name level0\" >주구매코너</th>        <th class=\"blank\" ></th>        <th class=\"blank\" ></th>        <th class=\"blank\" ></th>    </tr></thead><tbody>\n",
       "                <tr>\n",
       "                        <th id=\"T_7405567c_5ece_11eb_8d65_d050991d8411level0_row0\" class=\"row_heading level0 row0\" >가구</th>\n",
       "                        <td id=\"T_7405567c_5ece_11eb_8d65_d050991d8411row0_col0\" class=\"data row0 col0\" >6</td>\n",
       "                        <td id=\"T_7405567c_5ece_11eb_8d65_d050991d8411row0_col1\" class=\"data row0 col1\" >1</td>\n",
       "                        <td id=\"T_7405567c_5ece_11eb_8d65_d050991d8411row0_col2\" class=\"data row0 col2\" >7</td>\n",
       "            </tr>\n",
       "            <tr>\n",
       "                        <th id=\"T_7405567c_5ece_11eb_8d65_d050991d8411level0_row1\" class=\"row_heading level0 row1\" >가전</th>\n",
       "                        <td id=\"T_7405567c_5ece_11eb_8d65_d050991d8411row1_col0\" class=\"data row1 col0\" >13</td>\n",
       "                        <td id=\"T_7405567c_5ece_11eb_8d65_d050991d8411row1_col1\" class=\"data row1 col1\" >5</td>\n",
       "                        <td id=\"T_7405567c_5ece_11eb_8d65_d050991d8411row1_col2\" class=\"data row1 col2\" >18</td>\n",
       "            </tr>\n",
       "            <tr>\n",
       "                        <th id=\"T_7405567c_5ece_11eb_8d65_d050991d8411level0_row2\" class=\"row_heading level0 row2\" >기타바이어</th>\n",
       "                        <td id=\"T_7405567c_5ece_11eb_8d65_d050991d8411row2_col0\" class=\"data row2 col0\" >9</td>\n",
       "                        <td id=\"T_7405567c_5ece_11eb_8d65_d050991d8411row2_col1\" class=\"data row2 col1\" >3</td>\n",
       "                        <td id=\"T_7405567c_5ece_11eb_8d65_d050991d8411row2_col2\" class=\"data row2 col2\" >12</td>\n",
       "            </tr>\n",
       "            <tr>\n",
       "                        <th id=\"T_7405567c_5ece_11eb_8d65_d050991d8411level0_row3\" class=\"row_heading level0 row3\" >니트단품</th>\n",
       "                        <td id=\"T_7405567c_5ece_11eb_8d65_d050991d8411row3_col0\" class=\"data row3 col0\" >74</td>\n",
       "                        <td id=\"T_7405567c_5ece_11eb_8d65_d050991d8411row3_col1\" class=\"data row3 col1\" >17</td>\n",
       "                        <td id=\"T_7405567c_5ece_11eb_8d65_d050991d8411row3_col2\" class=\"data row3 col2\" >91</td>\n",
       "            </tr>\n",
       "            <tr>\n",
       "                        <th id=\"T_7405567c_5ece_11eb_8d65_d050991d8411level0_row4\" class=\"row_heading level0 row4\" >도자기크리스탈</th>\n",
       "                        <td id=\"T_7405567c_5ece_11eb_8d65_d050991d8411row4_col0\" class=\"data row4 col0\" >6</td>\n",
       "                        <td id=\"T_7405567c_5ece_11eb_8d65_d050991d8411row4_col1\" class=\"data row4 col1\" >5</td>\n",
       "                        <td id=\"T_7405567c_5ece_11eb_8d65_d050991d8411row4_col2\" class=\"data row4 col2\" >11</td>\n",
       "            </tr>\n",
       "            <tr>\n",
       "                        <th id=\"T_7405567c_5ece_11eb_8d65_d050991d8411level0_row5\" class=\"row_heading level0 row5\" >디자이너부띠끄</th>\n",
       "                        <td id=\"T_7405567c_5ece_11eb_8d65_d050991d8411row5_col0\" class=\"data row5 col0\" >38</td>\n",
       "                        <td id=\"T_7405567c_5ece_11eb_8d65_d050991d8411row5_col1\" class=\"data row5 col1\" >13</td>\n",
       "                        <td id=\"T_7405567c_5ece_11eb_8d65_d050991d8411row5_col2\" class=\"data row5 col2\" >51</td>\n",
       "            </tr>\n",
       "            <tr>\n",
       "                        <th id=\"T_7405567c_5ece_11eb_8d65_d050991d8411level0_row6\" class=\"row_heading level0 row6\" >문화완구</th>\n",
       "                        <td id=\"T_7405567c_5ece_11eb_8d65_d050991d8411row6_col0\" class=\"data row6 col0\" >21</td>\n",
       "                        <td id=\"T_7405567c_5ece_11eb_8d65_d050991d8411row6_col1\" class=\"data row6 col1\" >17</td>\n",
       "                        <td id=\"T_7405567c_5ece_11eb_8d65_d050991d8411row6_col2\" class=\"data row6 col2\" >38</td>\n",
       "            </tr>\n",
       "            <tr>\n",
       "                        <th id=\"T_7405567c_5ece_11eb_8d65_d050991d8411level0_row7\" class=\"row_heading level0 row7\" >섬유</th>\n",
       "                        <td id=\"T_7405567c_5ece_11eb_8d65_d050991d8411row7_col0\" class=\"data row7 col0\" >75</td>\n",
       "                        <td id=\"T_7405567c_5ece_11eb_8d65_d050991d8411row7_col1\" class=\"data row7 col1\" >21</td>\n",
       "                        <td id=\"T_7405567c_5ece_11eb_8d65_d050991d8411row7_col2\" class=\"data row7 col2\" >96</td>\n",
       "            </tr>\n",
       "            <tr>\n",
       "                        <th id=\"T_7405567c_5ece_11eb_8d65_d050991d8411level0_row8\" class=\"row_heading level0 row8\" >수입명품</th>\n",
       "                        <td id=\"T_7405567c_5ece_11eb_8d65_d050991d8411row8_col0\" class=\"data row8 col0\" >85</td>\n",
       "                        <td id=\"T_7405567c_5ece_11eb_8d65_d050991d8411row8_col1\" class=\"data row8 col1\" >51</td>\n",
       "                        <td id=\"T_7405567c_5ece_11eb_8d65_d050991d8411row8_col2\" class=\"data row8 col2\" >136</td>\n",
       "            </tr>\n",
       "            <tr>\n",
       "                        <th id=\"T_7405567c_5ece_11eb_8d65_d050991d8411level0_row9\" class=\"row_heading level0 row9\" >스포츠</th>\n",
       "                        <td id=\"T_7405567c_5ece_11eb_8d65_d050991d8411row9_col0\" class=\"data row9 col0\" >180</td>\n",
       "                        <td id=\"T_7405567c_5ece_11eb_8d65_d050991d8411row9_col1\" class=\"data row9 col1\" >121</td>\n",
       "                        <td id=\"T_7405567c_5ece_11eb_8d65_d050991d8411row9_col2\" class=\"data row9 col2\" >301</td>\n",
       "            </tr>\n",
       "            <tr>\n",
       "                        <th id=\"T_7405567c_5ece_11eb_8d65_d050991d8411level0_row10\" class=\"row_heading level0 row10\" >엘레강스캐주얼</th>\n",
       "                        <td id=\"T_7405567c_5ece_11eb_8d65_d050991d8411row10_col0\" class=\"data row10 col0\" >60</td>\n",
       "                        <td id=\"T_7405567c_5ece_11eb_8d65_d050991d8411row10_col1\" class=\"data row10 col1\" >18</td>\n",
       "                        <td id=\"T_7405567c_5ece_11eb_8d65_d050991d8411row10_col2\" class=\"data row10 col2\" >78</td>\n",
       "            </tr>\n",
       "            <tr>\n",
       "                        <th id=\"T_7405567c_5ece_11eb_8d65_d050991d8411level0_row11\" class=\"row_heading level0 row11\" >영캐주얼</th>\n",
       "                        <td id=\"T_7405567c_5ece_11eb_8d65_d050991d8411row11_col0\" class=\"data row11 col0\" >196</td>\n",
       "                        <td id=\"T_7405567c_5ece_11eb_8d65_d050991d8411row11_col1\" class=\"data row11 col1\" >50</td>\n",
       "                        <td id=\"T_7405567c_5ece_11eb_8d65_d050991d8411row11_col2\" class=\"data row11 col2\" >246</td>\n",
       "            </tr>\n",
       "            <tr>\n",
       "                        <th id=\"T_7405567c_5ece_11eb_8d65_d050991d8411level0_row12\" class=\"row_heading level0 row12\" >유니캐주얼</th>\n",
       "                        <td id=\"T_7405567c_5ece_11eb_8d65_d050991d8411row12_col0\" class=\"data row12 col0\" >301</td>\n",
       "                        <td id=\"T_7405567c_5ece_11eb_8d65_d050991d8411row12_col1\" class=\"data row12 col1\" >109</td>\n",
       "                        <td id=\"T_7405567c_5ece_11eb_8d65_d050991d8411row12_col2\" class=\"data row12 col2\" >410</td>\n",
       "            </tr>\n",
       "            <tr>\n",
       "                        <th id=\"T_7405567c_5ece_11eb_8d65_d050991d8411level0_row13\" class=\"row_heading level0 row13\" >유아동복</th>\n",
       "                        <td id=\"T_7405567c_5ece_11eb_8d65_d050991d8411row13_col0\" class=\"data row13 col0\" >241</td>\n",
       "                        <td id=\"T_7405567c_5ece_11eb_8d65_d050991d8411row13_col1\" class=\"data row13 col1\" >142</td>\n",
       "                        <td id=\"T_7405567c_5ece_11eb_8d65_d050991d8411row13_col2\" class=\"data row13 col2\" >383</td>\n",
       "            </tr>\n",
       "            <tr>\n",
       "                        <th id=\"T_7405567c_5ece_11eb_8d65_d050991d8411level0_row14\" class=\"row_heading level0 row14\" >일반식품</th>\n",
       "                        <td id=\"T_7405567c_5ece_11eb_8d65_d050991d8411row14_col0\" class=\"data row14 col0\" >854</td>\n",
       "                        <td id=\"T_7405567c_5ece_11eb_8d65_d050991d8411row14_col1\" class=\"data row14 col1\" >452</td>\n",
       "                        <td id=\"T_7405567c_5ece_11eb_8d65_d050991d8411row14_col2\" class=\"data row14 col2\" >1306</td>\n",
       "            </tr>\n",
       "            <tr>\n",
       "                        <th id=\"T_7405567c_5ece_11eb_8d65_d050991d8411level0_row15\" class=\"row_heading level0 row15\" >장신구</th>\n",
       "                        <td id=\"T_7405567c_5ece_11eb_8d65_d050991d8411row15_col0\" class=\"data row15 col0\" >52</td>\n",
       "                        <td id=\"T_7405567c_5ece_11eb_8d65_d050991d8411row15_col1\" class=\"data row15 col1\" >16</td>\n",
       "                        <td id=\"T_7405567c_5ece_11eb_8d65_d050991d8411row15_col2\" class=\"data row15 col2\" >68</td>\n",
       "            </tr>\n",
       "            <tr>\n",
       "                        <th id=\"T_7405567c_5ece_11eb_8d65_d050991d8411level0_row16\" class=\"row_heading level0 row16\" >정장셔츠</th>\n",
       "                        <td id=\"T_7405567c_5ece_11eb_8d65_d050991d8411row16_col0\" class=\"data row16 col0\" >45</td>\n",
       "                        <td id=\"T_7405567c_5ece_11eb_8d65_d050991d8411row16_col1\" class=\"data row16 col1\" >45</td>\n",
       "                        <td id=\"T_7405567c_5ece_11eb_8d65_d050991d8411row16_col2\" class=\"data row16 col2\" >90</td>\n",
       "            </tr>\n",
       "            <tr>\n",
       "                        <th id=\"T_7405567c_5ece_11eb_8d65_d050991d8411level0_row17\" class=\"row_heading level0 row17\" >조리욕실</th>\n",
       "                        <td id=\"T_7405567c_5ece_11eb_8d65_d050991d8411row17_col0\" class=\"data row17 col0\" >24</td>\n",
       "                        <td id=\"T_7405567c_5ece_11eb_8d65_d050991d8411row17_col1\" class=\"data row17 col1\" >4</td>\n",
       "                        <td id=\"T_7405567c_5ece_11eb_8d65_d050991d8411row17_col2\" class=\"data row17 col2\" >28</td>\n",
       "            </tr>\n",
       "            <tr>\n",
       "                        <th id=\"T_7405567c_5ece_11eb_8d65_d050991d8411level0_row18\" class=\"row_heading level0 row18\" >침구수예</th>\n",
       "                        <td id=\"T_7405567c_5ece_11eb_8d65_d050991d8411row18_col0\" class=\"data row18 col0\" >7</td>\n",
       "                        <td id=\"T_7405567c_5ece_11eb_8d65_d050991d8411row18_col1\" class=\"data row18 col1\" >1</td>\n",
       "                        <td id=\"T_7405567c_5ece_11eb_8d65_d050991d8411row18_col2\" class=\"data row18 col2\" >8</td>\n",
       "            </tr>\n",
       "            <tr>\n",
       "                        <th id=\"T_7405567c_5ece_11eb_8d65_d050991d8411level0_row19\" class=\"row_heading level0 row19\" >캐릭터캐주얼</th>\n",
       "                        <td id=\"T_7405567c_5ece_11eb_8d65_d050991d8411row19_col0\" class=\"data row19 col0\" >140</td>\n",
       "                        <td id=\"T_7405567c_5ece_11eb_8d65_d050991d8411row19_col1\" class=\"data row19 col1\" >48</td>\n",
       "                        <td id=\"T_7405567c_5ece_11eb_8d65_d050991d8411row19_col2\" class=\"data row19 col2\" >188</td>\n",
       "            </tr>\n",
       "            <tr>\n",
       "                        <th id=\"T_7405567c_5ece_11eb_8d65_d050991d8411level0_row20\" class=\"row_heading level0 row20\" >타운모피</th>\n",
       "                        <td id=\"T_7405567c_5ece_11eb_8d65_d050991d8411row20_col0\" class=\"data row20 col0\" >4</td>\n",
       "                        <td id=\"T_7405567c_5ece_11eb_8d65_d050991d8411row20_col1\" class=\"data row20 col1\" >2</td>\n",
       "                        <td id=\"T_7405567c_5ece_11eb_8d65_d050991d8411row20_col2\" class=\"data row20 col2\" >6</td>\n",
       "            </tr>\n",
       "            <tr>\n",
       "                        <th id=\"T_7405567c_5ece_11eb_8d65_d050991d8411level0_row21\" class=\"row_heading level0 row21\" >트래디셔널캐주얼</th>\n",
       "                        <td id=\"T_7405567c_5ece_11eb_8d65_d050991d8411row21_col0\" class=\"data row21 col0\" >57</td>\n",
       "                        <td id=\"T_7405567c_5ece_11eb_8d65_d050991d8411row21_col1\" class=\"data row21 col1\" >34</td>\n",
       "                        <td id=\"T_7405567c_5ece_11eb_8d65_d050991d8411row21_col2\" class=\"data row21 col2\" >91</td>\n",
       "            </tr>\n",
       "            <tr>\n",
       "                        <th id=\"T_7405567c_5ece_11eb_8d65_d050991d8411level0_row22\" class=\"row_heading level0 row22\" >피혁A</th>\n",
       "                        <td id=\"T_7405567c_5ece_11eb_8d65_d050991d8411row22_col0\" class=\"data row22 col0\" >46</td>\n",
       "                        <td id=\"T_7405567c_5ece_11eb_8d65_d050991d8411row22_col1\" class=\"data row22 col1\" >29</td>\n",
       "                        <td id=\"T_7405567c_5ece_11eb_8d65_d050991d8411row22_col2\" class=\"data row22 col2\" >75</td>\n",
       "            </tr>\n",
       "            <tr>\n",
       "                        <th id=\"T_7405567c_5ece_11eb_8d65_d050991d8411level0_row23\" class=\"row_heading level0 row23\" >피혁B</th>\n",
       "                        <td id=\"T_7405567c_5ece_11eb_8d65_d050991d8411row23_col0\" class=\"data row23 col0\" >46</td>\n",
       "                        <td id=\"T_7405567c_5ece_11eb_8d65_d050991d8411row23_col1\" class=\"data row23 col1\" >10</td>\n",
       "                        <td id=\"T_7405567c_5ece_11eb_8d65_d050991d8411row23_col2\" class=\"data row23 col2\" >56</td>\n",
       "            </tr>\n",
       "            <tr>\n",
       "                        <th id=\"T_7405567c_5ece_11eb_8d65_d050991d8411level0_row24\" class=\"row_heading level0 row24\" >화장품</th>\n",
       "                        <td id=\"T_7405567c_5ece_11eb_8d65_d050991d8411row24_col0\" class=\"data row24 col0\" >899</td>\n",
       "                        <td id=\"T_7405567c_5ece_11eb_8d65_d050991d8411row24_col1\" class=\"data row24 col1\" >307</td>\n",
       "                        <td id=\"T_7405567c_5ece_11eb_8d65_d050991d8411row24_col2\" class=\"data row24 col2\" >1206</td>\n",
       "            </tr>\n",
       "            <tr>\n",
       "                        <th id=\"T_7405567c_5ece_11eb_8d65_d050991d8411level0_row25\" class=\"row_heading level0 row25\" >All</th>\n",
       "                        <td id=\"T_7405567c_5ece_11eb_8d65_d050991d8411row25_col0\" class=\"data row25 col0\" >3479</td>\n",
       "                        <td id=\"T_7405567c_5ece_11eb_8d65_d050991d8411row25_col1\" class=\"data row25 col1\" >1521</td>\n",
       "                        <td id=\"T_7405567c_5ece_11eb_8d65_d050991d8411row25_col2\" class=\"data row25 col2\" >5000</td>\n",
       "            </tr>\n",
       "    </tbody></table>"
      ],
      "text/plain": [
       "<pandas.io.formats.style.Styler at 0x261ae60f130>"
      ]
     },
     "execution_count": 22,
     "metadata": {},
     "output_type": "execute_result"
    }
   ],
   "source": [
    "pd.crosstab(ndf['주구매코너'], ndf['gender'], margins=True).style.background_gradient(cmap='summer_r')"
   ]
  },
  {
   "cell_type": "markdown",
   "metadata": {},
   "source": [
    "## Missing Values 처리 ##"
   ]
  },
  {
   "cell_type": "code",
   "execution_count": 23,
   "metadata": {},
   "outputs": [],
   "source": [
    "# 결측값 확인\n",
    "# input : dataframe 객체\n",
    "#   checkData : 확인할 데이터\n",
    "#\n",
    "# output : feature 별 null 값 건수\n",
    "def have_missing_value(checkData):\n",
    "    try:       \n",
    "        \n",
    "        data = checkData.isnull().sum();\n",
    "        \n",
    "        return data;\n",
    "    except Exception as e:\n",
    "        raise e"
   ]
  },
  {
   "cell_type": "code",
   "execution_count": 24,
   "metadata": {},
   "outputs": [],
   "source": [
    "# 수치형 결측치 처리\n",
    "# input : dataframe 객체\n",
    "#   checkData : 확인할 데이터\n",
    "#   cont       : 수치형 Features\n",
    "#   imputeValue : 대체할 값  \n",
    "# output : feature 별 null 값 건수\n",
    "def Impute_missing_value_numeric(checkData, cont, imputeValue):\n",
    "    try:\n",
    "        \n",
    "        data = checkData.fillna(value=imputeValue, inplace=True)\n",
    "            \n",
    "        return data;\n",
    "    except Exception as e:\n",
    "        raise e"
   ]
  },
  {
   "cell_type": "code",
   "execution_count": 25,
   "metadata": {},
   "outputs": [],
   "source": [
    "# 범주형 결측치 One-hot encoding 처리\n",
    "# input : dataframe 객체\n",
    "#   checkData : 확인할 데이터\n",
    "#   cate      : encoding 할 Feature \n",
    "# output : feature 별 null 값 건수\n",
    "def Impute_missing_value_categorical(checkData, cate):\n",
    "    try:\n",
    "        \n",
    "        for i in checkData[cate].dtypes.index:\n",
    "            \n",
    "            print(\"['\"+ i +\"'].astype('category').cat.categories\")\n",
    "            checkData[i].astype('category').cat.categories\n",
    "            \n",
    "            checkData[cate] = checkData[cate].apply(lambda x: x.astype('category').cat.codes)\n",
    "        \n",
    "        return  checkData\n",
    "    except Exception as e:\n",
    "        raise e"
   ]
  },
  {
   "cell_type": "code",
   "execution_count": 26,
   "metadata": {},
   "outputs": [],
   "source": [
    "# Tomek links :  언더샘플링(Under-Sampling) : 다수 클래스 데이터에서 일부만 사용함\n",
    "# input : X_train, y_train\n",
    "#  X_train : \n",
    "#  y_train\n",
    "# output : print\n",
    "def under_Sampling_DecisionTree(X_train, y_train):\n",
    "    try:\n",
    "        XX, yy = TomekLinks().fit_sample(X_train, y_train)\n",
    "        tree0 = DecisionTreeClassifier(max_depth=4, random_state=0)\n",
    "        tree0.fit(XX, yy)\n",
    "        y_pred0 = tree0.predict(X_test)\n",
    "\n",
    "        print(classification_report(y_test, y_pred0))\n",
    "\n",
    "    except Exception as e:\n",
    "        raise e"
   ]
  },
  {
   "cell_type": "code",
   "execution_count": 27,
   "metadata": {},
   "outputs": [],
   "source": [
    "# Smot+Tomek links :  복합샘플링(Combining Over-and Under-Sampling) \n",
    "# input : X_train, y_train\n",
    "#  X_train : \n",
    "#  y_train\n",
    "# output : print\n",
    "def combining_Sampling_DecisionTree(X_train, y_train):\n",
    "    try:\n",
    "        XX, yy = SMOTETomek(random_state=0).fit_sample(X_train, y_train)\n",
    "\n",
    "        tree3 = DecisionTreeClassifier(max_depth=4, random_state=0)\n",
    "        tree3.fit(XX, yy)\n",
    "        y_pred3 = tree3.predict(X_test)\n",
    "\n",
    "        print(classification_report(y_test, y_pred3))\n",
    "\n",
    "    except Exception as e:\n",
    "        raise e"
   ]
  },
  {
   "cell_type": "code",
   "execution_count": 28,
   "metadata": {},
   "outputs": [
    {
     "data": {
      "text/plain": [
       "custid          0\n",
       "gender          0\n",
       "총구매액            0\n",
       "구매건수            0\n",
       "평균구매가격          0\n",
       "평균할부개월수         0\n",
       "구매브랜드종류         0\n",
       "내점일수            0\n",
       "수입상품_구매비율       0\n",
       "주말방문비율          0\n",
       "가을_구매건수       945\n",
       "겨울_구매건수       897\n",
       "봄_구매건수        689\n",
       "여름_구매건수      1022\n",
       "아침_구매건수      1442\n",
       "저녁_구매건수       967\n",
       "점심_구매건수       145\n",
       "주구매코너           0\n",
       "dtype: int64"
      ]
     },
     "execution_count": 28,
     "metadata": {},
     "output_type": "execute_result"
    }
   ],
   "source": [
    "# Missing Values 확인\n",
    "ndf_copy = ndf.copy() \n",
    "have_missing_value(ndf_copy)"
   ]
  },
  {
   "cell_type": "code",
   "execution_count": 29,
   "metadata": {},
   "outputs": [],
   "source": [
    "# Feature 정의\n",
    "# 수치형 Features\n",
    "cont = ['총구매액','구매건수','평균구매가격','평균할부개월수','내점일수',\n",
    "       '수입상품_구매비율','주말방문비율', '봄_구매건수', '여름_구매건수',\n",
    "       '가을_구매건수','겨울_구매건수','아침_구매건수', '점심_구매건수',\n",
    "       '저녁_구매건수', '구매브랜드종류']\n",
    "# 범주형 Features\n",
    "cate = ['주구매코너']\n",
    "# 비분석 Features : drop\n",
    "delCols = ['custid']\n",
    "# target Feature\n",
    "dfy = 'gender'"
   ]
  },
  {
   "cell_type": "code",
   "execution_count": 30,
   "metadata": {},
   "outputs": [
    {
     "data": {
      "text/html": [
       "<div>\n",
       "<style scoped>\n",
       "    .dataframe tbody tr th:only-of-type {\n",
       "        vertical-align: middle;\n",
       "    }\n",
       "\n",
       "    .dataframe tbody tr th {\n",
       "        vertical-align: top;\n",
       "    }\n",
       "\n",
       "    .dataframe thead th {\n",
       "        text-align: right;\n",
       "    }\n",
       "</style>\n",
       "<table border=\"1\" class=\"dataframe\">\n",
       "  <thead>\n",
       "    <tr style=\"text-align: right;\">\n",
       "      <th></th>\n",
       "      <th>custid</th>\n",
       "      <th>gender</th>\n",
       "      <th>총구매액</th>\n",
       "      <th>구매건수</th>\n",
       "      <th>평균구매가격</th>\n",
       "      <th>평균할부개월수</th>\n",
       "      <th>구매브랜드종류</th>\n",
       "      <th>내점일수</th>\n",
       "      <th>수입상품_구매비율</th>\n",
       "      <th>주말방문비율</th>\n",
       "      <th>가을_구매건수</th>\n",
       "      <th>겨울_구매건수</th>\n",
       "      <th>봄_구매건수</th>\n",
       "      <th>여름_구매건수</th>\n",
       "      <th>아침_구매건수</th>\n",
       "      <th>저녁_구매건수</th>\n",
       "      <th>점심_구매건수</th>\n",
       "      <th>주구매코너</th>\n",
       "    </tr>\n",
       "  </thead>\n",
       "  <tbody>\n",
       "    <tr>\n",
       "      <th>0</th>\n",
       "      <td>18</td>\n",
       "      <td>0</td>\n",
       "      <td>680100</td>\n",
       "      <td>15</td>\n",
       "      <td>45340</td>\n",
       "      <td>1.7</td>\n",
       "      <td>9</td>\n",
       "      <td>10</td>\n",
       "      <td>26.7</td>\n",
       "      <td>100.0</td>\n",
       "      <td>NaN</td>\n",
       "      <td>9.0</td>\n",
       "      <td>6.0</td>\n",
       "      <td>NaN</td>\n",
       "      <td>NaN</td>\n",
       "      <td>6.0</td>\n",
       "      <td>9.0</td>\n",
       "      <td>화장품</td>\n",
       "    </tr>\n",
       "    <tr>\n",
       "      <th>1</th>\n",
       "      <td>21</td>\n",
       "      <td>0</td>\n",
       "      <td>353450</td>\n",
       "      <td>9</td>\n",
       "      <td>39272</td>\n",
       "      <td>1.2</td>\n",
       "      <td>6</td>\n",
       "      <td>8</td>\n",
       "      <td>11.1</td>\n",
       "      <td>37.5</td>\n",
       "      <td>NaN</td>\n",
       "      <td>5.0</td>\n",
       "      <td>4.0</td>\n",
       "      <td>NaN</td>\n",
       "      <td>3.0</td>\n",
       "      <td>NaN</td>\n",
       "      <td>6.0</td>\n",
       "      <td>영캐주얼</td>\n",
       "    </tr>\n",
       "    <tr>\n",
       "      <th>2</th>\n",
       "      <td>23</td>\n",
       "      <td>0</td>\n",
       "      <td>5671400</td>\n",
       "      <td>36</td>\n",
       "      <td>157539</td>\n",
       "      <td>2.8</td>\n",
       "      <td>22</td>\n",
       "      <td>16</td>\n",
       "      <td>5.6</td>\n",
       "      <td>37.5</td>\n",
       "      <td>7.0</td>\n",
       "      <td>17.0</td>\n",
       "      <td>12.0</td>\n",
       "      <td>NaN</td>\n",
       "      <td>10.0</td>\n",
       "      <td>11.0</td>\n",
       "      <td>15.0</td>\n",
       "      <td>장신구</td>\n",
       "    </tr>\n",
       "    <tr>\n",
       "      <th>3</th>\n",
       "      <td>26</td>\n",
       "      <td>0</td>\n",
       "      <td>1964000</td>\n",
       "      <td>28</td>\n",
       "      <td>70143</td>\n",
       "      <td>1.4</td>\n",
       "      <td>15</td>\n",
       "      <td>14</td>\n",
       "      <td>39.3</td>\n",
       "      <td>28.6</td>\n",
       "      <td>5.0</td>\n",
       "      <td>8.0</td>\n",
       "      <td>15.0</td>\n",
       "      <td>NaN</td>\n",
       "      <td>NaN</td>\n",
       "      <td>18.0</td>\n",
       "      <td>10.0</td>\n",
       "      <td>화장품</td>\n",
       "    </tr>\n",
       "    <tr>\n",
       "      <th>4</th>\n",
       "      <td>35</td>\n",
       "      <td>0</td>\n",
       "      <td>885000</td>\n",
       "      <td>5</td>\n",
       "      <td>177000</td>\n",
       "      <td>6.0</td>\n",
       "      <td>5</td>\n",
       "      <td>2</td>\n",
       "      <td>0.0</td>\n",
       "      <td>100.0</td>\n",
       "      <td>NaN</td>\n",
       "      <td>NaN</td>\n",
       "      <td>5.0</td>\n",
       "      <td>NaN</td>\n",
       "      <td>NaN</td>\n",
       "      <td>5.0</td>\n",
       "      <td>NaN</td>\n",
       "      <td>피혁A</td>\n",
       "    </tr>\n",
       "    <tr>\n",
       "      <th>...</th>\n",
       "      <td>...</td>\n",
       "      <td>...</td>\n",
       "      <td>...</td>\n",
       "      <td>...</td>\n",
       "      <td>...</td>\n",
       "      <td>...</td>\n",
       "      <td>...</td>\n",
       "      <td>...</td>\n",
       "      <td>...</td>\n",
       "      <td>...</td>\n",
       "      <td>...</td>\n",
       "      <td>...</td>\n",
       "      <td>...</td>\n",
       "      <td>...</td>\n",
       "      <td>...</td>\n",
       "      <td>...</td>\n",
       "      <td>...</td>\n",
       "      <td>...</td>\n",
       "    </tr>\n",
       "    <tr>\n",
       "      <th>4995</th>\n",
       "      <td>49952</td>\n",
       "      <td>1</td>\n",
       "      <td>6666517</td>\n",
       "      <td>93</td>\n",
       "      <td>71683</td>\n",
       "      <td>1.8</td>\n",
       "      <td>27</td>\n",
       "      <td>39</td>\n",
       "      <td>10.8</td>\n",
       "      <td>43.6</td>\n",
       "      <td>13.0</td>\n",
       "      <td>33.0</td>\n",
       "      <td>14.0</td>\n",
       "      <td>33.0</td>\n",
       "      <td>8.0</td>\n",
       "      <td>41.0</td>\n",
       "      <td>44.0</td>\n",
       "      <td>일반식품</td>\n",
       "    </tr>\n",
       "    <tr>\n",
       "      <th>4996</th>\n",
       "      <td>49954</td>\n",
       "      <td>0</td>\n",
       "      <td>3112100</td>\n",
       "      <td>17</td>\n",
       "      <td>183065</td>\n",
       "      <td>3.6</td>\n",
       "      <td>10</td>\n",
       "      <td>13</td>\n",
       "      <td>29.4</td>\n",
       "      <td>38.5</td>\n",
       "      <td>4.0</td>\n",
       "      <td>6.0</td>\n",
       "      <td>6.0</td>\n",
       "      <td>1.0</td>\n",
       "      <td>3.0</td>\n",
       "      <td>NaN</td>\n",
       "      <td>14.0</td>\n",
       "      <td>디자이너부띠끄</td>\n",
       "    </tr>\n",
       "    <tr>\n",
       "      <th>4997</th>\n",
       "      <td>49957</td>\n",
       "      <td>1</td>\n",
       "      <td>5852482</td>\n",
       "      <td>37</td>\n",
       "      <td>158175</td>\n",
       "      <td>2.6</td>\n",
       "      <td>14</td>\n",
       "      <td>21</td>\n",
       "      <td>40.5</td>\n",
       "      <td>19.0</td>\n",
       "      <td>12.0</td>\n",
       "      <td>6.0</td>\n",
       "      <td>6.0</td>\n",
       "      <td>13.0</td>\n",
       "      <td>16.0</td>\n",
       "      <td>NaN</td>\n",
       "      <td>21.0</td>\n",
       "      <td>화장품</td>\n",
       "    </tr>\n",
       "    <tr>\n",
       "      <th>4998</th>\n",
       "      <td>49975</td>\n",
       "      <td>1</td>\n",
       "      <td>654498</td>\n",
       "      <td>13</td>\n",
       "      <td>50346</td>\n",
       "      <td>2.5</td>\n",
       "      <td>10</td>\n",
       "      <td>7</td>\n",
       "      <td>7.7</td>\n",
       "      <td>14.3</td>\n",
       "      <td>6.0</td>\n",
       "      <td>4.0</td>\n",
       "      <td>2.0</td>\n",
       "      <td>1.0</td>\n",
       "      <td>NaN</td>\n",
       "      <td>2.0</td>\n",
       "      <td>11.0</td>\n",
       "      <td>피혁A</td>\n",
       "    </tr>\n",
       "    <tr>\n",
       "      <th>4999</th>\n",
       "      <td>49993</td>\n",
       "      <td>1</td>\n",
       "      <td>2554723</td>\n",
       "      <td>32</td>\n",
       "      <td>79835</td>\n",
       "      <td>1.7</td>\n",
       "      <td>9</td>\n",
       "      <td>26</td>\n",
       "      <td>21.9</td>\n",
       "      <td>34.6</td>\n",
       "      <td>6.0</td>\n",
       "      <td>5.0</td>\n",
       "      <td>10.0</td>\n",
       "      <td>11.0</td>\n",
       "      <td>8.0</td>\n",
       "      <td>5.0</td>\n",
       "      <td>19.0</td>\n",
       "      <td>일반식품</td>\n",
       "    </tr>\n",
       "  </tbody>\n",
       "</table>\n",
       "<p>5000 rows × 18 columns</p>\n",
       "</div>"
      ],
      "text/plain": [
       "      custid  gender     총구매액  구매건수  평균구매가격  평균할부개월수  구매브랜드종류  내점일수  \\\n",
       "0         18       0   680100    15   45340      1.7        9    10   \n",
       "1         21       0   353450     9   39272      1.2        6     8   \n",
       "2         23       0  5671400    36  157539      2.8       22    16   \n",
       "3         26       0  1964000    28   70143      1.4       15    14   \n",
       "4         35       0   885000     5  177000      6.0        5     2   \n",
       "...      ...     ...      ...   ...     ...      ...      ...   ...   \n",
       "4995   49952       1  6666517    93   71683      1.8       27    39   \n",
       "4996   49954       0  3112100    17  183065      3.6       10    13   \n",
       "4997   49957       1  5852482    37  158175      2.6       14    21   \n",
       "4998   49975       1   654498    13   50346      2.5       10     7   \n",
       "4999   49993       1  2554723    32   79835      1.7        9    26   \n",
       "\n",
       "      수입상품_구매비율  주말방문비율  가을_구매건수  겨울_구매건수  봄_구매건수  여름_구매건수  아침_구매건수  저녁_구매건수  \\\n",
       "0          26.7   100.0      NaN      9.0     6.0      NaN      NaN      6.0   \n",
       "1          11.1    37.5      NaN      5.0     4.0      NaN      3.0      NaN   \n",
       "2           5.6    37.5      7.0     17.0    12.0      NaN     10.0     11.0   \n",
       "3          39.3    28.6      5.0      8.0    15.0      NaN      NaN     18.0   \n",
       "4           0.0   100.0      NaN      NaN     5.0      NaN      NaN      5.0   \n",
       "...         ...     ...      ...      ...     ...      ...      ...      ...   \n",
       "4995       10.8    43.6     13.0     33.0    14.0     33.0      8.0     41.0   \n",
       "4996       29.4    38.5      4.0      6.0     6.0      1.0      3.0      NaN   \n",
       "4997       40.5    19.0     12.0      6.0     6.0     13.0     16.0      NaN   \n",
       "4998        7.7    14.3      6.0      4.0     2.0      1.0      NaN      2.0   \n",
       "4999       21.9    34.6      6.0      5.0    10.0     11.0      8.0      5.0   \n",
       "\n",
       "      점심_구매건수    주구매코너  \n",
       "0         9.0      화장품  \n",
       "1         6.0     영캐주얼  \n",
       "2        15.0      장신구  \n",
       "3        10.0      화장품  \n",
       "4         NaN      피혁A  \n",
       "...       ...      ...  \n",
       "4995     44.0     일반식품  \n",
       "4996     14.0  디자이너부띠끄  \n",
       "4997     21.0      화장품  \n",
       "4998     11.0      피혁A  \n",
       "4999     19.0     일반식품  \n",
       "\n",
       "[5000 rows x 18 columns]"
      ]
     },
     "execution_count": 30,
     "metadata": {},
     "output_type": "execute_result"
    }
   ],
   "source": [
    "ndf"
   ]
  },
  {
   "cell_type": "code",
   "execution_count": 31,
   "metadata": {},
   "outputs": [
    {
     "data": {
      "text/plain": [
       "custid       0\n",
       "gender       0\n",
       "총구매액         0\n",
       "구매건수         0\n",
       "평균구매가격       0\n",
       "평균할부개월수      0\n",
       "구매브랜드종류      0\n",
       "내점일수         0\n",
       "수입상품_구매비율    0\n",
       "주말방문비율       0\n",
       "가을_구매건수      0\n",
       "겨울_구매건수      0\n",
       "봄_구매건수       0\n",
       "여름_구매건수      0\n",
       "아침_구매건수      0\n",
       "저녁_구매건수      0\n",
       "점심_구매건수      0\n",
       "주구매코너        0\n",
       "dtype: int64"
      ]
     },
     "execution_count": 31,
     "metadata": {},
     "output_type": "execute_result"
    }
   ],
   "source": [
    "# 대체값 0으로 수치형 Feature 결측치 처리 : \n",
    "Impute_missing_value_numeric(ndf, cont, 0)\n",
    "have_missing_value(ndf)"
   ]
  },
  {
   "cell_type": "code",
   "execution_count": 32,
   "metadata": {},
   "outputs": [
    {
     "name": "stdout",
     "output_type": "stream",
     "text": [
      "['주구매코너'].astype('category').cat.categories\n"
     ]
    }
   ],
   "source": [
    "# 범주형 결측치 One-hot encoding 처리\n",
    "dataP =Impute_missing_value_categorical(ndf, cate)"
   ]
  },
  {
   "cell_type": "code",
   "execution_count": 33,
   "metadata": {},
   "outputs": [
    {
     "data": {
      "text/html": [
       "<div>\n",
       "<style scoped>\n",
       "    .dataframe tbody tr th:only-of-type {\n",
       "        vertical-align: middle;\n",
       "    }\n",
       "\n",
       "    .dataframe tbody tr th {\n",
       "        vertical-align: top;\n",
       "    }\n",
       "\n",
       "    .dataframe thead th {\n",
       "        text-align: right;\n",
       "    }\n",
       "</style>\n",
       "<table border=\"1\" class=\"dataframe\">\n",
       "  <thead>\n",
       "    <tr style=\"text-align: right;\">\n",
       "      <th></th>\n",
       "      <th>custid</th>\n",
       "      <th>gender</th>\n",
       "      <th>총구매액</th>\n",
       "      <th>구매건수</th>\n",
       "      <th>평균구매가격</th>\n",
       "      <th>평균할부개월수</th>\n",
       "      <th>구매브랜드종류</th>\n",
       "      <th>내점일수</th>\n",
       "      <th>수입상품_구매비율</th>\n",
       "      <th>주말방문비율</th>\n",
       "      <th>가을_구매건수</th>\n",
       "      <th>겨울_구매건수</th>\n",
       "      <th>봄_구매건수</th>\n",
       "      <th>여름_구매건수</th>\n",
       "      <th>아침_구매건수</th>\n",
       "      <th>저녁_구매건수</th>\n",
       "      <th>점심_구매건수</th>\n",
       "      <th>주구매코너</th>\n",
       "    </tr>\n",
       "  </thead>\n",
       "  <tbody>\n",
       "    <tr>\n",
       "      <th>4997</th>\n",
       "      <td>49957</td>\n",
       "      <td>1</td>\n",
       "      <td>5852482</td>\n",
       "      <td>37</td>\n",
       "      <td>158175</td>\n",
       "      <td>2.6</td>\n",
       "      <td>14</td>\n",
       "      <td>21</td>\n",
       "      <td>40.5</td>\n",
       "      <td>19.0</td>\n",
       "      <td>12.0</td>\n",
       "      <td>6.0</td>\n",
       "      <td>6.0</td>\n",
       "      <td>13.0</td>\n",
       "      <td>16.0</td>\n",
       "      <td>0.0</td>\n",
       "      <td>21.0</td>\n",
       "      <td>24</td>\n",
       "    </tr>\n",
       "    <tr>\n",
       "      <th>4998</th>\n",
       "      <td>49975</td>\n",
       "      <td>1</td>\n",
       "      <td>654498</td>\n",
       "      <td>13</td>\n",
       "      <td>50346</td>\n",
       "      <td>2.5</td>\n",
       "      <td>10</td>\n",
       "      <td>7</td>\n",
       "      <td>7.7</td>\n",
       "      <td>14.3</td>\n",
       "      <td>6.0</td>\n",
       "      <td>4.0</td>\n",
       "      <td>2.0</td>\n",
       "      <td>1.0</td>\n",
       "      <td>0.0</td>\n",
       "      <td>2.0</td>\n",
       "      <td>11.0</td>\n",
       "      <td>22</td>\n",
       "    </tr>\n",
       "    <tr>\n",
       "      <th>4999</th>\n",
       "      <td>49993</td>\n",
       "      <td>1</td>\n",
       "      <td>2554723</td>\n",
       "      <td>32</td>\n",
       "      <td>79835</td>\n",
       "      <td>1.7</td>\n",
       "      <td>9</td>\n",
       "      <td>26</td>\n",
       "      <td>21.9</td>\n",
       "      <td>34.6</td>\n",
       "      <td>6.0</td>\n",
       "      <td>5.0</td>\n",
       "      <td>10.0</td>\n",
       "      <td>11.0</td>\n",
       "      <td>8.0</td>\n",
       "      <td>5.0</td>\n",
       "      <td>19.0</td>\n",
       "      <td>14</td>\n",
       "    </tr>\n",
       "  </tbody>\n",
       "</table>\n",
       "</div>"
      ],
      "text/plain": [
       "      custid  gender     총구매액  구매건수  평균구매가격  평균할부개월수  구매브랜드종류  내점일수  \\\n",
       "4997   49957       1  5852482    37  158175      2.6       14    21   \n",
       "4998   49975       1   654498    13   50346      2.5       10     7   \n",
       "4999   49993       1  2554723    32   79835      1.7        9    26   \n",
       "\n",
       "      수입상품_구매비율  주말방문비율  가을_구매건수  겨울_구매건수  봄_구매건수  여름_구매건수  아침_구매건수  저녁_구매건수  \\\n",
       "4997       40.5    19.0     12.0      6.0     6.0     13.0     16.0      0.0   \n",
       "4998        7.7    14.3      6.0      4.0     2.0      1.0      0.0      2.0   \n",
       "4999       21.9    34.6      6.0      5.0    10.0     11.0      8.0      5.0   \n",
       "\n",
       "      점심_구매건수  주구매코너  \n",
       "4997     21.0     24  \n",
       "4998     11.0     22  \n",
       "4999     19.0     14  "
      ]
     },
     "execution_count": 33,
     "metadata": {},
     "output_type": "execute_result"
    }
   ],
   "source": [
    "# 학습용 데이터 확인\n",
    "dataP.tail(3)"
   ]
  },
  {
   "cell_type": "code",
   "execution_count": 34,
   "metadata": {},
   "outputs": [
    {
     "data": {
      "text/plain": [
       "0    0.6958\n",
       "1    0.3042\n",
       "Name: gender, dtype: float64"
      ]
     },
     "execution_count": 34,
     "metadata": {},
     "output_type": "execute_result"
    }
   ],
   "source": [
    "tdf['gender'].value_counts(normalize=True)"
   ]
  },
  {
   "cell_type": "code",
   "execution_count": 35,
   "metadata": {},
   "outputs": [
    {
     "data": {
      "image/png": "[encoded data removed]",
      "text/plain": [
       "<Figure size 432x288 with 1 Axes>"
      ]
     },
     "metadata": {
      "needs_background": "light"
     },
     "output_type": "display_data"
    }
   ],
   "source": [
    "# gender의 히스토그램을 작성\n",
    "\n",
    "plt.hist(tdf['gender'])\n",
    "plt.xlabel('gender')\n",
    "plt.ylabel('count')\n",
    "plt.show()"
   ]
  },
  {
   "cell_type": "code",
   "execution_count": 36,
   "metadata": {},
   "outputs": [],
   "source": [
    "# matplotlib 패키지 한글화하기"
   ]
  },
  {
   "cell_type": "code",
   "execution_count": 37,
   "metadata": {},
   "outputs": [],
   "source": [
    "import matplotlib\n",
    "matplotlib.rcParams['axes.unicode_minus'] = False"
   ]
  },
  {
   "cell_type": "code",
   "execution_count": 38,
   "metadata": {},
   "outputs": [],
   "source": [
    "import matplotlib\n",
    "from matplotlib import font_manager, rc\n",
    "import platform\n",
    "\n",
    "if platform.system() == 'Windows':\n",
    "# 윈도우인 경우\n",
    "    font_name = font_manager.FontProperties(fname=\"c:/Windows/Fonts/malgun.ttf\").get_name()\n",
    "    rc('font', family=font_name)\n",
    "else:    \n",
    "# Mac 인 경우\n",
    "    rc('font', family='AppleGothic')\n",
    "    \n",
    "matplotlib.rcParams['axes.unicode_minus'] = False   \n",
    "#그래프에서 마이너스 기호가 표시되도록 하는 설정입니다. "
   ]
  },
  {
   "cell_type": "code",
   "execution_count": 39,
   "metadata": {},
   "outputs": [
    {
     "data": {
      "image/png": "[encoded data removed]",
      "text/plain": [
       "<Figure size 432x288 with 1 Axes>"
      ]
     },
     "metadata": {
      "needs_background": "light"
     },
     "output_type": "display_data"
    }
   ],
   "source": [
    "# 구매건수의 히스토그램을 작성\n",
    "\n",
    "plt.hist(ndf['구매건수'])\n",
    "plt.xlabel('구매건수')\n",
    "plt.ylabel('price')\n",
    "plt.show()"
   ]
  },
  {
   "cell_type": "code",
   "execution_count": 40,
   "metadata": {},
   "outputs": [
    {
     "data": {
      "text/plain": [
       "3      0.0314\n",
       "4      0.0308\n",
       "5      0.0292\n",
       "9      0.0292\n",
       "2      0.0280\n",
       "        ...  \n",
       "269    0.0002\n",
       "353    0.0002\n",
       "389    0.0002\n",
       "417    0.0002\n",
       "491    0.0002\n",
       "Name: 구매건수, Length: 223, dtype: float64"
      ]
     },
     "execution_count": 40,
     "metadata": {},
     "output_type": "execute_result"
    }
   ],
   "source": [
    "ndf['구매건수'].value_counts(normalize=True)"
   ]
  },
  {
   "cell_type": "code",
   "execution_count": 41,
   "metadata": {},
   "outputs": [
    {
     "data": {
      "image/png": "[encoded data removed]",
      "text/plain": [
       "<Figure size 432x288 with 1 Axes>"
      ]
     },
     "metadata": {
      "needs_background": "light"
     },
     "output_type": "display_data"
    }
   ],
   "source": [
    "# gender와 구매건수의 산포도를 작성\n",
    "plt.scatter(ndf['gender'], ndf['구매건수'])\n",
    "\n",
    "plt.xlabel('구매건수')\n",
    "plt.ylabel('구매건수')\n",
    "plt.show()"
   ]
  },
  {
   "cell_type": "code",
   "execution_count": 42,
   "metadata": {},
   "outputs": [
    {
     "name": "stdout",
     "output_type": "stream",
     "text": [
      "<class 'pandas.core.frame.DataFrame'>\n",
      "RangeIndex: 5000 entries, 0 to 4999\n",
      "Data columns (total 18 columns):\n",
      " #   Column     Non-Null Count  Dtype  \n",
      "---  ------     --------------  -----  \n",
      " 0   custid     5000 non-null   int64  \n",
      " 1   gender     5000 non-null   int64  \n",
      " 2   총구매액       5000 non-null   int64  \n",
      " 3   구매건수       5000 non-null   int64  \n",
      " 4   평균구매가격     5000 non-null   int64  \n",
      " 5   평균할부개월수    5000 non-null   float64\n",
      " 6   구매브랜드종류    5000 non-null   int64  \n",
      " 7   내점일수       5000 non-null   int64  \n",
      " 8   수입상품_구매비율  5000 non-null   float64\n",
      " 9   주말방문비율     5000 non-null   float64\n",
      " 10  가을_구매건수    5000 non-null   float64\n",
      " 11  겨울_구매건수    5000 non-null   float64\n",
      " 12  봄_구매건수     5000 non-null   float64\n",
      " 13  여름_구매건수    5000 non-null   float64\n",
      " 14  아침_구매건수    5000 non-null   float64\n",
      " 15  저녁_구매건수    5000 non-null   float64\n",
      " 16  점심_구매건수    5000 non-null   float64\n",
      " 17  주구매코너      5000 non-null   int8   \n",
      "dtypes: float64(10), int64(7), int8(1)\n",
      "memory usage: 669.1 KB\n"
     ]
    }
   ],
   "source": [
    "ndf.info()"
   ]
  },
  {
   "cell_type": "code",
   "execution_count": 43,
   "metadata": {},
   "outputs": [
    {
     "data": {
      "image/png": "[encoded data removed]",
      "text/plain": [
       "<Figure size 432x288 with 16 Axes>"
      ]
     },
     "metadata": {
      "needs_background": "light"
     },
     "output_type": "display_data"
    }
   ],
   "source": [
    "# 산포도행렬의 작성\n",
    "pd.plotting.scatter_matrix(ndf[['gender', '구매건수', '총구매액', \n",
    "                                '주말방문비율']])\n",
    "plt.tight_layout()\n",
    "plt.show()"
   ]
  },
  {
   "cell_type": "code",
   "execution_count": 44,
   "metadata": {},
   "outputs": [],
   "source": [
    "# 주구매코너의 레이블\n",
    "주구매코너_label = ndf['주구매코너']\\\n",
    "        .value_counts(ascending=False, normalize=True)\\\n",
    "        .index\n",
    "# 주구매코너의 값\n",
    "주구매코너_vals = ndf['주구매코너']\\\n",
    "        .value_counts(ascending=False, normalize=True)\\\n",
    "        .values"
   ]
  },
  {
   "cell_type": "code",
   "execution_count": 45,
   "metadata": {},
   "outputs": [
    {
     "data": {
      "text/plain": [
       "Int64Index([14, 24, 12, 13,  9, 11, 19,  8,  7, 21,  3, 16, 10, 22, 15, 23,  5,\n",
       "             6, 17,  1,  2,  4, 18,  0, 20],\n",
       "           dtype='int64')"
      ]
     },
     "execution_count": 45,
     "metadata": {},
     "output_type": "execute_result"
    }
   ],
   "source": [
    "주구매코너_label"
   ]
  },
  {
   "cell_type": "code",
   "execution_count": 46,
   "metadata": {},
   "outputs": [
    {
     "data": {
      "text/plain": [
       "array([0.2612, 0.2412, 0.082 , 0.0766, 0.0602, 0.0492, 0.0376, 0.0272,\n",
       "       0.0192, 0.0182, 0.0182, 0.018 , 0.0156, 0.015 , 0.0136, 0.0112,\n",
       "       0.0102, 0.0076, 0.0056, 0.0036, 0.0024, 0.0022, 0.0016, 0.0014,\n",
       "       0.0012])"
      ]
     },
     "execution_count": 46,
     "metadata": {},
     "output_type": "execute_result"
    }
   ],
   "source": [
    "주구매코너_vals"
   ]
  },
  {
   "cell_type": "code",
   "execution_count": 47,
   "metadata": {},
   "outputs": [
    {
     "data": {
      "text/plain": [
       "MultiIndex([(49993, 1,  2554723,  32,  79835, 1.7,  9, 26,  21.9,  34.6, ...),\n",
       "            (17006, 0,  7637516,  46, 166033, 1.7, 34, 31,   8.7,  29.0, ...),\n",
       "            (16942, 1,  3775002,  31, 121774, 2.1, 21, 24,  29.0,  33.3, ...),\n",
       "            (16945, 1,  2511100,  19, 132163, 1.8, 15,  8,  10.5,  62.5, ...),\n",
       "            (16954, 0,  1053000,   7, 150429, 2.9,  7,  4,  14.3,  75.0, ...),\n",
       "            (16955, 0,   130800,   4,  32700, 1.0,  4,  3,  25.0,   0.0, ...),\n",
       "            (16965, 0,  2896904,  30,  96563, 2.5, 24, 15,  30.0,  60.0, ...),\n",
       "            (16974, 0,  1185200,  10, 118520, 2.4,  7,  6,   0.0,  16.7, ...),\n",
       "            (16976, 0, 10167507, 131,  77615, 2.1, 68, 60,   1.5,  23.3, ...),\n",
       "            (17025, 1,  1092000,  18,  60667, 1.1, 15, 11,   5.6,  36.4, ...),\n",
       "            ...\n",
       "            (33667, 0,  2104037,  43,  48931, 1.7, 18, 21,  16.3,  52.4, ...),\n",
       "            (33668, 0, 15662125, 130, 120478, 2.1, 49, 41,  10.0,  24.4, ...),\n",
       "            (33671, 0,   315000,   2, 157500, 3.0,  1,  1, 100.0,   0.0, ...),\n",
       "            (33698, 0,  3851446,  44,  87533, 2.3, 23, 31,   0.0,  19.4, ...),\n",
       "            (33705, 0,  5766532,  83,  69476, 1.8, 43, 35,  15.7,  22.9, ...),\n",
       "            (33707, 0,  6367457,  78,  81634, 1.0, 18, 62,  24.4,  27.4, ...),\n",
       "            (33714, 0,  1392400,  16,  87025, 2.6, 11,  7,   6.2,  14.3, ...),\n",
       "            (33729, 1,   904600,  12,  75383, 2.0, 10,  7,   8.3,  14.3, ...),\n",
       "            (33733, 0,  2108960,  11, 191724, 1.9, 11,  7,   0.0,  28.6, ...),\n",
       "            (   18, 0,   680100,  15,  45340, 1.7,  9, 10,  26.7, 100.0, ...)],\n",
       "           names=['custid', 'gender', '총구매액', '구매건수', '평균구매가격', '평균할부개월수', '구매브랜드종류', '내점일수', '수입상품_구매비율', '주말방문비율', '가을_구매건수', '겨울_구매건수', '봄_구매건수', '여름_구매건수', '아침_구매건수', '저녁_구매건수', '점심_구매건수', '주구매코너'], length=5000)"
      ]
     },
     "execution_count": 47,
     "metadata": {},
     "output_type": "execute_result"
    }
   ],
   "source": [
    "ndf.value_counts(ascending=False, normalize=True).index"
   ]
  },
  {
   "cell_type": "code",
   "execution_count": 48,
   "metadata": {},
   "outputs": [
    {
     "data": {
      "image/png": "[encoded data removed]",
      "text/plain": [
       "<Figure size 432x288 with 1 Axes>"
      ]
     },
     "metadata": {},
     "output_type": "display_data"
    }
   ],
   "source": [
    "# 주구매코너의 원그래프를 작성\n",
    "plt.pie(주구매코너_vals, labels=주구매코너_label)\n",
    "plt.axis('equal') \n",
    "plt.show()"
   ]
  },
  {
   "cell_type": "code",
   "execution_count": 49,
   "metadata": {},
   "outputs": [
    {
     "data": {
      "text/html": [
       "<div>\n",
       "<style scoped>\n",
       "    .dataframe tbody tr th:only-of-type {\n",
       "        vertical-align: middle;\n",
       "    }\n",
       "\n",
       "    .dataframe tbody tr th {\n",
       "        vertical-align: top;\n",
       "    }\n",
       "\n",
       "    .dataframe thead th {\n",
       "        text-align: right;\n",
       "    }\n",
       "</style>\n",
       "<table border=\"1\" class=\"dataframe\">\n",
       "  <thead>\n",
       "    <tr style=\"text-align: right;\">\n",
       "      <th></th>\n",
       "      <th>custid</th>\n",
       "      <th>gender</th>\n",
       "      <th>총구매액</th>\n",
       "      <th>구매건수</th>\n",
       "      <th>평균구매가격</th>\n",
       "      <th>평균할부개월수</th>\n",
       "      <th>구매브랜드종류</th>\n",
       "      <th>내점일수</th>\n",
       "      <th>수입상품_구매비율</th>\n",
       "      <th>주말방문비율</th>\n",
       "      <th>가을_구매건수</th>\n",
       "      <th>겨울_구매건수</th>\n",
       "      <th>봄_구매건수</th>\n",
       "      <th>여름_구매건수</th>\n",
       "      <th>아침_구매건수</th>\n",
       "      <th>저녁_구매건수</th>\n",
       "      <th>점심_구매건수</th>\n",
       "      <th>주구매코너</th>\n",
       "    </tr>\n",
       "  </thead>\n",
       "  <tbody>\n",
       "    <tr>\n",
       "      <th>custid</th>\n",
       "      <td>1.000000</td>\n",
       "      <td>0.262472</td>\n",
       "      <td>0.217251</td>\n",
       "      <td>0.218914</td>\n",
       "      <td>0.117939</td>\n",
       "      <td>0.093048</td>\n",
       "      <td>0.154303</td>\n",
       "      <td>0.212969</td>\n",
       "      <td>-0.017958</td>\n",
       "      <td>-0.162393</td>\n",
       "      <td>0.187350</td>\n",
       "      <td>0.164901</td>\n",
       "      <td>0.184422</td>\n",
       "      <td>0.236324</td>\n",
       "      <td>0.199936</td>\n",
       "      <td>-0.001832</td>\n",
       "      <td>0.247271</td>\n",
       "      <td>-0.131943</td>\n",
       "    </tr>\n",
       "    <tr>\n",
       "      <th>gender</th>\n",
       "      <td>0.262472</td>\n",
       "      <td>1.000000</td>\n",
       "      <td>0.099137</td>\n",
       "      <td>0.094022</td>\n",
       "      <td>0.072181</td>\n",
       "      <td>-0.020066</td>\n",
       "      <td>0.083988</td>\n",
       "      <td>0.084255</td>\n",
       "      <td>-0.021294</td>\n",
       "      <td>0.020457</td>\n",
       "      <td>0.088600</td>\n",
       "      <td>0.065261</td>\n",
       "      <td>0.076116</td>\n",
       "      <td>0.101900</td>\n",
       "      <td>0.127779</td>\n",
       "      <td>-0.021618</td>\n",
       "      <td>0.097237</td>\n",
       "      <td>-0.039270</td>\n",
       "    </tr>\n",
       "    <tr>\n",
       "      <th>총구매액</th>\n",
       "      <td>0.217251</td>\n",
       "      <td>0.099137</td>\n",
       "      <td>1.000000</td>\n",
       "      <td>0.712183</td>\n",
       "      <td>0.376395</td>\n",
       "      <td>0.137335</td>\n",
       "      <td>0.714774</td>\n",
       "      <td>0.617210</td>\n",
       "      <td>-0.048053</td>\n",
       "      <td>-0.048515</td>\n",
       "      <td>0.657523</td>\n",
       "      <td>0.620446</td>\n",
       "      <td>0.635757</td>\n",
       "      <td>0.619743</td>\n",
       "      <td>0.456158</td>\n",
       "      <td>0.398494</td>\n",
       "      <td>0.709572</td>\n",
       "      <td>-0.141735</td>\n",
       "    </tr>\n",
       "    <tr>\n",
       "      <th>구매건수</th>\n",
       "      <td>0.218914</td>\n",
       "      <td>0.094022</td>\n",
       "      <td>0.712183</td>\n",
       "      <td>1.000000</td>\n",
       "      <td>-0.057376</td>\n",
       "      <td>-0.037878</td>\n",
       "      <td>0.869075</td>\n",
       "      <td>0.942115</td>\n",
       "      <td>-0.210022</td>\n",
       "      <td>-0.096558</td>\n",
       "      <td>0.896969</td>\n",
       "      <td>0.879652</td>\n",
       "      <td>0.895580</td>\n",
       "      <td>0.883784</td>\n",
       "      <td>0.672721</td>\n",
       "      <td>0.643764</td>\n",
       "      <td>0.945027</td>\n",
       "      <td>-0.143826</td>\n",
       "    </tr>\n",
       "    <tr>\n",
       "      <th>평균구매가격</th>\n",
       "      <td>0.117939</td>\n",
       "      <td>0.072181</td>\n",
       "      <td>0.376395</td>\n",
       "      <td>-0.057376</td>\n",
       "      <td>1.000000</td>\n",
       "      <td>0.407556</td>\n",
       "      <td>0.002931</td>\n",
       "      <td>-0.091136</td>\n",
       "      <td>0.189608</td>\n",
       "      <td>0.036426</td>\n",
       "      <td>-0.036019</td>\n",
       "      <td>-0.052918</td>\n",
       "      <td>-0.048857</td>\n",
       "      <td>-0.064851</td>\n",
       "      <td>-0.040362</td>\n",
       "      <td>-0.092749</td>\n",
       "      <td>-0.028726</td>\n",
       "      <td>-0.044333</td>\n",
       "    </tr>\n",
       "    <tr>\n",
       "      <th>평균할부개월수</th>\n",
       "      <td>0.093048</td>\n",
       "      <td>-0.020066</td>\n",
       "      <td>0.137335</td>\n",
       "      <td>-0.037878</td>\n",
       "      <td>0.407556</td>\n",
       "      <td>1.000000</td>\n",
       "      <td>-0.002074</td>\n",
       "      <td>-0.076343</td>\n",
       "      <td>0.097727</td>\n",
       "      <td>-0.001625</td>\n",
       "      <td>-0.018789</td>\n",
       "      <td>-0.039526</td>\n",
       "      <td>-0.033855</td>\n",
       "      <td>-0.041831</td>\n",
       "      <td>-0.047450</td>\n",
       "      <td>-0.051170</td>\n",
       "      <td>-0.014389</td>\n",
       "      <td>-0.021258</td>\n",
       "    </tr>\n",
       "    <tr>\n",
       "      <th>구매브랜드종류</th>\n",
       "      <td>0.154303</td>\n",
       "      <td>0.083988</td>\n",
       "      <td>0.714774</td>\n",
       "      <td>0.869075</td>\n",
       "      <td>0.002931</td>\n",
       "      <td>-0.002074</td>\n",
       "      <td>1.000000</td>\n",
       "      <td>0.780303</td>\n",
       "      <td>-0.234547</td>\n",
       "      <td>-0.080674</td>\n",
       "      <td>0.777740</td>\n",
       "      <td>0.774681</td>\n",
       "      <td>0.784562</td>\n",
       "      <td>0.755035</td>\n",
       "      <td>0.582657</td>\n",
       "      <td>0.578552</td>\n",
       "      <td>0.813712</td>\n",
       "      <td>-0.166345</td>\n",
       "    </tr>\n",
       "    <tr>\n",
       "      <th>내점일수</th>\n",
       "      <td>0.212969</td>\n",
       "      <td>0.084255</td>\n",
       "      <td>0.617210</td>\n",
       "      <td>0.942115</td>\n",
       "      <td>-0.091136</td>\n",
       "      <td>-0.076343</td>\n",
       "      <td>0.780303</td>\n",
       "      <td>1.000000</td>\n",
       "      <td>-0.225363</td>\n",
       "      <td>-0.114795</td>\n",
       "      <td>0.843133</td>\n",
       "      <td>0.836375</td>\n",
       "      <td>0.843763</td>\n",
       "      <td>0.827751</td>\n",
       "      <td>0.638138</td>\n",
       "      <td>0.634809</td>\n",
       "      <td>0.875888</td>\n",
       "      <td>-0.136688</td>\n",
       "    </tr>\n",
       "    <tr>\n",
       "      <th>수입상품_구매비율</th>\n",
       "      <td>-0.017958</td>\n",
       "      <td>-0.021294</td>\n",
       "      <td>-0.048053</td>\n",
       "      <td>-0.210022</td>\n",
       "      <td>0.189608</td>\n",
       "      <td>0.097727</td>\n",
       "      <td>-0.234547</td>\n",
       "      <td>-0.225363</td>\n",
       "      <td>1.000000</td>\n",
       "      <td>0.016123</td>\n",
       "      <td>-0.183411</td>\n",
       "      <td>-0.185994</td>\n",
       "      <td>-0.193382</td>\n",
       "      <td>-0.184013</td>\n",
       "      <td>-0.133133</td>\n",
       "      <td>-0.170649</td>\n",
       "      <td>-0.186310</td>\n",
       "      <td>0.277087</td>\n",
       "    </tr>\n",
       "    <tr>\n",
       "      <th>주말방문비율</th>\n",
       "      <td>-0.162393</td>\n",
       "      <td>0.020457</td>\n",
       "      <td>-0.048515</td>\n",
       "      <td>-0.096558</td>\n",
       "      <td>0.036426</td>\n",
       "      <td>-0.001625</td>\n",
       "      <td>-0.080674</td>\n",
       "      <td>-0.114795</td>\n",
       "      <td>0.016123</td>\n",
       "      <td>1.000000</td>\n",
       "      <td>-0.084014</td>\n",
       "      <td>-0.071125</td>\n",
       "      <td>-0.093424</td>\n",
       "      <td>-0.092989</td>\n",
       "      <td>-0.113193</td>\n",
       "      <td>-0.006852</td>\n",
       "      <td>-0.094814</td>\n",
       "      <td>0.064942</td>\n",
       "    </tr>\n",
       "    <tr>\n",
       "      <th>가을_구매건수</th>\n",
       "      <td>0.187350</td>\n",
       "      <td>0.088600</td>\n",
       "      <td>0.657523</td>\n",
       "      <td>0.896969</td>\n",
       "      <td>-0.036019</td>\n",
       "      <td>-0.018789</td>\n",
       "      <td>0.777740</td>\n",
       "      <td>0.843133</td>\n",
       "      <td>-0.183411</td>\n",
       "      <td>-0.084014</td>\n",
       "      <td>1.000000</td>\n",
       "      <td>0.729604</td>\n",
       "      <td>0.732474</td>\n",
       "      <td>0.735223</td>\n",
       "      <td>0.607713</td>\n",
       "      <td>0.572024</td>\n",
       "      <td>0.848190</td>\n",
       "      <td>-0.119888</td>\n",
       "    </tr>\n",
       "    <tr>\n",
       "      <th>겨울_구매건수</th>\n",
       "      <td>0.164901</td>\n",
       "      <td>0.065261</td>\n",
       "      <td>0.620446</td>\n",
       "      <td>0.879652</td>\n",
       "      <td>-0.052918</td>\n",
       "      <td>-0.039526</td>\n",
       "      <td>0.774681</td>\n",
       "      <td>0.836375</td>\n",
       "      <td>-0.185994</td>\n",
       "      <td>-0.071125</td>\n",
       "      <td>0.729604</td>\n",
       "      <td>1.000000</td>\n",
       "      <td>0.744485</td>\n",
       "      <td>0.677058</td>\n",
       "      <td>0.581196</td>\n",
       "      <td>0.601396</td>\n",
       "      <td>0.820325</td>\n",
       "      <td>-0.114669</td>\n",
       "    </tr>\n",
       "    <tr>\n",
       "      <th>봄_구매건수</th>\n",
       "      <td>0.184422</td>\n",
       "      <td>0.076116</td>\n",
       "      <td>0.635757</td>\n",
       "      <td>0.895580</td>\n",
       "      <td>-0.048857</td>\n",
       "      <td>-0.033855</td>\n",
       "      <td>0.784562</td>\n",
       "      <td>0.843763</td>\n",
       "      <td>-0.193382</td>\n",
       "      <td>-0.093424</td>\n",
       "      <td>0.732474</td>\n",
       "      <td>0.744485</td>\n",
       "      <td>1.000000</td>\n",
       "      <td>0.705626</td>\n",
       "      <td>0.615851</td>\n",
       "      <td>0.574172</td>\n",
       "      <td>0.841591</td>\n",
       "      <td>-0.129715</td>\n",
       "    </tr>\n",
       "    <tr>\n",
       "      <th>여름_구매건수</th>\n",
       "      <td>0.236324</td>\n",
       "      <td>0.101900</td>\n",
       "      <td>0.619743</td>\n",
       "      <td>0.883784</td>\n",
       "      <td>-0.064851</td>\n",
       "      <td>-0.041831</td>\n",
       "      <td>0.755035</td>\n",
       "      <td>0.827751</td>\n",
       "      <td>-0.184013</td>\n",
       "      <td>-0.092989</td>\n",
       "      <td>0.735223</td>\n",
       "      <td>0.677058</td>\n",
       "      <td>0.705626</td>\n",
       "      <td>1.000000</td>\n",
       "      <td>0.587149</td>\n",
       "      <td>0.545850</td>\n",
       "      <td>0.848644</td>\n",
       "      <td>-0.144630</td>\n",
       "    </tr>\n",
       "    <tr>\n",
       "      <th>아침_구매건수</th>\n",
       "      <td>0.199936</td>\n",
       "      <td>0.127779</td>\n",
       "      <td>0.456158</td>\n",
       "      <td>0.672721</td>\n",
       "      <td>-0.040362</td>\n",
       "      <td>-0.047450</td>\n",
       "      <td>0.582657</td>\n",
       "      <td>0.638138</td>\n",
       "      <td>-0.133133</td>\n",
       "      <td>-0.113193</td>\n",
       "      <td>0.607713</td>\n",
       "      <td>0.581196</td>\n",
       "      <td>0.615851</td>\n",
       "      <td>0.587149</td>\n",
       "      <td>1.000000</td>\n",
       "      <td>0.143963</td>\n",
       "      <td>0.526168</td>\n",
       "      <td>-0.116397</td>\n",
       "    </tr>\n",
       "    <tr>\n",
       "      <th>저녁_구매건수</th>\n",
       "      <td>-0.001832</td>\n",
       "      <td>-0.021618</td>\n",
       "      <td>0.398494</td>\n",
       "      <td>0.643764</td>\n",
       "      <td>-0.092749</td>\n",
       "      <td>-0.051170</td>\n",
       "      <td>0.578552</td>\n",
       "      <td>0.634809</td>\n",
       "      <td>-0.170649</td>\n",
       "      <td>-0.006852</td>\n",
       "      <td>0.572024</td>\n",
       "      <td>0.601396</td>\n",
       "      <td>0.574172</td>\n",
       "      <td>0.545850</td>\n",
       "      <td>0.143963</td>\n",
       "      <td>1.000000</td>\n",
       "      <td>0.474426</td>\n",
       "      <td>-0.076110</td>\n",
       "    </tr>\n",
       "    <tr>\n",
       "      <th>점심_구매건수</th>\n",
       "      <td>0.247271</td>\n",
       "      <td>0.097237</td>\n",
       "      <td>0.709572</td>\n",
       "      <td>0.945027</td>\n",
       "      <td>-0.028726</td>\n",
       "      <td>-0.014389</td>\n",
       "      <td>0.813712</td>\n",
       "      <td>0.875888</td>\n",
       "      <td>-0.186310</td>\n",
       "      <td>-0.094814</td>\n",
       "      <td>0.848190</td>\n",
       "      <td>0.820325</td>\n",
       "      <td>0.841591</td>\n",
       "      <td>0.848644</td>\n",
       "      <td>0.526168</td>\n",
       "      <td>0.474426</td>\n",
       "      <td>1.000000</td>\n",
       "      <td>-0.134694</td>\n",
       "    </tr>\n",
       "    <tr>\n",
       "      <th>주구매코너</th>\n",
       "      <td>-0.131943</td>\n",
       "      <td>-0.039270</td>\n",
       "      <td>-0.141735</td>\n",
       "      <td>-0.143826</td>\n",
       "      <td>-0.044333</td>\n",
       "      <td>-0.021258</td>\n",
       "      <td>-0.166345</td>\n",
       "      <td>-0.136688</td>\n",
       "      <td>0.277087</td>\n",
       "      <td>0.064942</td>\n",
       "      <td>-0.119888</td>\n",
       "      <td>-0.114669</td>\n",
       "      <td>-0.129715</td>\n",
       "      <td>-0.144630</td>\n",
       "      <td>-0.116397</td>\n",
       "      <td>-0.076110</td>\n",
       "      <td>-0.134694</td>\n",
       "      <td>1.000000</td>\n",
       "    </tr>\n",
       "  </tbody>\n",
       "</table>\n",
       "</div>"
      ],
      "text/plain": [
       "             custid    gender      총구매액      구매건수    평균구매가격   평균할부개월수  \\\n",
       "custid     1.000000  0.262472  0.217251  0.218914  0.117939  0.093048   \n",
       "gender     0.262472  1.000000  0.099137  0.094022  0.072181 -0.020066   \n",
       "총구매액       0.217251  0.099137  1.000000  0.712183  0.376395  0.137335   \n",
       "구매건수       0.218914  0.094022  0.712183  1.000000 -0.057376 -0.037878   \n",
       "평균구매가격     0.117939  0.072181  0.376395 -0.057376  1.000000  0.407556   \n",
       "평균할부개월수    0.093048 -0.020066  0.137335 -0.037878  0.407556  1.000000   \n",
       "구매브랜드종류    0.154303  0.083988  0.714774  0.869075  0.002931 -0.002074   \n",
       "내점일수       0.212969  0.084255  0.617210  0.942115 -0.091136 -0.076343   \n",
       "수입상품_구매비율 -0.017958 -0.021294 -0.048053 -0.210022  0.189608  0.097727   \n",
       "주말방문비율    -0.162393  0.020457 -0.048515 -0.096558  0.036426 -0.001625   \n",
       "가을_구매건수    0.187350  0.088600  0.657523  0.896969 -0.036019 -0.018789   \n",
       "겨울_구매건수    0.164901  0.065261  0.620446  0.879652 -0.052918 -0.039526   \n",
       "봄_구매건수     0.184422  0.076116  0.635757  0.895580 -0.048857 -0.033855   \n",
       "여름_구매건수    0.236324  0.101900  0.619743  0.883784 -0.064851 -0.041831   \n",
       "아침_구매건수    0.199936  0.127779  0.456158  0.672721 -0.040362 -0.047450   \n",
       "저녁_구매건수   -0.001832 -0.021618  0.398494  0.643764 -0.092749 -0.051170   \n",
       "점심_구매건수    0.247271  0.097237  0.709572  0.945027 -0.028726 -0.014389   \n",
       "주구매코너     -0.131943 -0.039270 -0.141735 -0.143826 -0.044333 -0.021258   \n",
       "\n",
       "            구매브랜드종류      내점일수  수입상품_구매비율    주말방문비율   가을_구매건수   겨울_구매건수  \\\n",
       "custid     0.154303  0.212969  -0.017958 -0.162393  0.187350  0.164901   \n",
       "gender     0.083988  0.084255  -0.021294  0.020457  0.088600  0.065261   \n",
       "총구매액       0.714774  0.617210  -0.048053 -0.048515  0.657523  0.620446   \n",
       "구매건수       0.869075  0.942115  -0.210022 -0.096558  0.896969  0.879652   \n",
       "평균구매가격     0.002931 -0.091136   0.189608  0.036426 -0.036019 -0.052918   \n",
       "평균할부개월수   -0.002074 -0.076343   0.097727 -0.001625 -0.018789 -0.039526   \n",
       "구매브랜드종류    1.000000  0.780303  -0.234547 -0.080674  0.777740  0.774681   \n",
       "내점일수       0.780303  1.000000  -0.225363 -0.114795  0.843133  0.836375   \n",
       "수입상품_구매비율 -0.234547 -0.225363   1.000000  0.016123 -0.183411 -0.185994   \n",
       "주말방문비율    -0.080674 -0.114795   0.016123  1.000000 -0.084014 -0.071125   \n",
       "가을_구매건수    0.777740  0.843133  -0.183411 -0.084014  1.000000  0.729604   \n",
       "겨울_구매건수    0.774681  0.836375  -0.185994 -0.071125  0.729604  1.000000   \n",
       "봄_구매건수     0.784562  0.843763  -0.193382 -0.093424  0.732474  0.744485   \n",
       "여름_구매건수    0.755035  0.827751  -0.184013 -0.092989  0.735223  0.677058   \n",
       "아침_구매건수    0.582657  0.638138  -0.133133 -0.113193  0.607713  0.581196   \n",
       "저녁_구매건수    0.578552  0.634809  -0.170649 -0.006852  0.572024  0.601396   \n",
       "점심_구매건수    0.813712  0.875888  -0.186310 -0.094814  0.848190  0.820325   \n",
       "주구매코너     -0.166345 -0.136688   0.277087  0.064942 -0.119888 -0.114669   \n",
       "\n",
       "             봄_구매건수   여름_구매건수   아침_구매건수   저녁_구매건수   점심_구매건수     주구매코너  \n",
       "custid     0.184422  0.236324  0.199936 -0.001832  0.247271 -0.131943  \n",
       "gender     0.076116  0.101900  0.127779 -0.021618  0.097237 -0.039270  \n",
       "총구매액       0.635757  0.619743  0.456158  0.398494  0.709572 -0.141735  \n",
       "구매건수       0.895580  0.883784  0.672721  0.643764  0.945027 -0.143826  \n",
       "평균구매가격    -0.048857 -0.064851 -0.040362 -0.092749 -0.028726 -0.044333  \n",
       "평균할부개월수   -0.033855 -0.041831 -0.047450 -0.051170 -0.014389 -0.021258  \n",
       "구매브랜드종류    0.784562  0.755035  0.582657  0.578552  0.813712 -0.166345  \n",
       "내점일수       0.843763  0.827751  0.638138  0.634809  0.875888 -0.136688  \n",
       "수입상품_구매비율 -0.193382 -0.184013 -0.133133 -0.170649 -0.186310  0.277087  \n",
       "주말방문비율    -0.093424 -0.092989 -0.113193 -0.006852 -0.094814  0.064942  \n",
       "가을_구매건수    0.732474  0.735223  0.607713  0.572024  0.848190 -0.119888  \n",
       "겨울_구매건수    0.744485  0.677058  0.581196  0.601396  0.820325 -0.114669  \n",
       "봄_구매건수     1.000000  0.705626  0.615851  0.574172  0.841591 -0.129715  \n",
       "여름_구매건수    0.705626  1.000000  0.587149  0.545850  0.848644 -0.144630  \n",
       "아침_구매건수    0.615851  0.587149  1.000000  0.143963  0.526168 -0.116397  \n",
       "저녁_구매건수    0.574172  0.545850  0.143963  1.000000  0.474426 -0.076110  \n",
       "점심_구매건수    0.841591  0.848644  0.526168  0.474426  1.000000 -0.134694  \n",
       "주구매코너     -0.129715 -0.144630 -0.116397 -0.076110 -0.134694  1.000000  "
      ]
     },
     "execution_count": 49,
     "metadata": {},
     "output_type": "execute_result"
    }
   ],
   "source": [
    "corr = ndf.corr()\n",
    "corr"
   ]
  },
  {
   "cell_type": "code",
   "execution_count": 50,
   "metadata": {},
   "outputs": [
    {
     "data": {
      "text/plain": [
       "<matplotlib.image.AxesImage at 0x261aedd75b0>"
      ]
     },
     "execution_count": 50,
     "metadata": {},
     "output_type": "execute_result"
    },
    {
     "data": {
      "image/png": "[encoded data removed]",
      "text/plain": [
       "<Figure size 288x288 with 1 Axes>"
      ]
     },
     "metadata": {
      "needs_background": "light"
     },
     "output_type": "display_data"
    }
   ],
   "source": [
    "plt.matshow(corr)"
   ]
  },
  {
   "cell_type": "code",
   "execution_count": 51,
   "metadata": {},
   "outputs": [
    {
     "data": {
      "text/plain": [
       "gender       1.000000\n",
       "custid       0.262472\n",
       "아침_구매건수      0.127779\n",
       "여름_구매건수      0.101900\n",
       "총구매액         0.099137\n",
       "점심_구매건수      0.097237\n",
       "구매건수         0.094022\n",
       "가을_구매건수      0.088600\n",
       "내점일수         0.084255\n",
       "구매브랜드종류      0.083988\n",
       "봄_구매건수       0.076116\n",
       "평균구매가격       0.072181\n",
       "겨울_구매건수      0.065261\n",
       "주말방문비율       0.020457\n",
       "평균할부개월수     -0.020066\n",
       "수입상품_구매비율   -0.021294\n",
       "저녁_구매건수     -0.021618\n",
       "주구매코너       -0.039270\n",
       "Name: gender, dtype: float64"
      ]
     },
     "execution_count": 51,
     "metadata": {},
     "output_type": "execute_result"
    }
   ],
   "source": [
    "corr.gender.sort_values(ascending=False)"
   ]
  },
  {
   "cell_type": "code",
   "execution_count": 52,
   "metadata": {},
   "outputs": [
    {
     "data": {
      "text/plain": [
       "0    3479\n",
       "1    1521\n",
       "Name: gender, dtype: int64"
      ]
     },
     "execution_count": 52,
     "metadata": {},
     "output_type": "execute_result"
    }
   ],
   "source": [
    "ndf.gender.value_counts()"
   ]
  },
  {
   "cell_type": "code",
   "execution_count": 53,
   "metadata": {},
   "outputs": [
    {
     "data": {
      "text/plain": [
       "0"
      ]
     },
     "execution_count": 53,
     "metadata": {},
     "output_type": "execute_result"
    }
   ],
   "source": [
    "ndf.isnull().sum().sum()"
   ]
  },
  {
   "cell_type": "code",
   "execution_count": 54,
   "metadata": {},
   "outputs": [
    {
     "data": {
      "text/plain": [
       "custid       0\n",
       "gender       0\n",
       "총구매액         0\n",
       "구매건수         0\n",
       "평균구매가격       0\n",
       "평균할부개월수      0\n",
       "구매브랜드종류      0\n",
       "내점일수         0\n",
       "수입상품_구매비율    0\n",
       "주말방문비율       0\n",
       "가을_구매건수      0\n",
       "겨울_구매건수      0\n",
       "봄_구매건수       0\n",
       "여름_구매건수      0\n",
       "아침_구매건수      0\n",
       "저녁_구매건수      0\n",
       "점심_구매건수      0\n",
       "주구매코너        0\n",
       "dtype: int64"
      ]
     },
     "execution_count": 54,
     "metadata": {},
     "output_type": "execute_result"
    }
   ],
   "source": [
    "ndf['가을_구매건수'].fillna(round(ndf['가을_구매건수'].mean(),0) , inplace = True)\n",
    "ndf['겨울_구매건수'].fillna(round(ndf['겨울_구매건수'].mean(),0) , inplace = True)\n",
    "ndf['봄_구매건수'].fillna(round(ndf['봄_구매건수'].mean(),0) , inplace = True)\n",
    "ndf['여름_구매건수'].fillna(round(ndf['여름_구매건수'].mean(),0) , inplace = True)\n",
    "ndf['아침_구매건수'].fillna(round(ndf['아침_구매건수'].mean(),0) , inplace = True)\n",
    "ndf['저녁_구매건수'].fillna(round(ndf['저녁_구매건수'].mean(),0) , inplace = True)\n",
    "ndf['점심_구매건수'].fillna(round(ndf['점심_구매건수'].mean(),0) , inplace = True)\n",
    "ndf.isnull().sum()"
   ]
  },
  {
   "cell_type": "code",
   "execution_count": 55,
   "metadata": {},
   "outputs": [
    {
     "data": {
      "text/plain": [
       "0"
      ]
     },
     "execution_count": 55,
     "metadata": {},
     "output_type": "execute_result"
    }
   ],
   "source": [
    "ndf.isnull().sum().sum()"
   ]
  },
  {
   "cell_type": "code",
   "execution_count": 56,
   "metadata": {},
   "outputs": [
    {
     "data": {
      "text/plain": [
       "(5000, 18)"
      ]
     },
     "execution_count": 56,
     "metadata": {},
     "output_type": "execute_result"
    }
   ],
   "source": [
    "tdf.shape"
   ]
  },
  {
   "cell_type": "code",
   "execution_count": 57,
   "metadata": {},
   "outputs": [
    {
     "data": {
      "text/plain": [
       "(5000, 18)"
      ]
     },
     "execution_count": 57,
     "metadata": {},
     "output_type": "execute_result"
    }
   ],
   "source": [
    "ndf.shape"
   ]
  },
  {
   "cell_type": "code",
   "execution_count": 58,
   "metadata": {},
   "outputs": [],
   "source": [
    "obj = ['주구매코너']"
   ]
  },
  {
   "cell_type": "code",
   "execution_count": 59,
   "metadata": {
    "scrolled": true
   },
   "outputs": [
    {
     "data": {
      "text/html": [
       "<div>\n",
       "<style scoped>\n",
       "    .dataframe tbody tr th:only-of-type {\n",
       "        vertical-align: middle;\n",
       "    }\n",
       "\n",
       "    .dataframe tbody tr th {\n",
       "        vertical-align: top;\n",
       "    }\n",
       "\n",
       "    .dataframe thead th {\n",
       "        text-align: right;\n",
       "    }\n",
       "</style>\n",
       "<table border=\"1\" class=\"dataframe\">\n",
       "  <thead>\n",
       "    <tr style=\"text-align: right;\">\n",
       "      <th></th>\n",
       "      <th>주구매코너</th>\n",
       "    </tr>\n",
       "  </thead>\n",
       "  <tbody>\n",
       "    <tr>\n",
       "      <th>0</th>\n",
       "      <td>24</td>\n",
       "    </tr>\n",
       "    <tr>\n",
       "      <th>1</th>\n",
       "      <td>11</td>\n",
       "    </tr>\n",
       "    <tr>\n",
       "      <th>2</th>\n",
       "      <td>15</td>\n",
       "    </tr>\n",
       "    <tr>\n",
       "      <th>3</th>\n",
       "      <td>24</td>\n",
       "    </tr>\n",
       "    <tr>\n",
       "      <th>4</th>\n",
       "      <td>22</td>\n",
       "    </tr>\n",
       "  </tbody>\n",
       "</table>\n",
       "</div>"
      ],
      "text/plain": [
       "   주구매코너\n",
       "0     24\n",
       "1     11\n",
       "2     15\n",
       "3     24\n",
       "4     22"
      ]
     },
     "execution_count": 59,
     "metadata": {},
     "output_type": "execute_result"
    }
   ],
   "source": [
    "ndf[obj].head()"
   ]
  },
  {
   "cell_type": "code",
   "execution_count": 60,
   "metadata": {},
   "outputs": [],
   "source": [
    "ndf[obj] = tdf[obj].apply(lambda x: x.astype('category').cat.codes)"
   ]
  },
  {
   "cell_type": "code",
   "execution_count": 61,
   "metadata": {},
   "outputs": [
    {
     "data": {
      "text/html": [
       "<div>\n",
       "<style scoped>\n",
       "    .dataframe tbody tr th:only-of-type {\n",
       "        vertical-align: middle;\n",
       "    }\n",
       "\n",
       "    .dataframe tbody tr th {\n",
       "        vertical-align: top;\n",
       "    }\n",
       "\n",
       "    .dataframe thead th {\n",
       "        text-align: right;\n",
       "    }\n",
       "</style>\n",
       "<table border=\"1\" class=\"dataframe\">\n",
       "  <thead>\n",
       "    <tr style=\"text-align: right;\">\n",
       "      <th></th>\n",
       "      <th>주구매코너</th>\n",
       "    </tr>\n",
       "  </thead>\n",
       "  <tbody>\n",
       "    <tr>\n",
       "      <th>0</th>\n",
       "      <td>15</td>\n",
       "    </tr>\n",
       "    <tr>\n",
       "      <th>1</th>\n",
       "      <td>13</td>\n",
       "    </tr>\n",
       "    <tr>\n",
       "      <th>2</th>\n",
       "      <td>13</td>\n",
       "    </tr>\n",
       "    <tr>\n",
       "      <th>3</th>\n",
       "      <td>8</td>\n",
       "    </tr>\n",
       "    <tr>\n",
       "      <th>4</th>\n",
       "      <td>9</td>\n",
       "    </tr>\n",
       "  </tbody>\n",
       "</table>\n",
       "</div>"
      ],
      "text/plain": [
       "   주구매코너\n",
       "0     15\n",
       "1     13\n",
       "2     13\n",
       "3      8\n",
       "4      9"
      ]
     },
     "execution_count": 61,
     "metadata": {},
     "output_type": "execute_result"
    }
   ],
   "source": [
    "ndf[obj].head()"
   ]
  },
  {
   "cell_type": "markdown",
   "metadata": {},
   "source": [
    "### 계절별, 시간별 컬럼 각각 합치기"
   ]
  },
  {
   "cell_type": "code",
   "execution_count": 62,
   "metadata": {},
   "outputs": [],
   "source": [
    "drop_cols = ['봄_구매건수','여름_구매건수','겨울_구매건수','가을_구매건수','점심_구매건수','저녁_구매건수','아침_구매건수']"
   ]
  },
  {
   "cell_type": "code",
   "execution_count": 63,
   "metadata": {},
   "outputs": [
    {
     "name": "stdout",
     "output_type": "stream",
     "text": [
      "<class 'pandas.core.frame.DataFrame'>\n",
      "RangeIndex: 5000 entries, 0 to 4999\n",
      "Data columns (total 18 columns):\n",
      " #   Column     Non-Null Count  Dtype  \n",
      "---  ------     --------------  -----  \n",
      " 0   custid     5000 non-null   int64  \n",
      " 1   gender     5000 non-null   int64  \n",
      " 2   총구매액       5000 non-null   int64  \n",
      " 3   구매건수       5000 non-null   int64  \n",
      " 4   평균구매가격     5000 non-null   int64  \n",
      " 5   평균할부개월수    5000 non-null   float64\n",
      " 6   구매브랜드종류    5000 non-null   int64  \n",
      " 7   내점일수       5000 non-null   int64  \n",
      " 8   수입상품_구매비율  5000 non-null   float64\n",
      " 9   주말방문비율     5000 non-null   float64\n",
      " 10  가을_구매건수    5000 non-null   float64\n",
      " 11  겨울_구매건수    5000 non-null   float64\n",
      " 12  봄_구매건수     5000 non-null   float64\n",
      " 13  여름_구매건수    5000 non-null   float64\n",
      " 14  아침_구매건수    5000 non-null   float64\n",
      " 15  저녁_구매건수    5000 non-null   float64\n",
      " 16  점심_구매건수    5000 non-null   float64\n",
      " 17  주구매코너      5000 non-null   int8   \n",
      "dtypes: float64(10), int64(7), int8(1)\n",
      "memory usage: 669.1 KB\n"
     ]
    }
   ],
   "source": [
    "ndf.info()"
   ]
  },
  {
   "cell_type": "code",
   "execution_count": 64,
   "metadata": {},
   "outputs": [
    {
     "data": {
      "text/plain": [
       "SimpleImputer(strategy='most_frequent')"
      ]
     },
     "execution_count": 64,
     "metadata": {},
     "output_type": "execute_result"
    }
   ],
   "source": [
    "from sklearn.impute import SimpleImputer\n",
    "imputer_drop_cols = SimpleImputer(strategy=\"most_frequent\")  \n",
    "imputer_drop_cols.fit(tdf[drop_cols])"
   ]
  },
  {
   "cell_type": "code",
   "execution_count": 65,
   "metadata": {},
   "outputs": [
    {
     "data": {
      "text/plain": [
       "SimpleImputer(strategy='most_frequent')"
      ]
     },
     "execution_count": 65,
     "metadata": {},
     "output_type": "execute_result"
    }
   ],
   "source": [
    "from sklearn.impute import SimpleImputer\n",
    "imputer_drop_cols = SimpleImputer(strategy=\"most_frequent\")  \n",
    "imputer_drop_cols.fit(ndf[drop_cols])"
   ]
  },
  {
   "cell_type": "code",
   "execution_count": 66,
   "metadata": {},
   "outputs": [
    {
     "data": {
      "text/plain": [
       "array([[ 7.,  9.,  4., ..., 11.,  1., 13.],\n",
       "       [10.,  8.,  8., ..., 25., 10.,  4.],\n",
       "       [ 3.,  6.,  7., ..., 18.,  1.,  3.],\n",
       "       ...,\n",
       "       [ 6.,  1.,  1., ..., 12.,  0.,  0.],\n",
       "       [ 4.,  3.,  7., ...,  8.,  4.,  2.],\n",
       "       [ 9., 24., 20., ..., 61.,  4., 11.]])"
      ]
     },
     "execution_count": 66,
     "metadata": {},
     "output_type": "execute_result"
    }
   ],
   "source": [
    "x = imputer_drop_cols.transform(tdf[drop_cols])\n",
    "x"
   ]
  },
  {
   "cell_type": "code",
   "execution_count": 67,
   "metadata": {},
   "outputs": [
    {
     "data": {
      "text/plain": [
       "array([[ 6.,  0.,  9., ...,  9.,  6.,  0.],\n",
       "       [ 4.,  0.,  5., ...,  6.,  0.,  3.],\n",
       "       [12.,  0., 17., ..., 15., 11., 10.],\n",
       "       ...,\n",
       "       [ 6., 13.,  6., ..., 21.,  0., 16.],\n",
       "       [ 2.,  1.,  4., ..., 11.,  2.,  0.],\n",
       "       [10., 11.,  5., ..., 19.,  5.,  8.]])"
      ]
     },
     "execution_count": 67,
     "metadata": {},
     "output_type": "execute_result"
    }
   ],
   "source": [
    "y = imputer_drop_cols.transform(ndf[drop_cols])\n",
    "y"
   ]
  },
  {
   "cell_type": "code",
   "execution_count": 68,
   "metadata": {
    "scrolled": true
   },
   "outputs": [
    {
     "name": "stdout",
     "output_type": "stream",
     "text": [
      "<class 'pandas.core.frame.DataFrame'>\n",
      "RangeIndex: 5000 entries, 0 to 4999\n",
      "Data columns (total 18 columns):\n",
      " #   Column     Non-Null Count  Dtype  \n",
      "---  ------     --------------  -----  \n",
      " 0   custid     5000 non-null   int64  \n",
      " 1   gender     5000 non-null   int64  \n",
      " 2   총구매액       5000 non-null   int64  \n",
      " 3   구매건수       5000 non-null   int64  \n",
      " 4   평균구매가격     5000 non-null   int64  \n",
      " 5   평균할부개월수    5000 non-null   float64\n",
      " 6   구매브랜드종류    5000 non-null   int64  \n",
      " 7   내점일수       5000 non-null   int64  \n",
      " 8   수입상품_구매비율  5000 non-null   float64\n",
      " 9   주말방문비율     5000 non-null   float64\n",
      " 10  가을_구매건수    5000 non-null   float64\n",
      " 11  겨울_구매건수    5000 non-null   float64\n",
      " 12  봄_구매건수     5000 non-null   float64\n",
      " 13  여름_구매건수    5000 non-null   float64\n",
      " 14  아침_구매건수    5000 non-null   float64\n",
      " 15  저녁_구매건수    5000 non-null   float64\n",
      " 16  점심_구매건수    5000 non-null   float64\n",
      " 17  주구매코너      5000 non-null   int8   \n",
      "dtypes: float64(10), int64(7), int8(1)\n",
      "memory usage: 669.1 KB\n"
     ]
    }
   ],
   "source": [
    "ndf[drop_cols] = x\n",
    "ndf.info()"
   ]
  },
  {
   "cell_type": "code",
   "execution_count": 69,
   "metadata": {},
   "outputs": [],
   "source": [
    "dfX = ndf.drop(['gender','custid'], axis=1) \n",
    "dfy = ndf['gender']"
   ]
  },
  {
   "cell_type": "code",
   "execution_count": 70,
   "metadata": {},
   "outputs": [],
   "source": [
    "from sklearn.linear_model import LogisticRegression\n",
    "from sklearn.neighbors import KNeighborsClassifier\n",
    "from sklearn.tree import DecisionTreeClassifier\n",
    "model = LogisticRegression()"
   ]
  },
  {
   "cell_type": "code",
   "execution_count": 71,
   "metadata": {},
   "outputs": [],
   "source": [
    "from sklearn.model_selection import cross_val_score\n",
    "from sklearn.model_selection import KFold"
   ]
  },
  {
   "cell_type": "code",
   "execution_count": 72,
   "metadata": {},
   "outputs": [
    {
     "data": {
      "text/plain": [
       "array([0.696, 0.697, 0.695, 0.697, 0.695])"
      ]
     },
     "execution_count": 72,
     "metadata": {},
     "output_type": "execute_result"
    }
   ],
   "source": [
    "scores = cross_val_score(model, dfX, dfy); scores"
   ]
  },
  {
   "cell_type": "code",
   "execution_count": 73,
   "metadata": {},
   "outputs": [
    {
     "name": "stdout",
     "output_type": "stream",
     "text": [
      "Mean: 0.696\n",
      "Std: 0.001\n",
      "Min: 0.695\n",
      "Max: 0.697\n"
     ]
    }
   ],
   "source": [
    "print(\"Mean: {:.3f}\\nStd: {:.3f}\\nMin: {:.3f}\\nMax: {:.3f}\".format(\n",
    "    scores.mean(), scores.std(), scores.min(), scores.max()))"
   ]
  },
  {
   "cell_type": "code",
   "execution_count": 74,
   "metadata": {},
   "outputs": [
    {
     "data": {
      "text/plain": [
       "0    3479\n",
       "1    1521\n",
       "Name: gender, dtype: int64"
      ]
     },
     "execution_count": 74,
     "metadata": {},
     "output_type": "execute_result"
    }
   ],
   "source": [
    "ndf['gender'].value_counts()"
   ]
  },
  {
   "cell_type": "code",
   "execution_count": 75,
   "metadata": {},
   "outputs": [],
   "source": [
    "from imblearn.under_sampling import *"
   ]
  },
  {
   "cell_type": "code",
   "execution_count": 76,
   "metadata": {},
   "outputs": [],
   "source": [
    "from imblearn.combine import SMOTETomek"
   ]
  },
  {
   "cell_type": "code",
   "execution_count": 77,
   "metadata": {},
   "outputs": [
    {
     "data": {
      "text/plain": [
       "array([0.696, 0.697, 0.695, 0.697, 0.695])"
      ]
     },
     "execution_count": 77,
     "metadata": {},
     "output_type": "execute_result"
    }
   ],
   "source": [
    "scores = cross_val_score(model, dfX, dfy); scores"
   ]
  },
  {
   "cell_type": "code",
   "execution_count": 78,
   "metadata": {},
   "outputs": [],
   "source": [
    "from sklearn.model_selection import train_test_split\n",
    "from sklearn.metrics import classification_report"
   ]
  },
  {
   "cell_type": "code",
   "execution_count": 79,
   "metadata": {},
   "outputs": [],
   "source": [
    "X_train, X_test, y_train, y_test = train_test_split(dfX, \n",
    "                                                    dfy, test_size=0.25, random_state=0)"
   ]
  },
  {
   "cell_type": "code",
   "execution_count": 80,
   "metadata": {},
   "outputs": [
    {
     "name": "stdout",
     "output_type": "stream",
     "text": [
      "              precision    recall  f1-score   support\n",
      "\n",
      "           0       0.71      1.00      0.83       883\n",
      "           1       0.40      0.01      0.01       367\n",
      "\n",
      "    accuracy                           0.71      1250\n",
      "   macro avg       0.55      0.50      0.42      1250\n",
      "weighted avg       0.62      0.71      0.59      1250\n",
      "\n"
     ]
    }
   ],
   "source": [
    "tree3 = DecisionTreeClassifier(max_depth=4, random_state=0)\n",
    "\n",
    "tree3.fit(X_train, y_train)\n",
    "y_pred3 = tree3.predict(X_test)\n",
    "\n",
    "print(classification_report(y_test, y_pred3))"
   ]
  },
  {
   "cell_type": "code",
   "execution_count": 81,
   "metadata": {},
   "outputs": [],
   "source": [
    "from imblearn.under_sampling import TomekLinks"
   ]
  },
  {
   "cell_type": "code",
   "execution_count": 82,
   "metadata": {},
   "outputs": [
    {
     "name": "stdout",
     "output_type": "stream",
     "text": [
      "              precision    recall  f1-score   support\n",
      "\n",
      "           0       0.73      0.81      0.77       883\n",
      "           1       0.38      0.28      0.32       367\n",
      "\n",
      "    accuracy                           0.65      1250\n",
      "   macro avg       0.56      0.55      0.55      1250\n",
      "weighted avg       0.63      0.65      0.64      1250\n",
      "\n"
     ]
    }
   ],
   "source": [
    "XX, yy = TomekLinks().fit_sample(X_train, y_train)\n",
    "tree0 = DecisionTreeClassifier(max_depth=4, random_state=0)\n",
    "tree0.fit(XX, yy)\n",
    "y_pred0 = tree0.predict(X_test)\n",
    "print(classification_report(y_test, y_pred0))"
   ]
  },
  {
   "cell_type": "code",
   "execution_count": 83,
   "metadata": {},
   "outputs": [],
   "source": [
    "XX, yy = SMOTETomek(random_state=0).fit_sample(X_train, y_train)"
   ]
  },
  {
   "cell_type": "code",
   "execution_count": 84,
   "metadata": {},
   "outputs": [
    {
     "data": {
      "text/plain": [
       "0.7056"
      ]
     },
     "execution_count": 84,
     "metadata": {},
     "output_type": "execute_result"
    }
   ],
   "source": [
    "tree3.score(X_test,y_test)"
   ]
  },
  {
   "cell_type": "code",
   "execution_count": 85,
   "metadata": {},
   "outputs": [
    {
     "name": "stdout",
     "output_type": "stream",
     "text": [
      "0    883\n",
      "1    367\n",
      "Name: gender, dtype: int64\n"
     ]
    },
    {
     "data": {
      "text/plain": [
       "0.7064"
      ]
     },
     "execution_count": 85,
     "metadata": {},
     "output_type": "execute_result"
    }
   ],
   "source": [
    "from sklearn.dummy import DummyClassifier\n",
    "print(y_test.value_counts())\n",
    "DummyClassifier(strategy='most_frequent').fit(X_train, y_train).score(X_test, y_test)"
   ]
  },
  {
   "cell_type": "markdown",
   "metadata": {},
   "source": [
    "# xgboost 전개 추가 부분\n"
   ]
  },
  {
   "cell_type": "code",
   "execution_count": 86,
   "metadata": {},
   "outputs": [],
   "source": [
    "from xgboost import XGBClassifier\n",
    "from lightgbm import LGBMClassifier"
   ]
  },
  {
   "cell_type": "code",
   "execution_count": 87,
   "metadata": {},
   "outputs": [],
   "source": [
    "import xgboost as xgb\n",
    "from xgboost import plot_importance\n",
    "#import pan\n",
    "import numpy as np"
   ]
  },
  {
   "cell_type": "code",
   "execution_count": 88,
   "metadata": {},
   "outputs": [],
   "source": [
    "dtrain = xgb.DMatrix(data=X_train, label=y_train)\n",
    "dtest = xgb.DMatrix(data=X_test, label=y_test)"
   ]
  },
  {
   "cell_type": "code",
   "execution_count": 89,
   "metadata": {},
   "outputs": [],
   "source": [
    "params = {'max_depth':3,\n",
    "          'eta':0.1,\n",
    "          'objective':'binary:logistic',\n",
    "          'eval_metric':'logloss',\n",
    "          'early_stoppings':100\n",
    "         }\n",
    "num_rounds = 400"
   ]
  },
  {
   "cell_type": "code",
   "execution_count": 90,
   "metadata": {},
   "outputs": [
    {
     "name": "stdout",
     "output_type": "stream",
     "text": [
      "[14:30:39] WARNING: C:/Users/Administrator/workspace/xgboost-win64_release_1.3.0/src/learner.cc:541: \n",
      "Parameters: { early_stoppings } might not be used.\n",
      "\n",
      "  This may not be accurate due to some parameters are only used in language bindings but\n",
      "  passed down to XGBoost core.  Or some parameters are not used but slip through this\n",
      "  verification. Please open an issue if you find above cases.\n",
      "\n",
      "\n",
      "[0]\ttrain-logloss:0.67646\teval-logloss:0.67651\n",
      "[1]\ttrain-logloss:0.66273\teval-logloss:0.66341\n",
      "[2]\ttrain-logloss:0.65161\teval-logloss:0.65244\n",
      "[3]\ttrain-logloss:0.64230\teval-logloss:0.64376\n",
      "[4]\ttrain-logloss:0.63459\teval-logloss:0.63635\n",
      "[5]\ttrain-logloss:0.62823\teval-logloss:0.63045\n",
      "[6]\ttrain-logloss:0.62271\teval-logloss:0.62526\n",
      "[7]\ttrain-logloss:0.61831\teval-logloss:0.62104\n",
      "[8]\ttrain-logloss:0.61421\teval-logloss:0.61738\n",
      "[9]\ttrain-logloss:0.61102\teval-logloss:0.61474\n",
      "[10]\ttrain-logloss:0.60765\teval-logloss:0.61235\n",
      "[11]\ttrain-logloss:0.60514\teval-logloss:0.61065\n",
      "[12]\ttrain-logloss:0.60299\teval-logloss:0.60944\n",
      "[13]\ttrain-logloss:0.60081\teval-logloss:0.60796\n",
      "[14]\ttrain-logloss:0.59898\teval-logloss:0.60666\n",
      "[15]\ttrain-logloss:0.59735\teval-logloss:0.60524\n",
      "[16]\ttrain-logloss:0.59556\teval-logloss:0.60436\n",
      "[17]\ttrain-logloss:0.59446\teval-logloss:0.60385\n",
      "[18]\ttrain-logloss:0.59269\teval-logloss:0.60394\n",
      "[19]\ttrain-logloss:0.59137\teval-logloss:0.60371\n",
      "[20]\ttrain-logloss:0.59063\teval-logloss:0.60313\n",
      "[21]\ttrain-logloss:0.58960\teval-logloss:0.60283\n",
      "[22]\ttrain-logloss:0.58812\teval-logloss:0.60279\n",
      "[23]\ttrain-logloss:0.58712\teval-logloss:0.60275\n",
      "[24]\ttrain-logloss:0.58615\teval-logloss:0.60267\n",
      "[25]\ttrain-logloss:0.58536\teval-logloss:0.60235\n",
      "[26]\ttrain-logloss:0.58436\teval-logloss:0.60262\n",
      "[27]\ttrain-logloss:0.58389\teval-logloss:0.60278\n",
      "[28]\ttrain-logloss:0.58279\teval-logloss:0.60323\n",
      "[29]\ttrain-logloss:0.58235\teval-logloss:0.60318\n",
      "[30]\ttrain-logloss:0.58132\teval-logloss:0.60263\n",
      "[31]\ttrain-logloss:0.58039\teval-logloss:0.60277\n",
      "[32]\ttrain-logloss:0.58013\teval-logloss:0.60271\n",
      "[33]\ttrain-logloss:0.57916\teval-logloss:0.60279\n",
      "[34]\ttrain-logloss:0.57866\teval-logloss:0.60276\n",
      "[35]\ttrain-logloss:0.57802\teval-logloss:0.60319\n",
      "[36]\ttrain-logloss:0.57735\teval-logloss:0.60337\n",
      "[37]\ttrain-logloss:0.57714\teval-logloss:0.60360\n",
      "[38]\ttrain-logloss:0.57644\teval-logloss:0.60349\n",
      "[39]\ttrain-logloss:0.57564\teval-logloss:0.60319\n",
      "[40]\ttrain-logloss:0.57483\teval-logloss:0.60378\n",
      "[41]\ttrain-logloss:0.57409\teval-logloss:0.60384\n",
      "[42]\ttrain-logloss:0.57375\teval-logloss:0.60409\n",
      "[43]\ttrain-logloss:0.57356\teval-logloss:0.60436\n",
      "[44]\ttrain-logloss:0.57305\teval-logloss:0.60457\n",
      "[45]\ttrain-logloss:0.57225\teval-logloss:0.60489\n",
      "[46]\ttrain-logloss:0.57152\teval-logloss:0.60455\n",
      "[47]\ttrain-logloss:0.57052\teval-logloss:0.60446\n",
      "[48]\ttrain-logloss:0.57034\teval-logloss:0.60462\n",
      "[49]\ttrain-logloss:0.56955\teval-logloss:0.60495\n",
      "[50]\ttrain-logloss:0.56864\teval-logloss:0.60486\n",
      "[51]\ttrain-logloss:0.56817\teval-logloss:0.60477\n",
      "[52]\ttrain-logloss:0.56764\teval-logloss:0.60456\n",
      "[53]\ttrain-logloss:0.56666\teval-logloss:0.60456\n",
      "[54]\ttrain-logloss:0.56580\teval-logloss:0.60422\n",
      "[55]\ttrain-logloss:0.56514\teval-logloss:0.60436\n",
      "[56]\ttrain-logloss:0.56484\teval-logloss:0.60427\n",
      "[57]\ttrain-logloss:0.56468\teval-logloss:0.60449\n",
      "[58]\ttrain-logloss:0.56406\teval-logloss:0.60464\n",
      "[59]\ttrain-logloss:0.56342\teval-logloss:0.60489\n",
      "[60]\ttrain-logloss:0.56256\teval-logloss:0.60521\n",
      "[61]\ttrain-logloss:0.56207\teval-logloss:0.60538\n",
      "[62]\ttrain-logloss:0.56181\teval-logloss:0.60541\n",
      "[63]\ttrain-logloss:0.56133\teval-logloss:0.60526\n",
      "[64]\ttrain-logloss:0.56104\teval-logloss:0.60534\n",
      "[65]\ttrain-logloss:0.56022\teval-logloss:0.60547\n",
      "[66]\ttrain-logloss:0.56008\teval-logloss:0.60564\n",
      "[67]\ttrain-logloss:0.55979\teval-logloss:0.60573\n",
      "[68]\ttrain-logloss:0.55952\teval-logloss:0.60588\n",
      "[69]\ttrain-logloss:0.55864\teval-logloss:0.60595\n",
      "[70]\ttrain-logloss:0.55816\teval-logloss:0.60572\n",
      "[71]\ttrain-logloss:0.55741\teval-logloss:0.60599\n",
      "[72]\ttrain-logloss:0.55717\teval-logloss:0.60600\n",
      "[73]\ttrain-logloss:0.55679\teval-logloss:0.60586\n",
      "[74]\ttrain-logloss:0.55614\teval-logloss:0.60632\n",
      "[75]\ttrain-logloss:0.55588\teval-logloss:0.60639\n",
      "[76]\ttrain-logloss:0.55564\teval-logloss:0.60649\n",
      "[77]\ttrain-logloss:0.55544\teval-logloss:0.60647\n",
      "[78]\ttrain-logloss:0.55462\teval-logloss:0.60685\n",
      "[79]\ttrain-logloss:0.55440\teval-logloss:0.60695\n",
      "[80]\ttrain-logloss:0.55413\teval-logloss:0.60682\n",
      "[81]\ttrain-logloss:0.55401\teval-logloss:0.60699\n",
      "[82]\ttrain-logloss:0.55376\teval-logloss:0.60709\n",
      "[83]\ttrain-logloss:0.55293\teval-logloss:0.60703\n",
      "[84]\ttrain-logloss:0.55269\teval-logloss:0.60700\n",
      "[85]\ttrain-logloss:0.55205\teval-logloss:0.60706\n",
      "[86]\ttrain-logloss:0.55149\teval-logloss:0.60683\n",
      "[87]\ttrain-logloss:0.55104\teval-logloss:0.60708\n",
      "[88]\ttrain-logloss:0.55085\teval-logloss:0.60719\n",
      "[89]\ttrain-logloss:0.55014\teval-logloss:0.60723\n",
      "[90]\ttrain-logloss:0.54990\teval-logloss:0.60714\n",
      "[91]\ttrain-logloss:0.54980\teval-logloss:0.60719\n",
      "[92]\ttrain-logloss:0.54958\teval-logloss:0.60730\n",
      "[93]\ttrain-logloss:0.54883\teval-logloss:0.60731\n",
      "[94]\ttrain-logloss:0.54839\teval-logloss:0.60733\n",
      "[95]\ttrain-logloss:0.54789\teval-logloss:0.60718\n",
      "[96]\ttrain-logloss:0.54717\teval-logloss:0.60711\n",
      "[97]\ttrain-logloss:0.54652\teval-logloss:0.60687\n",
      "[98]\ttrain-logloss:0.54580\teval-logloss:0.60723\n",
      "[99]\ttrain-logloss:0.54561\teval-logloss:0.60725\n",
      "[100]\ttrain-logloss:0.54494\teval-logloss:0.60753\n",
      "[101]\ttrain-logloss:0.54484\teval-logloss:0.60768\n",
      "[102]\ttrain-logloss:0.54428\teval-logloss:0.60805\n",
      "[103]\ttrain-logloss:0.54368\teval-logloss:0.60870\n",
      "[104]\ttrain-logloss:0.54356\teval-logloss:0.60887\n",
      "[105]\ttrain-logloss:0.54311\teval-logloss:0.60859\n",
      "[106]\ttrain-logloss:0.54295\teval-logloss:0.60869\n",
      "[107]\ttrain-logloss:0.54223\teval-logloss:0.60859\n",
      "[108]\ttrain-logloss:0.54142\teval-logloss:0.60868\n",
      "[109]\ttrain-logloss:0.54088\teval-logloss:0.60901\n",
      "[110]\ttrain-logloss:0.54038\teval-logloss:0.60898\n",
      "[111]\ttrain-logloss:0.53974\teval-logloss:0.60968\n",
      "[112]\ttrain-logloss:0.53955\teval-logloss:0.60983\n",
      "[113]\ttrain-logloss:0.53897\teval-logloss:0.60994\n",
      "[114]\ttrain-logloss:0.53840\teval-logloss:0.60994\n",
      "[115]\ttrain-logloss:0.53815\teval-logloss:0.61006\n",
      "[116]\ttrain-logloss:0.53742\teval-logloss:0.60996\n",
      "[117]\ttrain-logloss:0.53726\teval-logloss:0.61006\n",
      "[118]\ttrain-logloss:0.53664\teval-logloss:0.61025\n",
      "[119]\ttrain-logloss:0.53597\teval-logloss:0.61043\n",
      "[120]\ttrain-logloss:0.53498\teval-logloss:0.61065\n",
      "[121]\ttrain-logloss:0.53438\teval-logloss:0.61050\n",
      "[122]\ttrain-logloss:0.53377\teval-logloss:0.61054\n",
      "[123]\ttrain-logloss:0.53307\teval-logloss:0.61045\n",
      "[124]\ttrain-logloss:0.53247\teval-logloss:0.61026\n",
      "[125]\ttrain-logloss:0.53192\teval-logloss:0.61030\n",
      "[126]\ttrain-logloss:0.53145\teval-logloss:0.61072\n",
      "[127]\ttrain-logloss:0.53126\teval-logloss:0.61093\n",
      "[128]\ttrain-logloss:0.53062\teval-logloss:0.61111\n",
      "[129]\ttrain-logloss:0.53046\teval-logloss:0.61122\n",
      "[130]\ttrain-logloss:0.52996\teval-logloss:0.61106\n",
      "[131]\ttrain-logloss:0.52924\teval-logloss:0.61150\n",
      "[132]\ttrain-logloss:0.52872\teval-logloss:0.61180\n",
      "[133]\ttrain-logloss:0.52823\teval-logloss:0.61160\n",
      "[134]\ttrain-logloss:0.52763\teval-logloss:0.61147\n",
      "[135]\ttrain-logloss:0.52705\teval-logloss:0.61149\n",
      "[136]\ttrain-logloss:0.52687\teval-logloss:0.61143\n",
      "[137]\ttrain-logloss:0.52623\teval-logloss:0.61180\n",
      "[138]\ttrain-logloss:0.52592\teval-logloss:0.61181\n",
      "[139]\ttrain-logloss:0.52575\teval-logloss:0.61201\n",
      "[140]\ttrain-logloss:0.52533\teval-logloss:0.61183\n",
      "[141]\ttrain-logloss:0.52482\teval-logloss:0.61191\n",
      "[142]\ttrain-logloss:0.52434\teval-logloss:0.61202\n",
      "[143]\ttrain-logloss:0.52421\teval-logloss:0.61204\n",
      "[144]\ttrain-logloss:0.52361\teval-logloss:0.61173\n",
      "[145]\ttrain-logloss:0.52345\teval-logloss:0.61168\n",
      "[146]\ttrain-logloss:0.52323\teval-logloss:0.61196\n",
      "[147]\ttrain-logloss:0.52271\teval-logloss:0.61234\n",
      "[148]\ttrain-logloss:0.52220\teval-logloss:0.61253\n",
      "[149]\ttrain-logloss:0.52156\teval-logloss:0.61254\n",
      "[150]\ttrain-logloss:0.52115\teval-logloss:0.61269\n",
      "[151]\ttrain-logloss:0.52058\teval-logloss:0.61280\n",
      "[152]\ttrain-logloss:0.52012\teval-logloss:0.61290\n",
      "[153]\ttrain-logloss:0.52004\teval-logloss:0.61303\n",
      "[154]\ttrain-logloss:0.51994\teval-logloss:0.61316\n",
      "[155]\ttrain-logloss:0.51941\teval-logloss:0.61353\n",
      "[156]\ttrain-logloss:0.51882\teval-logloss:0.61391\n",
      "[157]\ttrain-logloss:0.51861\teval-logloss:0.61387\n",
      "[158]\ttrain-logloss:0.51806\teval-logloss:0.61383\n",
      "[159]\ttrain-logloss:0.51748\teval-logloss:0.61389\n",
      "[160]\ttrain-logloss:0.51694\teval-logloss:0.61396\n",
      "[161]\ttrain-logloss:0.51612\teval-logloss:0.61412\n"
     ]
    },
    {
     "name": "stdout",
     "output_type": "stream",
     "text": [
      "[162]\ttrain-logloss:0.51604\teval-logloss:0.61418\n",
      "[163]\ttrain-logloss:0.51574\teval-logloss:0.61443\n",
      "[164]\ttrain-logloss:0.51521\teval-logloss:0.61438\n",
      "[165]\ttrain-logloss:0.51480\teval-logloss:0.61458\n",
      "[166]\ttrain-logloss:0.51417\teval-logloss:0.61479\n",
      "[167]\ttrain-logloss:0.51351\teval-logloss:0.61440\n",
      "[168]\ttrain-logloss:0.51312\teval-logloss:0.61409\n",
      "[169]\ttrain-logloss:0.51300\teval-logloss:0.61404\n",
      "[170]\ttrain-logloss:0.51284\teval-logloss:0.61414\n",
      "[171]\ttrain-logloss:0.51229\teval-logloss:0.61422\n",
      "[172]\ttrain-logloss:0.51173\teval-logloss:0.61460\n",
      "[173]\ttrain-logloss:0.51110\teval-logloss:0.61496\n",
      "[174]\ttrain-logloss:0.51081\teval-logloss:0.61511\n",
      "[175]\ttrain-logloss:0.51075\teval-logloss:0.61525\n",
      "[176]\ttrain-logloss:0.51066\teval-logloss:0.61540\n",
      "[177]\ttrain-logloss:0.51006\teval-logloss:0.61526\n",
      "[178]\ttrain-logloss:0.50953\teval-logloss:0.61552\n",
      "[179]\ttrain-logloss:0.50940\teval-logloss:0.61552\n",
      "[180]\ttrain-logloss:0.50888\teval-logloss:0.61549\n",
      "[181]\ttrain-logloss:0.50852\teval-logloss:0.61518\n",
      "[182]\ttrain-logloss:0.50817\teval-logloss:0.61542\n",
      "[183]\ttrain-logloss:0.50769\teval-logloss:0.61525\n",
      "[184]\ttrain-logloss:0.50763\teval-logloss:0.61538\n",
      "[185]\ttrain-logloss:0.50755\teval-logloss:0.61551\n",
      "[186]\ttrain-logloss:0.50714\teval-logloss:0.61563\n",
      "[187]\ttrain-logloss:0.50654\teval-logloss:0.61582\n",
      "[188]\ttrain-logloss:0.50596\teval-logloss:0.61598\n",
      "[189]\ttrain-logloss:0.50586\teval-logloss:0.61592\n",
      "[190]\ttrain-logloss:0.50515\teval-logloss:0.61596\n",
      "[191]\ttrain-logloss:0.50473\teval-logloss:0.61597\n",
      "[192]\ttrain-logloss:0.50417\teval-logloss:0.61603\n",
      "[193]\ttrain-logloss:0.50371\teval-logloss:0.61588\n",
      "[194]\ttrain-logloss:0.50312\teval-logloss:0.61599\n",
      "[195]\ttrain-logloss:0.50266\teval-logloss:0.61611\n",
      "[196]\ttrain-logloss:0.50217\teval-logloss:0.61651\n",
      "[197]\ttrain-logloss:0.50168\teval-logloss:0.61704\n",
      "[198]\ttrain-logloss:0.50119\teval-logloss:0.61689\n",
      "[199]\ttrain-logloss:0.50055\teval-logloss:0.61667\n",
      "[200]\ttrain-logloss:0.50011\teval-logloss:0.61719\n",
      "[201]\ttrain-logloss:0.49965\teval-logloss:0.61735\n",
      "[202]\ttrain-logloss:0.49915\teval-logloss:0.61787\n",
      "[203]\ttrain-logloss:0.49867\teval-logloss:0.61787\n",
      "[204]\ttrain-logloss:0.49848\teval-logloss:0.61820\n",
      "[205]\ttrain-logloss:0.49800\teval-logloss:0.61805\n",
      "[206]\ttrain-logloss:0.49789\teval-logloss:0.61805\n",
      "[207]\ttrain-logloss:0.49734\teval-logloss:0.61800\n",
      "[208]\ttrain-logloss:0.49692\teval-logloss:0.61811\n",
      "[209]\ttrain-logloss:0.49684\teval-logloss:0.61823\n",
      "[210]\ttrain-logloss:0.49654\teval-logloss:0.61823\n",
      "[211]\ttrain-logloss:0.49646\teval-logloss:0.61826\n",
      "[212]\ttrain-logloss:0.49582\teval-logloss:0.61803\n",
      "[213]\ttrain-logloss:0.49526\teval-logloss:0.61801\n",
      "[214]\ttrain-logloss:0.49476\teval-logloss:0.61777\n",
      "[215]\ttrain-logloss:0.49468\teval-logloss:0.61795\n",
      "[216]\ttrain-logloss:0.49409\teval-logloss:0.61800\n",
      "[217]\ttrain-logloss:0.49366\teval-logloss:0.61795\n",
      "[218]\ttrain-logloss:0.49321\teval-logloss:0.61790\n",
      "[219]\ttrain-logloss:0.49240\teval-logloss:0.61816\n",
      "[220]\ttrain-logloss:0.49161\teval-logloss:0.61829\n",
      "[221]\ttrain-logloss:0.49118\teval-logloss:0.61856\n",
      "[222]\ttrain-logloss:0.49058\teval-logloss:0.61884\n",
      "[223]\ttrain-logloss:0.49029\teval-logloss:0.61902\n",
      "[224]\ttrain-logloss:0.49018\teval-logloss:0.61899\n",
      "[225]\ttrain-logloss:0.48980\teval-logloss:0.61896\n",
      "[226]\ttrain-logloss:0.48970\teval-logloss:0.61888\n",
      "[227]\ttrain-logloss:0.48915\teval-logloss:0.61891\n",
      "[228]\ttrain-logloss:0.48890\teval-logloss:0.61889\n",
      "[229]\ttrain-logloss:0.48840\teval-logloss:0.61886\n",
      "[230]\ttrain-logloss:0.48782\teval-logloss:0.61904\n",
      "[231]\ttrain-logloss:0.48733\teval-logloss:0.61917\n",
      "[232]\ttrain-logloss:0.48688\teval-logloss:0.61938\n",
      "[233]\ttrain-logloss:0.48643\teval-logloss:0.61947\n",
      "[234]\ttrain-logloss:0.48601\teval-logloss:0.61946\n",
      "[235]\ttrain-logloss:0.48561\teval-logloss:0.61940\n",
      "[236]\ttrain-logloss:0.48512\teval-logloss:0.61915\n",
      "[237]\ttrain-logloss:0.48463\teval-logloss:0.61921\n",
      "[238]\ttrain-logloss:0.48429\teval-logloss:0.61934\n",
      "[239]\ttrain-logloss:0.48398\teval-logloss:0.61919\n",
      "[240]\ttrain-logloss:0.48361\teval-logloss:0.61915\n",
      "[241]\ttrain-logloss:0.48303\teval-logloss:0.61914\n",
      "[242]\ttrain-logloss:0.48263\teval-logloss:0.61918\n",
      "[243]\ttrain-logloss:0.48256\teval-logloss:0.61931\n",
      "[244]\ttrain-logloss:0.48210\teval-logloss:0.61946\n",
      "[245]\ttrain-logloss:0.48163\teval-logloss:0.61969\n",
      "[246]\ttrain-logloss:0.48125\teval-logloss:0.61964\n",
      "[247]\ttrain-logloss:0.48104\teval-logloss:0.61975\n",
      "[248]\ttrain-logloss:0.48082\teval-logloss:0.61985\n",
      "[249]\ttrain-logloss:0.48076\teval-logloss:0.62002\n",
      "[250]\ttrain-logloss:0.48033\teval-logloss:0.62024\n",
      "[251]\ttrain-logloss:0.47999\teval-logloss:0.62035\n",
      "[252]\ttrain-logloss:0.47964\teval-logloss:0.62027\n",
      "[253]\ttrain-logloss:0.47918\teval-logloss:0.62055\n",
      "[254]\ttrain-logloss:0.47856\teval-logloss:0.62074\n",
      "[255]\ttrain-logloss:0.47796\teval-logloss:0.62064\n",
      "[256]\ttrain-logloss:0.47774\teval-logloss:0.62059\n",
      "[257]\ttrain-logloss:0.47735\teval-logloss:0.62074\n",
      "[258]\ttrain-logloss:0.47727\teval-logloss:0.62084\n",
      "[259]\ttrain-logloss:0.47688\teval-logloss:0.62125\n",
      "[260]\ttrain-logloss:0.47644\teval-logloss:0.62142\n",
      "[261]\ttrain-logloss:0.47592\teval-logloss:0.62175\n",
      "[262]\ttrain-logloss:0.47541\teval-logloss:0.62219\n",
      "[263]\ttrain-logloss:0.47534\teval-logloss:0.62232\n",
      "[264]\ttrain-logloss:0.47483\teval-logloss:0.62240\n",
      "[265]\ttrain-logloss:0.47445\teval-logloss:0.62256\n",
      "[266]\ttrain-logloss:0.47405\teval-logloss:0.62291\n",
      "[267]\ttrain-logloss:0.47361\teval-logloss:0.62306\n",
      "[268]\ttrain-logloss:0.47309\teval-logloss:0.62296\n",
      "[269]\ttrain-logloss:0.47271\teval-logloss:0.62315\n",
      "[270]\ttrain-logloss:0.47221\teval-logloss:0.62334\n",
      "[271]\ttrain-logloss:0.47163\teval-logloss:0.62347\n",
      "[272]\ttrain-logloss:0.47126\teval-logloss:0.62347\n",
      "[273]\ttrain-logloss:0.47085\teval-logloss:0.62380\n",
      "[274]\ttrain-logloss:0.47059\teval-logloss:0.62363\n",
      "[275]\ttrain-logloss:0.47030\teval-logloss:0.62357\n",
      "[276]\ttrain-logloss:0.46982\teval-logloss:0.62395\n",
      "[277]\ttrain-logloss:0.46943\teval-logloss:0.62430\n",
      "[278]\ttrain-logloss:0.46937\teval-logloss:0.62450\n",
      "[279]\ttrain-logloss:0.46894\teval-logloss:0.62470\n",
      "[280]\ttrain-logloss:0.46832\teval-logloss:0.62493\n",
      "[281]\ttrain-logloss:0.46785\teval-logloss:0.62506\n",
      "[282]\ttrain-logloss:0.46749\teval-logloss:0.62508\n",
      "[283]\ttrain-logloss:0.46725\teval-logloss:0.62513\n",
      "[284]\ttrain-logloss:0.46672\teval-logloss:0.62537\n",
      "[285]\ttrain-logloss:0.46628\teval-logloss:0.62535\n",
      "[286]\ttrain-logloss:0.46579\teval-logloss:0.62518\n",
      "[287]\ttrain-logloss:0.46516\teval-logloss:0.62528\n",
      "[288]\ttrain-logloss:0.46507\teval-logloss:0.62537\n",
      "[289]\ttrain-logloss:0.46497\teval-logloss:0.62536\n",
      "[290]\ttrain-logloss:0.46440\teval-logloss:0.62547\n",
      "[291]\ttrain-logloss:0.46399\teval-logloss:0.62534\n",
      "[292]\ttrain-logloss:0.46383\teval-logloss:0.62539\n",
      "[293]\ttrain-logloss:0.46353\teval-logloss:0.62538\n",
      "[294]\ttrain-logloss:0.46318\teval-logloss:0.62545\n",
      "[295]\ttrain-logloss:0.46306\teval-logloss:0.62558\n",
      "[296]\ttrain-logloss:0.46246\teval-logloss:0.62550\n",
      "[297]\ttrain-logloss:0.46216\teval-logloss:0.62579\n",
      "[298]\ttrain-logloss:0.46189\teval-logloss:0.62573\n",
      "[299]\ttrain-logloss:0.46181\teval-logloss:0.62583\n",
      "[300]\ttrain-logloss:0.46124\teval-logloss:0.62607\n",
      "[301]\ttrain-logloss:0.46090\teval-logloss:0.62618\n",
      "[302]\ttrain-logloss:0.46045\teval-logloss:0.62615\n",
      "[303]\ttrain-logloss:0.45986\teval-logloss:0.62593\n",
      "[304]\ttrain-logloss:0.45981\teval-logloss:0.62602\n",
      "[305]\ttrain-logloss:0.45951\teval-logloss:0.62605\n",
      "[306]\ttrain-logloss:0.45916\teval-logloss:0.62629\n",
      "[307]\ttrain-logloss:0.45909\teval-logloss:0.62639\n",
      "[308]\ttrain-logloss:0.45876\teval-logloss:0.62643\n",
      "[309]\ttrain-logloss:0.45858\teval-logloss:0.62659\n",
      "[310]\ttrain-logloss:0.45854\teval-logloss:0.62665\n",
      "[311]\ttrain-logloss:0.45849\teval-logloss:0.62671\n",
      "[312]\ttrain-logloss:0.45813\teval-logloss:0.62712\n",
      "[313]\ttrain-logloss:0.45781\teval-logloss:0.62716\n",
      "[314]\ttrain-logloss:0.45777\teval-logloss:0.62732\n",
      "[315]\ttrain-logloss:0.45757\teval-logloss:0.62726\n",
      "[316]\ttrain-logloss:0.45710\teval-logloss:0.62772\n",
      "[317]\ttrain-logloss:0.45658\teval-logloss:0.62759\n",
      "[318]\ttrain-logloss:0.45620\teval-logloss:0.62775\n",
      "[319]\ttrain-logloss:0.45587\teval-logloss:0.62795\n",
      "[320]\ttrain-logloss:0.45578\teval-logloss:0.62792\n",
      "[321]\ttrain-logloss:0.45552\teval-logloss:0.62813\n",
      "[322]\ttrain-logloss:0.45548\teval-logloss:0.62827\n",
      "[323]\ttrain-logloss:0.45522\teval-logloss:0.62830\n",
      "[324]\ttrain-logloss:0.45477\teval-logloss:0.62839\n",
      "[325]\ttrain-logloss:0.45439\teval-logloss:0.62831\n",
      "[326]\ttrain-logloss:0.45402\teval-logloss:0.62828\n",
      "[327]\ttrain-logloss:0.45370\teval-logloss:0.62860\n",
      "[328]\ttrain-logloss:0.45323\teval-logloss:0.62840\n",
      "[329]\ttrain-logloss:0.45292\teval-logloss:0.62845\n"
     ]
    },
    {
     "name": "stdout",
     "output_type": "stream",
     "text": [
      "[330]\ttrain-logloss:0.45281\teval-logloss:0.62852\n",
      "[331]\ttrain-logloss:0.45273\teval-logloss:0.62850\n",
      "[332]\ttrain-logloss:0.45257\teval-logloss:0.62833\n",
      "[333]\ttrain-logloss:0.45251\teval-logloss:0.62844\n",
      "[334]\ttrain-logloss:0.45207\teval-logloss:0.62845\n",
      "[335]\ttrain-logloss:0.45165\teval-logloss:0.62826\n",
      "[336]\ttrain-logloss:0.45142\teval-logloss:0.62831\n",
      "[337]\ttrain-logloss:0.45099\teval-logloss:0.62823\n",
      "[338]\ttrain-logloss:0.45053\teval-logloss:0.62828\n",
      "[339]\ttrain-logloss:0.45024\teval-logloss:0.62826\n",
      "[340]\ttrain-logloss:0.44986\teval-logloss:0.62857\n",
      "[341]\ttrain-logloss:0.44947\teval-logloss:0.62858\n",
      "[342]\ttrain-logloss:0.44912\teval-logloss:0.62840\n",
      "[343]\ttrain-logloss:0.44881\teval-logloss:0.62841\n",
      "[344]\ttrain-logloss:0.44841\teval-logloss:0.62850\n",
      "[345]\ttrain-logloss:0.44797\teval-logloss:0.62847\n",
      "[346]\ttrain-logloss:0.44760\teval-logloss:0.62811\n",
      "[347]\ttrain-logloss:0.44729\teval-logloss:0.62845\n",
      "[348]\ttrain-logloss:0.44689\teval-logloss:0.62885\n",
      "[349]\ttrain-logloss:0.44648\teval-logloss:0.62888\n",
      "[350]\ttrain-logloss:0.44598\teval-logloss:0.62928\n",
      "[351]\ttrain-logloss:0.44555\teval-logloss:0.62926\n",
      "[352]\ttrain-logloss:0.44533\teval-logloss:0.62899\n",
      "[353]\ttrain-logloss:0.44490\teval-logloss:0.62914\n",
      "[354]\ttrain-logloss:0.44454\teval-logloss:0.62927\n",
      "[355]\ttrain-logloss:0.44420\teval-logloss:0.62942\n",
      "[356]\ttrain-logloss:0.44387\teval-logloss:0.62935\n",
      "[357]\ttrain-logloss:0.44354\teval-logloss:0.62952\n",
      "[358]\ttrain-logloss:0.44345\teval-logloss:0.62939\n",
      "[359]\ttrain-logloss:0.44300\teval-logloss:0.62960\n",
      "[360]\ttrain-logloss:0.44263\teval-logloss:0.62960\n",
      "[361]\ttrain-logloss:0.44220\teval-logloss:0.62974\n",
      "[362]\ttrain-logloss:0.44190\teval-logloss:0.62971\n",
      "[363]\ttrain-logloss:0.44161\teval-logloss:0.62980\n",
      "[364]\ttrain-logloss:0.44120\teval-logloss:0.62980\n",
      "[365]\ttrain-logloss:0.44090\teval-logloss:0.62975\n",
      "[366]\ttrain-logloss:0.44077\teval-logloss:0.62954\n",
      "[367]\ttrain-logloss:0.44072\teval-logloss:0.62950\n",
      "[368]\ttrain-logloss:0.44029\teval-logloss:0.62943\n",
      "[369]\ttrain-logloss:0.43983\teval-logloss:0.62961\n",
      "[370]\ttrain-logloss:0.43953\teval-logloss:0.62987\n",
      "[371]\ttrain-logloss:0.43934\teval-logloss:0.63001\n",
      "[372]\ttrain-logloss:0.43894\teval-logloss:0.63005\n",
      "[373]\ttrain-logloss:0.43858\teval-logloss:0.63016\n",
      "[374]\ttrain-logloss:0.43829\teval-logloss:0.63034\n",
      "[375]\ttrain-logloss:0.43813\teval-logloss:0.63044\n",
      "[376]\ttrain-logloss:0.43769\teval-logloss:0.63075\n",
      "[377]\ttrain-logloss:0.43762\teval-logloss:0.63084\n",
      "[378]\ttrain-logloss:0.43729\teval-logloss:0.63088\n",
      "[379]\ttrain-logloss:0.43724\teval-logloss:0.63085\n",
      "[380]\ttrain-logloss:0.43689\teval-logloss:0.63108\n",
      "[381]\ttrain-logloss:0.43617\teval-logloss:0.63114\n",
      "[382]\ttrain-logloss:0.43579\teval-logloss:0.63092\n",
      "[383]\ttrain-logloss:0.43546\teval-logloss:0.63124\n",
      "[384]\ttrain-logloss:0.43514\teval-logloss:0.63121\n",
      "[385]\ttrain-logloss:0.43454\teval-logloss:0.63119\n",
      "[386]\ttrain-logloss:0.43419\teval-logloss:0.63129\n",
      "[387]\ttrain-logloss:0.43364\teval-logloss:0.63098\n",
      "[388]\ttrain-logloss:0.43297\teval-logloss:0.63111\n",
      "[389]\ttrain-logloss:0.43279\teval-logloss:0.63120\n",
      "[390]\ttrain-logloss:0.43243\teval-logloss:0.63124\n",
      "[391]\ttrain-logloss:0.43236\teval-logloss:0.63113\n",
      "[392]\ttrain-logloss:0.43202\teval-logloss:0.63109\n",
      "[393]\ttrain-logloss:0.43175\teval-logloss:0.63138\n",
      "[394]\ttrain-logloss:0.43166\teval-logloss:0.63143\n",
      "[395]\ttrain-logloss:0.43132\teval-logloss:0.63150\n",
      "[396]\ttrain-logloss:0.43089\teval-logloss:0.63150\n",
      "[397]\ttrain-logloss:0.43049\teval-logloss:0.63137\n",
      "[398]\ttrain-logloss:0.43018\teval-logloss:0.63169\n",
      "[399]\ttrain-logloss:0.42994\teval-logloss:0.63186\n"
     ]
    }
   ],
   "source": [
    "# train 데이터 세트는 'train', evaluation(test) 데이터 세트는 'eval'로 명기\n",
    "wlist = [(dtrain, 'train'),(dtest, 'eval')]\n",
    "# 하이퍼 파라미터와 early stoppinig 파라미터를 train() 함수의 파라미터로 전달\n",
    "xgb_model = xgb.train(params=params, dtrain=dtrain, num_boost_round=num_rounds, evals=wlist)"
   ]
  },
  {
   "cell_type": "code",
   "execution_count": 91,
   "metadata": {},
   "outputs": [
    {
     "name": "stdout",
     "output_type": "stream",
     "text": [
      "predict() 수행 결과값을 10개만 표시, 예측 확률값으로 표시됨\n",
      "[0.352 0.339 0.509 0.297 0.268 0.239 0.218 0.272 0.33  0.213]\n"
     ]
    }
   ],
   "source": [
    "pred_probs = xgb_model.predict(dtest)\n",
    "print('predict() 수행 결과값을 10개만 표시, 예측 확률값으로 표시됨')\n",
    "print(np.round(pred_probs[:10], 3))\n",
    "\n",
    "preds = [1 if x > 0.5 else 0 for x in pred_probs]"
   ]
  },
  {
   "cell_type": "code",
   "execution_count": 92,
   "metadata": {},
   "outputs": [],
   "source": [
    "from sklearn.metrics import accuracy_score, recall_score, precision_score, confusion_matrix\n",
    "def get_clf_eval(y_test, pred):\n",
    "    confusion = confusion_matrix(y_test, pred)\n",
    "    accuracy = accuracy_score(y_test, pred)\n",
    "    precision = precision_score(y_test, pred)\n",
    "    recall = recall_score(y_test, pred)\n",
    "    print('오차행렬')\n",
    "    print(confusion)\n",
    "    print('정확도: {0:.4f}, 정밀도: {1:.4f}, 재현율: {2:.4f}'.format(accuracy, precision, recall))"
   ]
  },
  {
   "cell_type": "code",
   "execution_count": 93,
   "metadata": {},
   "outputs": [
    {
     "name": "stdout",
     "output_type": "stream",
     "text": [
      "오차행렬\n",
      "[[821  62]\n",
      " [333  34]]\n",
      "정확도: 0.6840, 정밀도: 0.3542, 재현율: 0.0926\n"
     ]
    }
   ],
   "source": [
    "get_clf_eval(y_test, preds)"
   ]
  },
  {
   "cell_type": "code",
   "execution_count": 94,
   "metadata": {},
   "outputs": [
    {
     "data": {
      "text/plain": [
       "Index(['총구매액', '구매건수', '평균구매가격', '평균할부개월수', '구매브랜드종류', '내점일수', '수입상품_구매비율',\n",
       "       '주말방문비율', '가을_구매건수', '겨울_구매건수', '봄_구매건수', '여름_구매건수', '아침_구매건수',\n",
       "       '저녁_구매건수', '점심_구매건수', '주구매코너'],\n",
       "      dtype='object')"
      ]
     },
     "execution_count": 94,
     "metadata": {},
     "output_type": "execute_result"
    }
   ],
   "source": [
    "XX.columns"
   ]
  },
  {
   "cell_type": "code",
   "execution_count": 95,
   "metadata": {},
   "outputs": [],
   "source": [
    "col = ['a', 'b', 'c', 'd', 'e', 'f', 'g', 'h', 'i', 'j', 'k', 'l', 'm', 'n','o','p']"
   ]
  },
  {
   "cell_type": "code",
   "execution_count": 96,
   "metadata": {},
   "outputs": [
    {
     "data": {
      "text/html": [
       "<div>\n",
       "<style scoped>\n",
       "    .dataframe tbody tr th:only-of-type {\n",
       "        vertical-align: middle;\n",
       "    }\n",
       "\n",
       "    .dataframe tbody tr th {\n",
       "        vertical-align: top;\n",
       "    }\n",
       "\n",
       "    .dataframe thead th {\n",
       "        text-align: right;\n",
       "    }\n",
       "</style>\n",
       "<table border=\"1\" class=\"dataframe\">\n",
       "  <thead>\n",
       "    <tr style=\"text-align: right;\">\n",
       "      <th></th>\n",
       "      <th>총구매액</th>\n",
       "      <th>구매건수</th>\n",
       "      <th>평균구매가격</th>\n",
       "      <th>평균할부개월수</th>\n",
       "      <th>구매브랜드종류</th>\n",
       "      <th>내점일수</th>\n",
       "      <th>수입상품_구매비율</th>\n",
       "      <th>주말방문비율</th>\n",
       "      <th>가을_구매건수</th>\n",
       "      <th>겨울_구매건수</th>\n",
       "      <th>봄_구매건수</th>\n",
       "      <th>여름_구매건수</th>\n",
       "      <th>아침_구매건수</th>\n",
       "      <th>저녁_구매건수</th>\n",
       "      <th>점심_구매건수</th>\n",
       "      <th>주구매코너</th>\n",
       "    </tr>\n",
       "  </thead>\n",
       "  <tbody>\n",
       "    <tr>\n",
       "      <th>0</th>\n",
       "      <td>404285</td>\n",
       "      <td>3</td>\n",
       "      <td>134762</td>\n",
       "      <td>2.3</td>\n",
       "      <td>3</td>\n",
       "      <td>2</td>\n",
       "      <td>33.3</td>\n",
       "      <td>0.0</td>\n",
       "      <td>3.0</td>\n",
       "      <td>1.0</td>\n",
       "      <td>25.0</td>\n",
       "      <td>9.0</td>\n",
       "      <td>1.0</td>\n",
       "      <td>13.0</td>\n",
       "      <td>24.0</td>\n",
       "      <td>24</td>\n",
       "    </tr>\n",
       "    <tr>\n",
       "      <th>1</th>\n",
       "      <td>2407157</td>\n",
       "      <td>32</td>\n",
       "      <td>75224</td>\n",
       "      <td>1.7</td>\n",
       "      <td>22</td>\n",
       "      <td>17</td>\n",
       "      <td>9.4</td>\n",
       "      <td>52.9</td>\n",
       "      <td>54.0</td>\n",
       "      <td>58.0</td>\n",
       "      <td>70.0</td>\n",
       "      <td>62.0</td>\n",
       "      <td>38.0</td>\n",
       "      <td>0.0</td>\n",
       "      <td>206.0</td>\n",
       "      <td>14</td>\n",
       "    </tr>\n",
       "    <tr>\n",
       "      <th>2</th>\n",
       "      <td>4664283</td>\n",
       "      <td>78</td>\n",
       "      <td>59798</td>\n",
       "      <td>1.8</td>\n",
       "      <td>24</td>\n",
       "      <td>22</td>\n",
       "      <td>1.3</td>\n",
       "      <td>45.5</td>\n",
       "      <td>9.0</td>\n",
       "      <td>8.0</td>\n",
       "      <td>2.0</td>\n",
       "      <td>2.0</td>\n",
       "      <td>2.0</td>\n",
       "      <td>7.0</td>\n",
       "      <td>12.0</td>\n",
       "      <td>14</td>\n",
       "    </tr>\n",
       "    <tr>\n",
       "      <th>3</th>\n",
       "      <td>3299200</td>\n",
       "      <td>11</td>\n",
       "      <td>299927</td>\n",
       "      <td>1.9</td>\n",
       "      <td>9</td>\n",
       "      <td>3</td>\n",
       "      <td>45.5</td>\n",
       "      <td>33.3</td>\n",
       "      <td>7.0</td>\n",
       "      <td>4.0</td>\n",
       "      <td>2.0</td>\n",
       "      <td>8.0</td>\n",
       "      <td>3.0</td>\n",
       "      <td>1.0</td>\n",
       "      <td>17.0</td>\n",
       "      <td>8</td>\n",
       "    </tr>\n",
       "    <tr>\n",
       "      <th>4</th>\n",
       "      <td>555480</td>\n",
       "      <td>5</td>\n",
       "      <td>111096</td>\n",
       "      <td>2.6</td>\n",
       "      <td>4</td>\n",
       "      <td>4</td>\n",
       "      <td>20.0</td>\n",
       "      <td>75.0</td>\n",
       "      <td>4.0</td>\n",
       "      <td>6.0</td>\n",
       "      <td>6.0</td>\n",
       "      <td>9.0</td>\n",
       "      <td>2.0</td>\n",
       "      <td>3.0</td>\n",
       "      <td>20.0</td>\n",
       "      <td>8</td>\n",
       "    </tr>\n",
       "  </tbody>\n",
       "</table>\n",
       "</div>"
      ],
      "text/plain": [
       "      총구매액  구매건수  평균구매가격  평균할부개월수  구매브랜드종류  내점일수  수입상품_구매비율  주말방문비율  가을_구매건수  \\\n",
       "0   404285     3  134762      2.3        3     2       33.3     0.0      3.0   \n",
       "1  2407157    32   75224      1.7       22    17        9.4    52.9     54.0   \n",
       "2  4664283    78   59798      1.8       24    22        1.3    45.5      9.0   \n",
       "3  3299200    11  299927      1.9        9     3       45.5    33.3      7.0   \n",
       "4   555480     5  111096      2.6        4     4       20.0    75.0      4.0   \n",
       "\n",
       "   겨울_구매건수  봄_구매건수  여름_구매건수  아침_구매건수  저녁_구매건수  점심_구매건수  주구매코너  \n",
       "0      1.0    25.0      9.0      1.0     13.0     24.0     24  \n",
       "1     58.0    70.0     62.0     38.0      0.0    206.0     14  \n",
       "2      8.0     2.0      2.0      2.0      7.0     12.0     14  \n",
       "3      4.0     2.0      8.0      3.0      1.0     17.0      8  \n",
       "4      6.0     6.0      9.0      2.0      3.0     20.0      8  "
      ]
     },
     "execution_count": 96,
     "metadata": {},
     "output_type": "execute_result"
    }
   ],
   "source": [
    "XX.head()"
   ]
  },
  {
   "cell_type": "code",
   "execution_count": 97,
   "metadata": {},
   "outputs": [
    {
     "name": "stdout",
     "output_type": "stream",
     "text": [
      "[1]\tvalid_0's binary_logloss: 0.681429\tvalid_0's binary_logloss: 0.681429\n",
      "Training until validation scores don't improve for 100 rounds.\n",
      "[2]\tvalid_0's binary_logloss: 0.672551\tvalid_0's binary_logloss: 0.672551\n",
      "[3]\tvalid_0's binary_logloss: 0.667095\tvalid_0's binary_logloss: 0.667095\n",
      "[4]\tvalid_0's binary_logloss: 0.661459\tvalid_0's binary_logloss: 0.661459\n",
      "[5]\tvalid_0's binary_logloss: 0.656696\tvalid_0's binary_logloss: 0.656696\n",
      "[6]\tvalid_0's binary_logloss: 0.652668\tvalid_0's binary_logloss: 0.652668\n",
      "[7]\tvalid_0's binary_logloss: 0.649838\tvalid_0's binary_logloss: 0.649838\n",
      "[8]\tvalid_0's binary_logloss: 0.647766\tvalid_0's binary_logloss: 0.647766\n",
      "[9]\tvalid_0's binary_logloss: 0.646374\tvalid_0's binary_logloss: 0.646374\n",
      "[10]\tvalid_0's binary_logloss: 0.645413\tvalid_0's binary_logloss: 0.645413\n",
      "[11]\tvalid_0's binary_logloss: 0.645613\tvalid_0's binary_logloss: 0.645613\n",
      "[12]\tvalid_0's binary_logloss: 0.644137\tvalid_0's binary_logloss: 0.644137\n",
      "[13]\tvalid_0's binary_logloss: 0.644324\tvalid_0's binary_logloss: 0.644324\n",
      "[14]\tvalid_0's binary_logloss: 0.644683\tvalid_0's binary_logloss: 0.644683\n",
      "[15]\tvalid_0's binary_logloss: 0.644413\tvalid_0's binary_logloss: 0.644413\n",
      "[16]\tvalid_0's binary_logloss: 0.644233\tvalid_0's binary_logloss: 0.644233\n",
      "[17]\tvalid_0's binary_logloss: 0.645057\tvalid_0's binary_logloss: 0.645057\n",
      "[18]\tvalid_0's binary_logloss: 0.644361\tvalid_0's binary_logloss: 0.644361\n",
      "[19]\tvalid_0's binary_logloss: 0.644706\tvalid_0's binary_logloss: 0.644706\n",
      "[20]\tvalid_0's binary_logloss: 0.644255\tvalid_0's binary_logloss: 0.644255\n",
      "[21]\tvalid_0's binary_logloss: 0.644748\tvalid_0's binary_logloss: 0.644748\n",
      "[22]\tvalid_0's binary_logloss: 0.644848\tvalid_0's binary_logloss: 0.644848\n",
      "[23]\tvalid_0's binary_logloss: 0.644535\tvalid_0's binary_logloss: 0.644535\n",
      "[24]\tvalid_0's binary_logloss: 0.644004\tvalid_0's binary_logloss: 0.644004\n",
      "[25]\tvalid_0's binary_logloss: 0.644118\tvalid_0's binary_logloss: 0.644118\n",
      "[26]\tvalid_0's binary_logloss: 0.644613\tvalid_0's binary_logloss: 0.644613\n",
      "[27]\tvalid_0's binary_logloss: 0.645057\tvalid_0's binary_logloss: 0.645057\n",
      "[28]\tvalid_0's binary_logloss: 0.644038\tvalid_0's binary_logloss: 0.644038\n",
      "[29]\tvalid_0's binary_logloss: 0.643627\tvalid_0's binary_logloss: 0.643627\n",
      "[30]\tvalid_0's binary_logloss: 0.643315\tvalid_0's binary_logloss: 0.643315\n",
      "[31]\tvalid_0's binary_logloss: 0.642539\tvalid_0's binary_logloss: 0.642539\n",
      "[32]\tvalid_0's binary_logloss: 0.643463\tvalid_0's binary_logloss: 0.643463\n",
      "[33]\tvalid_0's binary_logloss: 0.64443\tvalid_0's binary_logloss: 0.64443\n",
      "[34]\tvalid_0's binary_logloss: 0.645323\tvalid_0's binary_logloss: 0.645323\n",
      "[35]\tvalid_0's binary_logloss: 0.644684\tvalid_0's binary_logloss: 0.644684\n",
      "[36]\tvalid_0's binary_logloss: 0.645296\tvalid_0's binary_logloss: 0.645296\n",
      "[37]\tvalid_0's binary_logloss: 0.644433\tvalid_0's binary_logloss: 0.644433\n",
      "[38]\tvalid_0's binary_logloss: 0.645219\tvalid_0's binary_logloss: 0.645219\n",
      "[39]\tvalid_0's binary_logloss: 0.644111\tvalid_0's binary_logloss: 0.644111\n",
      "[40]\tvalid_0's binary_logloss: 0.643416\tvalid_0's binary_logloss: 0.643416\n",
      "[41]\tvalid_0's binary_logloss: 0.643645\tvalid_0's binary_logloss: 0.643645\n",
      "[42]\tvalid_0's binary_logloss: 0.643802\tvalid_0's binary_logloss: 0.643802\n",
      "[43]\tvalid_0's binary_logloss: 0.644872\tvalid_0's binary_logloss: 0.644872\n",
      "[44]\tvalid_0's binary_logloss: 0.646345\tvalid_0's binary_logloss: 0.646345\n",
      "[45]\tvalid_0's binary_logloss: 0.647271\tvalid_0's binary_logloss: 0.647271\n",
      "[46]\tvalid_0's binary_logloss: 0.647358\tvalid_0's binary_logloss: 0.647358\n",
      "[47]\tvalid_0's binary_logloss: 0.648245\tvalid_0's binary_logloss: 0.648245\n",
      "[48]\tvalid_0's binary_logloss: 0.649548\tvalid_0's binary_logloss: 0.649548\n",
      "[49]\tvalid_0's binary_logloss: 0.649382\tvalid_0's binary_logloss: 0.649382\n",
      "[50]\tvalid_0's binary_logloss: 0.650295\tvalid_0's binary_logloss: 0.650295\n",
      "[51]\tvalid_0's binary_logloss: 0.649948\tvalid_0's binary_logloss: 0.649948\n",
      "[52]\tvalid_0's binary_logloss: 0.649758\tvalid_0's binary_logloss: 0.649758\n",
      "[53]\tvalid_0's binary_logloss: 0.650477\tvalid_0's binary_logloss: 0.650477\n",
      "[54]\tvalid_0's binary_logloss: 0.650894\tvalid_0's binary_logloss: 0.650894\n",
      "[55]\tvalid_0's binary_logloss: 0.651224\tvalid_0's binary_logloss: 0.651224\n",
      "[56]\tvalid_0's binary_logloss: 0.651656\tvalid_0's binary_logloss: 0.651656\n",
      "[57]\tvalid_0's binary_logloss: 0.651414\tvalid_0's binary_logloss: 0.651414\n",
      "[58]\tvalid_0's binary_logloss: 0.652172\tvalid_0's binary_logloss: 0.652172\n",
      "[59]\tvalid_0's binary_logloss: 0.652524\tvalid_0's binary_logloss: 0.652524\n",
      "[60]\tvalid_0's binary_logloss: 0.652573\tvalid_0's binary_logloss: 0.652573\n",
      "[61]\tvalid_0's binary_logloss: 0.653373\tvalid_0's binary_logloss: 0.653373\n",
      "[62]\tvalid_0's binary_logloss: 0.653828\tvalid_0's binary_logloss: 0.653828\n",
      "[63]\tvalid_0's binary_logloss: 0.65458\tvalid_0's binary_logloss: 0.65458\n",
      "[64]\tvalid_0's binary_logloss: 0.655004\tvalid_0's binary_logloss: 0.655004\n",
      "[65]\tvalid_0's binary_logloss: 0.656085\tvalid_0's binary_logloss: 0.656085\n",
      "[66]\tvalid_0's binary_logloss: 0.657406\tvalid_0's binary_logloss: 0.657406\n",
      "[67]\tvalid_0's binary_logloss: 0.657853\tvalid_0's binary_logloss: 0.657853\n",
      "[68]\tvalid_0's binary_logloss: 0.657532\tvalid_0's binary_logloss: 0.657532\n",
      "[69]\tvalid_0's binary_logloss: 0.657846\tvalid_0's binary_logloss: 0.657846\n",
      "[70]\tvalid_0's binary_logloss: 0.656957\tvalid_0's binary_logloss: 0.656957\n",
      "[71]\tvalid_0's binary_logloss: 0.657366\tvalid_0's binary_logloss: 0.657366\n",
      "[72]\tvalid_0's binary_logloss: 0.657519\tvalid_0's binary_logloss: 0.657519\n",
      "[73]\tvalid_0's binary_logloss: 0.657608\tvalid_0's binary_logloss: 0.657608\n",
      "[74]\tvalid_0's binary_logloss: 0.658296\tvalid_0's binary_logloss: 0.658296\n",
      "[75]\tvalid_0's binary_logloss: 0.658627\tvalid_0's binary_logloss: 0.658627\n",
      "[76]\tvalid_0's binary_logloss: 0.658513\tvalid_0's binary_logloss: 0.658513\n",
      "[77]\tvalid_0's binary_logloss: 0.658953\tvalid_0's binary_logloss: 0.658953\n",
      "[78]\tvalid_0's binary_logloss: 0.660108\tvalid_0's binary_logloss: 0.660108\n",
      "[79]\tvalid_0's binary_logloss: 0.660392\tvalid_0's binary_logloss: 0.660392\n",
      "[80]\tvalid_0's binary_logloss: 0.660555\tvalid_0's binary_logloss: 0.660555\n",
      "[81]\tvalid_0's binary_logloss: 0.660324\tvalid_0's binary_logloss: 0.660324\n",
      "[82]\tvalid_0's binary_logloss: 0.660218\tvalid_0's binary_logloss: 0.660218\n",
      "[83]\tvalid_0's binary_logloss: 0.660755\tvalid_0's binary_logloss: 0.660755\n",
      "[84]\tvalid_0's binary_logloss: 0.662247\tvalid_0's binary_logloss: 0.662247\n",
      "[85]\tvalid_0's binary_logloss: 0.662036\tvalid_0's binary_logloss: 0.662036\n",
      "[86]\tvalid_0's binary_logloss: 0.663017\tvalid_0's binary_logloss: 0.663017\n",
      "[87]\tvalid_0's binary_logloss: 0.663765\tvalid_0's binary_logloss: 0.663765\n",
      "[88]\tvalid_0's binary_logloss: 0.664049\tvalid_0's binary_logloss: 0.664049\n",
      "[89]\tvalid_0's binary_logloss: 0.664993\tvalid_0's binary_logloss: 0.664993\n",
      "[90]\tvalid_0's binary_logloss: 0.664768\tvalid_0's binary_logloss: 0.664768\n",
      "[91]\tvalid_0's binary_logloss: 0.664806\tvalid_0's binary_logloss: 0.664806\n",
      "[92]\tvalid_0's binary_logloss: 0.665805\tvalid_0's binary_logloss: 0.665805\n",
      "[93]\tvalid_0's binary_logloss: 0.665755\tvalid_0's binary_logloss: 0.665755\n",
      "[94]\tvalid_0's binary_logloss: 0.667105\tvalid_0's binary_logloss: 0.667105\n",
      "[95]\tvalid_0's binary_logloss: 0.667709\tvalid_0's binary_logloss: 0.667709\n",
      "[96]\tvalid_0's binary_logloss: 0.668298\tvalid_0's binary_logloss: 0.668298\n",
      "[97]\tvalid_0's binary_logloss: 0.668689\tvalid_0's binary_logloss: 0.668689\n",
      "[98]\tvalid_0's binary_logloss: 0.669258\tvalid_0's binary_logloss: 0.669258\n",
      "[99]\tvalid_0's binary_logloss: 0.669042\tvalid_0's binary_logloss: 0.669042\n",
      "[100]\tvalid_0's binary_logloss: 0.669464\tvalid_0's binary_logloss: 0.669464\n",
      "Did not meet early stopping. Best iteration is:\n",
      "[31]\tvalid_0's binary_logloss: 0.642539\tvalid_0's binary_logloss: 0.642539\n"
     ]
    }
   ],
   "source": [
    "from lightgbm import LGBMClassifier\n",
    "lgbm_wrapper = LGBMClassifier(nestimators=400)\n",
    "evals = [(X_test, y_test)]\n",
    "lgbm_wrapper.fit(XX, yy, feature_name=col, early_stopping_rounds=100, \n",
    "                 eval_metric=\"logloss\", eval_set=evals, verbose=True)\n",
    "pred = lgbm_wrapper.predict(X_test)"
   ]
  },
  {
   "cell_type": "code",
   "execution_count": 98,
   "metadata": {},
   "outputs": [
    {
     "name": "stdout",
     "output_type": "stream",
     "text": [
      "오차행렬\n",
      "[[821  62]\n",
      " [333  34]]\n",
      "정확도: 0.6840, 정밀도: 0.3542, 재현율: 0.0926\n"
     ]
    }
   ],
   "source": [
    "get_clf_eval(y_test, preds)"
   ]
  },
  {
   "cell_type": "markdown",
   "metadata": {},
   "source": [
    "# Features engineering"
   ]
  },
  {
   "cell_type": "code",
   "execution_count": 99,
   "metadata": {},
   "outputs": [
    {
     "name": "stdout",
     "output_type": "stream",
     "text": [
      "Series([], Name: 총구매액, dtype: int64)\n",
      "Series([], Name: 구매건수, dtype: int64)\n"
     ]
    },
    {
     "data": {
      "text/html": [
       "<div>\n",
       "<style scoped>\n",
       "    .dataframe tbody tr th:only-of-type {\n",
       "        vertical-align: middle;\n",
       "    }\n",
       "\n",
       "    .dataframe tbody tr th {\n",
       "        vertical-align: top;\n",
       "    }\n",
       "\n",
       "    .dataframe thead th {\n",
       "        text-align: right;\n",
       "    }\n",
       "</style>\n",
       "<table border=\"1\" class=\"dataframe\">\n",
       "  <thead>\n",
       "    <tr style=\"text-align: right;\">\n",
       "      <th></th>\n",
       "      <th>custid</th>\n",
       "      <th>총구매액</th>\n",
       "      <th>구매건수</th>\n",
       "      <th>평균구매가격</th>\n",
       "      <th>평균할부개월수</th>\n",
       "      <th>구매브랜드종류</th>\n",
       "      <th>내점일수</th>\n",
       "      <th>수입상품_구매비율</th>\n",
       "      <th>주말방문비율</th>\n",
       "      <th>가을_구매건수</th>\n",
       "      <th>겨울_구매건수</th>\n",
       "      <th>봄_구매건수</th>\n",
       "      <th>여름_구매건수</th>\n",
       "      <th>아침_구매건수</th>\n",
       "      <th>저녁_구매건수</th>\n",
       "      <th>점심_구매건수</th>\n",
       "      <th>주구매코너</th>\n",
       "      <th>gender</th>\n",
       "      <th>코너별구매건</th>\n",
       "    </tr>\n",
       "  </thead>\n",
       "  <tbody>\n",
       "    <tr>\n",
       "      <th>0</th>\n",
       "      <td>100001</td>\n",
       "      <td>3439000</td>\n",
       "      <td>25</td>\n",
       "      <td>137560</td>\n",
       "      <td>2.2</td>\n",
       "      <td>19</td>\n",
       "      <td>16</td>\n",
       "      <td>12.0</td>\n",
       "      <td>31.2</td>\n",
       "      <td>5.0</td>\n",
       "      <td>4.0</td>\n",
       "      <td>7.0</td>\n",
       "      <td>9.0</td>\n",
       "      <td>13.0</td>\n",
       "      <td>1.0</td>\n",
       "      <td>11.0</td>\n",
       "      <td>장신구</td>\n",
       "      <td>0</td>\n",
       "      <td>1315</td>\n",
       "    </tr>\n",
       "    <tr>\n",
       "      <th>1</th>\n",
       "      <td>100092</td>\n",
       "      <td>2973500</td>\n",
       "      <td>38</td>\n",
       "      <td>78250</td>\n",
       "      <td>4.2</td>\n",
       "      <td>20</td>\n",
       "      <td>16</td>\n",
       "      <td>7.9</td>\n",
       "      <td>43.8</td>\n",
       "      <td>10.0</td>\n",
       "      <td>10.0</td>\n",
       "      <td>13.0</td>\n",
       "      <td>5.0</td>\n",
       "      <td>9.0</td>\n",
       "      <td>3.0</td>\n",
       "      <td>26.0</td>\n",
       "      <td>장신구</td>\n",
       "      <td>0</td>\n",
       "      <td>1315</td>\n",
       "    </tr>\n",
       "    <tr>\n",
       "      <th>2</th>\n",
       "      <td>100130</td>\n",
       "      <td>3633456</td>\n",
       "      <td>41</td>\n",
       "      <td>88621</td>\n",
       "      <td>3.2</td>\n",
       "      <td>27</td>\n",
       "      <td>16</td>\n",
       "      <td>2.4</td>\n",
       "      <td>43.8</td>\n",
       "      <td>7.0</td>\n",
       "      <td>17.0</td>\n",
       "      <td>4.0</td>\n",
       "      <td>13.0</td>\n",
       "      <td>1.0</td>\n",
       "      <td>27.0</td>\n",
       "      <td>13.0</td>\n",
       "      <td>장신구</td>\n",
       "      <td>0</td>\n",
       "      <td>1315</td>\n",
       "    </tr>\n",
       "    <tr>\n",
       "      <th>3</th>\n",
       "      <td>100170</td>\n",
       "      <td>1536790</td>\n",
       "      <td>8</td>\n",
       "      <td>192099</td>\n",
       "      <td>2.5</td>\n",
       "      <td>8</td>\n",
       "      <td>5</td>\n",
       "      <td>12.5</td>\n",
       "      <td>0.0</td>\n",
       "      <td>2.0</td>\n",
       "      <td>3.0</td>\n",
       "      <td>2.0</td>\n",
       "      <td>1.0</td>\n",
       "      <td>NaN</td>\n",
       "      <td>NaN</td>\n",
       "      <td>8.0</td>\n",
       "      <td>장신구</td>\n",
       "      <td>1</td>\n",
       "      <td>1315</td>\n",
       "    </tr>\n",
       "    <tr>\n",
       "      <th>4</th>\n",
       "      <td>100274</td>\n",
       "      <td>1101000</td>\n",
       "      <td>8</td>\n",
       "      <td>137625</td>\n",
       "      <td>5.9</td>\n",
       "      <td>5</td>\n",
       "      <td>5</td>\n",
       "      <td>25.0</td>\n",
       "      <td>0.0</td>\n",
       "      <td>NaN</td>\n",
       "      <td>3.0</td>\n",
       "      <td>5.0</td>\n",
       "      <td>NaN</td>\n",
       "      <td>3.0</td>\n",
       "      <td>NaN</td>\n",
       "      <td>5.0</td>\n",
       "      <td>장신구</td>\n",
       "      <td>0</td>\n",
       "      <td>1315</td>\n",
       "    </tr>\n",
       "  </tbody>\n",
       "</table>\n",
       "</div>"
      ],
      "text/plain": [
       "   custid     총구매액  구매건수  평균구매가격  평균할부개월수  구매브랜드종류  내점일수  수입상품_구매비율  주말방문비율  \\\n",
       "0  100001  3439000    25  137560      2.2       19    16       12.0    31.2   \n",
       "1  100092  2973500    38   78250      4.2       20    16        7.9    43.8   \n",
       "2  100130  3633456    41   88621      3.2       27    16        2.4    43.8   \n",
       "3  100170  1536790     8  192099      2.5        8     5       12.5     0.0   \n",
       "4  100274  1101000     8  137625      5.9        5     5       25.0     0.0   \n",
       "\n",
       "   가을_구매건수  겨울_구매건수  봄_구매건수  여름_구매건수  아침_구매건수  저녁_구매건수  점심_구매건수 주구매코너  gender  \\\n",
       "0      5.0      4.0     7.0      9.0     13.0      1.0     11.0   장신구       0   \n",
       "1     10.0     10.0    13.0      5.0      9.0      3.0     26.0   장신구       0   \n",
       "2      7.0     17.0     4.0     13.0      1.0     27.0     13.0   장신구       0   \n",
       "3      2.0      3.0     2.0      1.0      NaN      NaN      8.0   장신구       1   \n",
       "4      NaN      3.0     5.0      NaN      3.0      NaN      5.0   장신구       0   \n",
       "\n",
       "   코너별구매건  \n",
       "0    1315  \n",
       "1    1315  \n",
       "2    1315  \n",
       "3    1315  \n",
       "4    1315  "
      ]
     },
     "execution_count": 99,
     "metadata": {},
     "output_type": "execute_result"
    }
   ],
   "source": [
    "# 학습용 데이터에 '코너별구매건' 컬럼 추가\n",
    "\n",
    "dt0 = tdf.groupby(['주구매코너'])['구매건수'].agg(sum)   \n",
    "df0 = dt0.to_frame().reset_index()\n",
    "df0.columns = ['주구매코너', '코너별구매건']\n",
    "#df0.head(3)\n",
    "tdf_ = pd.merge(tdf, df0, on='주구매코너')\n",
    "# dataP_.head()\n",
    "print(tdf_[(tdf_['주구매코너']==1)].groupby(['gender'])['총구매액'].agg(sum))\n",
    "print(tdf_[(tdf_['주구매코너']==1)].groupby(['gender'])['구매건수'].agg(sum))\n",
    "tdf_.head()"
   ]
  },
  {
   "cell_type": "code",
   "execution_count": 100,
   "metadata": {},
   "outputs": [
    {
     "data": {
      "text/html": [
       "<div>\n",
       "<style scoped>\n",
       "    .dataframe tbody tr th:only-of-type {\n",
       "        vertical-align: middle;\n",
       "    }\n",
       "\n",
       "    .dataframe tbody tr th {\n",
       "        vertical-align: top;\n",
       "    }\n",
       "\n",
       "    .dataframe thead th {\n",
       "        text-align: right;\n",
       "    }\n",
       "</style>\n",
       "<table border=\"1\" class=\"dataframe\">\n",
       "  <thead>\n",
       "    <tr style=\"text-align: right;\">\n",
       "      <th></th>\n",
       "      <th>custid</th>\n",
       "      <th>총구매액</th>\n",
       "      <th>구매건수</th>\n",
       "      <th>평균구매가격</th>\n",
       "      <th>평균할부개월수</th>\n",
       "      <th>구매브랜드종류</th>\n",
       "      <th>내점일수</th>\n",
       "      <th>수입상품_구매비율</th>\n",
       "      <th>주말방문비율</th>\n",
       "      <th>주구매코너</th>\n",
       "      <th>gender</th>\n",
       "      <th>코너별구매건</th>\n",
       "      <th>아침구매액</th>\n",
       "      <th>점심구매액</th>\n",
       "      <th>저녁구매액</th>\n",
       "      <th>봄구매액</th>\n",
       "      <th>여름구매액</th>\n",
       "      <th>가을구매액</th>\n",
       "      <th>겨울구매액</th>\n",
       "      <th>내점구매율</th>\n",
       "    </tr>\n",
       "  </thead>\n",
       "  <tbody>\n",
       "  </tbody>\n",
       "</table>\n",
       "</div>"
      ],
      "text/plain": [
       "Empty DataFrame\n",
       "Columns: [custid, 총구매액, 구매건수, 평균구매가격, 평균할부개월수, 구매브랜드종류, 내점일수, 수입상품_구매비율, 주말방문비율, 주구매코너, gender, 코너별구매건, 아침구매액, 점심구매액, 저녁구매액, 봄구매액, 여름구매액, 가을구매액, 겨울구매액, 내점구매율]\n",
       "Index: []"
      ]
     },
     "execution_count": 100,
     "metadata": {},
     "output_type": "execute_result"
    }
   ],
   "source": [
    "# 건수 Feature들을 최소단위 정보인 구매건당 구매액로 변경\n",
    "def createFeatures(df_p):\n",
    "    df_p['아침구매액'] = np.round(df_p['총구매액']*(df_p['아침_구매건수'] /df_p['구매건수'] ), 3)\n",
    "    df_p['점심구매액'] = np.round(df_p['총구매액']*(df_p['점심_구매건수'] /df_p['구매건수'] ), 3)\n",
    "    df_p['저녁구매액'] = np.round(df_p['총구매액']*(df_p['저녁_구매건수'] /df_p['구매건수'] ), 3)  \n",
    "    df_p['봄구매액']   = np.round(df_p['총구매액']*(df_p['봄_구매건수'] /df_p['구매건수'] ), 3) \n",
    "    df_p['여름구매액'] = np.round(df_p['총구매액']*(df_p['여름_구매건수'] /df_p['구매건수'] ), 3) \n",
    "    df_p['가을구매액'] = np.round(df_p['총구매액']*(df_p['가을_구매건수'] /df_p['구매건수'] ), 3)  \n",
    "    df_p['겨울구매액'] = np.round(df_p['총구매액']*(df_p['겨울_구매건수'] /df_p['구매건수'] ), 3)  \n",
    "    df_p['내점구매율'] = np.round(df_p['구매건수'] /df_p['내점일수'], 3)\n",
    "\n",
    "def dropFeatures(df_p):\n",
    "    drop_col = ['아침_구매건수', '점심_구매건수', '저녁_구매건수', '총구매액', '구매건수',\n",
    "         '봄_구매건수', '여름_구매건수', '가을_구매건수', '겨울_구매건수', '내점일수'] \n",
    "    \n",
    "    return df_p.drop(drop_cols, axis=1)\n",
    "\n",
    "createFeatures(tdf_)\n",
    "tdff = dropFeatures(tdf_) \n",
    "tdff[(tdff['주구매코너']==2)].head()"
   ]
  },
  {
   "cell_type": "code",
   "execution_count": 101,
   "metadata": {},
   "outputs": [],
   "source": [
    "import seaborn as sns"
   ]
  },
  {
   "cell_type": "code",
   "execution_count": 102,
   "metadata": {},
   "outputs": [],
   "source": [
    "plt.rcParams['font.family'] = 'Malgun Gothic'"
   ]
  },
  {
   "cell_type": "code",
   "execution_count": 103,
   "metadata": {},
   "outputs": [
    {
     "data": {
      "text/plain": [
       "<AxesSubplot:>"
      ]
     },
     "execution_count": 103,
     "metadata": {},
     "output_type": "execute_result"
    },
    {
     "data": {
      "image/png": "[encoded data removed]",
      "text/plain": [
       "<Figure size 432x288 with 2 Axes>"
      ]
     },
     "metadata": {
      "needs_background": "light"
     },
     "output_type": "display_data"
    }
   ],
   "source": [
    "sns.heatmap(tdff.corr(), annot=True)"
   ]
  },
  {
   "cell_type": "code",
   "execution_count": 104,
   "metadata": {},
   "outputs": [
    {
     "data": {
      "text/html": [
       "<div>\n",
       "<style scoped>\n",
       "    .dataframe tbody tr th:only-of-type {\n",
       "        vertical-align: middle;\n",
       "    }\n",
       "\n",
       "    .dataframe tbody tr th {\n",
       "        vertical-align: top;\n",
       "    }\n",
       "\n",
       "    .dataframe thead th {\n",
       "        text-align: right;\n",
       "    }\n",
       "</style>\n",
       "<table border=\"1\" class=\"dataframe\">\n",
       "  <thead>\n",
       "    <tr style=\"text-align: right;\">\n",
       "      <th></th>\n",
       "      <th>custid</th>\n",
       "      <th>총구매액</th>\n",
       "      <th>구매건수</th>\n",
       "      <th>평균구매가격</th>\n",
       "      <th>구매브랜드종류</th>\n",
       "      <th>내점일수</th>\n",
       "      <th>코너별구매건</th>\n",
       "      <th>아침구매액</th>\n",
       "      <th>점심구매액</th>\n",
       "      <th>봄구매액</th>\n",
       "      <th>여름구매액</th>\n",
       "      <th>가을구매액</th>\n",
       "      <th>겨울구매액</th>\n",
       "      <th>내점구매율</th>\n",
       "    </tr>\n",
       "  </thead>\n",
       "  <tbody>\n",
       "    <tr>\n",
       "      <th>4998</th>\n",
       "      <td>104474</td>\n",
       "      <td>1605900</td>\n",
       "      <td>15</td>\n",
       "      <td>107060</td>\n",
       "      <td>15</td>\n",
       "      <td>10</td>\n",
       "      <td>319</td>\n",
       "      <td>107060.0</td>\n",
       "      <td>1284720.0</td>\n",
       "      <td>428240.0</td>\n",
       "      <td>321180.0</td>\n",
       "      <td>749420.0</td>\n",
       "      <td>107060.0</td>\n",
       "      <td>1.5</td>\n",
       "    </tr>\n",
       "    <tr>\n",
       "      <th>4999</th>\n",
       "      <td>104752</td>\n",
       "      <td>509000</td>\n",
       "      <td>8</td>\n",
       "      <td>63625</td>\n",
       "      <td>8</td>\n",
       "      <td>4</td>\n",
       "      <td>319</td>\n",
       "      <td>NaN</td>\n",
       "      <td>381750.0</td>\n",
       "      <td>254500.0</td>\n",
       "      <td>254500.0</td>\n",
       "      <td>NaN</td>\n",
       "      <td>NaN</td>\n",
       "      <td>2.0</td>\n",
       "    </tr>\n",
       "  </tbody>\n",
       "</table>\n",
       "</div>"
      ],
      "text/plain": [
       "      custid     총구매액  구매건수  평균구매가격  구매브랜드종류  내점일수  코너별구매건     아침구매액  \\\n",
       "4998  104474  1605900    15  107060       15    10     319  107060.0   \n",
       "4999  104752   509000     8   63625        8     4     319       NaN   \n",
       "\n",
       "          점심구매액      봄구매액     여름구매액     가을구매액     겨울구매액  내점구매율  \n",
       "4998  1284720.0  428240.0  321180.0  749420.0  107060.0    1.5  \n",
       "4999   381750.0  254500.0  254500.0       NaN       NaN    2.0  "
      ]
     },
     "execution_count": 104,
     "metadata": {},
     "output_type": "execute_result"
    }
   ],
   "source": [
    "dataPT = tdff.copy()\n",
    "dataPD = dataPT.drop(['주말방문비율', '저녁구매액', '평균할부개월수','수입상품_구매비율','주구매코너'], axis=1)\n",
    "\n",
    "dfy = dataPD['gender']\n",
    "dfX = dataPD.drop('gender', axis=1)\n",
    "dfX.tail(2)"
   ]
  },
  {
   "cell_type": "code",
   "execution_count": 105,
   "metadata": {},
   "outputs": [
    {
     "data": {
      "text/plain": [
       "(5000, 14)"
      ]
     },
     "execution_count": 105,
     "metadata": {},
     "output_type": "execute_result"
    }
   ],
   "source": [
    "dfX.shape"
   ]
  },
  {
   "cell_type": "code",
   "execution_count": 106,
   "metadata": {},
   "outputs": [],
   "source": [
    "def drawSMOTETomek(X_org, y_org, X_pca, y_resampled, title1, title2, xlim, ylim, xticks, yticks):\n",
    "    # Two subplots, unpack the axes array immediately\n",
    "    f, (ax1, ax2) = plt.subplots(1,2,figsize=(18,8))\n",
    "\n",
    "    c0 = ax1.scatter(X_org[y_org == 0, 0], X_org[y_org == 0, 1], label=\"Class #0\", alpha=0.5)\n",
    "    c1 = ax1.scatter(X_org[y_org == 1, 0], X_org[y_org == 1, 1], label=\"Class #1\", alpha=0.5)\n",
    "    ax1.set_title(title1)\n",
    "\n",
    "    ax2.scatter(X_pca[y_resampled == 0, 0], X_pca[y_resampled == 0, 1], label=\"Class #0\", alpha=0.5)\n",
    "    ax2.scatter(X_pca[y_resampled == 1, 0], X_pca[y_resampled == 1, 1], label=\"Class #1\", alpha=0.5)\n",
    "    ax2.set_title(title2)\n",
    "\n",
    "    # make nice plotting\n",
    "    for ax in (ax1, ax2):\n",
    "        ax.spines['top'].set_visible(False)\n",
    "        ax.spines['right'].set_visible(False)\n",
    "        ax.get_xaxis().tick_bottom()\n",
    "        ax.get_yaxis().tick_left()\n",
    "        ax.spines['left'].set_position(('outward', 10))\n",
    "        ax.spines['bottom'].set_position(('outward', 10))\n",
    "        ax.set_xlim(xlim)      # [-1, 10]\n",
    "        ax.set_ylim(ylim)      # [-5, 20]\n",
    "        ax.set_xticks(xticks)  # range(-1, 10)\n",
    "        ax.set_yticks(yticks)  # range(-5, 20)\n",
    "\n",
    "    plt.figlegend((c0, c1), ('Class #0', 'Class #1'), loc='lower center', ncol=2, labelspacing=0.)\n",
    "    plt.tight_layout(pad=3)\n",
    "    plt.show()"
   ]
  },
  {
   "cell_type": "code",
   "execution_count": 107,
   "metadata": {},
   "outputs": [],
   "source": [
    "X_train, X_test, y_train, y_test = train_test_split(dfX, dfy, test_size=0.25, random_state=0)"
   ]
  },
  {
   "cell_type": "code",
   "execution_count": 108,
   "metadata": {},
   "outputs": [
    {
     "data": {
      "text/plain": [
       "Index(['custid', '총구매액', '구매건수', '평균구매가격', '구매브랜드종류', '내점일수', '코너별구매건',\n",
       "       '아침구매액', '점심구매액', '봄구매액', '여름구매액', '가을구매액', '겨울구매액', '내점구매율'],\n",
       "      dtype='object')"
      ]
     },
     "execution_count": 108,
     "metadata": {},
     "output_type": "execute_result"
    }
   ],
   "source": [
    "X_train.columns"
   ]
  },
  {
   "cell_type": "code",
   "execution_count": 109,
   "metadata": {},
   "outputs": [
    {
     "name": "stdout",
     "output_type": "stream",
     "text": [
      "<class 'pandas.core.frame.DataFrame'>\n",
      "Int64Index: 3750 entries, 4154 to 2732\n",
      "Data columns (total 14 columns):\n",
      " #   Column   Non-Null Count  Dtype  \n",
      "---  ------   --------------  -----  \n",
      " 0   custid   3750 non-null   int64  \n",
      " 1   총구매액     3750 non-null   int64  \n",
      " 2   구매건수     3750 non-null   int64  \n",
      " 3   평균구매가격   3750 non-null   int64  \n",
      " 4   구매브랜드종류  3750 non-null   int64  \n",
      " 5   내점일수     3750 non-null   int64  \n",
      " 6   코너별구매건   3750 non-null   int64  \n",
      " 7   아침구매액    2690 non-null   float64\n",
      " 8   점심구매액    3646 non-null   float64\n",
      " 9   봄구매액     3232 non-null   float64\n",
      " 10  여름구매액    2992 non-null   float64\n",
      " 11  가을구매액    3026 non-null   float64\n",
      " 12  겨울구매액    3059 non-null   float64\n",
      " 13  내점구매율    3750 non-null   float64\n",
      "dtypes: float64(7), int64(7)\n",
      "memory usage: 439.5 KB\n"
     ]
    }
   ],
   "source": [
    "X_train.info()"
   ]
  },
  {
   "cell_type": "code",
   "execution_count": 110,
   "metadata": {},
   "outputs": [
    {
     "data": {
      "text/html": [
       "<div>\n",
       "<style scoped>\n",
       "    .dataframe tbody tr th:only-of-type {\n",
       "        vertical-align: middle;\n",
       "    }\n",
       "\n",
       "    .dataframe tbody tr th {\n",
       "        vertical-align: top;\n",
       "    }\n",
       "\n",
       "    .dataframe thead th {\n",
       "        text-align: right;\n",
       "    }\n",
       "</style>\n",
       "<table border=\"1\" class=\"dataframe\">\n",
       "  <thead>\n",
       "    <tr style=\"text-align: right;\">\n",
       "      <th></th>\n",
       "      <th>custid</th>\n",
       "      <th>총구매액</th>\n",
       "      <th>구매건수</th>\n",
       "      <th>평균구매가격</th>\n",
       "      <th>구매브랜드종류</th>\n",
       "      <th>내점일수</th>\n",
       "      <th>코너별구매건</th>\n",
       "      <th>아침구매액</th>\n",
       "      <th>점심구매액</th>\n",
       "      <th>봄구매액</th>\n",
       "      <th>여름구매액</th>\n",
       "      <th>가을구매액</th>\n",
       "      <th>겨울구매액</th>\n",
       "      <th>내점구매율</th>\n",
       "    </tr>\n",
       "  </thead>\n",
       "  <tbody>\n",
       "    <tr>\n",
       "      <th>4154</th>\n",
       "      <td>101809</td>\n",
       "      <td>368000</td>\n",
       "      <td>5</td>\n",
       "      <td>73600</td>\n",
       "      <td>4</td>\n",
       "      <td>3</td>\n",
       "      <td>11500</td>\n",
       "      <td>NaN</td>\n",
       "      <td>147200.000</td>\n",
       "      <td>220800.000</td>\n",
       "      <td>73600.000</td>\n",
       "      <td>NaN</td>\n",
       "      <td>73600.000</td>\n",
       "      <td>1.667</td>\n",
       "    </tr>\n",
       "    <tr>\n",
       "      <th>4820</th>\n",
       "      <td>102483</td>\n",
       "      <td>4532150</td>\n",
       "      <td>26</td>\n",
       "      <td>174313</td>\n",
       "      <td>14</td>\n",
       "      <td>12</td>\n",
       "      <td>798</td>\n",
       "      <td>522940.385</td>\n",
       "      <td>3486269.231</td>\n",
       "      <td>871567.308</td>\n",
       "      <td>1045880.769</td>\n",
       "      <td>697253.846</td>\n",
       "      <td>1917448.077</td>\n",
       "      <td>2.167</td>\n",
       "    </tr>\n",
       "  </tbody>\n",
       "</table>\n",
       "</div>"
      ],
      "text/plain": [
       "      custid     총구매액  구매건수  평균구매가격  구매브랜드종류  내점일수  코너별구매건       아침구매액  \\\n",
       "4154  101809   368000     5   73600        4     3   11500         NaN   \n",
       "4820  102483  4532150    26  174313       14    12     798  522940.385   \n",
       "\n",
       "            점심구매액        봄구매액        여름구매액       가을구매액        겨울구매액  내점구매율  \n",
       "4154   147200.000  220800.000    73600.000         NaN    73600.000  1.667  \n",
       "4820  3486269.231  871567.308  1045880.769  697253.846  1917448.077  2.167  "
      ]
     },
     "execution_count": 110,
     "metadata": {},
     "output_type": "execute_result"
    }
   ],
   "source": [
    "X_train.head(2)"
   ]
  },
  {
   "cell_type": "code",
   "execution_count": 111,
   "metadata": {},
   "outputs": [],
   "source": [
    "xCol = ['a', 'b', 'c', 'd', 'e', 'f', 'g', 'h', 'i', 'j', 'k','l','m','n']"
   ]
  },
  {
   "cell_type": "code",
   "execution_count": 112,
   "metadata": {},
   "outputs": [
    {
     "name": "stdout",
     "output_type": "stream",
     "text": [
      "[1]\tvalid_0's binary_logloss: 0.606267\tvalid_0's binary_logloss: 0.606267\n",
      "Training until validation scores don't improve for 100 rounds.\n",
      "[2]\tvalid_0's binary_logloss: 0.599901\tvalid_0's binary_logloss: 0.599901\n",
      "[3]\tvalid_0's binary_logloss: 0.595601\tvalid_0's binary_logloss: 0.595601\n",
      "[4]\tvalid_0's binary_logloss: 0.59212\tvalid_0's binary_logloss: 0.59212\n",
      "[5]\tvalid_0's binary_logloss: 0.588982\tvalid_0's binary_logloss: 0.588982\n",
      "[6]\tvalid_0's binary_logloss: 0.586591\tvalid_0's binary_logloss: 0.586591\n",
      "[7]\tvalid_0's binary_logloss: 0.584357\tvalid_0's binary_logloss: 0.584357\n",
      "[8]\tvalid_0's binary_logloss: 0.583296\tvalid_0's binary_logloss: 0.583296\n",
      "[9]\tvalid_0's binary_logloss: 0.581762\tvalid_0's binary_logloss: 0.581762\n",
      "[10]\tvalid_0's binary_logloss: 0.580129\tvalid_0's binary_logloss: 0.580129\n",
      "[11]\tvalid_0's binary_logloss: 0.58001\tvalid_0's binary_logloss: 0.58001\n",
      "[12]\tvalid_0's binary_logloss: 0.579541\tvalid_0's binary_logloss: 0.579541\n",
      "[13]\tvalid_0's binary_logloss: 0.580177\tvalid_0's binary_logloss: 0.580177\n",
      "[14]\tvalid_0's binary_logloss: 0.579303\tvalid_0's binary_logloss: 0.579303\n",
      "[15]\tvalid_0's binary_logloss: 0.579508\tvalid_0's binary_logloss: 0.579508\n",
      "[16]\tvalid_0's binary_logloss: 0.579786\tvalid_0's binary_logloss: 0.579786\n",
      "[17]\tvalid_0's binary_logloss: 0.579982\tvalid_0's binary_logloss: 0.579982\n",
      "[18]\tvalid_0's binary_logloss: 0.580378\tvalid_0's binary_logloss: 0.580378\n",
      "[19]\tvalid_0's binary_logloss: 0.580299\tvalid_0's binary_logloss: 0.580299\n",
      "[20]\tvalid_0's binary_logloss: 0.580341\tvalid_0's binary_logloss: 0.580341\n",
      "[21]\tvalid_0's binary_logloss: 0.581016\tvalid_0's binary_logloss: 0.581016\n",
      "[22]\tvalid_0's binary_logloss: 0.581801\tvalid_0's binary_logloss: 0.581801\n",
      "[23]\tvalid_0's binary_logloss: 0.582155\tvalid_0's binary_logloss: 0.582155\n",
      "[24]\tvalid_0's binary_logloss: 0.582074\tvalid_0's binary_logloss: 0.582074\n",
      "[25]\tvalid_0's binary_logloss: 0.582714\tvalid_0's binary_logloss: 0.582714\n",
      "[26]\tvalid_0's binary_logloss: 0.58305\tvalid_0's binary_logloss: 0.58305\n",
      "[27]\tvalid_0's binary_logloss: 0.582806\tvalid_0's binary_logloss: 0.582806\n",
      "[28]\tvalid_0's binary_logloss: 0.582854\tvalid_0's binary_logloss: 0.582854\n",
      "[29]\tvalid_0's binary_logloss: 0.582741\tvalid_0's binary_logloss: 0.582741\n",
      "[30]\tvalid_0's binary_logloss: 0.583977\tvalid_0's binary_logloss: 0.583977\n",
      "[31]\tvalid_0's binary_logloss: 0.584295\tvalid_0's binary_logloss: 0.584295\n",
      "[32]\tvalid_0's binary_logloss: 0.584216\tvalid_0's binary_logloss: 0.584216\n",
      "[33]\tvalid_0's binary_logloss: 0.584281\tvalid_0's binary_logloss: 0.584281\n",
      "[34]\tvalid_0's binary_logloss: 0.584534\tvalid_0's binary_logloss: 0.584534\n",
      "[35]\tvalid_0's binary_logloss: 0.585009\tvalid_0's binary_logloss: 0.585009\n",
      "[36]\tvalid_0's binary_logloss: 0.58526\tvalid_0's binary_logloss: 0.58526\n",
      "[37]\tvalid_0's binary_logloss: 0.585882\tvalid_0's binary_logloss: 0.585882\n",
      "[38]\tvalid_0's binary_logloss: 0.586245\tvalid_0's binary_logloss: 0.586245\n",
      "[39]\tvalid_0's binary_logloss: 0.58701\tvalid_0's binary_logloss: 0.58701\n",
      "[40]\tvalid_0's binary_logloss: 0.587528\tvalid_0's binary_logloss: 0.587528\n",
      "[41]\tvalid_0's binary_logloss: 0.586742\tvalid_0's binary_logloss: 0.586742\n",
      "[42]\tvalid_0's binary_logloss: 0.586927\tvalid_0's binary_logloss: 0.586927\n",
      "[43]\tvalid_0's binary_logloss: 0.587095\tvalid_0's binary_logloss: 0.587095\n",
      "[44]\tvalid_0's binary_logloss: 0.587766\tvalid_0's binary_logloss: 0.587766\n",
      "[45]\tvalid_0's binary_logloss: 0.58848\tvalid_0's binary_logloss: 0.58848\n",
      "[46]\tvalid_0's binary_logloss: 0.58994\tvalid_0's binary_logloss: 0.58994\n",
      "[47]\tvalid_0's binary_logloss: 0.590971\tvalid_0's binary_logloss: 0.590971\n",
      "[48]\tvalid_0's binary_logloss: 0.590731\tvalid_0's binary_logloss: 0.590731\n",
      "[49]\tvalid_0's binary_logloss: 0.5908\tvalid_0's binary_logloss: 0.5908\n",
      "[50]\tvalid_0's binary_logloss: 0.591233\tvalid_0's binary_logloss: 0.591233\n",
      "[51]\tvalid_0's binary_logloss: 0.590784\tvalid_0's binary_logloss: 0.590784\n",
      "[52]\tvalid_0's binary_logloss: 0.5901\tvalid_0's binary_logloss: 0.5901\n",
      "[53]\tvalid_0's binary_logloss: 0.591335\tvalid_0's binary_logloss: 0.591335\n",
      "[54]\tvalid_0's binary_logloss: 0.592221\tvalid_0's binary_logloss: 0.592221\n",
      "[55]\tvalid_0's binary_logloss: 0.593597\tvalid_0's binary_logloss: 0.593597\n",
      "[56]\tvalid_0's binary_logloss: 0.594218\tvalid_0's binary_logloss: 0.594218\n",
      "[57]\tvalid_0's binary_logloss: 0.594322\tvalid_0's binary_logloss: 0.594322\n",
      "[58]\tvalid_0's binary_logloss: 0.595296\tvalid_0's binary_logloss: 0.595296\n",
      "[59]\tvalid_0's binary_logloss: 0.595703\tvalid_0's binary_logloss: 0.595703\n",
      "[60]\tvalid_0's binary_logloss: 0.596613\tvalid_0's binary_logloss: 0.596613\n",
      "[61]\tvalid_0's binary_logloss: 0.596708\tvalid_0's binary_logloss: 0.596708\n",
      "[62]\tvalid_0's binary_logloss: 0.597832\tvalid_0's binary_logloss: 0.597832\n",
      "[63]\tvalid_0's binary_logloss: 0.596835\tvalid_0's binary_logloss: 0.596835\n",
      "[64]\tvalid_0's binary_logloss: 0.596819\tvalid_0's binary_logloss: 0.596819\n",
      "[65]\tvalid_0's binary_logloss: 0.597256\tvalid_0's binary_logloss: 0.597256\n",
      "[66]\tvalid_0's binary_logloss: 0.597362\tvalid_0's binary_logloss: 0.597362\n",
      "[67]\tvalid_0's binary_logloss: 0.597882\tvalid_0's binary_logloss: 0.597882\n",
      "[68]\tvalid_0's binary_logloss: 0.598573\tvalid_0's binary_logloss: 0.598573\n",
      "[69]\tvalid_0's binary_logloss: 0.599657\tvalid_0's binary_logloss: 0.599657\n",
      "[70]\tvalid_0's binary_logloss: 0.600945\tvalid_0's binary_logloss: 0.600945\n",
      "[71]\tvalid_0's binary_logloss: 0.601093\tvalid_0's binary_logloss: 0.601093\n",
      "[72]\tvalid_0's binary_logloss: 0.60209\tvalid_0's binary_logloss: 0.60209\n",
      "[73]\tvalid_0's binary_logloss: 0.602242\tvalid_0's binary_logloss: 0.602242\n",
      "[74]\tvalid_0's binary_logloss: 0.603089\tvalid_0's binary_logloss: 0.603089\n",
      "[75]\tvalid_0's binary_logloss: 0.603598\tvalid_0's binary_logloss: 0.603598\n",
      "[76]\tvalid_0's binary_logloss: 0.604817\tvalid_0's binary_logloss: 0.604817\n",
      "[77]\tvalid_0's binary_logloss: 0.604575\tvalid_0's binary_logloss: 0.604575\n",
      "[78]\tvalid_0's binary_logloss: 0.604899\tvalid_0's binary_logloss: 0.604899\n",
      "[79]\tvalid_0's binary_logloss: 0.605418\tvalid_0's binary_logloss: 0.605418\n",
      "[80]\tvalid_0's binary_logloss: 0.60584\tvalid_0's binary_logloss: 0.60584\n",
      "[81]\tvalid_0's binary_logloss: 0.606911\tvalid_0's binary_logloss: 0.606911\n",
      "[82]\tvalid_0's binary_logloss: 0.606594\tvalid_0's binary_logloss: 0.606594\n",
      "[83]\tvalid_0's binary_logloss: 0.607044\tvalid_0's binary_logloss: 0.607044\n",
      "[84]\tvalid_0's binary_logloss: 0.608231\tvalid_0's binary_logloss: 0.608231\n",
      "[85]\tvalid_0's binary_logloss: 0.607727\tvalid_0's binary_logloss: 0.607727\n",
      "[86]\tvalid_0's binary_logloss: 0.607704\tvalid_0's binary_logloss: 0.607704\n",
      "[87]\tvalid_0's binary_logloss: 0.608209\tvalid_0's binary_logloss: 0.608209\n",
      "[88]\tvalid_0's binary_logloss: 0.609259\tvalid_0's binary_logloss: 0.609259\n",
      "[89]\tvalid_0's binary_logloss: 0.609849\tvalid_0's binary_logloss: 0.609849\n",
      "[90]\tvalid_0's binary_logloss: 0.610418\tvalid_0's binary_logloss: 0.610418\n",
      "[91]\tvalid_0's binary_logloss: 0.610355\tvalid_0's binary_logloss: 0.610355\n",
      "[92]\tvalid_0's binary_logloss: 0.610359\tvalid_0's binary_logloss: 0.610359\n",
      "[93]\tvalid_0's binary_logloss: 0.610336\tvalid_0's binary_logloss: 0.610336\n",
      "[94]\tvalid_0's binary_logloss: 0.610822\tvalid_0's binary_logloss: 0.610822\n",
      "[95]\tvalid_0's binary_logloss: 0.61132\tvalid_0's binary_logloss: 0.61132\n",
      "[96]\tvalid_0's binary_logloss: 0.612303\tvalid_0's binary_logloss: 0.612303\n",
      "[97]\tvalid_0's binary_logloss: 0.612802\tvalid_0's binary_logloss: 0.612802\n",
      "[98]\tvalid_0's binary_logloss: 0.613082\tvalid_0's binary_logloss: 0.613082\n",
      "[99]\tvalid_0's binary_logloss: 0.612492\tvalid_0's binary_logloss: 0.612492\n",
      "[100]\tvalid_0's binary_logloss: 0.612776\tvalid_0's binary_logloss: 0.612776\n",
      "Did not meet early stopping. Best iteration is:\n",
      "[14]\tvalid_0's binary_logloss: 0.579303\tvalid_0's binary_logloss: 0.579303\n"
     ]
    }
   ],
   "source": [
    "lgbm_wrapper = LGBMClassifier(nestimators=400)\n",
    "evals = [(X_test, y_test)]\n",
    "lgbm_wrapper.fit(X_train, y_train, feature_name=xCol, early_stopping_rounds=100, \n",
    "                 eval_metric=\"logloss\", eval_set=evals)\n",
    "pred = lgbm_wrapper.predict(X_test)"
   ]
  },
  {
   "cell_type": "code",
   "execution_count": 113,
   "metadata": {},
   "outputs": [
    {
     "name": "stdout",
     "output_type": "stream",
     "text": [
      "오차행렬\n",
      "[[810  60]\n",
      " [344  36]]\n",
      "정확도: 0.6768, 정밀도: 0.3750, 재현율: 0.0947\n"
     ]
    }
   ],
   "source": [
    "get_clf_eval(y_test, preds)"
   ]
  },
  {
   "cell_type": "markdown",
   "metadata": {},
   "source": [
    "# merge"
   ]
  },
  {
   "cell_type": "code",
   "execution_count": 114,
   "metadata": {},
   "outputs": [],
   "source": [
    "df_sum = tdf.groupby('주구매코너')['구매건수'].sum()"
   ]
  },
  {
   "cell_type": "code",
   "execution_count": 115,
   "metadata": {},
   "outputs": [
    {
     "data": {
      "text/plain": [
       "주구매코너\n",
       "가구           49\n",
       "가전          319\n",
       "기타바이어       158\n",
       "니트단품       2716\n",
       "도자기크리스탈     183\n",
       "Name: 구매건수, dtype: int64"
      ]
     },
     "execution_count": 115,
     "metadata": {},
     "output_type": "execute_result"
    }
   ],
   "source": [
    "df_sum.head()"
   ]
  },
  {
   "cell_type": "code",
   "execution_count": 116,
   "metadata": {},
   "outputs": [],
   "source": [
    "df_sum = df_sum.reset_index()\n",
    "df_sum.columns = ['주구매코너', '코너별구매건']"
   ]
  },
  {
   "cell_type": "code",
   "execution_count": 117,
   "metadata": {},
   "outputs": [
    {
     "data": {
      "text/html": [
       "<div>\n",
       "<style scoped>\n",
       "    .dataframe tbody tr th:only-of-type {\n",
       "        vertical-align: middle;\n",
       "    }\n",
       "\n",
       "    .dataframe tbody tr th {\n",
       "        vertical-align: top;\n",
       "    }\n",
       "\n",
       "    .dataframe thead th {\n",
       "        text-align: right;\n",
       "    }\n",
       "</style>\n",
       "<table border=\"1\" class=\"dataframe\">\n",
       "  <thead>\n",
       "    <tr style=\"text-align: right;\">\n",
       "      <th></th>\n",
       "      <th>주구매코너</th>\n",
       "      <th>코너별구매건</th>\n",
       "    </tr>\n",
       "  </thead>\n",
       "  <tbody>\n",
       "    <tr>\n",
       "      <th>0</th>\n",
       "      <td>가구</td>\n",
       "      <td>49</td>\n",
       "    </tr>\n",
       "    <tr>\n",
       "      <th>1</th>\n",
       "      <td>가전</td>\n",
       "      <td>319</td>\n",
       "    </tr>\n",
       "    <tr>\n",
       "      <th>2</th>\n",
       "      <td>기타바이어</td>\n",
       "      <td>158</td>\n",
       "    </tr>\n",
       "    <tr>\n",
       "      <th>3</th>\n",
       "      <td>니트단품</td>\n",
       "      <td>2716</td>\n",
       "    </tr>\n",
       "    <tr>\n",
       "      <th>4</th>\n",
       "      <td>도자기크리스탈</td>\n",
       "      <td>183</td>\n",
       "    </tr>\n",
       "    <tr>\n",
       "      <th>5</th>\n",
       "      <td>디자이너부띠끄</td>\n",
       "      <td>1424</td>\n",
       "    </tr>\n",
       "    <tr>\n",
       "      <th>6</th>\n",
       "      <td>문화완구</td>\n",
       "      <td>1107</td>\n",
       "    </tr>\n",
       "    <tr>\n",
       "      <th>7</th>\n",
       "      <td>섬유</td>\n",
       "      <td>1326</td>\n",
       "    </tr>\n",
       "    <tr>\n",
       "      <th>8</th>\n",
       "      <td>수입명품</td>\n",
       "      <td>4541</td>\n",
       "    </tr>\n",
       "    <tr>\n",
       "      <th>9</th>\n",
       "      <td>스포츠</td>\n",
       "      <td>10476</td>\n",
       "    </tr>\n",
       "    <tr>\n",
       "      <th>10</th>\n",
       "      <td>엘레강스캐주얼</td>\n",
       "      <td>1859</td>\n",
       "    </tr>\n",
       "    <tr>\n",
       "      <th>11</th>\n",
       "      <td>영캐주얼</td>\n",
       "      <td>7335</td>\n",
       "    </tr>\n",
       "    <tr>\n",
       "      <th>12</th>\n",
       "      <td>유니캐주얼</td>\n",
       "      <td>11500</td>\n",
       "    </tr>\n",
       "    <tr>\n",
       "      <th>13</th>\n",
       "      <td>유아동복</td>\n",
       "      <td>15923</td>\n",
       "    </tr>\n",
       "    <tr>\n",
       "      <th>14</th>\n",
       "      <td>일반식품</td>\n",
       "      <td>74942</td>\n",
       "    </tr>\n",
       "    <tr>\n",
       "      <th>15</th>\n",
       "      <td>장신구</td>\n",
       "      <td>1315</td>\n",
       "    </tr>\n",
       "    <tr>\n",
       "      <th>16</th>\n",
       "      <td>정장셔츠</td>\n",
       "      <td>1404</td>\n",
       "    </tr>\n",
       "    <tr>\n",
       "      <th>17</th>\n",
       "      <td>조리욕실</td>\n",
       "      <td>798</td>\n",
       "    </tr>\n",
       "    <tr>\n",
       "      <th>18</th>\n",
       "      <td>침구수예</td>\n",
       "      <td>364</td>\n",
       "    </tr>\n",
       "    <tr>\n",
       "      <th>19</th>\n",
       "      <td>캐릭터캐주얼</td>\n",
       "      <td>6399</td>\n",
       "    </tr>\n",
       "    <tr>\n",
       "      <th>20</th>\n",
       "      <td>타운모피</td>\n",
       "      <td>335</td>\n",
       "    </tr>\n",
       "    <tr>\n",
       "      <th>21</th>\n",
       "      <td>트래디셔널캐주얼</td>\n",
       "      <td>1753</td>\n",
       "    </tr>\n",
       "    <tr>\n",
       "      <th>22</th>\n",
       "      <td>피혁A</td>\n",
       "      <td>775</td>\n",
       "    </tr>\n",
       "    <tr>\n",
       "      <th>23</th>\n",
       "      <td>피혁B</td>\n",
       "      <td>933</td>\n",
       "    </tr>\n",
       "    <tr>\n",
       "      <th>24</th>\n",
       "      <td>화장품</td>\n",
       "      <td>26123</td>\n",
       "    </tr>\n",
       "  </tbody>\n",
       "</table>\n",
       "</div>"
      ],
      "text/plain": [
       "       주구매코너  코너별구매건\n",
       "0         가구      49\n",
       "1         가전     319\n",
       "2      기타바이어     158\n",
       "3       니트단품    2716\n",
       "4    도자기크리스탈     183\n",
       "5    디자이너부띠끄    1424\n",
       "6       문화완구    1107\n",
       "7         섬유    1326\n",
       "8       수입명품    4541\n",
       "9        스포츠   10476\n",
       "10   엘레강스캐주얼    1859\n",
       "11      영캐주얼    7335\n",
       "12     유니캐주얼   11500\n",
       "13      유아동복   15923\n",
       "14      일반식품   74942\n",
       "15       장신구    1315\n",
       "16      정장셔츠    1404\n",
       "17      조리욕실     798\n",
       "18      침구수예     364\n",
       "19    캐릭터캐주얼    6399\n",
       "20      타운모피     335\n",
       "21  트래디셔널캐주얼    1753\n",
       "22       피혁A     775\n",
       "23       피혁B     933\n",
       "24       화장품   26123"
      ]
     },
     "execution_count": 117,
     "metadata": {},
     "output_type": "execute_result"
    }
   ],
   "source": [
    "df_sum"
   ]
  },
  {
   "cell_type": "code",
   "execution_count": 118,
   "metadata": {},
   "outputs": [
    {
     "data": {
      "text/html": [
       "<div>\n",
       "<style scoped>\n",
       "    .dataframe tbody tr th:only-of-type {\n",
       "        vertical-align: middle;\n",
       "    }\n",
       "\n",
       "    .dataframe tbody tr th {\n",
       "        vertical-align: top;\n",
       "    }\n",
       "\n",
       "    .dataframe thead th {\n",
       "        text-align: right;\n",
       "    }\n",
       "</style>\n",
       "<table border=\"1\" class=\"dataframe\">\n",
       "  <thead>\n",
       "    <tr style=\"text-align: right;\">\n",
       "      <th></th>\n",
       "      <th>custid</th>\n",
       "      <th>총구매액</th>\n",
       "      <th>구매건수</th>\n",
       "      <th>평균구매가격</th>\n",
       "      <th>평균할부개월수</th>\n",
       "      <th>구매브랜드종류</th>\n",
       "      <th>내점일수</th>\n",
       "      <th>수입상품_구매비율</th>\n",
       "      <th>주말방문비율</th>\n",
       "      <th>가을_구매건수</th>\n",
       "      <th>겨울_구매건수</th>\n",
       "      <th>봄_구매건수</th>\n",
       "      <th>여름_구매건수</th>\n",
       "      <th>아침_구매건수</th>\n",
       "      <th>저녁_구매건수</th>\n",
       "      <th>점심_구매건수</th>\n",
       "      <th>주구매코너</th>\n",
       "      <th>gender</th>\n",
       "    </tr>\n",
       "  </thead>\n",
       "  <tbody>\n",
       "    <tr>\n",
       "      <th>0</th>\n",
       "      <td>100001</td>\n",
       "      <td>3439000</td>\n",
       "      <td>25</td>\n",
       "      <td>137560</td>\n",
       "      <td>2.2</td>\n",
       "      <td>19</td>\n",
       "      <td>16</td>\n",
       "      <td>12.0</td>\n",
       "      <td>31.2</td>\n",
       "      <td>5.0</td>\n",
       "      <td>4.0</td>\n",
       "      <td>7.0</td>\n",
       "      <td>9.0</td>\n",
       "      <td>13.0</td>\n",
       "      <td>1.0</td>\n",
       "      <td>11.0</td>\n",
       "      <td>장신구</td>\n",
       "      <td>0</td>\n",
       "    </tr>\n",
       "    <tr>\n",
       "      <th>1</th>\n",
       "      <td>100002</td>\n",
       "      <td>2073090</td>\n",
       "      <td>39</td>\n",
       "      <td>53156</td>\n",
       "      <td>1.3</td>\n",
       "      <td>18</td>\n",
       "      <td>29</td>\n",
       "      <td>0.0</td>\n",
       "      <td>20.7</td>\n",
       "      <td>13.0</td>\n",
       "      <td>8.0</td>\n",
       "      <td>10.0</td>\n",
       "      <td>8.0</td>\n",
       "      <td>4.0</td>\n",
       "      <td>10.0</td>\n",
       "      <td>25.0</td>\n",
       "      <td>유아동복</td>\n",
       "      <td>0</td>\n",
       "    </tr>\n",
       "  </tbody>\n",
       "</table>\n",
       "</div>"
      ],
      "text/plain": [
       "   custid     총구매액  구매건수  평균구매가격  평균할부개월수  구매브랜드종류  내점일수  수입상품_구매비율  주말방문비율  \\\n",
       "0  100001  3439000    25  137560      2.2       19    16       12.0    31.2   \n",
       "1  100002  2073090    39   53156      1.3       18    29        0.0    20.7   \n",
       "\n",
       "   가을_구매건수  겨울_구매건수  봄_구매건수  여름_구매건수  아침_구매건수  저녁_구매건수  점심_구매건수 주구매코너  gender  \n",
       "0      5.0      4.0     7.0      9.0     13.0      1.0     11.0   장신구       0  \n",
       "1     13.0      8.0    10.0      8.0      4.0     10.0     25.0  유아동복       0  "
      ]
     },
     "execution_count": 118,
     "metadata": {},
     "output_type": "execute_result"
    }
   ],
   "source": [
    "tdf.head(2)"
   ]
  },
  {
   "cell_type": "code",
   "execution_count": 119,
   "metadata": {},
   "outputs": [
    {
     "data": {
      "text/html": [
       "<div>\n",
       "<style scoped>\n",
       "    .dataframe tbody tr th:only-of-type {\n",
       "        vertical-align: middle;\n",
       "    }\n",
       "\n",
       "    .dataframe tbody tr th {\n",
       "        vertical-align: top;\n",
       "    }\n",
       "\n",
       "    .dataframe thead th {\n",
       "        text-align: right;\n",
       "    }\n",
       "</style>\n",
       "<table border=\"1\" class=\"dataframe\">\n",
       "  <thead>\n",
       "    <tr style=\"text-align: right;\">\n",
       "      <th></th>\n",
       "      <th>주구매코너</th>\n",
       "      <th>코너별구매건</th>\n",
       "    </tr>\n",
       "  </thead>\n",
       "  <tbody>\n",
       "    <tr>\n",
       "      <th>0</th>\n",
       "      <td>가구</td>\n",
       "      <td>49</td>\n",
       "    </tr>\n",
       "    <tr>\n",
       "      <th>1</th>\n",
       "      <td>가전</td>\n",
       "      <td>319</td>\n",
       "    </tr>\n",
       "  </tbody>\n",
       "</table>\n",
       "</div>"
      ],
      "text/plain": [
       "  주구매코너  코너별구매건\n",
       "0    가구      49\n",
       "1    가전     319"
      ]
     },
     "execution_count": 119,
     "metadata": {},
     "output_type": "execute_result"
    }
   ],
   "source": [
    "df_sum.head(2)"
   ]
  },
  {
   "cell_type": "code",
   "execution_count": 120,
   "metadata": {},
   "outputs": [
    {
     "data": {
      "text/html": [
       "<div>\n",
       "<style scoped>\n",
       "    .dataframe tbody tr th:only-of-type {\n",
       "        vertical-align: middle;\n",
       "    }\n",
       "\n",
       "    .dataframe tbody tr th {\n",
       "        vertical-align: top;\n",
       "    }\n",
       "\n",
       "    .dataframe thead th {\n",
       "        text-align: right;\n",
       "    }\n",
       "</style>\n",
       "<table border=\"1\" class=\"dataframe\">\n",
       "  <thead>\n",
       "    <tr style=\"text-align: right;\">\n",
       "      <th></th>\n",
       "      <th>custid</th>\n",
       "      <th>총구매액</th>\n",
       "      <th>구매건수</th>\n",
       "      <th>평균구매가격</th>\n",
       "      <th>평균할부개월수</th>\n",
       "      <th>구매브랜드종류</th>\n",
       "      <th>내점일수</th>\n",
       "      <th>수입상품_구매비율</th>\n",
       "      <th>주말방문비율</th>\n",
       "      <th>가을_구매건수</th>\n",
       "      <th>겨울_구매건수</th>\n",
       "      <th>봄_구매건수</th>\n",
       "      <th>여름_구매건수</th>\n",
       "      <th>아침_구매건수</th>\n",
       "      <th>저녁_구매건수</th>\n",
       "      <th>점심_구매건수</th>\n",
       "      <th>주구매코너</th>\n",
       "      <th>gender</th>\n",
       "      <th>코너별구매건</th>\n",
       "    </tr>\n",
       "  </thead>\n",
       "  <tbody>\n",
       "    <tr>\n",
       "      <th>0</th>\n",
       "      <td>100001</td>\n",
       "      <td>3439000</td>\n",
       "      <td>25</td>\n",
       "      <td>137560</td>\n",
       "      <td>2.2</td>\n",
       "      <td>19</td>\n",
       "      <td>16</td>\n",
       "      <td>12.0</td>\n",
       "      <td>31.2</td>\n",
       "      <td>5.0</td>\n",
       "      <td>4.0</td>\n",
       "      <td>7.0</td>\n",
       "      <td>9.0</td>\n",
       "      <td>13.0</td>\n",
       "      <td>1.0</td>\n",
       "      <td>11.0</td>\n",
       "      <td>장신구</td>\n",
       "      <td>0</td>\n",
       "      <td>1315</td>\n",
       "    </tr>\n",
       "    <tr>\n",
       "      <th>1</th>\n",
       "      <td>100002</td>\n",
       "      <td>2073090</td>\n",
       "      <td>39</td>\n",
       "      <td>53156</td>\n",
       "      <td>1.3</td>\n",
       "      <td>18</td>\n",
       "      <td>29</td>\n",
       "      <td>0.0</td>\n",
       "      <td>20.7</td>\n",
       "      <td>13.0</td>\n",
       "      <td>8.0</td>\n",
       "      <td>10.0</td>\n",
       "      <td>8.0</td>\n",
       "      <td>4.0</td>\n",
       "      <td>10.0</td>\n",
       "      <td>25.0</td>\n",
       "      <td>유아동복</td>\n",
       "      <td>0</td>\n",
       "      <td>15923</td>\n",
       "    </tr>\n",
       "    <tr>\n",
       "      <th>2</th>\n",
       "      <td>100003</td>\n",
       "      <td>1303800</td>\n",
       "      <td>22</td>\n",
       "      <td>59264</td>\n",
       "      <td>1.8</td>\n",
       "      <td>14</td>\n",
       "      <td>12</td>\n",
       "      <td>0.0</td>\n",
       "      <td>41.7</td>\n",
       "      <td>6.0</td>\n",
       "      <td>7.0</td>\n",
       "      <td>3.0</td>\n",
       "      <td>6.0</td>\n",
       "      <td>3.0</td>\n",
       "      <td>1.0</td>\n",
       "      <td>18.0</td>\n",
       "      <td>유아동복</td>\n",
       "      <td>0</td>\n",
       "      <td>15923</td>\n",
       "    </tr>\n",
       "    <tr>\n",
       "      <th>3</th>\n",
       "      <td>100004</td>\n",
       "      <td>6696522</td>\n",
       "      <td>46</td>\n",
       "      <td>145577</td>\n",
       "      <td>1.7</td>\n",
       "      <td>31</td>\n",
       "      <td>22</td>\n",
       "      <td>37.0</td>\n",
       "      <td>50.0</td>\n",
       "      <td>5.0</td>\n",
       "      <td>15.0</td>\n",
       "      <td>9.0</td>\n",
       "      <td>17.0</td>\n",
       "      <td>NaN</td>\n",
       "      <td>4.0</td>\n",
       "      <td>42.0</td>\n",
       "      <td>수입명품</td>\n",
       "      <td>0</td>\n",
       "      <td>4541</td>\n",
       "    </tr>\n",
       "    <tr>\n",
       "      <th>4</th>\n",
       "      <td>100005</td>\n",
       "      <td>1297640</td>\n",
       "      <td>26</td>\n",
       "      <td>49909</td>\n",
       "      <td>2.3</td>\n",
       "      <td>13</td>\n",
       "      <td>9</td>\n",
       "      <td>11.5</td>\n",
       "      <td>22.2</td>\n",
       "      <td>18.0</td>\n",
       "      <td>NaN</td>\n",
       "      <td>5.0</td>\n",
       "      <td>3.0</td>\n",
       "      <td>NaN</td>\n",
       "      <td>NaN</td>\n",
       "      <td>26.0</td>\n",
       "      <td>스포츠</td>\n",
       "      <td>0</td>\n",
       "      <td>10476</td>\n",
       "    </tr>\n",
       "    <tr>\n",
       "      <th>...</th>\n",
       "      <td>...</td>\n",
       "      <td>...</td>\n",
       "      <td>...</td>\n",
       "      <td>...</td>\n",
       "      <td>...</td>\n",
       "      <td>...</td>\n",
       "      <td>...</td>\n",
       "      <td>...</td>\n",
       "      <td>...</td>\n",
       "      <td>...</td>\n",
       "      <td>...</td>\n",
       "      <td>...</td>\n",
       "      <td>...</td>\n",
       "      <td>...</td>\n",
       "      <td>...</td>\n",
       "      <td>...</td>\n",
       "      <td>...</td>\n",
       "      <td>...</td>\n",
       "      <td>...</td>\n",
       "    </tr>\n",
       "    <tr>\n",
       "      <th>4995</th>\n",
       "      <td>104996</td>\n",
       "      <td>670690</td>\n",
       "      <td>5</td>\n",
       "      <td>134138</td>\n",
       "      <td>1.4</td>\n",
       "      <td>5</td>\n",
       "      <td>4</td>\n",
       "      <td>0.0</td>\n",
       "      <td>75.0</td>\n",
       "      <td>1.0</td>\n",
       "      <td>2.0</td>\n",
       "      <td>2.0</td>\n",
       "      <td>NaN</td>\n",
       "      <td>1.0</td>\n",
       "      <td>1.0</td>\n",
       "      <td>3.0</td>\n",
       "      <td>일반식품</td>\n",
       "      <td>1</td>\n",
       "      <td>74942</td>\n",
       "    </tr>\n",
       "    <tr>\n",
       "      <th>4996</th>\n",
       "      <td>104997</td>\n",
       "      <td>628700</td>\n",
       "      <td>13</td>\n",
       "      <td>48362</td>\n",
       "      <td>1.8</td>\n",
       "      <td>10</td>\n",
       "      <td>7</td>\n",
       "      <td>7.7</td>\n",
       "      <td>42.9</td>\n",
       "      <td>NaN</td>\n",
       "      <td>5.0</td>\n",
       "      <td>1.0</td>\n",
       "      <td>7.0</td>\n",
       "      <td>NaN</td>\n",
       "      <td>3.0</td>\n",
       "      <td>10.0</td>\n",
       "      <td>조리욕실</td>\n",
       "      <td>0</td>\n",
       "      <td>798</td>\n",
       "    </tr>\n",
       "    <tr>\n",
       "      <th>4997</th>\n",
       "      <td>104998</td>\n",
       "      <td>960923</td>\n",
       "      <td>12</td>\n",
       "      <td>80077</td>\n",
       "      <td>1.8</td>\n",
       "      <td>7</td>\n",
       "      <td>7</td>\n",
       "      <td>0.0</td>\n",
       "      <td>42.9</td>\n",
       "      <td>4.0</td>\n",
       "      <td>1.0</td>\n",
       "      <td>6.0</td>\n",
       "      <td>1.0</td>\n",
       "      <td>NaN</td>\n",
       "      <td>NaN</td>\n",
       "      <td>12.0</td>\n",
       "      <td>일반식품</td>\n",
       "      <td>1</td>\n",
       "      <td>74942</td>\n",
       "    </tr>\n",
       "    <tr>\n",
       "      <th>4998</th>\n",
       "      <td>104999</td>\n",
       "      <td>786600</td>\n",
       "      <td>14</td>\n",
       "      <td>56186</td>\n",
       "      <td>1.7</td>\n",
       "      <td>12</td>\n",
       "      <td>9</td>\n",
       "      <td>14.3</td>\n",
       "      <td>55.6</td>\n",
       "      <td>NaN</td>\n",
       "      <td>7.0</td>\n",
       "      <td>4.0</td>\n",
       "      <td>3.0</td>\n",
       "      <td>2.0</td>\n",
       "      <td>4.0</td>\n",
       "      <td>8.0</td>\n",
       "      <td>화장품</td>\n",
       "      <td>1</td>\n",
       "      <td>26123</td>\n",
       "    </tr>\n",
       "    <tr>\n",
       "      <th>4999</th>\n",
       "      <td>105000</td>\n",
       "      <td>2568073</td>\n",
       "      <td>76</td>\n",
       "      <td>33790</td>\n",
       "      <td>1.6</td>\n",
       "      <td>23</td>\n",
       "      <td>35</td>\n",
       "      <td>10.5</td>\n",
       "      <td>22.9</td>\n",
       "      <td>23.0</td>\n",
       "      <td>20.0</td>\n",
       "      <td>9.0</td>\n",
       "      <td>24.0</td>\n",
       "      <td>11.0</td>\n",
       "      <td>4.0</td>\n",
       "      <td>61.0</td>\n",
       "      <td>일반식품</td>\n",
       "      <td>1</td>\n",
       "      <td>74942</td>\n",
       "    </tr>\n",
       "  </tbody>\n",
       "</table>\n",
       "<p>5000 rows × 19 columns</p>\n",
       "</div>"
      ],
      "text/plain": [
       "      custid     총구매액  구매건수  평균구매가격  평균할부개월수  구매브랜드종류  내점일수  수입상품_구매비율  \\\n",
       "0     100001  3439000    25  137560      2.2       19    16       12.0   \n",
       "1     100002  2073090    39   53156      1.3       18    29        0.0   \n",
       "2     100003  1303800    22   59264      1.8       14    12        0.0   \n",
       "3     100004  6696522    46  145577      1.7       31    22       37.0   \n",
       "4     100005  1297640    26   49909      2.3       13     9       11.5   \n",
       "...      ...      ...   ...     ...      ...      ...   ...        ...   \n",
       "4995  104996   670690     5  134138      1.4        5     4        0.0   \n",
       "4996  104997   628700    13   48362      1.8       10     7        7.7   \n",
       "4997  104998   960923    12   80077      1.8        7     7        0.0   \n",
       "4998  104999   786600    14   56186      1.7       12     9       14.3   \n",
       "4999  105000  2568073    76   33790      1.6       23    35       10.5   \n",
       "\n",
       "      주말방문비율  가을_구매건수  겨울_구매건수  봄_구매건수  여름_구매건수  아침_구매건수  저녁_구매건수  점심_구매건수  \\\n",
       "0       31.2      5.0      4.0     7.0      9.0     13.0      1.0     11.0   \n",
       "1       20.7     13.0      8.0    10.0      8.0      4.0     10.0     25.0   \n",
       "2       41.7      6.0      7.0     3.0      6.0      3.0      1.0     18.0   \n",
       "3       50.0      5.0     15.0     9.0     17.0      NaN      4.0     42.0   \n",
       "4       22.2     18.0      NaN     5.0      3.0      NaN      NaN     26.0   \n",
       "...      ...      ...      ...     ...      ...      ...      ...      ...   \n",
       "4995    75.0      1.0      2.0     2.0      NaN      1.0      1.0      3.0   \n",
       "4996    42.9      NaN      5.0     1.0      7.0      NaN      3.0     10.0   \n",
       "4997    42.9      4.0      1.0     6.0      1.0      NaN      NaN     12.0   \n",
       "4998    55.6      NaN      7.0     4.0      3.0      2.0      4.0      8.0   \n",
       "4999    22.9     23.0     20.0     9.0     24.0     11.0      4.0     61.0   \n",
       "\n",
       "     주구매코너  gender  코너별구매건  \n",
       "0      장신구       0    1315  \n",
       "1     유아동복       0   15923  \n",
       "2     유아동복       0   15923  \n",
       "3     수입명품       0    4541  \n",
       "4      스포츠       0   10476  \n",
       "...    ...     ...     ...  \n",
       "4995  일반식품       1   74942  \n",
       "4996  조리욕실       0     798  \n",
       "4997  일반식품       1   74942  \n",
       "4998   화장품       1   26123  \n",
       "4999  일반식품       1   74942  \n",
       "\n",
       "[5000 rows x 19 columns]"
      ]
     },
     "execution_count": 120,
     "metadata": {},
     "output_type": "execute_result"
    }
   ],
   "source": [
    "# 데이터 합치기\n",
    "df_merge = tdf.merge(df_sum, how='left', on='주구매코너')\n",
    "df_merge"
   ]
  },
  {
   "cell_type": "code",
   "execution_count": 121,
   "metadata": {},
   "outputs": [],
   "source": [
    "# 파생변수를 저장할 빈 리스트를 만든다\n",
    "features = []"
   ]
  },
  {
   "cell_type": "code",
   "execution_count": 122,
   "metadata": {},
   "outputs": [
    {
     "data": {
      "text/html": [
       "<div>\n",
       "<style scoped>\n",
       "    .dataframe tbody tr th:only-of-type {\n",
       "        vertical-align: middle;\n",
       "    }\n",
       "\n",
       "    .dataframe tbody tr th {\n",
       "        vertical-align: top;\n",
       "    }\n",
       "\n",
       "    .dataframe thead th {\n",
       "        text-align: right;\n",
       "    }\n",
       "</style>\n",
       "<table border=\"1\" class=\"dataframe\">\n",
       "  <thead>\n",
       "    <tr style=\"text-align: right;\">\n",
       "      <th></th>\n",
       "      <th>custid</th>\n",
       "      <th>코너별구매건수</th>\n",
       "    </tr>\n",
       "  </thead>\n",
       "  <tbody>\n",
       "    <tr>\n",
       "      <th>0</th>\n",
       "      <td>18</td>\n",
       "      <td>15</td>\n",
       "    </tr>\n",
       "    <tr>\n",
       "      <th>1</th>\n",
       "      <td>21</td>\n",
       "      <td>9</td>\n",
       "    </tr>\n",
       "    <tr>\n",
       "      <th>2</th>\n",
       "      <td>23</td>\n",
       "      <td>36</td>\n",
       "    </tr>\n",
       "    <tr>\n",
       "      <th>3</th>\n",
       "      <td>26</td>\n",
       "      <td>28</td>\n",
       "    </tr>\n",
       "    <tr>\n",
       "      <th>4</th>\n",
       "      <td>35</td>\n",
       "      <td>5</td>\n",
       "    </tr>\n",
       "    <tr>\n",
       "      <th>...</th>\n",
       "      <td>...</td>\n",
       "      <td>...</td>\n",
       "    </tr>\n",
       "    <tr>\n",
       "      <th>4995</th>\n",
       "      <td>49952</td>\n",
       "      <td>93</td>\n",
       "    </tr>\n",
       "    <tr>\n",
       "      <th>4996</th>\n",
       "      <td>49954</td>\n",
       "      <td>17</td>\n",
       "    </tr>\n",
       "    <tr>\n",
       "      <th>4997</th>\n",
       "      <td>49957</td>\n",
       "      <td>37</td>\n",
       "    </tr>\n",
       "    <tr>\n",
       "      <th>4998</th>\n",
       "      <td>49975</td>\n",
       "      <td>13</td>\n",
       "    </tr>\n",
       "    <tr>\n",
       "      <th>4999</th>\n",
       "      <td>49993</td>\n",
       "      <td>32</td>\n",
       "    </tr>\n",
       "  </tbody>\n",
       "</table>\n",
       "<p>5000 rows × 2 columns</p>\n",
       "</div>"
      ],
      "text/plain": [
       "      custid  코너별구매건수\n",
       "0         18       15\n",
       "1         21        9\n",
       "2         23       36\n",
       "3         26       28\n",
       "4         35        5\n",
       "...      ...      ...\n",
       "4995   49952       93\n",
       "4996   49954       17\n",
       "4997   49957       37\n",
       "4998   49975       13\n",
       "4999   49993       32\n",
       "\n",
       "[5000 rows x 2 columns]"
      ]
     },
     "execution_count": 122,
     "metadata": {},
     "output_type": "execute_result"
    }
   ],
   "source": [
    "# 파생변수1 : 코너별구매건수\n",
    "f = ndf.groupby('custid')['구매건수'].agg([('코너별구매건수', 'sum')]).reset_index()\n",
    "features.append(f)\n",
    "f"
   ]
  },
  {
   "cell_type": "code",
   "execution_count": 123,
   "metadata": {},
   "outputs": [
    {
     "data": {
      "text/html": [
       "<div>\n",
       "<style scoped>\n",
       "    .dataframe tbody tr th:only-of-type {\n",
       "        vertical-align: middle;\n",
       "    }\n",
       "\n",
       "    .dataframe tbody tr th {\n",
       "        vertical-align: top;\n",
       "    }\n",
       "\n",
       "    .dataframe thead th {\n",
       "        text-align: right;\n",
       "    }\n",
       "</style>\n",
       "<table border=\"1\" class=\"dataframe\">\n",
       "  <thead>\n",
       "    <tr style=\"text-align: right;\">\n",
       "      <th></th>\n",
       "      <th>custid</th>\n",
       "      <th>코너별구매액</th>\n",
       "    </tr>\n",
       "  </thead>\n",
       "  <tbody>\n",
       "    <tr>\n",
       "      <th>0</th>\n",
       "      <td>18</td>\n",
       "      <td>680100</td>\n",
       "    </tr>\n",
       "    <tr>\n",
       "      <th>1</th>\n",
       "      <td>21</td>\n",
       "      <td>353450</td>\n",
       "    </tr>\n",
       "    <tr>\n",
       "      <th>2</th>\n",
       "      <td>23</td>\n",
       "      <td>5671400</td>\n",
       "    </tr>\n",
       "    <tr>\n",
       "      <th>3</th>\n",
       "      <td>26</td>\n",
       "      <td>1964000</td>\n",
       "    </tr>\n",
       "    <tr>\n",
       "      <th>4</th>\n",
       "      <td>35</td>\n",
       "      <td>885000</td>\n",
       "    </tr>\n",
       "    <tr>\n",
       "      <th>...</th>\n",
       "      <td>...</td>\n",
       "      <td>...</td>\n",
       "    </tr>\n",
       "    <tr>\n",
       "      <th>4995</th>\n",
       "      <td>49952</td>\n",
       "      <td>6666517</td>\n",
       "    </tr>\n",
       "    <tr>\n",
       "      <th>4996</th>\n",
       "      <td>49954</td>\n",
       "      <td>3112100</td>\n",
       "    </tr>\n",
       "    <tr>\n",
       "      <th>4997</th>\n",
       "      <td>49957</td>\n",
       "      <td>5852482</td>\n",
       "    </tr>\n",
       "    <tr>\n",
       "      <th>4998</th>\n",
       "      <td>49975</td>\n",
       "      <td>654498</td>\n",
       "    </tr>\n",
       "    <tr>\n",
       "      <th>4999</th>\n",
       "      <td>49993</td>\n",
       "      <td>2554723</td>\n",
       "    </tr>\n",
       "  </tbody>\n",
       "</table>\n",
       "<p>5000 rows × 2 columns</p>\n",
       "</div>"
      ],
      "text/plain": [
       "      custid   코너별구매액\n",
       "0         18   680100\n",
       "1         21   353450\n",
       "2         23  5671400\n",
       "3         26  1964000\n",
       "4         35   885000\n",
       "...      ...      ...\n",
       "4995   49952  6666517\n",
       "4996   49954  3112100\n",
       "4997   49957  5852482\n",
       "4998   49975   654498\n",
       "4999   49993  2554723\n",
       "\n",
       "[5000 rows x 2 columns]"
      ]
     },
     "execution_count": 123,
     "metadata": {},
     "output_type": "execute_result"
    }
   ],
   "source": [
    "# 파생변수1 : 코너별구매건수\n",
    "f = ndf.groupby('custid')['총구매액'].agg([('코너별구매액', 'sum')]).reset_index()\n",
    "features.append(f)\n",
    "f"
   ]
  },
  {
   "cell_type": "code",
   "execution_count": 124,
   "metadata": {},
   "outputs": [
    {
     "data": {
      "text/html": [
       "<div>\n",
       "<style scoped>\n",
       "    .dataframe tbody tr th:only-of-type {\n",
       "        vertical-align: middle;\n",
       "    }\n",
       "\n",
       "    .dataframe tbody tr th {\n",
       "        vertical-align: top;\n",
       "    }\n",
       "\n",
       "    .dataframe thead th {\n",
       "        text-align: right;\n",
       "    }\n",
       "</style>\n",
       "<table border=\"1\" class=\"dataframe\">\n",
       "  <thead>\n",
       "    <tr style=\"text-align: right;\">\n",
       "      <th></th>\n",
       "      <th>custid</th>\n",
       "      <th>평균구매가격</th>\n",
       "    </tr>\n",
       "  </thead>\n",
       "  <tbody>\n",
       "    <tr>\n",
       "      <th>0</th>\n",
       "      <td>18</td>\n",
       "      <td>680100</td>\n",
       "    </tr>\n",
       "    <tr>\n",
       "      <th>1</th>\n",
       "      <td>21</td>\n",
       "      <td>353450</td>\n",
       "    </tr>\n",
       "    <tr>\n",
       "      <th>2</th>\n",
       "      <td>23</td>\n",
       "      <td>5671400</td>\n",
       "    </tr>\n",
       "    <tr>\n",
       "      <th>3</th>\n",
       "      <td>26</td>\n",
       "      <td>1964000</td>\n",
       "    </tr>\n",
       "    <tr>\n",
       "      <th>4</th>\n",
       "      <td>35</td>\n",
       "      <td>885000</td>\n",
       "    </tr>\n",
       "    <tr>\n",
       "      <th>...</th>\n",
       "      <td>...</td>\n",
       "      <td>...</td>\n",
       "    </tr>\n",
       "    <tr>\n",
       "      <th>4995</th>\n",
       "      <td>49952</td>\n",
       "      <td>6666517</td>\n",
       "    </tr>\n",
       "    <tr>\n",
       "      <th>4996</th>\n",
       "      <td>49954</td>\n",
       "      <td>3112100</td>\n",
       "    </tr>\n",
       "    <tr>\n",
       "      <th>4997</th>\n",
       "      <td>49957</td>\n",
       "      <td>5852482</td>\n",
       "    </tr>\n",
       "    <tr>\n",
       "      <th>4998</th>\n",
       "      <td>49975</td>\n",
       "      <td>654498</td>\n",
       "    </tr>\n",
       "    <tr>\n",
       "      <th>4999</th>\n",
       "      <td>49993</td>\n",
       "      <td>2554723</td>\n",
       "    </tr>\n",
       "  </tbody>\n",
       "</table>\n",
       "<p>5000 rows × 2 columns</p>\n",
       "</div>"
      ],
      "text/plain": [
       "      custid   평균구매가격\n",
       "0         18   680100\n",
       "1         21   353450\n",
       "2         23  5671400\n",
       "3         26  1964000\n",
       "4         35   885000\n",
       "...      ...      ...\n",
       "4995   49952  6666517\n",
       "4996   49954  3112100\n",
       "4997   49957  5852482\n",
       "4998   49975   654498\n",
       "4999   49993  2554723\n",
       "\n",
       "[5000 rows x 2 columns]"
      ]
     },
     "execution_count": 124,
     "metadata": {},
     "output_type": "execute_result"
    }
   ],
   "source": [
    "# 평균구매가격\n",
    "f = ndf.groupby('custid')['총구매액'].agg([('평균구매가격', 'mean')]).reset_index()\n",
    "features.append(f); f"
   ]
  },
  {
   "cell_type": "code",
   "execution_count": 125,
   "metadata": {},
   "outputs": [
    {
     "data": {
      "text/plain": [
       "[      custid  코너별구매건수\n",
       " 0         18       15\n",
       " 1         21        9\n",
       " 2         23       36\n",
       " 3         26       28\n",
       " 4         35        5\n",
       " ...      ...      ...\n",
       " 4995   49952       93\n",
       " 4996   49954       17\n",
       " 4997   49957       37\n",
       " 4998   49975       13\n",
       " 4999   49993       32\n",
       " \n",
       " [5000 rows x 2 columns],\n",
       "       custid   코너별구매액\n",
       " 0         18   680100\n",
       " 1         21   353450\n",
       " 2         23  5671400\n",
       " 3         26  1964000\n",
       " 4         35   885000\n",
       " ...      ...      ...\n",
       " 4995   49952  6666517\n",
       " 4996   49954  3112100\n",
       " 4997   49957  5852482\n",
       " 4998   49975   654498\n",
       " 4999   49993  2554723\n",
       " \n",
       " [5000 rows x 2 columns],\n",
       "       custid   평균구매가격\n",
       " 0         18   680100\n",
       " 1         21   353450\n",
       " 2         23  5671400\n",
       " 3         26  1964000\n",
       " 4         35   885000\n",
       " ...      ...      ...\n",
       " 4995   49952  6666517\n",
       " 4996   49954  3112100\n",
       " 4997   49957  5852482\n",
       " 4998   49975   654498\n",
       " 4999   49993  2554723\n",
       " \n",
       " [5000 rows x 2 columns]]"
      ]
     },
     "execution_count": 125,
     "metadata": {},
     "output_type": "execute_result"
    }
   ],
   "source": [
    "features"
   ]
  },
  {
   "cell_type": "code",
   "execution_count": 126,
   "metadata": {},
   "outputs": [
    {
     "data": {
      "text/html": [
       "<div>\n",
       "<style scoped>\n",
       "    .dataframe tbody tr th:only-of-type {\n",
       "        vertical-align: middle;\n",
       "    }\n",
       "\n",
       "    .dataframe tbody tr th {\n",
       "        vertical-align: top;\n",
       "    }\n",
       "\n",
       "    .dataframe thead th {\n",
       "        text-align: right;\n",
       "    }\n",
       "</style>\n",
       "<table border=\"1\" class=\"dataframe\">\n",
       "  <thead>\n",
       "    <tr style=\"text-align: right;\">\n",
       "      <th></th>\n",
       "      <th>custid</th>\n",
       "    </tr>\n",
       "  </thead>\n",
       "  <tbody>\n",
       "    <tr>\n",
       "      <th>0</th>\n",
       "      <td>18</td>\n",
       "    </tr>\n",
       "    <tr>\n",
       "      <th>1</th>\n",
       "      <td>21</td>\n",
       "    </tr>\n",
       "    <tr>\n",
       "      <th>2</th>\n",
       "      <td>23</td>\n",
       "    </tr>\n",
       "    <tr>\n",
       "      <th>3</th>\n",
       "      <td>26</td>\n",
       "    </tr>\n",
       "    <tr>\n",
       "      <th>4</th>\n",
       "      <td>35</td>\n",
       "    </tr>\n",
       "    <tr>\n",
       "      <th>...</th>\n",
       "      <td>...</td>\n",
       "    </tr>\n",
       "    <tr>\n",
       "      <th>4995</th>\n",
       "      <td>49952</td>\n",
       "    </tr>\n",
       "    <tr>\n",
       "      <th>4996</th>\n",
       "      <td>49954</td>\n",
       "    </tr>\n",
       "    <tr>\n",
       "      <th>4997</th>\n",
       "      <td>49957</td>\n",
       "    </tr>\n",
       "    <tr>\n",
       "      <th>4998</th>\n",
       "      <td>49975</td>\n",
       "    </tr>\n",
       "    <tr>\n",
       "      <th>4999</th>\n",
       "      <td>49993</td>\n",
       "    </tr>\n",
       "  </tbody>\n",
       "</table>\n",
       "<p>5000 rows × 1 columns</p>\n",
       "</div>"
      ],
      "text/plain": [
       "      custid\n",
       "0         18\n",
       "1         21\n",
       "2         23\n",
       "3         26\n",
       "4         35\n",
       "...      ...\n",
       "4995   49952\n",
       "4996   49954\n",
       "4997   49957\n",
       "4998   49975\n",
       "4999   49993\n",
       "\n",
       "[5000 rows x 1 columns]"
      ]
     },
     "execution_count": 126,
     "metadata": {},
     "output_type": "execute_result"
    }
   ],
   "source": [
    "df_train = pd.DataFrame({'custid': ndf.custid.unique()})\n",
    "df_train"
   ]
  },
  {
   "cell_type": "code",
   "execution_count": 127,
   "metadata": {
    "scrolled": false
   },
   "outputs": [
    {
     "data": {
      "text/html": [
       "<div>\n",
       "<style scoped>\n",
       "    .dataframe tbody tr th:only-of-type {\n",
       "        vertical-align: middle;\n",
       "    }\n",
       "\n",
       "    .dataframe tbody tr th {\n",
       "        vertical-align: top;\n",
       "    }\n",
       "\n",
       "    .dataframe thead th {\n",
       "        text-align: right;\n",
       "    }\n",
       "</style>\n",
       "<table border=\"1\" class=\"dataframe\">\n",
       "  <thead>\n",
       "    <tr style=\"text-align: right;\">\n",
       "      <th></th>\n",
       "      <th>custid</th>\n",
       "      <th>코너별구매건수</th>\n",
       "      <th>코너별구매액</th>\n",
       "      <th>평균구매가격</th>\n",
       "    </tr>\n",
       "  </thead>\n",
       "  <tbody>\n",
       "    <tr>\n",
       "      <th>0</th>\n",
       "      <td>18</td>\n",
       "      <td>15</td>\n",
       "      <td>680100</td>\n",
       "      <td>680100</td>\n",
       "    </tr>\n",
       "    <tr>\n",
       "      <th>1</th>\n",
       "      <td>21</td>\n",
       "      <td>9</td>\n",
       "      <td>353450</td>\n",
       "      <td>353450</td>\n",
       "    </tr>\n",
       "    <tr>\n",
       "      <th>2</th>\n",
       "      <td>23</td>\n",
       "      <td>36</td>\n",
       "      <td>5671400</td>\n",
       "      <td>5671400</td>\n",
       "    </tr>\n",
       "    <tr>\n",
       "      <th>3</th>\n",
       "      <td>26</td>\n",
       "      <td>28</td>\n",
       "      <td>1964000</td>\n",
       "      <td>1964000</td>\n",
       "    </tr>\n",
       "    <tr>\n",
       "      <th>4</th>\n",
       "      <td>35</td>\n",
       "      <td>5</td>\n",
       "      <td>885000</td>\n",
       "      <td>885000</td>\n",
       "    </tr>\n",
       "    <tr>\n",
       "      <th>...</th>\n",
       "      <td>...</td>\n",
       "      <td>...</td>\n",
       "      <td>...</td>\n",
       "      <td>...</td>\n",
       "    </tr>\n",
       "    <tr>\n",
       "      <th>4995</th>\n",
       "      <td>49952</td>\n",
       "      <td>93</td>\n",
       "      <td>6666517</td>\n",
       "      <td>6666517</td>\n",
       "    </tr>\n",
       "    <tr>\n",
       "      <th>4996</th>\n",
       "      <td>49954</td>\n",
       "      <td>17</td>\n",
       "      <td>3112100</td>\n",
       "      <td>3112100</td>\n",
       "    </tr>\n",
       "    <tr>\n",
       "      <th>4997</th>\n",
       "      <td>49957</td>\n",
       "      <td>37</td>\n",
       "      <td>5852482</td>\n",
       "      <td>5852482</td>\n",
       "    </tr>\n",
       "    <tr>\n",
       "      <th>4998</th>\n",
       "      <td>49975</td>\n",
       "      <td>13</td>\n",
       "      <td>654498</td>\n",
       "      <td>654498</td>\n",
       "    </tr>\n",
       "    <tr>\n",
       "      <th>4999</th>\n",
       "      <td>49993</td>\n",
       "      <td>32</td>\n",
       "      <td>2554723</td>\n",
       "      <td>2554723</td>\n",
       "    </tr>\n",
       "  </tbody>\n",
       "</table>\n",
       "<p>5000 rows × 4 columns</p>\n",
       "</div>"
      ],
      "text/plain": [
       "      custid  코너별구매건수   코너별구매액   평균구매가격\n",
       "0         18       15   680100   680100\n",
       "1         21        9   353450   353450\n",
       "2         23       36  5671400  5671400\n",
       "3         26       28  1964000  1964000\n",
       "4         35        5   885000   885000\n",
       "...      ...      ...      ...      ...\n",
       "4995   49952       93  6666517  6666517\n",
       "4996   49954       17  3112100  3112100\n",
       "4997   49957       37  5852482  5852482\n",
       "4998   49975       13   654498   654498\n",
       "4999   49993       32  2554723  2554723\n",
       "\n",
       "[5000 rows x 4 columns]"
      ]
     },
     "metadata": {},
     "output_type": "display_data"
    }
   ],
   "source": [
    "for f in features:\n",
    "    df_train = pd.merge(df_train, f, how='left')\n",
    "    \n",
    "display(df_train)    "
   ]
  },
  {
   "cell_type": "code",
   "execution_count": 128,
   "metadata": {},
   "outputs": [
    {
     "data": {
      "text/html": [
       "<div>\n",
       "<style scoped>\n",
       "    .dataframe tbody tr th:only-of-type {\n",
       "        vertical-align: middle;\n",
       "    }\n",
       "\n",
       "    .dataframe tbody tr th {\n",
       "        vertical-align: top;\n",
       "    }\n",
       "\n",
       "    .dataframe thead th {\n",
       "        text-align: right;\n",
       "    }\n",
       "</style>\n",
       "<table border=\"1\" class=\"dataframe\">\n",
       "  <thead>\n",
       "    <tr style=\"text-align: right;\">\n",
       "      <th></th>\n",
       "      <th>custid</th>\n",
       "      <th>총구매액</th>\n",
       "      <th>구매건수</th>\n",
       "      <th>평균구매가격</th>\n",
       "      <th>평균할부개월수</th>\n",
       "      <th>구매브랜드종류</th>\n",
       "      <th>내점일수</th>\n",
       "      <th>수입상품_구매비율</th>\n",
       "      <th>주말방문비율</th>\n",
       "      <th>가을_구매건수</th>\n",
       "      <th>겨울_구매건수</th>\n",
       "      <th>봄_구매건수</th>\n",
       "      <th>여름_구매건수</th>\n",
       "      <th>아침_구매건수</th>\n",
       "      <th>저녁_구매건수</th>\n",
       "      <th>점심_구매건수</th>\n",
       "      <th>주구매코너</th>\n",
       "      <th>gender</th>\n",
       "    </tr>\n",
       "  </thead>\n",
       "  <tbody>\n",
       "    <tr>\n",
       "      <th>0</th>\n",
       "      <td>100001</td>\n",
       "      <td>3439000</td>\n",
       "      <td>25</td>\n",
       "      <td>137560</td>\n",
       "      <td>2.2</td>\n",
       "      <td>19</td>\n",
       "      <td>16</td>\n",
       "      <td>12.0</td>\n",
       "      <td>31.2</td>\n",
       "      <td>5.0</td>\n",
       "      <td>4.0</td>\n",
       "      <td>7.0</td>\n",
       "      <td>9.0</td>\n",
       "      <td>13.0</td>\n",
       "      <td>1.0</td>\n",
       "      <td>11.0</td>\n",
       "      <td>장신구</td>\n",
       "      <td>0</td>\n",
       "    </tr>\n",
       "    <tr>\n",
       "      <th>1</th>\n",
       "      <td>100002</td>\n",
       "      <td>2073090</td>\n",
       "      <td>39</td>\n",
       "      <td>53156</td>\n",
       "      <td>1.3</td>\n",
       "      <td>18</td>\n",
       "      <td>29</td>\n",
       "      <td>0.0</td>\n",
       "      <td>20.7</td>\n",
       "      <td>13.0</td>\n",
       "      <td>8.0</td>\n",
       "      <td>10.0</td>\n",
       "      <td>8.0</td>\n",
       "      <td>4.0</td>\n",
       "      <td>10.0</td>\n",
       "      <td>25.0</td>\n",
       "      <td>유아동복</td>\n",
       "      <td>0</td>\n",
       "    </tr>\n",
       "  </tbody>\n",
       "</table>\n",
       "</div>"
      ],
      "text/plain": [
       "   custid     총구매액  구매건수  평균구매가격  평균할부개월수  구매브랜드종류  내점일수  수입상품_구매비율  주말방문비율  \\\n",
       "0  100001  3439000    25  137560      2.2       19    16       12.0    31.2   \n",
       "1  100002  2073090    39   53156      1.3       18    29        0.0    20.7   \n",
       "\n",
       "   가을_구매건수  겨울_구매건수  봄_구매건수  여름_구매건수  아침_구매건수  저녁_구매건수  점심_구매건수 주구매코너  gender  \n",
       "0      5.0      4.0     7.0      9.0     13.0      1.0     11.0   장신구       0  \n",
       "1     13.0      8.0    10.0      8.0      4.0     10.0     25.0  유아동복       0  "
      ]
     },
     "execution_count": 128,
     "metadata": {},
     "output_type": "execute_result"
    }
   ],
   "source": [
    "tdf.head(2)"
   ]
  },
  {
   "cell_type": "markdown",
   "metadata": {},
   "source": [
    "## 문자열을 수치로 변환\n"
   ]
  },
  {
   "cell_type": "code",
   "execution_count": 129,
   "metadata": {},
   "outputs": [
    {
     "data": {
      "text/html": [
       "<div>\n",
       "<style scoped>\n",
       "    .dataframe tbody tr th:only-of-type {\n",
       "        vertical-align: middle;\n",
       "    }\n",
       "\n",
       "    .dataframe tbody tr th {\n",
       "        vertical-align: top;\n",
       "    }\n",
       "\n",
       "    .dataframe thead th {\n",
       "        text-align: right;\n",
       "    }\n",
       "</style>\n",
       "<table border=\"1\" class=\"dataframe\">\n",
       "  <thead>\n",
       "    <tr style=\"text-align: right;\">\n",
       "      <th></th>\n",
       "      <th>0</th>\n",
       "      <th>1</th>\n",
       "      <th>2</th>\n",
       "      <th>3</th>\n",
       "      <th>4</th>\n",
       "      <th>5</th>\n",
       "      <th>6</th>\n",
       "      <th>7</th>\n",
       "      <th>8</th>\n",
       "      <th>9</th>\n",
       "      <th>...</th>\n",
       "      <th>15</th>\n",
       "      <th>16</th>\n",
       "      <th>17</th>\n",
       "      <th>18</th>\n",
       "      <th>19</th>\n",
       "      <th>20</th>\n",
       "      <th>21</th>\n",
       "      <th>22</th>\n",
       "      <th>23</th>\n",
       "      <th>24</th>\n",
       "    </tr>\n",
       "  </thead>\n",
       "  <tbody>\n",
       "    <tr>\n",
       "      <th>0</th>\n",
       "      <td>0</td>\n",
       "      <td>0</td>\n",
       "      <td>0</td>\n",
       "      <td>0</td>\n",
       "      <td>0</td>\n",
       "      <td>0</td>\n",
       "      <td>0</td>\n",
       "      <td>0</td>\n",
       "      <td>0</td>\n",
       "      <td>0</td>\n",
       "      <td>...</td>\n",
       "      <td>1</td>\n",
       "      <td>0</td>\n",
       "      <td>0</td>\n",
       "      <td>0</td>\n",
       "      <td>0</td>\n",
       "      <td>0</td>\n",
       "      <td>0</td>\n",
       "      <td>0</td>\n",
       "      <td>0</td>\n",
       "      <td>0</td>\n",
       "    </tr>\n",
       "    <tr>\n",
       "      <th>1</th>\n",
       "      <td>0</td>\n",
       "      <td>0</td>\n",
       "      <td>0</td>\n",
       "      <td>0</td>\n",
       "      <td>0</td>\n",
       "      <td>0</td>\n",
       "      <td>0</td>\n",
       "      <td>0</td>\n",
       "      <td>0</td>\n",
       "      <td>0</td>\n",
       "      <td>...</td>\n",
       "      <td>0</td>\n",
       "      <td>0</td>\n",
       "      <td>0</td>\n",
       "      <td>0</td>\n",
       "      <td>0</td>\n",
       "      <td>0</td>\n",
       "      <td>0</td>\n",
       "      <td>0</td>\n",
       "      <td>0</td>\n",
       "      <td>0</td>\n",
       "    </tr>\n",
       "    <tr>\n",
       "      <th>2</th>\n",
       "      <td>0</td>\n",
       "      <td>0</td>\n",
       "      <td>0</td>\n",
       "      <td>0</td>\n",
       "      <td>0</td>\n",
       "      <td>0</td>\n",
       "      <td>0</td>\n",
       "      <td>0</td>\n",
       "      <td>0</td>\n",
       "      <td>0</td>\n",
       "      <td>...</td>\n",
       "      <td>0</td>\n",
       "      <td>0</td>\n",
       "      <td>0</td>\n",
       "      <td>0</td>\n",
       "      <td>0</td>\n",
       "      <td>0</td>\n",
       "      <td>0</td>\n",
       "      <td>0</td>\n",
       "      <td>0</td>\n",
       "      <td>0</td>\n",
       "    </tr>\n",
       "    <tr>\n",
       "      <th>3</th>\n",
       "      <td>0</td>\n",
       "      <td>0</td>\n",
       "      <td>0</td>\n",
       "      <td>0</td>\n",
       "      <td>0</td>\n",
       "      <td>0</td>\n",
       "      <td>0</td>\n",
       "      <td>0</td>\n",
       "      <td>1</td>\n",
       "      <td>0</td>\n",
       "      <td>...</td>\n",
       "      <td>0</td>\n",
       "      <td>0</td>\n",
       "      <td>0</td>\n",
       "      <td>0</td>\n",
       "      <td>0</td>\n",
       "      <td>0</td>\n",
       "      <td>0</td>\n",
       "      <td>0</td>\n",
       "      <td>0</td>\n",
       "      <td>0</td>\n",
       "    </tr>\n",
       "    <tr>\n",
       "      <th>4</th>\n",
       "      <td>0</td>\n",
       "      <td>0</td>\n",
       "      <td>0</td>\n",
       "      <td>0</td>\n",
       "      <td>0</td>\n",
       "      <td>0</td>\n",
       "      <td>0</td>\n",
       "      <td>0</td>\n",
       "      <td>0</td>\n",
       "      <td>1</td>\n",
       "      <td>...</td>\n",
       "      <td>0</td>\n",
       "      <td>0</td>\n",
       "      <td>0</td>\n",
       "      <td>0</td>\n",
       "      <td>0</td>\n",
       "      <td>0</td>\n",
       "      <td>0</td>\n",
       "      <td>0</td>\n",
       "      <td>0</td>\n",
       "      <td>0</td>\n",
       "    </tr>\n",
       "    <tr>\n",
       "      <th>...</th>\n",
       "      <td>...</td>\n",
       "      <td>...</td>\n",
       "      <td>...</td>\n",
       "      <td>...</td>\n",
       "      <td>...</td>\n",
       "      <td>...</td>\n",
       "      <td>...</td>\n",
       "      <td>...</td>\n",
       "      <td>...</td>\n",
       "      <td>...</td>\n",
       "      <td>...</td>\n",
       "      <td>...</td>\n",
       "      <td>...</td>\n",
       "      <td>...</td>\n",
       "      <td>...</td>\n",
       "      <td>...</td>\n",
       "      <td>...</td>\n",
       "      <td>...</td>\n",
       "      <td>...</td>\n",
       "      <td>...</td>\n",
       "      <td>...</td>\n",
       "    </tr>\n",
       "    <tr>\n",
       "      <th>4995</th>\n",
       "      <td>0</td>\n",
       "      <td>0</td>\n",
       "      <td>0</td>\n",
       "      <td>0</td>\n",
       "      <td>0</td>\n",
       "      <td>0</td>\n",
       "      <td>0</td>\n",
       "      <td>0</td>\n",
       "      <td>0</td>\n",
       "      <td>0</td>\n",
       "      <td>...</td>\n",
       "      <td>0</td>\n",
       "      <td>0</td>\n",
       "      <td>0</td>\n",
       "      <td>0</td>\n",
       "      <td>0</td>\n",
       "      <td>0</td>\n",
       "      <td>0</td>\n",
       "      <td>0</td>\n",
       "      <td>0</td>\n",
       "      <td>0</td>\n",
       "    </tr>\n",
       "    <tr>\n",
       "      <th>4996</th>\n",
       "      <td>0</td>\n",
       "      <td>0</td>\n",
       "      <td>0</td>\n",
       "      <td>0</td>\n",
       "      <td>0</td>\n",
       "      <td>0</td>\n",
       "      <td>0</td>\n",
       "      <td>0</td>\n",
       "      <td>0</td>\n",
       "      <td>0</td>\n",
       "      <td>...</td>\n",
       "      <td>0</td>\n",
       "      <td>0</td>\n",
       "      <td>1</td>\n",
       "      <td>0</td>\n",
       "      <td>0</td>\n",
       "      <td>0</td>\n",
       "      <td>0</td>\n",
       "      <td>0</td>\n",
       "      <td>0</td>\n",
       "      <td>0</td>\n",
       "    </tr>\n",
       "    <tr>\n",
       "      <th>4997</th>\n",
       "      <td>0</td>\n",
       "      <td>0</td>\n",
       "      <td>0</td>\n",
       "      <td>0</td>\n",
       "      <td>0</td>\n",
       "      <td>0</td>\n",
       "      <td>0</td>\n",
       "      <td>0</td>\n",
       "      <td>0</td>\n",
       "      <td>0</td>\n",
       "      <td>...</td>\n",
       "      <td>0</td>\n",
       "      <td>0</td>\n",
       "      <td>0</td>\n",
       "      <td>0</td>\n",
       "      <td>0</td>\n",
       "      <td>0</td>\n",
       "      <td>0</td>\n",
       "      <td>0</td>\n",
       "      <td>0</td>\n",
       "      <td>0</td>\n",
       "    </tr>\n",
       "    <tr>\n",
       "      <th>4998</th>\n",
       "      <td>0</td>\n",
       "      <td>0</td>\n",
       "      <td>0</td>\n",
       "      <td>0</td>\n",
       "      <td>0</td>\n",
       "      <td>0</td>\n",
       "      <td>0</td>\n",
       "      <td>0</td>\n",
       "      <td>0</td>\n",
       "      <td>0</td>\n",
       "      <td>...</td>\n",
       "      <td>0</td>\n",
       "      <td>0</td>\n",
       "      <td>0</td>\n",
       "      <td>0</td>\n",
       "      <td>0</td>\n",
       "      <td>0</td>\n",
       "      <td>0</td>\n",
       "      <td>0</td>\n",
       "      <td>0</td>\n",
       "      <td>1</td>\n",
       "    </tr>\n",
       "    <tr>\n",
       "      <th>4999</th>\n",
       "      <td>0</td>\n",
       "      <td>0</td>\n",
       "      <td>0</td>\n",
       "      <td>0</td>\n",
       "      <td>0</td>\n",
       "      <td>0</td>\n",
       "      <td>0</td>\n",
       "      <td>0</td>\n",
       "      <td>0</td>\n",
       "      <td>0</td>\n",
       "      <td>...</td>\n",
       "      <td>0</td>\n",
       "      <td>0</td>\n",
       "      <td>0</td>\n",
       "      <td>0</td>\n",
       "      <td>0</td>\n",
       "      <td>0</td>\n",
       "      <td>0</td>\n",
       "      <td>0</td>\n",
       "      <td>0</td>\n",
       "      <td>0</td>\n",
       "    </tr>\n",
       "  </tbody>\n",
       "</table>\n",
       "<p>5000 rows × 25 columns</p>\n",
       "</div>"
      ],
      "text/plain": [
       "      0   1   2   3   4   5   6   7   8   9   ...  15  16  17  18  19  20  21  \\\n",
       "0      0   0   0   0   0   0   0   0   0   0  ...   1   0   0   0   0   0   0   \n",
       "1      0   0   0   0   0   0   0   0   0   0  ...   0   0   0   0   0   0   0   \n",
       "2      0   0   0   0   0   0   0   0   0   0  ...   0   0   0   0   0   0   0   \n",
       "3      0   0   0   0   0   0   0   0   1   0  ...   0   0   0   0   0   0   0   \n",
       "4      0   0   0   0   0   0   0   0   0   1  ...   0   0   0   0   0   0   0   \n",
       "...   ..  ..  ..  ..  ..  ..  ..  ..  ..  ..  ...  ..  ..  ..  ..  ..  ..  ..   \n",
       "4995   0   0   0   0   0   0   0   0   0   0  ...   0   0   0   0   0   0   0   \n",
       "4996   0   0   0   0   0   0   0   0   0   0  ...   0   0   1   0   0   0   0   \n",
       "4997   0   0   0   0   0   0   0   0   0   0  ...   0   0   0   0   0   0   0   \n",
       "4998   0   0   0   0   0   0   0   0   0   0  ...   0   0   0   0   0   0   0   \n",
       "4999   0   0   0   0   0   0   0   0   0   0  ...   0   0   0   0   0   0   0   \n",
       "\n",
       "      22  23  24  \n",
       "0      0   0   0  \n",
       "1      0   0   0  \n",
       "2      0   0   0  \n",
       "3      0   0   0  \n",
       "4      0   0   0  \n",
       "...   ..  ..  ..  \n",
       "4995   0   0   0  \n",
       "4996   0   0   0  \n",
       "4997   0   0   0  \n",
       "4998   0   0   1  \n",
       "4999   0   0   0  \n",
       "\n",
       "[5000 rows x 25 columns]"
      ]
     },
     "execution_count": 129,
     "metadata": {},
     "output_type": "execute_result"
    }
   ],
   "source": [
    "# 주구매코너을 더미 변수로 변경(one-hot encoding) \n",
    "ndf_주구매코너 = pd.get_dummies(ndf['주구매코너'])\n",
    "ndf_주구매코너"
   ]
  },
  {
   "cell_type": "code",
   "execution_count": 130,
   "metadata": {},
   "outputs": [
    {
     "data": {
      "text/plain": [
       "custid         int64\n",
       "gender         int64\n",
       "총구매액           int64\n",
       "구매건수           int64\n",
       "평균구매가격         int64\n",
       "평균할부개월수      float64\n",
       "구매브랜드종류        int64\n",
       "내점일수           int64\n",
       "수입상품_구매비율    float64\n",
       "주말방문비율       float64\n",
       "가을_구매건수      float64\n",
       "겨울_구매건수      float64\n",
       "봄_구매건수       float64\n",
       "여름_구매건수      float64\n",
       "아침_구매건수      float64\n",
       "저녁_구매건수      float64\n",
       "점심_구매건수      float64\n",
       "주구매코너           int8\n",
       "dtype: object"
      ]
     },
     "execution_count": 130,
     "metadata": {},
     "output_type": "execute_result"
    }
   ],
   "source": [
    "ndf.dtypes"
   ]
  },
  {
   "cell_type": "code",
   "execution_count": 131,
   "metadata": {},
   "outputs": [
    {
     "data": {
      "text/html": [
       "<div>\n",
       "<style scoped>\n",
       "    .dataframe tbody tr th:only-of-type {\n",
       "        vertical-align: middle;\n",
       "    }\n",
       "\n",
       "    .dataframe tbody tr th {\n",
       "        vertical-align: top;\n",
       "    }\n",
       "\n",
       "    .dataframe thead th {\n",
       "        text-align: right;\n",
       "    }\n",
       "</style>\n",
       "<table border=\"1\" class=\"dataframe\">\n",
       "  <thead>\n",
       "    <tr style=\"text-align: right;\">\n",
       "      <th></th>\n",
       "      <th>custid</th>\n",
       "      <th>총구매액</th>\n",
       "      <th>구매건수</th>\n",
       "      <th>평균구매가격</th>\n",
       "      <th>구매브랜드종류</th>\n",
       "      <th>내점일수</th>\n",
       "      <th>주구매코너</th>\n",
       "      <th>gender</th>\n",
       "    </tr>\n",
       "  </thead>\n",
       "  <tbody>\n",
       "    <tr>\n",
       "      <th>0</th>\n",
       "      <td>18</td>\n",
       "      <td>680100</td>\n",
       "      <td>15</td>\n",
       "      <td>45340</td>\n",
       "      <td>9</td>\n",
       "      <td>10</td>\n",
       "      <td>15</td>\n",
       "      <td>0</td>\n",
       "    </tr>\n",
       "    <tr>\n",
       "      <th>1</th>\n",
       "      <td>21</td>\n",
       "      <td>353450</td>\n",
       "      <td>9</td>\n",
       "      <td>39272</td>\n",
       "      <td>6</td>\n",
       "      <td>8</td>\n",
       "      <td>13</td>\n",
       "      <td>0</td>\n",
       "    </tr>\n",
       "    <tr>\n",
       "      <th>2</th>\n",
       "      <td>23</td>\n",
       "      <td>5671400</td>\n",
       "      <td>36</td>\n",
       "      <td>157539</td>\n",
       "      <td>22</td>\n",
       "      <td>16</td>\n",
       "      <td>13</td>\n",
       "      <td>0</td>\n",
       "    </tr>\n",
       "    <tr>\n",
       "      <th>3</th>\n",
       "      <td>26</td>\n",
       "      <td>1964000</td>\n",
       "      <td>28</td>\n",
       "      <td>70143</td>\n",
       "      <td>15</td>\n",
       "      <td>14</td>\n",
       "      <td>8</td>\n",
       "      <td>0</td>\n",
       "    </tr>\n",
       "    <tr>\n",
       "      <th>4</th>\n",
       "      <td>35</td>\n",
       "      <td>885000</td>\n",
       "      <td>5</td>\n",
       "      <td>177000</td>\n",
       "      <td>5</td>\n",
       "      <td>2</td>\n",
       "      <td>9</td>\n",
       "      <td>0</td>\n",
       "    </tr>\n",
       "  </tbody>\n",
       "</table>\n",
       "</div>"
      ],
      "text/plain": [
       "   custid     총구매액  구매건수  평균구매가격  구매브랜드종류  내점일수  주구매코너  gender\n",
       "0      18   680100    15   45340        9    10     15       0\n",
       "1      21   353450     9   39272        6     8     13       0\n",
       "2      23  5671400    36  157539       22    16     13       0\n",
       "3      26  1964000    28   70143       15    14      8       0\n",
       "4      35   885000     5  177000        5     2      9       0"
      ]
     },
     "execution_count": 131,
     "metadata": {},
     "output_type": "execute_result"
    }
   ],
   "source": [
    "# 원래의 데이터 세트에서 수치항목을 추출\n",
    "tmp1 = ndf[['custid', '총구매액', '구매건수', '평균구매가격', '구매브랜드종류',\n",
    "                '내점일수', '주구매코너', 'gender']]\n",
    "\n",
    "# 선두에서 5행까지 표시\n",
    "tmp1.head()"
   ]
  },
  {
   "cell_type": "code",
   "execution_count": 132,
   "metadata": {},
   "outputs": [
    {
     "data": {
      "text/html": [
       "<div>\n",
       "<style scoped>\n",
       "    .dataframe tbody tr th:only-of-type {\n",
       "        vertical-align: middle;\n",
       "    }\n",
       "\n",
       "    .dataframe tbody tr th {\n",
       "        vertical-align: top;\n",
       "    }\n",
       "\n",
       "    .dataframe thead th {\n",
       "        text-align: right;\n",
       "    }\n",
       "</style>\n",
       "<table border=\"1\" class=\"dataframe\">\n",
       "  <thead>\n",
       "    <tr style=\"text-align: right;\">\n",
       "      <th></th>\n",
       "      <th>0</th>\n",
       "      <th>1</th>\n",
       "      <th>2</th>\n",
       "      <th>3</th>\n",
       "      <th>4</th>\n",
       "      <th>5</th>\n",
       "      <th>6</th>\n",
       "      <th>7</th>\n",
       "      <th>8</th>\n",
       "      <th>9</th>\n",
       "      <th>...</th>\n",
       "      <th>15</th>\n",
       "      <th>16</th>\n",
       "      <th>17</th>\n",
       "      <th>18</th>\n",
       "      <th>19</th>\n",
       "      <th>20</th>\n",
       "      <th>21</th>\n",
       "      <th>22</th>\n",
       "      <th>23</th>\n",
       "      <th>24</th>\n",
       "    </tr>\n",
       "  </thead>\n",
       "  <tbody>\n",
       "    <tr>\n",
       "      <th>0</th>\n",
       "      <td>0</td>\n",
       "      <td>0</td>\n",
       "      <td>0</td>\n",
       "      <td>0</td>\n",
       "      <td>0</td>\n",
       "      <td>0</td>\n",
       "      <td>0</td>\n",
       "      <td>0</td>\n",
       "      <td>0</td>\n",
       "      <td>0</td>\n",
       "      <td>...</td>\n",
       "      <td>1</td>\n",
       "      <td>0</td>\n",
       "      <td>0</td>\n",
       "      <td>0</td>\n",
       "      <td>0</td>\n",
       "      <td>0</td>\n",
       "      <td>0</td>\n",
       "      <td>0</td>\n",
       "      <td>0</td>\n",
       "      <td>0</td>\n",
       "    </tr>\n",
       "    <tr>\n",
       "      <th>1</th>\n",
       "      <td>0</td>\n",
       "      <td>0</td>\n",
       "      <td>0</td>\n",
       "      <td>0</td>\n",
       "      <td>0</td>\n",
       "      <td>0</td>\n",
       "      <td>0</td>\n",
       "      <td>0</td>\n",
       "      <td>0</td>\n",
       "      <td>0</td>\n",
       "      <td>...</td>\n",
       "      <td>0</td>\n",
       "      <td>0</td>\n",
       "      <td>0</td>\n",
       "      <td>0</td>\n",
       "      <td>0</td>\n",
       "      <td>0</td>\n",
       "      <td>0</td>\n",
       "      <td>0</td>\n",
       "      <td>0</td>\n",
       "      <td>0</td>\n",
       "    </tr>\n",
       "  </tbody>\n",
       "</table>\n",
       "<p>2 rows × 25 columns</p>\n",
       "</div>"
      ],
      "text/plain": [
       "   0   1   2   3   4   5   6   7   8   9   ...  15  16  17  18  19  20  21  \\\n",
       "0   0   0   0   0   0   0   0   0   0   0  ...   1   0   0   0   0   0   0   \n",
       "1   0   0   0   0   0   0   0   0   0   0  ...   0   0   0   0   0   0   0   \n",
       "\n",
       "   22  23  24  \n",
       "0   0   0   0  \n",
       "1   0   0   0  \n",
       "\n",
       "[2 rows x 25 columns]"
      ]
     },
     "execution_count": 132,
     "metadata": {},
     "output_type": "execute_result"
    }
   ],
   "source": [
    "ndf_주구매코너.head(2)"
   ]
  },
  {
   "cell_type": "markdown",
   "metadata": {},
   "source": [
    "### 모델작성"
   ]
  },
  {
   "cell_type": "code",
   "execution_count": 133,
   "metadata": {},
   "outputs": [],
   "source": [
    "import pandas as pd\n",
    "import numpy as np"
   ]
  },
  {
   "cell_type": "code",
   "execution_count": 134,
   "metadata": {},
   "outputs": [
    {
     "data": {
      "text/html": [
       "<div>\n",
       "<style scoped>\n",
       "    .dataframe tbody tr th:only-of-type {\n",
       "        vertical-align: middle;\n",
       "    }\n",
       "\n",
       "    .dataframe tbody tr th {\n",
       "        vertical-align: top;\n",
       "    }\n",
       "\n",
       "    .dataframe thead th {\n",
       "        text-align: right;\n",
       "    }\n",
       "</style>\n",
       "<table border=\"1\" class=\"dataframe\">\n",
       "  <thead>\n",
       "    <tr style=\"text-align: right;\">\n",
       "      <th></th>\n",
       "      <th>custid</th>\n",
       "      <th>gender</th>\n",
       "      <th>총구매액</th>\n",
       "      <th>구매건수</th>\n",
       "      <th>평균구매가격</th>\n",
       "      <th>평균할부개월수</th>\n",
       "      <th>구매브랜드종류</th>\n",
       "      <th>내점일수</th>\n",
       "      <th>수입상품_구매비율</th>\n",
       "      <th>주말방문비율</th>\n",
       "      <th>가을_구매건수</th>\n",
       "      <th>겨울_구매건수</th>\n",
       "      <th>봄_구매건수</th>\n",
       "      <th>여름_구매건수</th>\n",
       "      <th>아침_구매건수</th>\n",
       "      <th>저녁_구매건수</th>\n",
       "      <th>점심_구매건수</th>\n",
       "      <th>주구매코너</th>\n",
       "    </tr>\n",
       "  </thead>\n",
       "  <tbody>\n",
       "    <tr>\n",
       "      <th>0</th>\n",
       "      <td>18</td>\n",
       "      <td>0</td>\n",
       "      <td>680100</td>\n",
       "      <td>15</td>\n",
       "      <td>45340</td>\n",
       "      <td>1.7</td>\n",
       "      <td>9</td>\n",
       "      <td>10</td>\n",
       "      <td>26.7</td>\n",
       "      <td>100.0</td>\n",
       "      <td>5.0</td>\n",
       "      <td>4.0</td>\n",
       "      <td>7.0</td>\n",
       "      <td>9.0</td>\n",
       "      <td>13.0</td>\n",
       "      <td>1.0</td>\n",
       "      <td>11.0</td>\n",
       "      <td>15</td>\n",
       "    </tr>\n",
       "    <tr>\n",
       "      <th>1</th>\n",
       "      <td>21</td>\n",
       "      <td>0</td>\n",
       "      <td>353450</td>\n",
       "      <td>9</td>\n",
       "      <td>39272</td>\n",
       "      <td>1.2</td>\n",
       "      <td>6</td>\n",
       "      <td>8</td>\n",
       "      <td>11.1</td>\n",
       "      <td>37.5</td>\n",
       "      <td>13.0</td>\n",
       "      <td>8.0</td>\n",
       "      <td>10.0</td>\n",
       "      <td>8.0</td>\n",
       "      <td>4.0</td>\n",
       "      <td>10.0</td>\n",
       "      <td>25.0</td>\n",
       "      <td>13</td>\n",
       "    </tr>\n",
       "    <tr>\n",
       "      <th>2</th>\n",
       "      <td>23</td>\n",
       "      <td>0</td>\n",
       "      <td>5671400</td>\n",
       "      <td>36</td>\n",
       "      <td>157539</td>\n",
       "      <td>2.8</td>\n",
       "      <td>22</td>\n",
       "      <td>16</td>\n",
       "      <td>5.6</td>\n",
       "      <td>37.5</td>\n",
       "      <td>6.0</td>\n",
       "      <td>7.0</td>\n",
       "      <td>3.0</td>\n",
       "      <td>6.0</td>\n",
       "      <td>3.0</td>\n",
       "      <td>1.0</td>\n",
       "      <td>18.0</td>\n",
       "      <td>13</td>\n",
       "    </tr>\n",
       "    <tr>\n",
       "      <th>3</th>\n",
       "      <td>26</td>\n",
       "      <td>0</td>\n",
       "      <td>1964000</td>\n",
       "      <td>28</td>\n",
       "      <td>70143</td>\n",
       "      <td>1.4</td>\n",
       "      <td>15</td>\n",
       "      <td>14</td>\n",
       "      <td>39.3</td>\n",
       "      <td>28.6</td>\n",
       "      <td>5.0</td>\n",
       "      <td>15.0</td>\n",
       "      <td>9.0</td>\n",
       "      <td>17.0</td>\n",
       "      <td>0.0</td>\n",
       "      <td>4.0</td>\n",
       "      <td>42.0</td>\n",
       "      <td>8</td>\n",
       "    </tr>\n",
       "    <tr>\n",
       "      <th>4</th>\n",
       "      <td>35</td>\n",
       "      <td>0</td>\n",
       "      <td>885000</td>\n",
       "      <td>5</td>\n",
       "      <td>177000</td>\n",
       "      <td>6.0</td>\n",
       "      <td>5</td>\n",
       "      <td>2</td>\n",
       "      <td>0.0</td>\n",
       "      <td>100.0</td>\n",
       "      <td>18.0</td>\n",
       "      <td>0.0</td>\n",
       "      <td>5.0</td>\n",
       "      <td>3.0</td>\n",
       "      <td>0.0</td>\n",
       "      <td>0.0</td>\n",
       "      <td>26.0</td>\n",
       "      <td>9</td>\n",
       "    </tr>\n",
       "  </tbody>\n",
       "</table>\n",
       "</div>"
      ],
      "text/plain": [
       "   custid  gender     총구매액  구매건수  평균구매가격  평균할부개월수  구매브랜드종류  내점일수  수입상품_구매비율  \\\n",
       "0      18       0   680100    15   45340      1.7        9    10       26.7   \n",
       "1      21       0   353450     9   39272      1.2        6     8       11.1   \n",
       "2      23       0  5671400    36  157539      2.8       22    16        5.6   \n",
       "3      26       0  1964000    28   70143      1.4       15    14       39.3   \n",
       "4      35       0   885000     5  177000      6.0        5     2        0.0   \n",
       "\n",
       "   주말방문비율  가을_구매건수  겨울_구매건수  봄_구매건수  여름_구매건수  아침_구매건수  저녁_구매건수  점심_구매건수  주구매코너  \n",
       "0   100.0      5.0      4.0     7.0      9.0     13.0      1.0     11.0     15  \n",
       "1    37.5     13.0      8.0    10.0      8.0      4.0     10.0     25.0     13  \n",
       "2    37.5      6.0      7.0     3.0      6.0      3.0      1.0     18.0     13  \n",
       "3    28.6      5.0     15.0     9.0     17.0      0.0      4.0     42.0      8  \n",
       "4   100.0     18.0      0.0     5.0      3.0      0.0      0.0     26.0      9  "
      ]
     },
     "execution_count": 134,
     "metadata": {},
     "output_type": "execute_result"
    }
   ],
   "source": [
    "ndf_new = ndf\n",
    "ndf_new.head()"
   ]
  },
  {
   "cell_type": "code",
   "execution_count": 135,
   "metadata": {},
   "outputs": [],
   "source": [
    "ndf_new.to_csv('train-prep.csv', index=False)"
   ]
  },
  {
   "cell_type": "code",
   "execution_count": 136,
   "metadata": {},
   "outputs": [],
   "source": [
    "import pandas as pd\n",
    "import numpy as np"
   ]
  },
  {
   "cell_type": "code",
   "execution_count": 137,
   "metadata": {},
   "outputs": [
    {
     "data": {
      "text/html": [
       "<div>\n",
       "<style scoped>\n",
       "    .dataframe tbody tr th:only-of-type {\n",
       "        vertical-align: middle;\n",
       "    }\n",
       "\n",
       "    .dataframe tbody tr th {\n",
       "        vertical-align: top;\n",
       "    }\n",
       "\n",
       "    .dataframe thead th {\n",
       "        text-align: right;\n",
       "    }\n",
       "</style>\n",
       "<table border=\"1\" class=\"dataframe\">\n",
       "  <thead>\n",
       "    <tr style=\"text-align: right;\">\n",
       "      <th></th>\n",
       "      <th>custid</th>\n",
       "      <th>gender</th>\n",
       "      <th>총구매액</th>\n",
       "      <th>구매건수</th>\n",
       "      <th>평균구매가격</th>\n",
       "      <th>평균할부개월수</th>\n",
       "      <th>구매브랜드종류</th>\n",
       "      <th>내점일수</th>\n",
       "      <th>수입상품_구매비율</th>\n",
       "      <th>주말방문비율</th>\n",
       "      <th>가을_구매건수</th>\n",
       "      <th>겨울_구매건수</th>\n",
       "      <th>봄_구매건수</th>\n",
       "      <th>여름_구매건수</th>\n",
       "      <th>아침_구매건수</th>\n",
       "      <th>저녁_구매건수</th>\n",
       "      <th>점심_구매건수</th>\n",
       "      <th>주구매코너</th>\n",
       "    </tr>\n",
       "  </thead>\n",
       "  <tbody>\n",
       "    <tr>\n",
       "      <th>0</th>\n",
       "      <td>18</td>\n",
       "      <td>0</td>\n",
       "      <td>680100</td>\n",
       "      <td>15</td>\n",
       "      <td>45340</td>\n",
       "      <td>1.7</td>\n",
       "      <td>9</td>\n",
       "      <td>10</td>\n",
       "      <td>26.7</td>\n",
       "      <td>100.0</td>\n",
       "      <td>5.0</td>\n",
       "      <td>4.0</td>\n",
       "      <td>7.0</td>\n",
       "      <td>9.0</td>\n",
       "      <td>13.0</td>\n",
       "      <td>1.0</td>\n",
       "      <td>11.0</td>\n",
       "      <td>15</td>\n",
       "    </tr>\n",
       "    <tr>\n",
       "      <th>1</th>\n",
       "      <td>21</td>\n",
       "      <td>0</td>\n",
       "      <td>353450</td>\n",
       "      <td>9</td>\n",
       "      <td>39272</td>\n",
       "      <td>1.2</td>\n",
       "      <td>6</td>\n",
       "      <td>8</td>\n",
       "      <td>11.1</td>\n",
       "      <td>37.5</td>\n",
       "      <td>13.0</td>\n",
       "      <td>8.0</td>\n",
       "      <td>10.0</td>\n",
       "      <td>8.0</td>\n",
       "      <td>4.0</td>\n",
       "      <td>10.0</td>\n",
       "      <td>25.0</td>\n",
       "      <td>13</td>\n",
       "    </tr>\n",
       "    <tr>\n",
       "      <th>2</th>\n",
       "      <td>23</td>\n",
       "      <td>0</td>\n",
       "      <td>5671400</td>\n",
       "      <td>36</td>\n",
       "      <td>157539</td>\n",
       "      <td>2.8</td>\n",
       "      <td>22</td>\n",
       "      <td>16</td>\n",
       "      <td>5.6</td>\n",
       "      <td>37.5</td>\n",
       "      <td>6.0</td>\n",
       "      <td>7.0</td>\n",
       "      <td>3.0</td>\n",
       "      <td>6.0</td>\n",
       "      <td>3.0</td>\n",
       "      <td>1.0</td>\n",
       "      <td>18.0</td>\n",
       "      <td>13</td>\n",
       "    </tr>\n",
       "    <tr>\n",
       "      <th>3</th>\n",
       "      <td>26</td>\n",
       "      <td>0</td>\n",
       "      <td>1964000</td>\n",
       "      <td>28</td>\n",
       "      <td>70143</td>\n",
       "      <td>1.4</td>\n",
       "      <td>15</td>\n",
       "      <td>14</td>\n",
       "      <td>39.3</td>\n",
       "      <td>28.6</td>\n",
       "      <td>5.0</td>\n",
       "      <td>15.0</td>\n",
       "      <td>9.0</td>\n",
       "      <td>17.0</td>\n",
       "      <td>0.0</td>\n",
       "      <td>4.0</td>\n",
       "      <td>42.0</td>\n",
       "      <td>8</td>\n",
       "    </tr>\n",
       "    <tr>\n",
       "      <th>4</th>\n",
       "      <td>35</td>\n",
       "      <td>0</td>\n",
       "      <td>885000</td>\n",
       "      <td>5</td>\n",
       "      <td>177000</td>\n",
       "      <td>6.0</td>\n",
       "      <td>5</td>\n",
       "      <td>2</td>\n",
       "      <td>0.0</td>\n",
       "      <td>100.0</td>\n",
       "      <td>18.0</td>\n",
       "      <td>0.0</td>\n",
       "      <td>5.0</td>\n",
       "      <td>3.0</td>\n",
       "      <td>0.0</td>\n",
       "      <td>0.0</td>\n",
       "      <td>26.0</td>\n",
       "      <td>9</td>\n",
       "    </tr>\n",
       "  </tbody>\n",
       "</table>\n",
       "</div>"
      ],
      "text/plain": [
       "   custid  gender     총구매액  구매건수  평균구매가격  평균할부개월수  구매브랜드종류  내점일수  수입상품_구매비율  \\\n",
       "0      18       0   680100    15   45340      1.7        9    10       26.7   \n",
       "1      21       0   353450     9   39272      1.2        6     8       11.1   \n",
       "2      23       0  5671400    36  157539      2.8       22    16        5.6   \n",
       "3      26       0  1964000    28   70143      1.4       15    14       39.3   \n",
       "4      35       0   885000     5  177000      6.0        5     2        0.0   \n",
       "\n",
       "   주말방문비율  가을_구매건수  겨울_구매건수  봄_구매건수  여름_구매건수  아침_구매건수  저녁_구매건수  점심_구매건수  주구매코너  \n",
       "0   100.0      5.0      4.0     7.0      9.0     13.0      1.0     11.0     15  \n",
       "1    37.5     13.0      8.0    10.0      8.0      4.0     10.0     25.0     13  \n",
       "2    37.5      6.0      7.0     3.0      6.0      3.0      1.0     18.0     13  \n",
       "3    28.6      5.0     15.0     9.0     17.0      0.0      4.0     42.0      8  \n",
       "4   100.0     18.0      0.0     5.0      3.0      0.0      0.0     26.0      9  "
      ]
     },
     "execution_count": 137,
     "metadata": {},
     "output_type": "execute_result"
    }
   ],
   "source": [
    "ndf_new = pd.read_csv('train-prep.csv', sep=',')\n",
    "ndf_new.head()"
   ]
  },
  {
   "cell_type": "markdown",
   "metadata": {},
   "source": [
    "##### 불균형데이터의 균형화"
   ]
  },
  {
   "cell_type": "code",
   "execution_count": 138,
   "metadata": {},
   "outputs": [
    {
     "data": {
      "text/plain": [
       "0    3479\n",
       "1    1521\n",
       "Name: gender, dtype: int64"
      ]
     },
     "execution_count": 138,
     "metadata": {},
     "output_type": "execute_result"
    }
   ],
   "source": [
    "ndf_new['gender'].value_counts()"
   ]
  },
  {
   "cell_type": "code",
   "execution_count": 139,
   "metadata": {},
   "outputs": [
    {
     "name": "stdout",
     "output_type": "stream",
     "text": [
      "Name: imbalanced-learn\n",
      "Version: 0.7.0\n",
      "Summary: Toolbox for imbalanced dataset in machine learning.\n",
      "Home-page: https://github.com/scikit-learn-contrib/imbalanced-learn\n",
      "Author: None\n",
      "Author-email: None\n",
      "License: MIT\n",
      "Location: c:\\anaconda3\\lib\\site-packages\n",
      "Requires: joblib, scipy, scikit-learn, numpy\n",
      "Required-by: \n"
     ]
    }
   ],
   "source": [
    "!pip show imbalanced-learn"
   ]
  },
  {
   "cell_type": "code",
   "execution_count": 140,
   "metadata": {},
   "outputs": [],
   "source": [
    "# 불균형 데이터 세트에 대한 언더 샘플링\n",
    "from imblearn.under_sampling import RandomUnderSampler\n",
    "\n",
    "# 오버 샘플링\n",
    "from imblearn.over_sampling import RandomOverSampler"
   ]
  },
  {
   "cell_type": "code",
   "execution_count": 141,
   "metadata": {},
   "outputs": [
    {
     "data": {
      "text/plain": [
       "array([[1.800000e+01, 6.801000e+05, 1.500000e+01, ..., 1.000000e+00,\n",
       "        1.100000e+01, 1.500000e+01],\n",
       "       [2.100000e+01, 3.534500e+05, 9.000000e+00, ..., 1.000000e+01,\n",
       "        2.500000e+01, 1.300000e+01],\n",
       "       [2.300000e+01, 5.671400e+06, 3.600000e+01, ..., 1.000000e+00,\n",
       "        1.800000e+01, 1.300000e+01],\n",
       "       ...,\n",
       "       [4.995700e+04, 5.852482e+06, 3.700000e+01, ..., 0.000000e+00,\n",
       "        1.200000e+01, 1.400000e+01],\n",
       "       [4.997500e+04, 6.544980e+05, 1.300000e+01, ..., 4.000000e+00,\n",
       "        8.000000e+00, 2.400000e+01],\n",
       "       [4.999300e+04, 2.554723e+06, 3.200000e+01, ..., 4.000000e+00,\n",
       "        6.100000e+01, 1.400000e+01]])"
      ]
     },
     "execution_count": 141,
     "metadata": {},
     "output_type": "execute_result"
    }
   ],
   "source": [
    "X = np.array(ndf_new.drop('gender', axis=1))\n",
    "X"
   ]
  },
  {
   "cell_type": "code",
   "execution_count": 142,
   "metadata": {},
   "outputs": [
    {
     "data": {
      "text/plain": [
       "array([0, 0, 0, ..., 1, 1, 1], dtype=int64)"
      ]
     },
     "execution_count": 142,
     "metadata": {},
     "output_type": "execute_result"
    }
   ],
   "source": [
    "Y = np.array(ndf_new['gender'])\n",
    "Y"
   ]
  },
  {
   "cell_type": "code",
   "execution_count": 143,
   "metadata": {},
   "outputs": [
    {
     "name": "stdout",
     "output_type": "stream",
     "text": [
      "1521 3479\n"
     ]
    }
   ],
   "source": [
    "# gender가 1과 0인 데이터의 건수를 카운트\n",
    "print(np.sum(Y == 1), np.sum(Y == 0))"
   ]
  },
  {
   "cell_type": "code",
   "execution_count": 144,
   "metadata": {},
   "outputs": [],
   "source": [
    "# gender가 1인 데이터의 건수에 맞춰서 다운사이징\n",
    "sampler = RandomUnderSampler(random_state=42)\n",
    "X, Y = sampler.fit_resample(X, Y)"
   ]
  },
  {
   "cell_type": "code",
   "execution_count": 145,
   "metadata": {},
   "outputs": [
    {
     "name": "stdout",
     "output_type": "stream",
     "text": [
      "1521 1521\n"
     ]
    }
   ],
   "source": [
    "# gender가 1과 0인 데이터의 건수를 카운트\n",
    "print(np.sum(Y == 1), np.sum(Y == 0))"
   ]
  },
  {
   "cell_type": "code",
   "execution_count": 146,
   "metadata": {},
   "outputs": [],
   "source": [
    "#결정트리의 작성과 검증\n",
    "from sklearn.model_selection import KFold\n",
    "from sklearn import tree\n",
    "from sklearn.metrics import accuracy_score"
   ]
  },
  {
   "cell_type": "code",
   "execution_count": 147,
   "metadata": {},
   "outputs": [],
   "source": [
    "# K-Fold 교차검증\n",
    "# 10개의 테스터 데이터셋으로 구성된 데이터셋으로 나누고 각각의 데이터셋을 섞어준다.\n",
    "kf = KFold(n_splits=10, shuffle=True)"
   ]
  },
  {
   "cell_type": "code",
   "execution_count": 148,
   "metadata": {},
   "outputs": [
    {
     "data": {
      "text/plain": [
       "KFold(n_splits=10, random_state=None, shuffle=True)"
      ]
     },
     "execution_count": 148,
     "metadata": {},
     "output_type": "execute_result"
    }
   ],
   "source": [
    "kf"
   ]
  },
  {
   "cell_type": "code",
   "execution_count": 149,
   "metadata": {},
   "outputs": [],
   "source": [
    "# 모델의 정밀도를 보존할 준비\n",
    "scores = []"
   ]
  },
  {
   "cell_type": "code",
   "execution_count": 150,
   "metadata": {},
   "outputs": [
    {
     "name": "stdout",
     "output_type": "stream",
     "text": [
      "0.5779152286453839 0.020447861729718297 0.6217105263157895 0.5409836065573771\n"
     ]
    }
   ],
   "source": [
    "# 데이터를 셔플하고, 훈련데이터와 테스트데이트로 분할\n",
    "for train_id, test_id in kf.split(X):\n",
    "    # 훈련 데이터를 사용하여 모델을 작성\n",
    "    x = X[train_id]\n",
    "    y = Y[train_id]\n",
    "    clf = tree.DecisionTreeClassifier()\n",
    "    clf.fit(x,y)\n",
    "    # 테스트 데이터에 모델을 적용\n",
    "    pred_y = clf.predict(X[test_id])\n",
    "    # 모델의 정밀도를 계산해서 보존\n",
    "    score = accuracy_score(Y[test_id], pred_y)\n",
    "    scores.append(score)\n",
    "\n",
    "# 모델의 평균정밀도, 표준편차를 확인\n",
    "scores = np.array(scores)\n",
    "print(scores.mean(), scores.std(), scores.max(), scores.min())"
   ]
  },
  {
   "cell_type": "code",
   "execution_count": 151,
   "metadata": {},
   "outputs": [
    {
     "name": "stdout",
     "output_type": "stream",
     "text": [
      "0.5163398692810458\n",
      "0.6030534351145038\n"
     ]
    }
   ],
   "source": [
    "# Scikit-learn의 로드\n",
    "from sklearn.metrics import recall_score\n",
    "from sklearn.metrics import precision_score\n",
    "\n",
    "# 재현률, 적합도의 확인\n",
    "#print(confusion_matrix(Y[test_id], pred_y))\n",
    "print(recall_score(Y[test_id], pred_y))\n",
    "print(precision_score(Y[test_id], pred_y))"
   ]
  },
  {
   "cell_type": "markdown",
   "metadata": {},
   "source": [
    "### 모델의 정밀도 향상(모델 튜닝)\n"
   ]
  },
  {
   "cell_type": "code",
   "execution_count": 152,
   "metadata": {},
   "outputs": [
    {
     "name": "stdout",
     "output_type": "stream",
     "text": [
      "DecisionTreeClassifier()\n"
     ]
    }
   ],
   "source": [
    "# 모델작성용 파라미터 확인\n",
    "print(clf)"
   ]
  },
  {
   "cell_type": "code",
   "execution_count": 153,
   "metadata": {},
   "outputs": [],
   "source": [
    "# 그리드 서치를 사용한 모델의 성능 개선\n",
    "from sklearn.model_selection import GridSearchCV"
   ]
  },
  {
   "cell_type": "code",
   "execution_count": 154,
   "metadata": {},
   "outputs": [],
   "source": [
    "# 그리드 서치를 사용한 모델의 성능 개선\n",
    "from sklearn.model_selection import GridSearchCV\n",
    "# 패러메터 범위설정\n",
    "params = {\n",
    "    'criterion': ['entropy'],    \n",
    "    'max_depth': [2, 4, 6, 8, 10],\n",
    "    'min_samples_leaf': [10, 20, 30, 40, 50],\n",
    "}"
   ]
  },
  {
   "cell_type": "code",
   "execution_count": 155,
   "metadata": {},
   "outputs": [],
   "source": [
    "# 그리드 서치의 실행조건을 설정\n",
    "clf_gs = GridSearchCV(tree.DecisionTreeClassifier(), params, \n",
    "                cv=KFold(n_splits=10, shuffle=True), scoring='accuracy')"
   ]
  },
  {
   "cell_type": "code",
   "execution_count": 156,
   "metadata": {},
   "outputs": [
    {
     "data": {
      "text/plain": [
       "0.7203947368421053"
      ]
     },
     "execution_count": 156,
     "metadata": {},
     "output_type": "execute_result"
    }
   ],
   "source": [
    "from sklearn.tree import DecisionTreeClassifier\n",
    "tree11 = DecisionTreeClassifier(max_depth=6, random_state=0)\n",
    "tree11.fit(X, Y).score(X[test_id],Y[test_id])"
   ]
  },
  {
   "cell_type": "code",
   "execution_count": 157,
   "metadata": {},
   "outputs": [
    {
     "data": {
      "text/plain": [
       "GridSearchCV(cv=KFold(n_splits=10, random_state=None, shuffle=True),\n",
       "             estimator=DecisionTreeClassifier(),\n",
       "             param_grid={'criterion': ['entropy'],\n",
       "                         'max_depth': [2, 4, 6, 8, 10],\n",
       "                         'min_samples_leaf': [10, 20, 30, 40, 50]},\n",
       "             scoring='accuracy')"
      ]
     },
     "execution_count": 157,
     "metadata": {},
     "output_type": "execute_result"
    }
   ],
   "source": [
    "# 그리드 서치 실행\n",
    "clf_gs.fit(X, Y)"
   ]
  },
  {
   "cell_type": "code",
   "execution_count": 158,
   "metadata": {},
   "outputs": [
    {
     "name": "stdout",
     "output_type": "stream",
     "text": [
      "0.6268949525452976\n",
      "{'criterion': 'entropy', 'max_depth': 4, 'min_samples_leaf': 50}\n"
     ]
    }
   ],
   "source": [
    "# 가장 높은 성능일 때의 모델에 대한 정밀도와 파라미터 조합 확인\n",
    "print(clf_gs.best_score_)\n",
    "print(clf_gs.best_params_)"
   ]
  },
  {
   "cell_type": "code",
   "execution_count": 159,
   "metadata": {},
   "outputs": [
    {
     "data": {
      "text/plain": [
       "DecisionTreeClassifier(criterion='entropy', max_depth=10, min_samples_leaf=20)"
      ]
     },
     "execution_count": 159,
     "metadata": {},
     "output_type": "execute_result"
    }
   ],
   "source": [
    "{'criterion': 'entropy', 'max_depth': 6, 'min_samples_leaf': 30}\n",
    "# 최적의 파라미터를 사용한 모델 완성\n",
    "clf_best = tree.DecisionTreeClassifier(\n",
    "    criterion='entropy', max_depth=10, min_samples_leaf=20)\n",
    "clf_best.fit(X, Y)"
   ]
  },
  {
   "cell_type": "code",
   "execution_count": 160,
   "metadata": {},
   "outputs": [
    {
     "name": "stdout",
     "output_type": "stream",
     "text": [
      "[0.4420219  0.0380363  0.0251045  0.07899004 0.02986328 0.02273963\n",
      " 0.00427294 0.04009908 0.10400036 0.03769845 0.02037303 0.01923879\n",
      " 0.00392423 0.04496221 0.0238038  0.03200275 0.03286869]\n"
     ]
    }
   ],
   "source": [
    "# 영향이 높은 변수를 확인\n",
    "print(clf_best.feature_importances_)"
   ]
  },
  {
   "cell_type": "markdown",
   "metadata": {},
   "source": [
    "#### 변수의 영향도 시각화"
   ]
  },
  {
   "cell_type": "code",
   "execution_count": 161,
   "metadata": {},
   "outputs": [
    {
     "data": {
      "text/html": [
       "        <script type=\"text/javascript\">\n",
       "        window.PlotlyConfig = {MathJaxConfig: 'local'};\n",
       "        if (window.MathJax) {MathJax.Hub.Config({SVG: {font: \"STIX-Web\"}});}\n",
       "        if (typeof require !== 'undefined') {\n",
       "        require.undef(\"plotly\");\n",
       "        requirejs.config({\n",
       "            paths: {\n",
       "                'plotly': ['https://cdn.plot.ly/plotly-latest.min']\n",
       "            }\n",
       "        });\n",
       "        require(['plotly'], function(Plotly) {\n",
       "            window._Plotly = Plotly;\n",
       "        });\n",
       "        }\n",
       "        </script>\n",
       "        "
      ]
     },
     "metadata": {},
     "output_type": "display_data"
    }
   ],
   "source": [
    "import matplotlib.pyplot as plt\n",
    "%matplotlib inline\n",
    "\n",
    "import plotly.offline as py\n",
    "py.init_notebook_mode(connected=True)\n",
    "\n",
    "import plotly.graph_objs as go\n",
    "import plotly.tools as tls\n",
    "\n",
    "from sklearn.model_selection import train_test_split"
   ]
  },
  {
   "cell_type": "code",
   "execution_count": 162,
   "metadata": {},
   "outputs": [
    {
     "data": {
      "text/plain": [
       "array(['gender', '총구매액', '구매건수', '평균구매가격', '평균할부개월수', '구매브랜드종류', '내점일수',\n",
       "       '수입상품_구매비율', '주말방문비율', '가을_구매건수', '겨울_구매건수', '봄_구매건수', '여름_구매건수',\n",
       "       '아침_구매건수', '저녁_구매건수', '점심_구매건수', '주구매코너'], dtype=object)"
      ]
     },
     "execution_count": 162,
     "metadata": {},
     "output_type": "execute_result"
    }
   ],
   "source": [
    "features = ndf_new.drop(['custid'], axis=1).columns.values\n",
    "features"
   ]
  },
  {
   "cell_type": "code",
   "execution_count": 163,
   "metadata": {},
   "outputs": [
    {
     "data": {
      "application/vnd.plotly.v1+json": {
       "config": {
        "linkText": "Export to plot.ly",
        "plotlyServerURL": "https://plot.ly",
        "showLink": false
       },
       "data": [
        {
         "marker": {
          "color": [
           0.442021899795231,
           0.03803629927230082,
           0.025104501959870268,
           0.07899004242661059,
           0.029863283187640866,
           0.022739627753829622,
           0.00427294426659947,
           0.04009907717242944,
           0.10400035986420662,
           0.037698452257774816,
           0.020373033643116246,
           0.019238791235477466,
           0.003924226237368768,
           0.044962214232304815,
           0.02380380144845428,
           0.0320027503853816,
           0.032868694861403314
          ],
          "colorscale": [
           [
            0,
            "rgb(12,51,131)"
           ],
           [
            0.25,
            "rgb(10,136,186)"
           ],
           [
            0.5,
            "rgb(242,211,56)"
           ],
           [
            0.75,
            "rgb(242,143,56)"
           ],
           [
            1,
            "rgb(217,30,30)"
           ]
          ],
          "showscale": true,
          "size": 13,
          "sizemode": "diameter",
          "sizeref": 1
         },
         "mode": "markers",
         "text": [
          "gender",
          "총구매액",
          "구매건수",
          "평균구매가격",
          "평균할부개월수",
          "구매브랜드종류",
          "내점일수",
          "수입상품_구매비율",
          "주말방문비율",
          "가을_구매건수",
          "겨울_구매건수",
          "봄_구매건수",
          "여름_구매건수",
          "아침_구매건수",
          "저녁_구매건수",
          "점심_구매건수",
          "주구매코너"
         ],
         "type": "scatter",
         "x": [
          "gender",
          "총구매액",
          "구매건수",
          "평균구매가격",
          "평균할부개월수",
          "구매브랜드종류",
          "내점일수",
          "수입상품_구매비율",
          "주말방문비율",
          "가을_구매건수",
          "겨울_구매건수",
          "봄_구매건수",
          "여름_구매건수",
          "아침_구매건수",
          "저녁_구매건수",
          "점심_구매건수",
          "주구매코너"
         ],
         "y": [
          0.442021899795231,
          0.03803629927230082,
          0.025104501959870268,
          0.07899004242661059,
          0.029863283187640866,
          0.022739627753829622,
          0.00427294426659947,
          0.04009907717242944,
          0.10400035986420662,
          0.037698452257774816,
          0.020373033643116246,
          0.019238791235477466,
          0.003924226237368768,
          0.044962214232304815,
          0.02380380144845428,
          0.0320027503853816,
          0.032868694861403314
         ]
        }
       ],
       "layout": {
        "autosize": true,
        "hovermode": "closest",
        "showlegend": false,
        "template": {
         "data": {
          "bar": [
           {
            "error_x": {
             "color": "#2a3f5f"
            },
            "error_y": {
             "color": "#2a3f5f"
            },
            "marker": {
             "line": {
              "color": "#E5ECF6",
              "width": 0.5
             }
            },
            "type": "bar"
           }
          ],
          "barpolar": [
           {
            "marker": {
             "line": {
              "color": "#E5ECF6",
              "width": 0.5
             }
            },
            "type": "barpolar"
           }
          ],
          "carpet": [
           {
            "aaxis": {
             "endlinecolor": "#2a3f5f",
             "gridcolor": "white",
             "linecolor": "white",
             "minorgridcolor": "white",
             "startlinecolor": "#2a3f5f"
            },
            "baxis": {
             "endlinecolor": "#2a3f5f",
             "gridcolor": "white",
             "linecolor": "white",
             "minorgridcolor": "white",
             "startlinecolor": "#2a3f5f"
            },
            "type": "carpet"
           }
          ],
          "choropleth": [
           {
            "colorbar": {
             "outlinewidth": 0,
             "ticks": ""
            },
            "type": "choropleth"
           }
          ],
          "contour": [
           {
            "colorbar": {
             "outlinewidth": 0,
             "ticks": ""
            },
            "colorscale": [
             [
              0,
              "#0d0887"
             ],
             [
              0.1111111111111111,
              "#46039f"
             ],
             [
              0.2222222222222222,
              "#7201a8"
             ],
             [
              0.3333333333333333,
              "#9c179e"
             ],
             [
              0.4444444444444444,
              "#bd3786"
             ],
             [
              0.5555555555555556,
              "#d8576b"
             ],
             [
              0.6666666666666666,
              "#ed7953"
             ],
             [
              0.7777777777777778,
              "#fb9f3a"
             ],
             [
              0.8888888888888888,
              "#fdca26"
             ],
             [
              1,
              "#f0f921"
             ]
            ],
            "type": "contour"
           }
          ],
          "contourcarpet": [
           {
            "colorbar": {
             "outlinewidth": 0,
             "ticks": ""
            },
            "type": "contourcarpet"
           }
          ],
          "heatmap": [
           {
            "colorbar": {
             "outlinewidth": 0,
             "ticks": ""
            },
            "colorscale": [
             [
              0,
              "#0d0887"
             ],
             [
              0.1111111111111111,
              "#46039f"
             ],
             [
              0.2222222222222222,
              "#7201a8"
             ],
             [
              0.3333333333333333,
              "#9c179e"
             ],
             [
              0.4444444444444444,
              "#bd3786"
             ],
             [
              0.5555555555555556,
              "#d8576b"
             ],
             [
              0.6666666666666666,
              "#ed7953"
             ],
             [
              0.7777777777777778,
              "#fb9f3a"
             ],
             [
              0.8888888888888888,
              "#fdca26"
             ],
             [
              1,
              "#f0f921"
             ]
            ],
            "type": "heatmap"
           }
          ],
          "heatmapgl": [
           {
            "colorbar": {
             "outlinewidth": 0,
             "ticks": ""
            },
            "colorscale": [
             [
              0,
              "#0d0887"
             ],
             [
              0.1111111111111111,
              "#46039f"
             ],
             [
              0.2222222222222222,
              "#7201a8"
             ],
             [
              0.3333333333333333,
              "#9c179e"
             ],
             [
              0.4444444444444444,
              "#bd3786"
             ],
             [
              0.5555555555555556,
              "#d8576b"
             ],
             [
              0.6666666666666666,
              "#ed7953"
             ],
             [
              0.7777777777777778,
              "#fb9f3a"
             ],
             [
              0.8888888888888888,
              "#fdca26"
             ],
             [
              1,
              "#f0f921"
             ]
            ],
            "type": "heatmapgl"
           }
          ],
          "histogram": [
           {
            "marker": {
             "colorbar": {
              "outlinewidth": 0,
              "ticks": ""
             }
            },
            "type": "histogram"
           }
          ],
          "histogram2d": [
           {
            "colorbar": {
             "outlinewidth": 0,
             "ticks": ""
            },
            "colorscale": [
             [
              0,
              "#0d0887"
             ],
             [
              0.1111111111111111,
              "#46039f"
             ],
             [
              0.2222222222222222,
              "#7201a8"
             ],
             [
              0.3333333333333333,
              "#9c179e"
             ],
             [
              0.4444444444444444,
              "#bd3786"
             ],
             [
              0.5555555555555556,
              "#d8576b"
             ],
             [
              0.6666666666666666,
              "#ed7953"
             ],
             [
              0.7777777777777778,
              "#fb9f3a"
             ],
             [
              0.8888888888888888,
              "#fdca26"
             ],
             [
              1,
              "#f0f921"
             ]
            ],
            "type": "histogram2d"
           }
          ],
          "histogram2dcontour": [
           {
            "colorbar": {
             "outlinewidth": 0,
             "ticks": ""
            },
            "colorscale": [
             [
              0,
              "#0d0887"
             ],
             [
              0.1111111111111111,
              "#46039f"
             ],
             [
              0.2222222222222222,
              "#7201a8"
             ],
             [
              0.3333333333333333,
              "#9c179e"
             ],
             [
              0.4444444444444444,
              "#bd3786"
             ],
             [
              0.5555555555555556,
              "#d8576b"
             ],
             [
              0.6666666666666666,
              "#ed7953"
             ],
             [
              0.7777777777777778,
              "#fb9f3a"
             ],
             [
              0.8888888888888888,
              "#fdca26"
             ],
             [
              1,
              "#f0f921"
             ]
            ],
            "type": "histogram2dcontour"
           }
          ],
          "mesh3d": [
           {
            "colorbar": {
             "outlinewidth": 0,
             "ticks": ""
            },
            "type": "mesh3d"
           }
          ],
          "parcoords": [
           {
            "line": {
             "colorbar": {
              "outlinewidth": 0,
              "ticks": ""
             }
            },
            "type": "parcoords"
           }
          ],
          "pie": [
           {
            "automargin": true,
            "type": "pie"
           }
          ],
          "scatter": [
           {
            "marker": {
             "colorbar": {
              "outlinewidth": 0,
              "ticks": ""
             }
            },
            "type": "scatter"
           }
          ],
          "scatter3d": [
           {
            "line": {
             "colorbar": {
              "outlinewidth": 0,
              "ticks": ""
             }
            },
            "marker": {
             "colorbar": {
              "outlinewidth": 0,
              "ticks": ""
             }
            },
            "type": "scatter3d"
           }
          ],
          "scattercarpet": [
           {
            "marker": {
             "colorbar": {
              "outlinewidth": 0,
              "ticks": ""
             }
            },
            "type": "scattercarpet"
           }
          ],
          "scattergeo": [
           {
            "marker": {
             "colorbar": {
              "outlinewidth": 0,
              "ticks": ""
             }
            },
            "type": "scattergeo"
           }
          ],
          "scattergl": [
           {
            "marker": {
             "colorbar": {
              "outlinewidth": 0,
              "ticks": ""
             }
            },
            "type": "scattergl"
           }
          ],
          "scattermapbox": [
           {
            "marker": {
             "colorbar": {
              "outlinewidth": 0,
              "ticks": ""
             }
            },
            "type": "scattermapbox"
           }
          ],
          "scatterpolar": [
           {
            "marker": {
             "colorbar": {
              "outlinewidth": 0,
              "ticks": ""
             }
            },
            "type": "scatterpolar"
           }
          ],
          "scatterpolargl": [
           {
            "marker": {
             "colorbar": {
              "outlinewidth": 0,
              "ticks": ""
             }
            },
            "type": "scatterpolargl"
           }
          ],
          "scatterternary": [
           {
            "marker": {
             "colorbar": {
              "outlinewidth": 0,
              "ticks": ""
             }
            },
            "type": "scatterternary"
           }
          ],
          "surface": [
           {
            "colorbar": {
             "outlinewidth": 0,
             "ticks": ""
            },
            "colorscale": [
             [
              0,
              "#0d0887"
             ],
             [
              0.1111111111111111,
              "#46039f"
             ],
             [
              0.2222222222222222,
              "#7201a8"
             ],
             [
              0.3333333333333333,
              "#9c179e"
             ],
             [
              0.4444444444444444,
              "#bd3786"
             ],
             [
              0.5555555555555556,
              "#d8576b"
             ],
             [
              0.6666666666666666,
              "#ed7953"
             ],
             [
              0.7777777777777778,
              "#fb9f3a"
             ],
             [
              0.8888888888888888,
              "#fdca26"
             ],
             [
              1,
              "#f0f921"
             ]
            ],
            "type": "surface"
           }
          ],
          "table": [
           {
            "cells": {
             "fill": {
              "color": "#EBF0F8"
             },
             "line": {
              "color": "white"
             }
            },
            "header": {
             "fill": {
              "color": "#C8D4E3"
             },
             "line": {
              "color": "white"
             }
            },
            "type": "table"
           }
          ]
         },
         "layout": {
          "annotationdefaults": {
           "arrowcolor": "#2a3f5f",
           "arrowhead": 0,
           "arrowwidth": 1
          },
          "autotypenumbers": "strict",
          "coloraxis": {
           "colorbar": {
            "outlinewidth": 0,
            "ticks": ""
           }
          },
          "colorscale": {
           "diverging": [
            [
             0,
             "#8e0152"
            ],
            [
             0.1,
             "#c51b7d"
            ],
            [
             0.2,
             "#de77ae"
            ],
            [
             0.3,
             "#f1b6da"
            ],
            [
             0.4,
             "#fde0ef"
            ],
            [
             0.5,
             "#f7f7f7"
            ],
            [
             0.6,
             "#e6f5d0"
            ],
            [
             0.7,
             "#b8e186"
            ],
            [
             0.8,
             "#7fbc41"
            ],
            [
             0.9,
             "#4d9221"
            ],
            [
             1,
             "#276419"
            ]
           ],
           "sequential": [
            [
             0,
             "#0d0887"
            ],
            [
             0.1111111111111111,
             "#46039f"
            ],
            [
             0.2222222222222222,
             "#7201a8"
            ],
            [
             0.3333333333333333,
             "#9c179e"
            ],
            [
             0.4444444444444444,
             "#bd3786"
            ],
            [
             0.5555555555555556,
             "#d8576b"
            ],
            [
             0.6666666666666666,
             "#ed7953"
            ],
            [
             0.7777777777777778,
             "#fb9f3a"
            ],
            [
             0.8888888888888888,
             "#fdca26"
            ],
            [
             1,
             "#f0f921"
            ]
           ],
           "sequentialminus": [
            [
             0,
             "#0d0887"
            ],
            [
             0.1111111111111111,
             "#46039f"
            ],
            [
             0.2222222222222222,
             "#7201a8"
            ],
            [
             0.3333333333333333,
             "#9c179e"
            ],
            [
             0.4444444444444444,
             "#bd3786"
            ],
            [
             0.5555555555555556,
             "#d8576b"
            ],
            [
             0.6666666666666666,
             "#ed7953"
            ],
            [
             0.7777777777777778,
             "#fb9f3a"
            ],
            [
             0.8888888888888888,
             "#fdca26"
            ],
            [
             1,
             "#f0f921"
            ]
           ]
          },
          "colorway": [
           "#636efa",
           "#EF553B",
           "#00cc96",
           "#ab63fa",
           "#FFA15A",
           "#19d3f3",
           "#FF6692",
           "#B6E880",
           "#FF97FF",
           "#FECB52"
          ],
          "font": {
           "color": "#2a3f5f"
          },
          "geo": {
           "bgcolor": "white",
           "lakecolor": "white",
           "landcolor": "#E5ECF6",
           "showlakes": true,
           "showland": true,
           "subunitcolor": "white"
          },
          "hoverlabel": {
           "align": "left"
          },
          "hovermode": "closest",
          "mapbox": {
           "style": "light"
          },
          "paper_bgcolor": "white",
          "plot_bgcolor": "#E5ECF6",
          "polar": {
           "angularaxis": {
            "gridcolor": "white",
            "linecolor": "white",
            "ticks": ""
           },
           "bgcolor": "#E5ECF6",
           "radialaxis": {
            "gridcolor": "white",
            "linecolor": "white",
            "ticks": ""
           }
          },
          "scene": {
           "xaxis": {
            "backgroundcolor": "#E5ECF6",
            "gridcolor": "white",
            "gridwidth": 2,
            "linecolor": "white",
            "showbackground": true,
            "ticks": "",
            "zerolinecolor": "white"
           },
           "yaxis": {
            "backgroundcolor": "#E5ECF6",
            "gridcolor": "white",
            "gridwidth": 2,
            "linecolor": "white",
            "showbackground": true,
            "ticks": "",
            "zerolinecolor": "white"
           },
           "zaxis": {
            "backgroundcolor": "#E5ECF6",
            "gridcolor": "white",
            "gridwidth": 2,
            "linecolor": "white",
            "showbackground": true,
            "ticks": "",
            "zerolinecolor": "white"
           }
          },
          "shapedefaults": {
           "line": {
            "color": "#2a3f5f"
           }
          },
          "ternary": {
           "aaxis": {
            "gridcolor": "white",
            "linecolor": "white",
            "ticks": ""
           },
           "baxis": {
            "gridcolor": "white",
            "linecolor": "white",
            "ticks": ""
           },
           "bgcolor": "#E5ECF6",
           "caxis": {
            "gridcolor": "white",
            "linecolor": "white",
            "ticks": ""
           }
          },
          "title": {
           "x": 0.05
          },
          "xaxis": {
           "automargin": true,
           "gridcolor": "white",
           "linecolor": "white",
           "ticks": "",
           "title": {
            "standoff": 15
           },
           "zerolinecolor": "white",
           "zerolinewidth": 2
          },
          "yaxis": {
           "automargin": true,
           "gridcolor": "white",
           "linecolor": "white",
           "ticks": "",
           "title": {
            "standoff": 15
           },
           "zerolinecolor": "white",
           "zerolinewidth": 2
          }
         }
        },
        "title": {
         "text": "H백화점 Feature Importance "
        },
        "xaxis": {
         "showgrid": false,
         "showline": false,
         "ticklen": 5,
         "zeroline": false
        },
        "yaxis": {
         "gridwidth": 2,
         "showgrid": false,
         "ticklen": 5,
         "title": {
          "text": "Feature Importance"
         },
         "zeroline": false
        }
       }
      },
      "text/html": [
       "<div>                            <div id=\"a102a0c9-6a4d-4e44-89de-9a237a8927c1\" class=\"plotly-graph-div\" style=\"height:525px; width:100%;\"></div>            <script type=\"text/javascript\">                require([\"plotly\"], function(Plotly) {                    window.PLOTLYENV=window.PLOTLYENV || {};                                    if (document.getElementById(\"a102a0c9-6a4d-4e44-89de-9a237a8927c1\")) {                    Plotly.newPlot(                        \"a102a0c9-6a4d-4e44-89de-9a237a8927c1\",                        [{\"marker\": {\"color\": [0.442021899795231, 0.03803629927230082, 0.025104501959870268, 0.07899004242661059, 0.029863283187640866, 0.022739627753829622, 0.00427294426659947, 0.04009907717242944, 0.10400035986420662, 0.037698452257774816, 0.020373033643116246, 0.019238791235477466, 0.003924226237368768, 0.044962214232304815, 0.02380380144845428, 0.0320027503853816, 0.032868694861403314], \"colorscale\": [[0.0, \"rgb(12,51,131)\"], [0.25, \"rgb(10,136,186)\"], [0.5, \"rgb(242,211,56)\"], [0.75, \"rgb(242,143,56)\"], [1.0, \"rgb(217,30,30)\"]], \"showscale\": true, \"size\": 13, \"sizemode\": \"diameter\", \"sizeref\": 1}, \"mode\": \"markers\", \"text\": [\"gender\", \"\\ucd1d\\uad6c\\ub9e4\\uc561\", \"\\uad6c\\ub9e4\\uac74\\uc218\", \"\\ud3c9\\uade0\\uad6c\\ub9e4\\uac00\\uaca9\", \"\\ud3c9\\uade0\\ud560\\ubd80\\uac1c\\uc6d4\\uc218\", \"\\uad6c\\ub9e4\\ube0c\\ub79c\\ub4dc\\uc885\\ub958\", \"\\ub0b4\\uc810\\uc77c\\uc218\", \"\\uc218\\uc785\\uc0c1\\ud488_\\uad6c\\ub9e4\\ube44\\uc728\", \"\\uc8fc\\ub9d0\\ubc29\\ubb38\\ube44\\uc728\", \"\\uac00\\uc744_\\uad6c\\ub9e4\\uac74\\uc218\", \"\\uaca8\\uc6b8_\\uad6c\\ub9e4\\uac74\\uc218\", \"\\ubd04_\\uad6c\\ub9e4\\uac74\\uc218\", \"\\uc5ec\\ub984_\\uad6c\\ub9e4\\uac74\\uc218\", \"\\uc544\\uce68_\\uad6c\\ub9e4\\uac74\\uc218\", \"\\uc800\\ub141_\\uad6c\\ub9e4\\uac74\\uc218\", \"\\uc810\\uc2ec_\\uad6c\\ub9e4\\uac74\\uc218\", \"\\uc8fc\\uad6c\\ub9e4\\ucf54\\ub108\"], \"type\": \"scatter\", \"x\": [\"gender\", \"\\ucd1d\\uad6c\\ub9e4\\uc561\", \"\\uad6c\\ub9e4\\uac74\\uc218\", \"\\ud3c9\\uade0\\uad6c\\ub9e4\\uac00\\uaca9\", \"\\ud3c9\\uade0\\ud560\\ubd80\\uac1c\\uc6d4\\uc218\", \"\\uad6c\\ub9e4\\ube0c\\ub79c\\ub4dc\\uc885\\ub958\", \"\\ub0b4\\uc810\\uc77c\\uc218\", \"\\uc218\\uc785\\uc0c1\\ud488_\\uad6c\\ub9e4\\ube44\\uc728\", \"\\uc8fc\\ub9d0\\ubc29\\ubb38\\ube44\\uc728\", \"\\uac00\\uc744_\\uad6c\\ub9e4\\uac74\\uc218\", \"\\uaca8\\uc6b8_\\uad6c\\ub9e4\\uac74\\uc218\", \"\\ubd04_\\uad6c\\ub9e4\\uac74\\uc218\", \"\\uc5ec\\ub984_\\uad6c\\ub9e4\\uac74\\uc218\", \"\\uc544\\uce68_\\uad6c\\ub9e4\\uac74\\uc218\", \"\\uc800\\ub141_\\uad6c\\ub9e4\\uac74\\uc218\", \"\\uc810\\uc2ec_\\uad6c\\ub9e4\\uac74\\uc218\", \"\\uc8fc\\uad6c\\ub9e4\\ucf54\\ub108\"], \"y\": [0.442021899795231, 0.03803629927230082, 0.025104501959870268, 0.07899004242661059, 0.029863283187640866, 0.022739627753829622, 0.00427294426659947, 0.04009907717242944, 0.10400035986420662, 0.037698452257774816, 0.020373033643116246, 0.019238791235477466, 0.003924226237368768, 0.044962214232304815, 0.02380380144845428, 0.0320027503853816, 0.032868694861403314]}],                        {\"autosize\": true, \"hovermode\": \"closest\", \"showlegend\": false, \"template\": {\"data\": {\"bar\": [{\"error_x\": {\"color\": \"#2a3f5f\"}, \"error_y\": {\"color\": \"#2a3f5f\"}, \"marker\": {\"line\": {\"color\": \"#E5ECF6\", \"width\": 0.5}}, \"type\": \"bar\"}], \"barpolar\": [{\"marker\": {\"line\": {\"color\": \"#E5ECF6\", \"width\": 0.5}}, \"type\": \"barpolar\"}], \"carpet\": [{\"aaxis\": {\"endlinecolor\": \"#2a3f5f\", \"gridcolor\": \"white\", \"linecolor\": \"white\", \"minorgridcolor\": \"white\", \"startlinecolor\": \"#2a3f5f\"}, \"baxis\": {\"endlinecolor\": \"#2a3f5f\", \"gridcolor\": \"white\", \"linecolor\": \"white\", \"minorgridcolor\": \"white\", \"startlinecolor\": \"#2a3f5f\"}, \"type\": \"carpet\"}], \"choropleth\": [{\"colorbar\": {\"outlinewidth\": 0, \"ticks\": \"\"}, \"type\": \"choropleth\"}], \"contour\": [{\"colorbar\": {\"outlinewidth\": 0, \"ticks\": \"\"}, \"colorscale\": [[0.0, \"#0d0887\"], [0.1111111111111111, \"#46039f\"], [0.2222222222222222, \"#7201a8\"], [0.3333333333333333, \"#9c179e\"], [0.4444444444444444, \"#bd3786\"], [0.5555555555555556, \"#d8576b\"], [0.6666666666666666, \"#ed7953\"], [0.7777777777777778, \"#fb9f3a\"], [0.8888888888888888, \"#fdca26\"], [1.0, \"#f0f921\"]], \"type\": \"contour\"}], \"contourcarpet\": [{\"colorbar\": {\"outlinewidth\": 0, \"ticks\": \"\"}, \"type\": \"contourcarpet\"}], \"heatmap\": [{\"colorbar\": {\"outlinewidth\": 0, \"ticks\": \"\"}, \"colorscale\": [[0.0, \"#0d0887\"], [0.1111111111111111, \"#46039f\"], [0.2222222222222222, \"#7201a8\"], [0.3333333333333333, \"#9c179e\"], [0.4444444444444444, \"#bd3786\"], [0.5555555555555556, \"#d8576b\"], [0.6666666666666666, \"#ed7953\"], [0.7777777777777778, \"#fb9f3a\"], [0.8888888888888888, \"#fdca26\"], [1.0, \"#f0f921\"]], \"type\": \"heatmap\"}], \"heatmapgl\": [{\"colorbar\": {\"outlinewidth\": 0, \"ticks\": \"\"}, \"colorscale\": [[0.0, \"#0d0887\"], [0.1111111111111111, \"#46039f\"], [0.2222222222222222, \"#7201a8\"], [0.3333333333333333, \"#9c179e\"], [0.4444444444444444, \"#bd3786\"], [0.5555555555555556, \"#d8576b\"], [0.6666666666666666, \"#ed7953\"], [0.7777777777777778, \"#fb9f3a\"], [0.8888888888888888, \"#fdca26\"], [1.0, \"#f0f921\"]], \"type\": \"heatmapgl\"}], \"histogram\": [{\"marker\": {\"colorbar\": {\"outlinewidth\": 0, \"ticks\": \"\"}}, \"type\": \"histogram\"}], \"histogram2d\": [{\"colorbar\": {\"outlinewidth\": 0, \"ticks\": \"\"}, \"colorscale\": [[0.0, \"#0d0887\"], [0.1111111111111111, \"#46039f\"], [0.2222222222222222, \"#7201a8\"], [0.3333333333333333, \"#9c179e\"], [0.4444444444444444, \"#bd3786\"], [0.5555555555555556, \"#d8576b\"], [0.6666666666666666, \"#ed7953\"], [0.7777777777777778, \"#fb9f3a\"], [0.8888888888888888, \"#fdca26\"], [1.0, \"#f0f921\"]], \"type\": \"histogram2d\"}], \"histogram2dcontour\": [{\"colorbar\": {\"outlinewidth\": 0, \"ticks\": \"\"}, \"colorscale\": [[0.0, \"#0d0887\"], [0.1111111111111111, \"#46039f\"], [0.2222222222222222, \"#7201a8\"], [0.3333333333333333, \"#9c179e\"], [0.4444444444444444, \"#bd3786\"], [0.5555555555555556, \"#d8576b\"], [0.6666666666666666, \"#ed7953\"], [0.7777777777777778, \"#fb9f3a\"], [0.8888888888888888, \"#fdca26\"], [1.0, \"#f0f921\"]], \"type\": \"histogram2dcontour\"}], \"mesh3d\": [{\"colorbar\": {\"outlinewidth\": 0, \"ticks\": \"\"}, \"type\": \"mesh3d\"}], \"parcoords\": [{\"line\": {\"colorbar\": {\"outlinewidth\": 0, \"ticks\": \"\"}}, \"type\": \"parcoords\"}], \"pie\": [{\"automargin\": true, \"type\": \"pie\"}], \"scatter\": [{\"marker\": {\"colorbar\": {\"outlinewidth\": 0, \"ticks\": \"\"}}, \"type\": \"scatter\"}], \"scatter3d\": [{\"line\": {\"colorbar\": {\"outlinewidth\": 0, \"ticks\": \"\"}}, \"marker\": {\"colorbar\": {\"outlinewidth\": 0, \"ticks\": \"\"}}, \"type\": \"scatter3d\"}], \"scattercarpet\": [{\"marker\": {\"colorbar\": {\"outlinewidth\": 0, \"ticks\": \"\"}}, \"type\": \"scattercarpet\"}], \"scattergeo\": [{\"marker\": {\"colorbar\": {\"outlinewidth\": 0, \"ticks\": \"\"}}, \"type\": \"scattergeo\"}], \"scattergl\": [{\"marker\": {\"colorbar\": {\"outlinewidth\": 0, \"ticks\": \"\"}}, \"type\": \"scattergl\"}], \"scattermapbox\": [{\"marker\": {\"colorbar\": {\"outlinewidth\": 0, \"ticks\": \"\"}}, \"type\": \"scattermapbox\"}], \"scatterpolar\": [{\"marker\": {\"colorbar\": {\"outlinewidth\": 0, \"ticks\": \"\"}}, \"type\": \"scatterpolar\"}], \"scatterpolargl\": [{\"marker\": {\"colorbar\": {\"outlinewidth\": 0, \"ticks\": \"\"}}, \"type\": \"scatterpolargl\"}], \"scatterternary\": [{\"marker\": {\"colorbar\": {\"outlinewidth\": 0, \"ticks\": \"\"}}, \"type\": \"scatterternary\"}], \"surface\": [{\"colorbar\": {\"outlinewidth\": 0, \"ticks\": \"\"}, \"colorscale\": [[0.0, \"#0d0887\"], [0.1111111111111111, \"#46039f\"], [0.2222222222222222, \"#7201a8\"], [0.3333333333333333, \"#9c179e\"], [0.4444444444444444, \"#bd3786\"], [0.5555555555555556, \"#d8576b\"], [0.6666666666666666, \"#ed7953\"], [0.7777777777777778, \"#fb9f3a\"], [0.8888888888888888, \"#fdca26\"], [1.0, \"#f0f921\"]], \"type\": \"surface\"}], \"table\": [{\"cells\": {\"fill\": {\"color\": \"#EBF0F8\"}, \"line\": {\"color\": \"white\"}}, \"header\": {\"fill\": {\"color\": \"#C8D4E3\"}, \"line\": {\"color\": \"white\"}}, \"type\": \"table\"}]}, \"layout\": {\"annotationdefaults\": {\"arrowcolor\": \"#2a3f5f\", \"arrowhead\": 0, \"arrowwidth\": 1}, \"autotypenumbers\": \"strict\", \"coloraxis\": {\"colorbar\": {\"outlinewidth\": 0, \"ticks\": \"\"}}, \"colorscale\": {\"diverging\": [[0, \"#8e0152\"], [0.1, \"#c51b7d\"], [0.2, \"#de77ae\"], [0.3, \"#f1b6da\"], [0.4, \"#fde0ef\"], [0.5, \"#f7f7f7\"], [0.6, \"#e6f5d0\"], [0.7, \"#b8e186\"], [0.8, \"#7fbc41\"], [0.9, \"#4d9221\"], [1, \"#276419\"]], \"sequential\": [[0.0, \"#0d0887\"], [0.1111111111111111, \"#46039f\"], [0.2222222222222222, \"#7201a8\"], [0.3333333333333333, \"#9c179e\"], [0.4444444444444444, \"#bd3786\"], [0.5555555555555556, \"#d8576b\"], [0.6666666666666666, \"#ed7953\"], [0.7777777777777778, \"#fb9f3a\"], [0.8888888888888888, \"#fdca26\"], [1.0, \"#f0f921\"]], \"sequentialminus\": [[0.0, \"#0d0887\"], [0.1111111111111111, \"#46039f\"], [0.2222222222222222, \"#7201a8\"], [0.3333333333333333, \"#9c179e\"], [0.4444444444444444, \"#bd3786\"], [0.5555555555555556, \"#d8576b\"], [0.6666666666666666, \"#ed7953\"], [0.7777777777777778, \"#fb9f3a\"], [0.8888888888888888, \"#fdca26\"], [1.0, \"#f0f921\"]]}, \"colorway\": [\"#636efa\", \"#EF553B\", \"#00cc96\", \"#ab63fa\", \"#FFA15A\", \"#19d3f3\", \"#FF6692\", \"#B6E880\", \"#FF97FF\", \"#FECB52\"], \"font\": {\"color\": \"#2a3f5f\"}, \"geo\": {\"bgcolor\": \"white\", \"lakecolor\": \"white\", \"landcolor\": \"#E5ECF6\", \"showlakes\": true, \"showland\": true, \"subunitcolor\": \"white\"}, \"hoverlabel\": {\"align\": \"left\"}, \"hovermode\": \"closest\", \"mapbox\": {\"style\": \"light\"}, \"paper_bgcolor\": \"white\", \"plot_bgcolor\": \"#E5ECF6\", \"polar\": {\"angularaxis\": {\"gridcolor\": \"white\", \"linecolor\": \"white\", \"ticks\": \"\"}, \"bgcolor\": \"#E5ECF6\", \"radialaxis\": {\"gridcolor\": \"white\", \"linecolor\": \"white\", \"ticks\": \"\"}}, \"scene\": {\"xaxis\": {\"backgroundcolor\": \"#E5ECF6\", \"gridcolor\": \"white\", \"gridwidth\": 2, \"linecolor\": \"white\", \"showbackground\": true, \"ticks\": \"\", \"zerolinecolor\": \"white\"}, \"yaxis\": {\"backgroundcolor\": \"#E5ECF6\", \"gridcolor\": \"white\", \"gridwidth\": 2, \"linecolor\": \"white\", \"showbackground\": true, \"ticks\": \"\", \"zerolinecolor\": \"white\"}, \"zaxis\": {\"backgroundcolor\": \"#E5ECF6\", \"gridcolor\": \"white\", \"gridwidth\": 2, \"linecolor\": \"white\", \"showbackground\": true, \"ticks\": \"\", \"zerolinecolor\": \"white\"}}, \"shapedefaults\": {\"line\": {\"color\": \"#2a3f5f\"}}, \"ternary\": {\"aaxis\": {\"gridcolor\": \"white\", \"linecolor\": \"white\", \"ticks\": \"\"}, \"baxis\": {\"gridcolor\": \"white\", \"linecolor\": \"white\", \"ticks\": \"\"}, \"bgcolor\": \"#E5ECF6\", \"caxis\": {\"gridcolor\": \"white\", \"linecolor\": \"white\", \"ticks\": \"\"}}, \"title\": {\"x\": 0.05}, \"xaxis\": {\"automargin\": true, \"gridcolor\": \"white\", \"linecolor\": \"white\", \"ticks\": \"\", \"title\": {\"standoff\": 15}, \"zerolinecolor\": \"white\", \"zerolinewidth\": 2}, \"yaxis\": {\"automargin\": true, \"gridcolor\": \"white\", \"linecolor\": \"white\", \"ticks\": \"\", \"title\": {\"standoff\": 15}, \"zerolinecolor\": \"white\", \"zerolinewidth\": 2}}}, \"title\": {\"text\": \"H\\ubc31\\ud654\\uc810 Feature Importance \"}, \"xaxis\": {\"showgrid\": false, \"showline\": false, \"ticklen\": 5, \"zeroline\": false}, \"yaxis\": {\"gridwidth\": 2, \"showgrid\": false, \"ticklen\": 5, \"title\": {\"text\": \"Feature Importance\"}, \"zeroline\": false}},                        {\"responsive\": true}                    ).then(function(){\n",
       "                            \n",
       "var gd = document.getElementById('a102a0c9-6a4d-4e44-89de-9a237a8927c1');\n",
       "var x = new MutationObserver(function (mutations, observer) {{\n",
       "        var display = window.getComputedStyle(gd).display;\n",
       "        if (!display || display === 'none') {{\n",
       "            console.log([gd, 'removed!']);\n",
       "            Plotly.purge(gd);\n",
       "            observer.disconnect();\n",
       "        }}\n",
       "}});\n",
       "\n",
       "// Listen for the removal of the full notebook cells\n",
       "var notebookContainer = gd.closest('#notebook-container');\n",
       "if (notebookContainer) {{\n",
       "    x.observe(notebookContainer, {childList: true});\n",
       "}}\n",
       "\n",
       "// Listen for the clearing of the current output cell\n",
       "var outputEl = gd.closest('.output');\n",
       "if (outputEl) {{\n",
       "    x.observe(outputEl, {childList: true});\n",
       "}}\n",
       "\n",
       "                        })                };                });            </script>        </div>"
      ]
     },
     "metadata": {},
     "output_type": "display_data"
    }
   ],
   "source": [
    "# Scatter plot\n",
    "trace = go.Scatter(\n",
    "    y = clf_best.feature_importances_,\n",
    "    x = features,\n",
    "    mode = 'markers',\n",
    "    marker = dict(\n",
    "                    sizemode = 'diameter',\n",
    "                    sizeref = 1,\n",
    "                    size = 13,\n",
    "                    color = clf_best.feature_importances_,\n",
    "                    colorscale = 'Portland',\n",
    "                    showscale = True\n",
    "                 ),\n",
    "    text = features\n",
    ")\n",
    "\n",
    "data = [trace]\n",
    "\n",
    "layout = go.Layout(\n",
    "    autosize = True,\n",
    "    title = 'H백화점 Feature Importance ',\n",
    "    hovermode = 'closest',\n",
    "        xaxis = dict(\n",
    "            ticklen = 5,\n",
    "            showgrid = False,\n",
    "            zeroline = False,\n",
    "            showline = False\n",
    "        ),\n",
    "        yaxis = dict(\n",
    "            title = 'Feature Importance',\n",
    "            showgrid = False,\n",
    "            zeroline = False,\n",
    "            ticklen = 5,\n",
    "            gridwidth = 2\n",
    "        ),\n",
    "        showlegend = False\n",
    ")\n",
    "\n",
    "fig = go.Figure(data=data, layout=layout)\n",
    "py.iplot(fig, filename='scatter2021')"
   ]
  },
  {
   "cell_type": "code",
   "execution_count": null,
   "metadata": {},
   "outputs": [],
   "source": []
  }
 ],
 "metadata": {
  "kernelspec": {
   "display_name": "Python 3",
   "language": "python",
   "name": "python3"
  },
  "language_info": {
   "codemirror_mode": {
    "name": "ipython",
    "version": 3
   },
   "file_extension": ".py",
   "mimetype": "text/x-python",
   "name": "python",
   "nbconvert_exporter": "python",
   "pygments_lexer": "ipython3",
   "version": "3.8.5"
  }
 },
 "nbformat": 4,
 "nbformat_minor": 4
}
