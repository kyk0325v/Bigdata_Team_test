{
 "cells": [
  {
   "cell_type": "code",
   "execution_count": 1,
   "metadata": {},
   "outputs": [],
   "source": [
    "import pandas as pd\n",
    "from pandas import Series, DataFrame\n",
    "import numpy as np\n",
    "import matplotlib.pyplot as plt\n",
    "%matplotlib inline"
   ]
  },
  {
   "cell_type": "code",
   "execution_count": 2,
   "metadata": {},
   "outputs": [
    {
     "data": {
      "text/html": [
       "<div>\n",
       "<style scoped>\n",
       "    .dataframe tbody tr th:only-of-type {\n",
       "        vertical-align: middle;\n",
       "    }\n",
       "\n",
       "    .dataframe tbody tr th {\n",
       "        vertical-align: top;\n",
       "    }\n",
       "\n",
       "    .dataframe thead th {\n",
       "        text-align: right;\n",
       "    }\n",
       "</style>\n",
       "<table border=\"1\" class=\"dataframe\">\n",
       "  <thead>\n",
       "    <tr style=\"text-align: right;\">\n",
       "      <th></th>\n",
       "      <th>custid</th>\n",
       "      <th>총구매액</th>\n",
       "      <th>구매건수</th>\n",
       "      <th>평균구매가격</th>\n",
       "      <th>평균할부개월수</th>\n",
       "      <th>구매브랜드종류</th>\n",
       "      <th>내점일수</th>\n",
       "      <th>수입상품_구매비율</th>\n",
       "      <th>주말방문비율</th>\n",
       "      <th>가을_구매건수</th>\n",
       "      <th>겨울_구매건수</th>\n",
       "      <th>봄_구매건수</th>\n",
       "      <th>여름_구매건수</th>\n",
       "      <th>아침_구매건수</th>\n",
       "      <th>저녁_구매건수</th>\n",
       "      <th>점심_구매건수</th>\n",
       "      <th>주구매코너</th>\n",
       "    </tr>\n",
       "  </thead>\n",
       "  <tbody>\n",
       "    <tr>\n",
       "      <th>0</th>\n",
       "      <td>100001</td>\n",
       "      <td>3439000</td>\n",
       "      <td>25</td>\n",
       "      <td>137560</td>\n",
       "      <td>2.2</td>\n",
       "      <td>19</td>\n",
       "      <td>16</td>\n",
       "      <td>12.0</td>\n",
       "      <td>31.2</td>\n",
       "      <td>5.0</td>\n",
       "      <td>4.0</td>\n",
       "      <td>7.0</td>\n",
       "      <td>9.0</td>\n",
       "      <td>13.0</td>\n",
       "      <td>1.0</td>\n",
       "      <td>11.0</td>\n",
       "      <td>장신구</td>\n",
       "    </tr>\n",
       "    <tr>\n",
       "      <th>1</th>\n",
       "      <td>100002</td>\n",
       "      <td>2073090</td>\n",
       "      <td>39</td>\n",
       "      <td>53156</td>\n",
       "      <td>1.3</td>\n",
       "      <td>18</td>\n",
       "      <td>29</td>\n",
       "      <td>0.0</td>\n",
       "      <td>20.7</td>\n",
       "      <td>13.0</td>\n",
       "      <td>8.0</td>\n",
       "      <td>10.0</td>\n",
       "      <td>8.0</td>\n",
       "      <td>4.0</td>\n",
       "      <td>10.0</td>\n",
       "      <td>25.0</td>\n",
       "      <td>유아동복</td>\n",
       "    </tr>\n",
       "    <tr>\n",
       "      <th>2</th>\n",
       "      <td>100003</td>\n",
       "      <td>1303800</td>\n",
       "      <td>22</td>\n",
       "      <td>59264</td>\n",
       "      <td>1.8</td>\n",
       "      <td>14</td>\n",
       "      <td>12</td>\n",
       "      <td>0.0</td>\n",
       "      <td>41.7</td>\n",
       "      <td>6.0</td>\n",
       "      <td>7.0</td>\n",
       "      <td>3.0</td>\n",
       "      <td>6.0</td>\n",
       "      <td>3.0</td>\n",
       "      <td>1.0</td>\n",
       "      <td>18.0</td>\n",
       "      <td>유아동복</td>\n",
       "    </tr>\n",
       "    <tr>\n",
       "      <th>3</th>\n",
       "      <td>100004</td>\n",
       "      <td>6696522</td>\n",
       "      <td>46</td>\n",
       "      <td>145577</td>\n",
       "      <td>1.7</td>\n",
       "      <td>31</td>\n",
       "      <td>22</td>\n",
       "      <td>37.0</td>\n",
       "      <td>50.0</td>\n",
       "      <td>5.0</td>\n",
       "      <td>15.0</td>\n",
       "      <td>9.0</td>\n",
       "      <td>17.0</td>\n",
       "      <td>NaN</td>\n",
       "      <td>4.0</td>\n",
       "      <td>42.0</td>\n",
       "      <td>수입명품</td>\n",
       "    </tr>\n",
       "    <tr>\n",
       "      <th>4</th>\n",
       "      <td>100005</td>\n",
       "      <td>1297640</td>\n",
       "      <td>26</td>\n",
       "      <td>49909</td>\n",
       "      <td>2.3</td>\n",
       "      <td>13</td>\n",
       "      <td>9</td>\n",
       "      <td>11.5</td>\n",
       "      <td>22.2</td>\n",
       "      <td>18.0</td>\n",
       "      <td>NaN</td>\n",
       "      <td>5.0</td>\n",
       "      <td>3.0</td>\n",
       "      <td>NaN</td>\n",
       "      <td>NaN</td>\n",
       "      <td>26.0</td>\n",
       "      <td>스포츠</td>\n",
       "    </tr>\n",
       "  </tbody>\n",
       "</table>\n",
       "</div>"
      ],
      "text/plain": [
       "   custid     총구매액  구매건수  평균구매가격  평균할부개월수  구매브랜드종류  내점일수  수입상품_구매비율  주말방문비율  \\\n",
       "0  100001  3439000    25  137560      2.2       19    16       12.0    31.2   \n",
       "1  100002  2073090    39   53156      1.3       18    29        0.0    20.7   \n",
       "2  100003  1303800    22   59264      1.8       14    12        0.0    41.7   \n",
       "3  100004  6696522    46  145577      1.7       31    22       37.0    50.0   \n",
       "4  100005  1297640    26   49909      2.3       13     9       11.5    22.2   \n",
       "\n",
       "   가을_구매건수  겨울_구매건수  봄_구매건수  여름_구매건수  아침_구매건수  저녁_구매건수  점심_구매건수 주구매코너  \n",
       "0      5.0      4.0     7.0      9.0     13.0      1.0     11.0   장신구  \n",
       "1     13.0      8.0    10.0      8.0      4.0     10.0     25.0  유아동복  \n",
       "2      6.0      7.0     3.0      6.0      3.0      1.0     18.0  유아동복  \n",
       "3      5.0     15.0     9.0     17.0      NaN      4.0     42.0  수입명품  \n",
       "4     18.0      NaN     5.0      3.0      NaN      NaN     26.0   스포츠  "
      ]
     },
     "execution_count": 2,
     "metadata": {},
     "output_type": "execute_result"
    }
   ],
   "source": [
    "test = pd.read_csv('D:\\python\\연습\\store/test.csv',encoding='CP949')\n",
    "test.head()"
   ]
  },
  {
   "cell_type": "code",
   "execution_count": 3,
   "metadata": {},
   "outputs": [
    {
     "name": "stdout",
     "output_type": "stream",
     "text": [
      "<class 'pandas.core.frame.DataFrame'>\n",
      "RangeIndex: 5000 entries, 0 to 4999\n",
      "Data columns (total 17 columns):\n",
      " #   Column     Non-Null Count  Dtype  \n",
      "---  ------     --------------  -----  \n",
      " 0   custid     5000 non-null   int64  \n",
      " 1   총구매액       5000 non-null   int64  \n",
      " 2   구매건수       5000 non-null   int64  \n",
      " 3   평균구매가격     5000 non-null   int64  \n",
      " 4   평균할부개월수    5000 non-null   float64\n",
      " 5   구매브랜드종류    5000 non-null   int64  \n",
      " 6   내점일수       5000 non-null   int64  \n",
      " 7   수입상품_구매비율  5000 non-null   float64\n",
      " 8   주말방문비율     5000 non-null   float64\n",
      " 9   가을_구매건수    4052 non-null   float64\n",
      " 10  겨울_구매건수    4089 non-null   float64\n",
      " 11  봄_구매건수     4319 non-null   float64\n",
      " 12  여름_구매건수    4009 non-null   float64\n",
      " 13  아침_구매건수    3608 non-null   float64\n",
      " 14  저녁_구매건수    3975 non-null   float64\n",
      " 15  점심_구매건수    4861 non-null   float64\n",
      " 16  주구매코너      5000 non-null   object \n",
      "dtypes: float64(10), int64(6), object(1)\n",
      "memory usage: 664.2+ KB\n"
     ]
    }
   ],
   "source": [
    "test.info()"
   ]
  },
  {
   "cell_type": "markdown",
   "metadata": {},
   "source": [
    "#### 데이터의 행수, 열수를 확인"
   ]
  },
  {
   "cell_type": "code",
   "execution_count": 4,
   "metadata": {},
   "outputs": [
    {
     "data": {
      "text/plain": [
       "(5000, 17)"
      ]
     },
     "execution_count": 4,
     "metadata": {},
     "output_type": "execute_result"
    }
   ],
   "source": [
    "test.shape"
   ]
  },
  {
   "cell_type": "markdown",
   "metadata": {},
   "source": [
    "#### 데이터 형을 확인"
   ]
  },
  {
   "cell_type": "code",
   "execution_count": 5,
   "metadata": {},
   "outputs": [
    {
     "data": {
      "text/plain": [
       "custid         int64\n",
       "총구매액           int64\n",
       "구매건수           int64\n",
       "평균구매가격         int64\n",
       "평균할부개월수      float64\n",
       "구매브랜드종류        int64\n",
       "내점일수           int64\n",
       "수입상품_구매비율    float64\n",
       "주말방문비율       float64\n",
       "가을_구매건수      float64\n",
       "겨울_구매건수      float64\n",
       "봄_구매건수       float64\n",
       "여름_구매건수      float64\n",
       "아침_구매건수      float64\n",
       "저녁_구매건수      float64\n",
       "점심_구매건수      float64\n",
       "주구매코너         object\n",
       "dtype: object"
      ]
     },
     "execution_count": 5,
     "metadata": {},
     "output_type": "execute_result"
    }
   ],
   "source": [
    "test.dtypes"
   ]
  },
  {
   "cell_type": "markdown",
   "metadata": {},
   "source": [
    "#### 결손값, 결측치, 결측값 확인"
   ]
  },
  {
   "cell_type": "code",
   "execution_count": 6,
   "metadata": {},
   "outputs": [
    {
     "data": {
      "text/plain": [
       "6087"
      ]
     },
     "execution_count": 6,
     "metadata": {},
     "output_type": "execute_result"
    }
   ],
   "source": [
    "test.isnull().sum().sum()"
   ]
  },
  {
   "cell_type": "markdown",
   "metadata": {},
   "source": [
    "#### 데이터행별 결손값의 개수가 많은 순서로 정렬"
   ]
  },
  {
   "cell_type": "code",
   "execution_count": 7,
   "metadata": {},
   "outputs": [
    {
     "data": {
      "text/plain": [
       "아침_구매건수      1392\n",
       "저녁_구매건수      1025\n",
       "여름_구매건수       991\n",
       "가을_구매건수       948\n",
       "겨울_구매건수       911\n",
       "봄_구매건수        681\n",
       "점심_구매건수       139\n",
       "주구매코너           0\n",
       "평균할부개월수         0\n",
       "총구매액            0\n",
       "구매건수            0\n",
       "평균구매가격          0\n",
       "주말방문비율          0\n",
       "구매브랜드종류         0\n",
       "내점일수            0\n",
       "수입상품_구매비율       0\n",
       "custid          0\n",
       "dtype: int64"
      ]
     },
     "execution_count": 7,
     "metadata": {},
     "output_type": "execute_result"
    }
   ],
   "source": [
    "test.isnull().sum(axis=0).sort_values(ascending=False)"
   ]
  },
  {
   "cell_type": "markdown",
   "metadata": {},
   "source": [
    "#### 데이터형이 수치형인 각종 통계량의 계산"
   ]
  },
  {
   "cell_type": "code",
   "execution_count": 8,
   "metadata": {},
   "outputs": [
    {
     "data": {
      "text/html": [
       "<div>\n",
       "<style scoped>\n",
       "    .dataframe tbody tr th:only-of-type {\n",
       "        vertical-align: middle;\n",
       "    }\n",
       "\n",
       "    .dataframe tbody tr th {\n",
       "        vertical-align: top;\n",
       "    }\n",
       "\n",
       "    .dataframe thead th {\n",
       "        text-align: right;\n",
       "    }\n",
       "</style>\n",
       "<table border=\"1\" class=\"dataframe\">\n",
       "  <thead>\n",
       "    <tr style=\"text-align: right;\">\n",
       "      <th></th>\n",
       "      <th>custid</th>\n",
       "      <th>총구매액</th>\n",
       "      <th>구매건수</th>\n",
       "      <th>평균구매가격</th>\n",
       "      <th>평균할부개월수</th>\n",
       "      <th>구매브랜드종류</th>\n",
       "      <th>내점일수</th>\n",
       "      <th>수입상품_구매비율</th>\n",
       "      <th>주말방문비율</th>\n",
       "      <th>가을_구매건수</th>\n",
       "      <th>겨울_구매건수</th>\n",
       "      <th>봄_구매건수</th>\n",
       "      <th>여름_구매건수</th>\n",
       "      <th>아침_구매건수</th>\n",
       "      <th>저녁_구매건수</th>\n",
       "      <th>점심_구매건수</th>\n",
       "    </tr>\n",
       "  </thead>\n",
       "  <tbody>\n",
       "    <tr>\n",
       "      <th>count</th>\n",
       "      <td>5000.000000</td>\n",
       "      <td>5.000000e+03</td>\n",
       "      <td>5000.000000</td>\n",
       "      <td>5.000000e+03</td>\n",
       "      <td>5000.00000</td>\n",
       "      <td>5000.000000</td>\n",
       "      <td>5000.000000</td>\n",
       "      <td>5000.000000</td>\n",
       "      <td>5000.00000</td>\n",
       "      <td>4052.000000</td>\n",
       "      <td>4089.000000</td>\n",
       "      <td>4319.000000</td>\n",
       "      <td>4009.000000</td>\n",
       "      <td>3608.000000</td>\n",
       "      <td>3975.000000</td>\n",
       "      <td>4861.000000</td>\n",
       "    </tr>\n",
       "    <tr>\n",
       "      <th>mean</th>\n",
       "      <td>102500.500000</td>\n",
       "      <td>3.441780e+06</td>\n",
       "      <td>34.811400</td>\n",
       "      <td>1.012712e+05</td>\n",
       "      <td>1.90960</td>\n",
       "      <td>17.703400</td>\n",
       "      <td>18.060400</td>\n",
       "      <td>17.448680</td>\n",
       "      <td>38.59578</td>\n",
       "      <td>10.469891</td>\n",
       "      <td>9.895573</td>\n",
       "      <td>10.624682</td>\n",
       "      <td>11.295086</td>\n",
       "      <td>8.595621</td>\n",
       "      <td>9.521258</td>\n",
       "      <td>21.641020</td>\n",
       "    </tr>\n",
       "    <tr>\n",
       "      <th>std</th>\n",
       "      <td>1443.520003</td>\n",
       "      <td>4.992757e+06</td>\n",
       "      <td>40.082429</td>\n",
       "      <td>8.359185e+04</td>\n",
       "      <td>0.72939</td>\n",
       "      <td>14.922063</td>\n",
       "      <td>19.313637</td>\n",
       "      <td>18.566486</td>\n",
       "      <td>24.25075</td>\n",
       "      <td>11.749245</td>\n",
       "      <td>11.357972</td>\n",
       "      <td>11.734012</td>\n",
       "      <td>12.038547</td>\n",
       "      <td>13.003838</td>\n",
       "      <td>13.082006</td>\n",
       "      <td>25.838899</td>\n",
       "    </tr>\n",
       "    <tr>\n",
       "      <th>min</th>\n",
       "      <td>100001.000000</td>\n",
       "      <td>-6.696500e+04</td>\n",
       "      <td>1.000000</td>\n",
       "      <td>-1.196000e+03</td>\n",
       "      <td>1.00000</td>\n",
       "      <td>1.000000</td>\n",
       "      <td>1.000000</td>\n",
       "      <td>0.000000</td>\n",
       "      <td>0.00000</td>\n",
       "      <td>1.000000</td>\n",
       "      <td>1.000000</td>\n",
       "      <td>1.000000</td>\n",
       "      <td>1.000000</td>\n",
       "      <td>1.000000</td>\n",
       "      <td>1.000000</td>\n",
       "      <td>1.000000</td>\n",
       "    </tr>\n",
       "    <tr>\n",
       "      <th>25%</th>\n",
       "      <td>101250.750000</td>\n",
       "      <td>7.183012e+05</td>\n",
       "      <td>10.000000</td>\n",
       "      <td>5.499500e+04</td>\n",
       "      <td>1.40000</td>\n",
       "      <td>7.000000</td>\n",
       "      <td>6.000000</td>\n",
       "      <td>5.100000</td>\n",
       "      <td>22.90000</td>\n",
       "      <td>3.000000</td>\n",
       "      <td>3.000000</td>\n",
       "      <td>3.000000</td>\n",
       "      <td>3.000000</td>\n",
       "      <td>2.000000</td>\n",
       "      <td>2.000000</td>\n",
       "      <td>6.000000</td>\n",
       "    </tr>\n",
       "    <tr>\n",
       "      <th>50%</th>\n",
       "      <td>102500.500000</td>\n",
       "      <td>1.839293e+06</td>\n",
       "      <td>22.000000</td>\n",
       "      <td>8.164500e+04</td>\n",
       "      <td>1.80000</td>\n",
       "      <td>13.000000</td>\n",
       "      <td>12.000000</td>\n",
       "      <td>12.500000</td>\n",
       "      <td>35.00000</td>\n",
       "      <td>7.000000</td>\n",
       "      <td>6.000000</td>\n",
       "      <td>7.000000</td>\n",
       "      <td>7.000000</td>\n",
       "      <td>4.000000</td>\n",
       "      <td>5.000000</td>\n",
       "      <td>13.000000</td>\n",
       "    </tr>\n",
       "    <tr>\n",
       "      <th>75%</th>\n",
       "      <td>103750.250000</td>\n",
       "      <td>4.085492e+06</td>\n",
       "      <td>44.000000</td>\n",
       "      <td>1.215162e+05</td>\n",
       "      <td>2.30000</td>\n",
       "      <td>24.000000</td>\n",
       "      <td>23.000000</td>\n",
       "      <td>24.000000</td>\n",
       "      <td>50.00000</td>\n",
       "      <td>13.000000</td>\n",
       "      <td>13.000000</td>\n",
       "      <td>14.000000</td>\n",
       "      <td>15.000000</td>\n",
       "      <td>10.000000</td>\n",
       "      <td>11.000000</td>\n",
       "      <td>27.000000</td>\n",
       "    </tr>\n",
       "    <tr>\n",
       "      <th>max</th>\n",
       "      <td>105000.000000</td>\n",
       "      <td>6.440467e+07</td>\n",
       "      <td>474.000000</td>\n",
       "      <td>1.887526e+06</td>\n",
       "      <td>12.00000</td>\n",
       "      <td>147.000000</td>\n",
       "      <td>187.000000</td>\n",
       "      <td>100.000000</td>\n",
       "      <td>100.00000</td>\n",
       "      <td>159.000000</td>\n",
       "      <td>158.000000</td>\n",
       "      <td>164.000000</td>\n",
       "      <td>109.000000</td>\n",
       "      <td>220.000000</td>\n",
       "      <td>227.000000</td>\n",
       "      <td>275.000000</td>\n",
       "    </tr>\n",
       "  </tbody>\n",
       "</table>\n",
       "</div>"
      ],
      "text/plain": [
       "              custid          총구매액         구매건수        평균구매가격     평균할부개월수  \\\n",
       "count    5000.000000  5.000000e+03  5000.000000  5.000000e+03  5000.00000   \n",
       "mean   102500.500000  3.441780e+06    34.811400  1.012712e+05     1.90960   \n",
       "std      1443.520003  4.992757e+06    40.082429  8.359185e+04     0.72939   \n",
       "min    100001.000000 -6.696500e+04     1.000000 -1.196000e+03     1.00000   \n",
       "25%    101250.750000  7.183012e+05    10.000000  5.499500e+04     1.40000   \n",
       "50%    102500.500000  1.839293e+06    22.000000  8.164500e+04     1.80000   \n",
       "75%    103750.250000  4.085492e+06    44.000000  1.215162e+05     2.30000   \n",
       "max    105000.000000  6.440467e+07   474.000000  1.887526e+06    12.00000   \n",
       "\n",
       "           구매브랜드종류         내점일수    수입상품_구매비율      주말방문비율      가을_구매건수  \\\n",
       "count  5000.000000  5000.000000  5000.000000  5000.00000  4052.000000   \n",
       "mean     17.703400    18.060400    17.448680    38.59578    10.469891   \n",
       "std      14.922063    19.313637    18.566486    24.25075    11.749245   \n",
       "min       1.000000     1.000000     0.000000     0.00000     1.000000   \n",
       "25%       7.000000     6.000000     5.100000    22.90000     3.000000   \n",
       "50%      13.000000    12.000000    12.500000    35.00000     7.000000   \n",
       "75%      24.000000    23.000000    24.000000    50.00000    13.000000   \n",
       "max     147.000000   187.000000   100.000000   100.00000   159.000000   \n",
       "\n",
       "           겨울_구매건수       봄_구매건수      여름_구매건수      아침_구매건수      저녁_구매건수  \\\n",
       "count  4089.000000  4319.000000  4009.000000  3608.000000  3975.000000   \n",
       "mean      9.895573    10.624682    11.295086     8.595621     9.521258   \n",
       "std      11.357972    11.734012    12.038547    13.003838    13.082006   \n",
       "min       1.000000     1.000000     1.000000     1.000000     1.000000   \n",
       "25%       3.000000     3.000000     3.000000     2.000000     2.000000   \n",
       "50%       6.000000     7.000000     7.000000     4.000000     5.000000   \n",
       "75%      13.000000    14.000000    15.000000    10.000000    11.000000   \n",
       "max     158.000000   164.000000   109.000000   220.000000   227.000000   \n",
       "\n",
       "           점심_구매건수  \n",
       "count  4861.000000  \n",
       "mean     21.641020  \n",
       "std      25.838899  \n",
       "min       1.000000  \n",
       "25%       6.000000  \n",
       "50%      13.000000  \n",
       "75%      27.000000  \n",
       "max     275.000000  "
      ]
     },
     "execution_count": 8,
     "metadata": {},
     "output_type": "execute_result"
    }
   ],
   "source": [
    "test.describe()"
   ]
  },
  {
   "cell_type": "markdown",
   "metadata": {},
   "source": [
    "#### 데이터형이 문자열인 각종 통계량의 계산"
   ]
  },
  {
   "cell_type": "code",
   "execution_count": 9,
   "metadata": {},
   "outputs": [
    {
     "data": {
      "text/html": [
       "<div>\n",
       "<style scoped>\n",
       "    .dataframe tbody tr th:only-of-type {\n",
       "        vertical-align: middle;\n",
       "    }\n",
       "\n",
       "    .dataframe tbody tr th {\n",
       "        vertical-align: top;\n",
       "    }\n",
       "\n",
       "    .dataframe thead th {\n",
       "        text-align: right;\n",
       "    }\n",
       "</style>\n",
       "<table border=\"1\" class=\"dataframe\">\n",
       "  <thead>\n",
       "    <tr style=\"text-align: right;\">\n",
       "      <th></th>\n",
       "      <th>주구매코너</th>\n",
       "    </tr>\n",
       "  </thead>\n",
       "  <tbody>\n",
       "    <tr>\n",
       "      <th>count</th>\n",
       "      <td>5000</td>\n",
       "    </tr>\n",
       "    <tr>\n",
       "      <th>unique</th>\n",
       "      <td>25</td>\n",
       "    </tr>\n",
       "    <tr>\n",
       "      <th>top</th>\n",
       "      <td>일반식품</td>\n",
       "    </tr>\n",
       "    <tr>\n",
       "      <th>freq</th>\n",
       "      <td>1293</td>\n",
       "    </tr>\n",
       "  </tbody>\n",
       "</table>\n",
       "</div>"
      ],
      "text/plain": [
       "       주구매코너\n",
       "count   5000\n",
       "unique    25\n",
       "top     일반식품\n",
       "freq    1293"
      ]
     },
     "execution_count": 9,
     "metadata": {},
     "output_type": "execute_result"
    }
   ],
   "source": [
    "test.describe(include=[object])"
   ]
  },
  {
   "cell_type": "code",
   "execution_count": 10,
   "metadata": {},
   "outputs": [
    {
     "data": {
      "text/html": [
       "<div>\n",
       "<style scoped>\n",
       "    .dataframe tbody tr th:only-of-type {\n",
       "        vertical-align: middle;\n",
       "    }\n",
       "\n",
       "    .dataframe tbody tr th {\n",
       "        vertical-align: top;\n",
       "    }\n",
       "\n",
       "    .dataframe thead th {\n",
       "        text-align: right;\n",
       "    }\n",
       "</style>\n",
       "<table border=\"1\" class=\"dataframe\">\n",
       "  <thead>\n",
       "    <tr style=\"text-align: right;\">\n",
       "      <th></th>\n",
       "      <th>custid</th>\n",
       "      <th>gender</th>\n",
       "      <th>총구매액</th>\n",
       "      <th>구매건수</th>\n",
       "      <th>평균구매가격</th>\n",
       "      <th>평균할부개월수</th>\n",
       "      <th>구매브랜드종류</th>\n",
       "      <th>내점일수</th>\n",
       "      <th>수입상품_구매비율</th>\n",
       "      <th>주말방문비율</th>\n",
       "      <th>가을_구매건수</th>\n",
       "      <th>겨울_구매건수</th>\n",
       "      <th>봄_구매건수</th>\n",
       "      <th>여름_구매건수</th>\n",
       "      <th>아침_구매건수</th>\n",
       "      <th>저녁_구매건수</th>\n",
       "      <th>점심_구매건수</th>\n",
       "      <th>주구매코너</th>\n",
       "    </tr>\n",
       "  </thead>\n",
       "  <tbody>\n",
       "    <tr>\n",
       "      <th>0</th>\n",
       "      <td>18</td>\n",
       "      <td>0</td>\n",
       "      <td>680100</td>\n",
       "      <td>15</td>\n",
       "      <td>45340</td>\n",
       "      <td>1.7</td>\n",
       "      <td>9</td>\n",
       "      <td>10</td>\n",
       "      <td>26.7</td>\n",
       "      <td>100.0</td>\n",
       "      <td>NaN</td>\n",
       "      <td>9.0</td>\n",
       "      <td>6.0</td>\n",
       "      <td>NaN</td>\n",
       "      <td>NaN</td>\n",
       "      <td>6.0</td>\n",
       "      <td>9.0</td>\n",
       "      <td>화장품</td>\n",
       "    </tr>\n",
       "    <tr>\n",
       "      <th>1</th>\n",
       "      <td>21</td>\n",
       "      <td>0</td>\n",
       "      <td>353450</td>\n",
       "      <td>9</td>\n",
       "      <td>39272</td>\n",
       "      <td>1.2</td>\n",
       "      <td>6</td>\n",
       "      <td>8</td>\n",
       "      <td>11.1</td>\n",
       "      <td>37.5</td>\n",
       "      <td>NaN</td>\n",
       "      <td>5.0</td>\n",
       "      <td>4.0</td>\n",
       "      <td>NaN</td>\n",
       "      <td>3.0</td>\n",
       "      <td>NaN</td>\n",
       "      <td>6.0</td>\n",
       "      <td>영캐주얼</td>\n",
       "    </tr>\n",
       "    <tr>\n",
       "      <th>2</th>\n",
       "      <td>23</td>\n",
       "      <td>0</td>\n",
       "      <td>5671400</td>\n",
       "      <td>36</td>\n",
       "      <td>157539</td>\n",
       "      <td>2.8</td>\n",
       "      <td>22</td>\n",
       "      <td>16</td>\n",
       "      <td>5.6</td>\n",
       "      <td>37.5</td>\n",
       "      <td>7.0</td>\n",
       "      <td>17.0</td>\n",
       "      <td>12.0</td>\n",
       "      <td>NaN</td>\n",
       "      <td>10.0</td>\n",
       "      <td>11.0</td>\n",
       "      <td>15.0</td>\n",
       "      <td>장신구</td>\n",
       "    </tr>\n",
       "    <tr>\n",
       "      <th>3</th>\n",
       "      <td>26</td>\n",
       "      <td>0</td>\n",
       "      <td>1964000</td>\n",
       "      <td>28</td>\n",
       "      <td>70143</td>\n",
       "      <td>1.4</td>\n",
       "      <td>15</td>\n",
       "      <td>14</td>\n",
       "      <td>39.3</td>\n",
       "      <td>28.6</td>\n",
       "      <td>5.0</td>\n",
       "      <td>8.0</td>\n",
       "      <td>15.0</td>\n",
       "      <td>NaN</td>\n",
       "      <td>NaN</td>\n",
       "      <td>18.0</td>\n",
       "      <td>10.0</td>\n",
       "      <td>화장품</td>\n",
       "    </tr>\n",
       "    <tr>\n",
       "      <th>4</th>\n",
       "      <td>35</td>\n",
       "      <td>0</td>\n",
       "      <td>885000</td>\n",
       "      <td>5</td>\n",
       "      <td>177000</td>\n",
       "      <td>6.0</td>\n",
       "      <td>5</td>\n",
       "      <td>2</td>\n",
       "      <td>0.0</td>\n",
       "      <td>100.0</td>\n",
       "      <td>NaN</td>\n",
       "      <td>NaN</td>\n",
       "      <td>5.0</td>\n",
       "      <td>NaN</td>\n",
       "      <td>NaN</td>\n",
       "      <td>5.0</td>\n",
       "      <td>NaN</td>\n",
       "      <td>피혁A</td>\n",
       "    </tr>\n",
       "  </tbody>\n",
       "</table>\n",
       "</div>"
      ],
      "text/plain": [
       "   custid  gender     총구매액  구매건수  평균구매가격  평균할부개월수  구매브랜드종류  내점일수  수입상품_구매비율  \\\n",
       "0      18       0   680100    15   45340      1.7        9    10       26.7   \n",
       "1      21       0   353450     9   39272      1.2        6     8       11.1   \n",
       "2      23       0  5671400    36  157539      2.8       22    16        5.6   \n",
       "3      26       0  1964000    28   70143      1.4       15    14       39.3   \n",
       "4      35       0   885000     5  177000      6.0        5     2        0.0   \n",
       "\n",
       "   주말방문비율  가을_구매건수  겨울_구매건수  봄_구매건수  여름_구매건수  아침_구매건수  저녁_구매건수  점심_구매건수 주구매코너  \n",
       "0   100.0      NaN      9.0     6.0      NaN      NaN      6.0      9.0   화장품  \n",
       "1    37.5      NaN      5.0     4.0      NaN      3.0      NaN      6.0  영캐주얼  \n",
       "2    37.5      7.0     17.0    12.0      NaN     10.0     11.0     15.0   장신구  \n",
       "3    28.6      5.0      8.0    15.0      NaN      NaN     18.0     10.0   화장품  \n",
       "4   100.0      NaN      NaN     5.0      NaN      NaN      5.0      NaN   피혁A  "
      ]
     },
     "execution_count": 10,
     "metadata": {},
     "output_type": "execute_result"
    }
   ],
   "source": [
    "train = pd.read_csv('D:\\python\\연습\\store/train.csv', encoding='CP949')\n",
    "train.head()"
   ]
  },
  {
   "cell_type": "code",
   "execution_count": 11,
   "metadata": {},
   "outputs": [
    {
     "data": {
      "text/plain": [
       "custid          0\n",
       "gender          0\n",
       "총구매액            0\n",
       "구매건수            0\n",
       "평균구매가격          0\n",
       "평균할부개월수         0\n",
       "구매브랜드종류         0\n",
       "내점일수            0\n",
       "수입상품_구매비율       0\n",
       "주말방문비율          0\n",
       "가을_구매건수       945\n",
       "겨울_구매건수       897\n",
       "봄_구매건수        689\n",
       "여름_구매건수      1022\n",
       "아침_구매건수      1442\n",
       "저녁_구매건수       967\n",
       "점심_구매건수       145\n",
       "주구매코너           0\n",
       "dtype: int64"
      ]
     },
     "execution_count": 11,
     "metadata": {},
     "output_type": "execute_result"
    }
   ],
   "source": [
    "train.isnull().sum()"
   ]
  },
  {
   "cell_type": "code",
   "execution_count": 12,
   "metadata": {},
   "outputs": [
    {
     "data": {
      "text/plain": [
       "(5000, 18)"
      ]
     },
     "execution_count": 12,
     "metadata": {},
     "output_type": "execute_result"
    }
   ],
   "source": [
    "train.shape"
   ]
  },
  {
   "cell_type": "code",
   "execution_count": 13,
   "metadata": {},
   "outputs": [],
   "source": [
    "tdf = test.copy()\n",
    "ndf = train.copy()"
   ]
  },
  {
   "cell_type": "code",
   "execution_count": 14,
   "metadata": {},
   "outputs": [],
   "source": [
    "tdf['gender'] = ndf['gender']"
   ]
  },
  {
   "cell_type": "code",
   "execution_count": 15,
   "metadata": {},
   "outputs": [
    {
     "data": {
      "text/html": [
       "<div>\n",
       "<style scoped>\n",
       "    .dataframe tbody tr th:only-of-type {\n",
       "        vertical-align: middle;\n",
       "    }\n",
       "\n",
       "    .dataframe tbody tr th {\n",
       "        vertical-align: top;\n",
       "    }\n",
       "\n",
       "    .dataframe thead th {\n",
       "        text-align: right;\n",
       "    }\n",
       "</style>\n",
       "<table border=\"1\" class=\"dataframe\">\n",
       "  <thead>\n",
       "    <tr style=\"text-align: right;\">\n",
       "      <th></th>\n",
       "      <th>custid</th>\n",
       "      <th>총구매액</th>\n",
       "      <th>구매건수</th>\n",
       "      <th>평균구매가격</th>\n",
       "      <th>평균할부개월수</th>\n",
       "      <th>구매브랜드종류</th>\n",
       "      <th>내점일수</th>\n",
       "      <th>수입상품_구매비율</th>\n",
       "      <th>주말방문비율</th>\n",
       "      <th>가을_구매건수</th>\n",
       "      <th>겨울_구매건수</th>\n",
       "      <th>봄_구매건수</th>\n",
       "      <th>여름_구매건수</th>\n",
       "      <th>아침_구매건수</th>\n",
       "      <th>저녁_구매건수</th>\n",
       "      <th>점심_구매건수</th>\n",
       "      <th>주구매코너</th>\n",
       "      <th>gender</th>\n",
       "    </tr>\n",
       "  </thead>\n",
       "  <tbody>\n",
       "    <tr>\n",
       "      <th>0</th>\n",
       "      <td>100001</td>\n",
       "      <td>3439000</td>\n",
       "      <td>25</td>\n",
       "      <td>137560</td>\n",
       "      <td>2.2</td>\n",
       "      <td>19</td>\n",
       "      <td>16</td>\n",
       "      <td>12.0</td>\n",
       "      <td>31.2</td>\n",
       "      <td>5.0</td>\n",
       "      <td>4.0</td>\n",
       "      <td>7.0</td>\n",
       "      <td>9.0</td>\n",
       "      <td>13.0</td>\n",
       "      <td>1.0</td>\n",
       "      <td>11.0</td>\n",
       "      <td>장신구</td>\n",
       "      <td>0</td>\n",
       "    </tr>\n",
       "    <tr>\n",
       "      <th>1</th>\n",
       "      <td>100002</td>\n",
       "      <td>2073090</td>\n",
       "      <td>39</td>\n",
       "      <td>53156</td>\n",
       "      <td>1.3</td>\n",
       "      <td>18</td>\n",
       "      <td>29</td>\n",
       "      <td>0.0</td>\n",
       "      <td>20.7</td>\n",
       "      <td>13.0</td>\n",
       "      <td>8.0</td>\n",
       "      <td>10.0</td>\n",
       "      <td>8.0</td>\n",
       "      <td>4.0</td>\n",
       "      <td>10.0</td>\n",
       "      <td>25.0</td>\n",
       "      <td>유아동복</td>\n",
       "      <td>0</td>\n",
       "    </tr>\n",
       "    <tr>\n",
       "      <th>2</th>\n",
       "      <td>100003</td>\n",
       "      <td>1303800</td>\n",
       "      <td>22</td>\n",
       "      <td>59264</td>\n",
       "      <td>1.8</td>\n",
       "      <td>14</td>\n",
       "      <td>12</td>\n",
       "      <td>0.0</td>\n",
       "      <td>41.7</td>\n",
       "      <td>6.0</td>\n",
       "      <td>7.0</td>\n",
       "      <td>3.0</td>\n",
       "      <td>6.0</td>\n",
       "      <td>3.0</td>\n",
       "      <td>1.0</td>\n",
       "      <td>18.0</td>\n",
       "      <td>유아동복</td>\n",
       "      <td>0</td>\n",
       "    </tr>\n",
       "    <tr>\n",
       "      <th>3</th>\n",
       "      <td>100004</td>\n",
       "      <td>6696522</td>\n",
       "      <td>46</td>\n",
       "      <td>145577</td>\n",
       "      <td>1.7</td>\n",
       "      <td>31</td>\n",
       "      <td>22</td>\n",
       "      <td>37.0</td>\n",
       "      <td>50.0</td>\n",
       "      <td>5.0</td>\n",
       "      <td>15.0</td>\n",
       "      <td>9.0</td>\n",
       "      <td>17.0</td>\n",
       "      <td>NaN</td>\n",
       "      <td>4.0</td>\n",
       "      <td>42.0</td>\n",
       "      <td>수입명품</td>\n",
       "      <td>0</td>\n",
       "    </tr>\n",
       "    <tr>\n",
       "      <th>4</th>\n",
       "      <td>100005</td>\n",
       "      <td>1297640</td>\n",
       "      <td>26</td>\n",
       "      <td>49909</td>\n",
       "      <td>2.3</td>\n",
       "      <td>13</td>\n",
       "      <td>9</td>\n",
       "      <td>11.5</td>\n",
       "      <td>22.2</td>\n",
       "      <td>18.0</td>\n",
       "      <td>NaN</td>\n",
       "      <td>5.0</td>\n",
       "      <td>3.0</td>\n",
       "      <td>NaN</td>\n",
       "      <td>NaN</td>\n",
       "      <td>26.0</td>\n",
       "      <td>스포츠</td>\n",
       "      <td>0</td>\n",
       "    </tr>\n",
       "  </tbody>\n",
       "</table>\n",
       "</div>"
      ],
      "text/plain": [
       "   custid     총구매액  구매건수  평균구매가격  평균할부개월수  구매브랜드종류  내점일수  수입상품_구매비율  주말방문비율  \\\n",
       "0  100001  3439000    25  137560      2.2       19    16       12.0    31.2   \n",
       "1  100002  2073090    39   53156      1.3       18    29        0.0    20.7   \n",
       "2  100003  1303800    22   59264      1.8       14    12        0.0    41.7   \n",
       "3  100004  6696522    46  145577      1.7       31    22       37.0    50.0   \n",
       "4  100005  1297640    26   49909      2.3       13     9       11.5    22.2   \n",
       "\n",
       "   가을_구매건수  겨울_구매건수  봄_구매건수  여름_구매건수  아침_구매건수  저녁_구매건수  점심_구매건수 주구매코너  gender  \n",
       "0      5.0      4.0     7.0      9.0     13.0      1.0     11.0   장신구       0  \n",
       "1     13.0      8.0    10.0      8.0      4.0     10.0     25.0  유아동복       0  \n",
       "2      6.0      7.0     3.0      6.0      3.0      1.0     18.0  유아동복       0  \n",
       "3      5.0     15.0     9.0     17.0      NaN      4.0     42.0  수입명품       0  \n",
       "4     18.0      NaN     5.0      3.0      NaN      NaN     26.0   스포츠       0  "
      ]
     },
     "execution_count": 15,
     "metadata": {},
     "output_type": "execute_result"
    }
   ],
   "source": [
    "tdf.head()"
   ]
  },
  {
   "cell_type": "markdown",
   "metadata": {},
   "source": [
    "#### 데이터의 시각화"
   ]
  },
  {
   "cell_type": "code",
   "execution_count": 16,
   "metadata": {},
   "outputs": [],
   "source": [
    "import seaborn as sb\n",
    "sb.set()"
   ]
  },
  {
   "cell_type": "code",
   "execution_count": 17,
   "metadata": {},
   "outputs": [],
   "source": [
    "def bar_chart(feature):\n",
    "    male = tdf[tdf['gender']==1][feature].value_counts()\n",
    "    female = tdf[tdf['gender']==0][feature].value_counts()\n",
    "    dff = pd.DataFrame([male, female])\n",
    "    dff.index = ['Male', 'Female']\n",
    "    dff.plot(kind='bar', stacked=True, figsize=(10,5))"
   ]
  },
  {
   "cell_type": "code",
   "execution_count": 18,
   "metadata": {},
   "outputs": [
    {
     "data": {
      "image/png": "[encoded data removed]",
      "text/plain": [
       "<Figure size 720x360 with 1 Axes>"
      ]
     },
     "metadata": {},
     "output_type": "display_data"
    }
   ],
   "source": [
    "bar_chart('gender')"
   ]
  },
  {
   "cell_type": "code",
   "execution_count": 19,
   "metadata": {},
   "outputs": [],
   "source": [
    "import matplotlib.pyplot as plt\n",
    "%matplotlib inline"
   ]
  },
  {
   "cell_type": "code",
   "execution_count": 20,
   "metadata": {},
   "outputs": [
    {
     "data": {
      "text/plain": [
       "0    0.6958\n",
       "1    0.3042\n",
       "Name: gender, dtype: float64"
      ]
     },
     "execution_count": 20,
     "metadata": {},
     "output_type": "execute_result"
    }
   ],
   "source": [
    "tdf['gender'].value_counts(normalize=True)"
   ]
  },
  {
   "cell_type": "code",
   "execution_count": 21,
   "metadata": {},
   "outputs": [
    {
     "data": {
      "image/png": "[encoded data removed]",
      "text/plain": [
       "<Figure size 432x288 with 1 Axes>"
      ]
     },
     "metadata": {
      "needs_background": "light"
     },
     "output_type": "display_data"
    }
   ],
   "source": [
    "# gender의 히스토그램을 작성\n",
    "\n",
    "plt.hist(tdf['gender'])\n",
    "plt.xlabel('gender')\n",
    "plt.ylabel('count')\n",
    "plt.show()"
   ]
  },
  {
   "cell_type": "code",
   "execution_count": 22,
   "metadata": {},
   "outputs": [],
   "source": [
    "# matplotlib 패키지 한글화하기"
   ]
  },
  {
   "cell_type": "code",
   "execution_count": 23,
   "metadata": {},
   "outputs": [],
   "source": [
    "import matplotlib\n",
    "matplotlib.rcParams['axes.unicode_minus'] = False"
   ]
  },
  {
   "cell_type": "code",
   "execution_count": 24,
   "metadata": {},
   "outputs": [],
   "source": [
    "import matplotlib\n",
    "from matplotlib import font_manager, rc\n",
    "import platform\n",
    "\n",
    "if platform.system() == 'Windows':\n",
    "# 윈도우인 경우\n",
    "    font_name = font_manager.FontProperties(fname=\"c:/Windows/Fonts/malgun.ttf\").get_name()\n",
    "    rc('font', family=font_name)\n",
    "else:    \n",
    "# Mac 인 경우\n",
    "    rc('font', family='AppleGothic')\n",
    "    \n",
    "matplotlib.rcParams['axes.unicode_minus'] = False   \n",
    "#그래프에서 마이너스 기호가 표시되도록 하는 설정입니다. "
   ]
  },
  {
   "cell_type": "code",
   "execution_count": 25,
   "metadata": {},
   "outputs": [
    {
     "data": {
      "image/png": "[encoded data removed]",
      "text/plain": [
       "<Figure size 432x288 with 1 Axes>"
      ]
     },
     "metadata": {
      "needs_background": "light"
     },
     "output_type": "display_data"
    }
   ],
   "source": [
    "# 구매건수의 히스토그램을 작성\n",
    "\n",
    "plt.hist(tdf['구매건수'])\n",
    "plt.xlabel('구매건수')\n",
    "plt.ylabel('price')\n",
    "plt.show()"
   ]
  },
  {
   "cell_type": "code",
   "execution_count": 26,
   "metadata": {},
   "outputs": [
    {
     "data": {
      "text/plain": [
       "4      0.0322\n",
       "10     0.0306\n",
       "6      0.0296\n",
       "7      0.0294\n",
       "3      0.0294\n",
       "        ...  \n",
       "241    0.0002\n",
       "243    0.0002\n",
       "273    0.0002\n",
       "305    0.0002\n",
       "249    0.0002\n",
       "Name: 구매건수, Length: 225, dtype: float64"
      ]
     },
     "execution_count": 26,
     "metadata": {},
     "output_type": "execute_result"
    }
   ],
   "source": [
    "tdf['구매건수'].value_counts(normalize=True)"
   ]
  },
  {
   "cell_type": "code",
   "execution_count": 27,
   "metadata": {},
   "outputs": [
    {
     "data": {
      "image/png": "[encoded data removed]",
      "text/plain": [
       "<Figure size 432x288 with 1 Axes>"
      ]
     },
     "metadata": {
      "needs_background": "light"
     },
     "output_type": "display_data"
    }
   ],
   "source": [
    "# gender와 구매건수의 산포도를 작성\n",
    "plt.scatter(tdf['gender'], tdf['구매건수'])\n",
    "\n",
    "plt.xlabel('구매건수')\n",
    "plt.ylabel('구매건수')\n",
    "plt.show()"
   ]
  },
  {
   "cell_type": "code",
   "execution_count": 28,
   "metadata": {},
   "outputs": [
    {
     "name": "stdout",
     "output_type": "stream",
     "text": [
      "<class 'pandas.core.frame.DataFrame'>\n",
      "RangeIndex: 5000 entries, 0 to 4999\n",
      "Data columns (total 18 columns):\n",
      " #   Column     Non-Null Count  Dtype  \n",
      "---  ------     --------------  -----  \n",
      " 0   custid     5000 non-null   int64  \n",
      " 1   총구매액       5000 non-null   int64  \n",
      " 2   구매건수       5000 non-null   int64  \n",
      " 3   평균구매가격     5000 non-null   int64  \n",
      " 4   평균할부개월수    5000 non-null   float64\n",
      " 5   구매브랜드종류    5000 non-null   int64  \n",
      " 6   내점일수       5000 non-null   int64  \n",
      " 7   수입상품_구매비율  5000 non-null   float64\n",
      " 8   주말방문비율     5000 non-null   float64\n",
      " 9   가을_구매건수    4052 non-null   float64\n",
      " 10  겨울_구매건수    4089 non-null   float64\n",
      " 11  봄_구매건수     4319 non-null   float64\n",
      " 12  여름_구매건수    4009 non-null   float64\n",
      " 13  아침_구매건수    3608 non-null   float64\n",
      " 14  저녁_구매건수    3975 non-null   float64\n",
      " 15  점심_구매건수    4861 non-null   float64\n",
      " 16  주구매코너      5000 non-null   object \n",
      " 17  gender     5000 non-null   int64  \n",
      "dtypes: float64(10), int64(7), object(1)\n",
      "memory usage: 703.2+ KB\n"
     ]
    }
   ],
   "source": [
    "tdf.info()"
   ]
  },
  {
   "cell_type": "code",
   "execution_count": 29,
   "metadata": {},
   "outputs": [
    {
     "data": {
      "image/png": "[encoded data removed]",
      "text/plain": [
       "<Figure size 432x288 with 16 Axes>"
      ]
     },
     "metadata": {
      "needs_background": "light"
     },
     "output_type": "display_data"
    }
   ],
   "source": [
    "# 산포도행렬의 작성\n",
    "pd.plotting.scatter_matrix(tdf[['gender', '구매건수', '총구매액', \n",
    "                                '주말방문비율']])\n",
    "plt.tight_layout()\n",
    "plt.show()"
   ]
  },
  {
   "cell_type": "code",
   "execution_count": 30,
   "metadata": {},
   "outputs": [],
   "source": [
    "# 주구매코너의 레이블\n",
    "주구매코너_label = tdf['주구매코너']\\\n",
    "        .value_counts(ascending=False, normalize=True)\\\n",
    "        .index\n",
    "# 주구매코너의 값\n",
    "주구매코너_vals = tdf['주구매코너']\\\n",
    "        .value_counts(ascending=False, normalize=True)\\\n",
    "        .values"
   ]
  },
  {
   "cell_type": "code",
   "execution_count": 31,
   "metadata": {},
   "outputs": [
    {
     "data": {
      "text/plain": [
       "Index(['일반식품', '화장품', '유니캐주얼', '유아동복', '스포츠', '영캐주얼', '캐릭터캐주얼', '수입명품', '니트단품',\n",
       "       '섬유', '정장셔츠', '트래디셔널캐주얼', '장신구', '엘레강스캐주얼', '피혁A', '피혁B', '문화완구',\n",
       "       '디자이너부띠끄', '조리욕실', '침구수예', '가전', '도자기크리스탈', '기타바이어', '타운모피', '가구'],\n",
       "      dtype='object')"
      ]
     },
     "execution_count": 31,
     "metadata": {},
     "output_type": "execute_result"
    }
   ],
   "source": [
    "주구매코너_label"
   ]
  },
  {
   "cell_type": "code",
   "execution_count": 32,
   "metadata": {},
   "outputs": [
    {
     "data": {
      "text/plain": [
       "array([0.2586, 0.2382, 0.0832, 0.083 , 0.0604, 0.0492, 0.0386, 0.025 ,\n",
       "       0.0228, 0.018 , 0.0174, 0.0166, 0.0152, 0.0132, 0.0122, 0.0122,\n",
       "       0.0086, 0.0082, 0.0074, 0.0028, 0.0024, 0.002 , 0.002 , 0.002 ,\n",
       "       0.0008])"
      ]
     },
     "execution_count": 32,
     "metadata": {},
     "output_type": "execute_result"
    }
   ],
   "source": [
    "주구매코너_vals"
   ]
  },
  {
   "cell_type": "code",
   "execution_count": 33,
   "metadata": {},
   "outputs": [
    {
     "data": {
      "text/plain": [
       "MultiIndex([(105000,  2568073,  76,  33790, 1.6, 23,  35, 10.5, 22.9, ...),\n",
       "            (101676,  1594987,  24,  66458, 1.8, 14,  14, 16.7, 35.7, ...),\n",
       "            (101682,  5797396,  71,  81653, 2.1, 29,  23, 23.9, 34.8, ...),\n",
       "            (101681,  2645351,  28,  94477, 1.1, 21,  19, 25.0, 63.2, ...),\n",
       "            (101680,  1677823,  26,  64532, 1.1,  9,  19,  3.8, 84.2, ...),\n",
       "            (101679,   807871,  43,  18788, 1.5, 15,  20,  9.3, 20.0, ...),\n",
       "            (101678, 33577961, 177, 189706, 2.4, 46, 102,  6.2, 19.6, ...),\n",
       "            (101677,  2517120,  28,  89897, 1.9, 13,   8, 32.1, 50.0, ...),\n",
       "            (101675,  1952470,  37,  52769, 1.8, 23,  29,  2.7, 34.5, ...),\n",
       "            (101685,  1716388,  40,  42910, 1.6,  9,  17,  2.5, 23.5, ...),\n",
       "            ...\n",
       "            (103330,  6974246,  72,  96865, 2.5, 38,  38,  8.3, 39.5, ...),\n",
       "            (103331,  1170200,  13,  90015, 1.6, 11,   6, 15.4, 66.7, ...),\n",
       "            (103336,  1484600,  15,  98973, 2.8, 12,   7, 13.3, 57.1, ...),\n",
       "            (103337,  2942447,  24, 122602, 1.4, 15,  15, 12.5, 26.7, ...),\n",
       "            (103339,  1548026,  10, 154803, 2.2,  8,   6, 10.0, 66.7, ...),\n",
       "            (103342,  7361901,  75,  98159, 1.9, 34,  27, 20.0, 48.1, ...),\n",
       "            (103344, 10904704,  83, 131382, 1.1, 44,  32, 18.1, 31.2, ...),\n",
       "            (103349,  3002025,  45,  66712, 1.9, 23,  22, 15.6, 50.0, ...),\n",
       "            (103354, 12007387,  53, 226554, 2.1, 31,  22, 13.2, 31.8, ...),\n",
       "            (100001,  3439000,  25, 137560, 2.2, 19,  16, 12.0, 31.2, ...)],\n",
       "           names=['custid', '총구매액', '구매건수', '평균구매가격', '평균할부개월수', '구매브랜드종류', '내점일수', '수입상품_구매비율', '주말방문비율', '가을_구매건수', '겨울_구매건수', '봄_구매건수', '여름_구매건수', '아침_구매건수', '저녁_구매건수', '점심_구매건수', '주구매코너', 'gender'], length=2286)"
      ]
     },
     "execution_count": 33,
     "metadata": {},
     "output_type": "execute_result"
    }
   ],
   "source": [
    "tdf.value_counts(ascending=False, normalize=True).index"
   ]
  },
  {
   "cell_type": "code",
   "execution_count": 34,
   "metadata": {},
   "outputs": [
    {
     "data": {
      "image/png": "[encoded data removed]",
      "text/plain": [
       "<Figure size 432x288 with 1 Axes>"
      ]
     },
     "metadata": {},
     "output_type": "display_data"
    }
   ],
   "source": [
    "# 주구매코너의 원그래프를 작성\n",
    "plt.pie(주구매코너_vals, labels=주구매코너_label)\n",
    "plt.axis('equal') \n",
    "plt.show()"
   ]
  },
  {
   "cell_type": "code",
   "execution_count": 35,
   "metadata": {},
   "outputs": [
    {
     "data": {
      "text/html": [
       "<div>\n",
       "<style scoped>\n",
       "    .dataframe tbody tr th:only-of-type {\n",
       "        vertical-align: middle;\n",
       "    }\n",
       "\n",
       "    .dataframe tbody tr th {\n",
       "        vertical-align: top;\n",
       "    }\n",
       "\n",
       "    .dataframe thead th {\n",
       "        text-align: right;\n",
       "    }\n",
       "</style>\n",
       "<table border=\"1\" class=\"dataframe\">\n",
       "  <thead>\n",
       "    <tr style=\"text-align: right;\">\n",
       "      <th></th>\n",
       "      <th>custid</th>\n",
       "      <th>총구매액</th>\n",
       "      <th>구매건수</th>\n",
       "      <th>평균구매가격</th>\n",
       "      <th>평균할부개월수</th>\n",
       "      <th>구매브랜드종류</th>\n",
       "      <th>내점일수</th>\n",
       "      <th>수입상품_구매비율</th>\n",
       "      <th>주말방문비율</th>\n",
       "      <th>가을_구매건수</th>\n",
       "      <th>겨울_구매건수</th>\n",
       "      <th>봄_구매건수</th>\n",
       "      <th>여름_구매건수</th>\n",
       "      <th>아침_구매건수</th>\n",
       "      <th>저녁_구매건수</th>\n",
       "      <th>점심_구매건수</th>\n",
       "      <th>gender</th>\n",
       "    </tr>\n",
       "  </thead>\n",
       "  <tbody>\n",
       "    <tr>\n",
       "      <th>custid</th>\n",
       "      <td>1.000000</td>\n",
       "      <td>-0.011799</td>\n",
       "      <td>-0.017261</td>\n",
       "      <td>-0.010172</td>\n",
       "      <td>-0.025228</td>\n",
       "      <td>-0.028394</td>\n",
       "      <td>-0.012957</td>\n",
       "      <td>0.007268</td>\n",
       "      <td>-0.004346</td>\n",
       "      <td>-0.011964</td>\n",
       "      <td>-0.012242</td>\n",
       "      <td>-0.014743</td>\n",
       "      <td>-0.015739</td>\n",
       "      <td>0.002869</td>\n",
       "      <td>-0.009018</td>\n",
       "      <td>-0.023013</td>\n",
       "      <td>0.261501</td>\n",
       "    </tr>\n",
       "    <tr>\n",
       "      <th>총구매액</th>\n",
       "      <td>-0.011799</td>\n",
       "      <td>1.000000</td>\n",
       "      <td>0.735196</td>\n",
       "      <td>0.388027</td>\n",
       "      <td>0.091697</td>\n",
       "      <td>0.744393</td>\n",
       "      <td>0.653925</td>\n",
       "      <td>-0.062130</td>\n",
       "      <td>-0.050965</td>\n",
       "      <td>0.647559</td>\n",
       "      <td>0.598966</td>\n",
       "      <td>0.657680</td>\n",
       "      <td>0.611261</td>\n",
       "      <td>0.406400</td>\n",
       "      <td>0.427438</td>\n",
       "      <td>0.723181</td>\n",
       "      <td>-0.006257</td>\n",
       "    </tr>\n",
       "    <tr>\n",
       "      <th>구매건수</th>\n",
       "      <td>-0.017261</td>\n",
       "      <td>0.735196</td>\n",
       "      <td>1.000000</td>\n",
       "      <td>-0.024959</td>\n",
       "      <td>-0.037095</td>\n",
       "      <td>0.868958</td>\n",
       "      <td>0.940284</td>\n",
       "      <td>-0.207060</td>\n",
       "      <td>-0.081005</td>\n",
       "      <td>0.892008</td>\n",
       "      <td>0.877970</td>\n",
       "      <td>0.882283</td>\n",
       "      <td>0.860464</td>\n",
       "      <td>0.648835</td>\n",
       "      <td>0.656592</td>\n",
       "      <td>0.932303</td>\n",
       "      <td>-0.015588</td>\n",
       "    </tr>\n",
       "    <tr>\n",
       "      <th>평균구매가격</th>\n",
       "      <td>-0.010172</td>\n",
       "      <td>0.388027</td>\n",
       "      <td>-0.024959</td>\n",
       "      <td>1.000000</td>\n",
       "      <td>0.300766</td>\n",
       "      <td>0.046020</td>\n",
       "      <td>-0.057755</td>\n",
       "      <td>0.165795</td>\n",
       "      <td>0.021181</td>\n",
       "      <td>-0.008595</td>\n",
       "      <td>-0.044888</td>\n",
       "      <td>-0.008267</td>\n",
       "      <td>-0.026394</td>\n",
       "      <td>-0.048100</td>\n",
       "      <td>-0.054223</td>\n",
       "      <td>0.000333</td>\n",
       "      <td>0.000866</td>\n",
       "    </tr>\n",
       "    <tr>\n",
       "      <th>평균할부개월수</th>\n",
       "      <td>-0.025228</td>\n",
       "      <td>0.091697</td>\n",
       "      <td>-0.037095</td>\n",
       "      <td>0.300766</td>\n",
       "      <td>1.000000</td>\n",
       "      <td>0.013032</td>\n",
       "      <td>-0.072252</td>\n",
       "      <td>0.054256</td>\n",
       "      <td>-0.024121</td>\n",
       "      <td>-0.026995</td>\n",
       "      <td>-0.056004</td>\n",
       "      <td>-0.035720</td>\n",
       "      <td>-0.036440</td>\n",
       "      <td>-0.055066</td>\n",
       "      <td>-0.037835</td>\n",
       "      <td>-0.023727</td>\n",
       "      <td>0.009953</td>\n",
       "    </tr>\n",
       "    <tr>\n",
       "      <th>구매브랜드종류</th>\n",
       "      <td>-0.028394</td>\n",
       "      <td>0.744393</td>\n",
       "      <td>0.868958</td>\n",
       "      <td>0.046020</td>\n",
       "      <td>0.013032</td>\n",
       "      <td>1.000000</td>\n",
       "      <td>0.784226</td>\n",
       "      <td>-0.222654</td>\n",
       "      <td>-0.064252</td>\n",
       "      <td>0.744774</td>\n",
       "      <td>0.736127</td>\n",
       "      <td>0.765295</td>\n",
       "      <td>0.733940</td>\n",
       "      <td>0.501617</td>\n",
       "      <td>0.581379</td>\n",
       "      <td>0.813953</td>\n",
       "      <td>-0.009232</td>\n",
       "    </tr>\n",
       "    <tr>\n",
       "      <th>내점일수</th>\n",
       "      <td>-0.012957</td>\n",
       "      <td>0.653925</td>\n",
       "      <td>0.940284</td>\n",
       "      <td>-0.057755</td>\n",
       "      <td>-0.072252</td>\n",
       "      <td>0.784226</td>\n",
       "      <td>1.000000</td>\n",
       "      <td>-0.223684</td>\n",
       "      <td>-0.095453</td>\n",
       "      <td>0.821727</td>\n",
       "      <td>0.817517</td>\n",
       "      <td>0.813033</td>\n",
       "      <td>0.809060</td>\n",
       "      <td>0.608337</td>\n",
       "      <td>0.648319</td>\n",
       "      <td>0.858814</td>\n",
       "      <td>-0.030724</td>\n",
       "    </tr>\n",
       "    <tr>\n",
       "      <th>수입상품_구매비율</th>\n",
       "      <td>0.007268</td>\n",
       "      <td>-0.062130</td>\n",
       "      <td>-0.207060</td>\n",
       "      <td>0.165795</td>\n",
       "      <td>0.054256</td>\n",
       "      <td>-0.222654</td>\n",
       "      <td>-0.223684</td>\n",
       "      <td>1.000000</td>\n",
       "      <td>0.002644</td>\n",
       "      <td>-0.153468</td>\n",
       "      <td>-0.157697</td>\n",
       "      <td>-0.158552</td>\n",
       "      <td>-0.166769</td>\n",
       "      <td>-0.124473</td>\n",
       "      <td>-0.134206</td>\n",
       "      <td>-0.174185</td>\n",
       "      <td>0.021430</td>\n",
       "    </tr>\n",
       "    <tr>\n",
       "      <th>주말방문비율</th>\n",
       "      <td>-0.004346</td>\n",
       "      <td>-0.050965</td>\n",
       "      <td>-0.081005</td>\n",
       "      <td>0.021181</td>\n",
       "      <td>-0.024121</td>\n",
       "      <td>-0.064252</td>\n",
       "      <td>-0.095453</td>\n",
       "      <td>0.002644</td>\n",
       "      <td>1.000000</td>\n",
       "      <td>-0.079840</td>\n",
       "      <td>-0.070289</td>\n",
       "      <td>-0.085563</td>\n",
       "      <td>-0.088236</td>\n",
       "      <td>-0.082420</td>\n",
       "      <td>-0.037608</td>\n",
       "      <td>-0.085875</td>\n",
       "      <td>-0.005511</td>\n",
       "    </tr>\n",
       "    <tr>\n",
       "      <th>가을_구매건수</th>\n",
       "      <td>-0.011964</td>\n",
       "      <td>0.647559</td>\n",
       "      <td>0.892008</td>\n",
       "      <td>-0.008595</td>\n",
       "      <td>-0.026995</td>\n",
       "      <td>0.744774</td>\n",
       "      <td>0.821727</td>\n",
       "      <td>-0.153468</td>\n",
       "      <td>-0.079840</td>\n",
       "      <td>1.000000</td>\n",
       "      <td>0.741614</td>\n",
       "      <td>0.714236</td>\n",
       "      <td>0.697278</td>\n",
       "      <td>0.575564</td>\n",
       "      <td>0.572429</td>\n",
       "      <td>0.823622</td>\n",
       "      <td>-0.005111</td>\n",
       "    </tr>\n",
       "    <tr>\n",
       "      <th>겨울_구매건수</th>\n",
       "      <td>-0.012242</td>\n",
       "      <td>0.598966</td>\n",
       "      <td>0.877970</td>\n",
       "      <td>-0.044888</td>\n",
       "      <td>-0.056004</td>\n",
       "      <td>0.736127</td>\n",
       "      <td>0.817517</td>\n",
       "      <td>-0.157697</td>\n",
       "      <td>-0.070289</td>\n",
       "      <td>0.741614</td>\n",
       "      <td>1.000000</td>\n",
       "      <td>0.729223</td>\n",
       "      <td>0.647752</td>\n",
       "      <td>0.524301</td>\n",
       "      <td>0.609033</td>\n",
       "      <td>0.808700</td>\n",
       "      <td>-0.021246</td>\n",
       "    </tr>\n",
       "    <tr>\n",
       "      <th>봄_구매건수</th>\n",
       "      <td>-0.014743</td>\n",
       "      <td>0.657680</td>\n",
       "      <td>0.882283</td>\n",
       "      <td>-0.008267</td>\n",
       "      <td>-0.035720</td>\n",
       "      <td>0.765295</td>\n",
       "      <td>0.813033</td>\n",
       "      <td>-0.158552</td>\n",
       "      <td>-0.085563</td>\n",
       "      <td>0.714236</td>\n",
       "      <td>0.729223</td>\n",
       "      <td>1.000000</td>\n",
       "      <td>0.667462</td>\n",
       "      <td>0.579088</td>\n",
       "      <td>0.559553</td>\n",
       "      <td>0.818074</td>\n",
       "      <td>-0.010636</td>\n",
       "    </tr>\n",
       "    <tr>\n",
       "      <th>여름_구매건수</th>\n",
       "      <td>-0.015739</td>\n",
       "      <td>0.611261</td>\n",
       "      <td>0.860464</td>\n",
       "      <td>-0.026394</td>\n",
       "      <td>-0.036440</td>\n",
       "      <td>0.733940</td>\n",
       "      <td>0.809060</td>\n",
       "      <td>-0.166769</td>\n",
       "      <td>-0.088236</td>\n",
       "      <td>0.697278</td>\n",
       "      <td>0.647752</td>\n",
       "      <td>0.667462</td>\n",
       "      <td>1.000000</td>\n",
       "      <td>0.557981</td>\n",
       "      <td>0.526332</td>\n",
       "      <td>0.801861</td>\n",
       "      <td>-0.013912</td>\n",
       "    </tr>\n",
       "    <tr>\n",
       "      <th>아침_구매건수</th>\n",
       "      <td>0.002869</td>\n",
       "      <td>0.406400</td>\n",
       "      <td>0.648835</td>\n",
       "      <td>-0.048100</td>\n",
       "      <td>-0.055066</td>\n",
       "      <td>0.501617</td>\n",
       "      <td>0.608337</td>\n",
       "      <td>-0.124473</td>\n",
       "      <td>-0.082420</td>\n",
       "      <td>0.575564</td>\n",
       "      <td>0.524301</td>\n",
       "      <td>0.579088</td>\n",
       "      <td>0.557981</td>\n",
       "      <td>1.000000</td>\n",
       "      <td>0.163216</td>\n",
       "      <td>0.461425</td>\n",
       "      <td>0.018611</td>\n",
       "    </tr>\n",
       "    <tr>\n",
       "      <th>저녁_구매건수</th>\n",
       "      <td>-0.009018</td>\n",
       "      <td>0.427438</td>\n",
       "      <td>0.656592</td>\n",
       "      <td>-0.054223</td>\n",
       "      <td>-0.037835</td>\n",
       "      <td>0.581379</td>\n",
       "      <td>0.648319</td>\n",
       "      <td>-0.134206</td>\n",
       "      <td>-0.037608</td>\n",
       "      <td>0.572429</td>\n",
       "      <td>0.609033</td>\n",
       "      <td>0.559553</td>\n",
       "      <td>0.526332</td>\n",
       "      <td>0.163216</td>\n",
       "      <td>1.000000</td>\n",
       "      <td>0.441248</td>\n",
       "      <td>-0.025311</td>\n",
       "    </tr>\n",
       "    <tr>\n",
       "      <th>점심_구매건수</th>\n",
       "      <td>-0.023013</td>\n",
       "      <td>0.723181</td>\n",
       "      <td>0.932303</td>\n",
       "      <td>0.000333</td>\n",
       "      <td>-0.023727</td>\n",
       "      <td>0.813953</td>\n",
       "      <td>0.858814</td>\n",
       "      <td>-0.174185</td>\n",
       "      <td>-0.085875</td>\n",
       "      <td>0.823622</td>\n",
       "      <td>0.808700</td>\n",
       "      <td>0.818074</td>\n",
       "      <td>0.801861</td>\n",
       "      <td>0.461425</td>\n",
       "      <td>0.441248</td>\n",
       "      <td>1.000000</td>\n",
       "      <td>-0.017671</td>\n",
       "    </tr>\n",
       "    <tr>\n",
       "      <th>gender</th>\n",
       "      <td>0.261501</td>\n",
       "      <td>-0.006257</td>\n",
       "      <td>-0.015588</td>\n",
       "      <td>0.000866</td>\n",
       "      <td>0.009953</td>\n",
       "      <td>-0.009232</td>\n",
       "      <td>-0.030724</td>\n",
       "      <td>0.021430</td>\n",
       "      <td>-0.005511</td>\n",
       "      <td>-0.005111</td>\n",
       "      <td>-0.021246</td>\n",
       "      <td>-0.010636</td>\n",
       "      <td>-0.013912</td>\n",
       "      <td>0.018611</td>\n",
       "      <td>-0.025311</td>\n",
       "      <td>-0.017671</td>\n",
       "      <td>1.000000</td>\n",
       "    </tr>\n",
       "  </tbody>\n",
       "</table>\n",
       "</div>"
      ],
      "text/plain": [
       "             custid      총구매액      구매건수    평균구매가격   평균할부개월수   구매브랜드종류  \\\n",
       "custid     1.000000 -0.011799 -0.017261 -0.010172 -0.025228 -0.028394   \n",
       "총구매액      -0.011799  1.000000  0.735196  0.388027  0.091697  0.744393   \n",
       "구매건수      -0.017261  0.735196  1.000000 -0.024959 -0.037095  0.868958   \n",
       "평균구매가격    -0.010172  0.388027 -0.024959  1.000000  0.300766  0.046020   \n",
       "평균할부개월수   -0.025228  0.091697 -0.037095  0.300766  1.000000  0.013032   \n",
       "구매브랜드종류   -0.028394  0.744393  0.868958  0.046020  0.013032  1.000000   \n",
       "내점일수      -0.012957  0.653925  0.940284 -0.057755 -0.072252  0.784226   \n",
       "수입상품_구매비율  0.007268 -0.062130 -0.207060  0.165795  0.054256 -0.222654   \n",
       "주말방문비율    -0.004346 -0.050965 -0.081005  0.021181 -0.024121 -0.064252   \n",
       "가을_구매건수   -0.011964  0.647559  0.892008 -0.008595 -0.026995  0.744774   \n",
       "겨울_구매건수   -0.012242  0.598966  0.877970 -0.044888 -0.056004  0.736127   \n",
       "봄_구매건수    -0.014743  0.657680  0.882283 -0.008267 -0.035720  0.765295   \n",
       "여름_구매건수   -0.015739  0.611261  0.860464 -0.026394 -0.036440  0.733940   \n",
       "아침_구매건수    0.002869  0.406400  0.648835 -0.048100 -0.055066  0.501617   \n",
       "저녁_구매건수   -0.009018  0.427438  0.656592 -0.054223 -0.037835  0.581379   \n",
       "점심_구매건수   -0.023013  0.723181  0.932303  0.000333 -0.023727  0.813953   \n",
       "gender     0.261501 -0.006257 -0.015588  0.000866  0.009953 -0.009232   \n",
       "\n",
       "               내점일수  수입상품_구매비율    주말방문비율   가을_구매건수   겨울_구매건수    봄_구매건수  \\\n",
       "custid    -0.012957   0.007268 -0.004346 -0.011964 -0.012242 -0.014743   \n",
       "총구매액       0.653925  -0.062130 -0.050965  0.647559  0.598966  0.657680   \n",
       "구매건수       0.940284  -0.207060 -0.081005  0.892008  0.877970  0.882283   \n",
       "평균구매가격    -0.057755   0.165795  0.021181 -0.008595 -0.044888 -0.008267   \n",
       "평균할부개월수   -0.072252   0.054256 -0.024121 -0.026995 -0.056004 -0.035720   \n",
       "구매브랜드종류    0.784226  -0.222654 -0.064252  0.744774  0.736127  0.765295   \n",
       "내점일수       1.000000  -0.223684 -0.095453  0.821727  0.817517  0.813033   \n",
       "수입상품_구매비율 -0.223684   1.000000  0.002644 -0.153468 -0.157697 -0.158552   \n",
       "주말방문비율    -0.095453   0.002644  1.000000 -0.079840 -0.070289 -0.085563   \n",
       "가을_구매건수    0.821727  -0.153468 -0.079840  1.000000  0.741614  0.714236   \n",
       "겨울_구매건수    0.817517  -0.157697 -0.070289  0.741614  1.000000  0.729223   \n",
       "봄_구매건수     0.813033  -0.158552 -0.085563  0.714236  0.729223  1.000000   \n",
       "여름_구매건수    0.809060  -0.166769 -0.088236  0.697278  0.647752  0.667462   \n",
       "아침_구매건수    0.608337  -0.124473 -0.082420  0.575564  0.524301  0.579088   \n",
       "저녁_구매건수    0.648319  -0.134206 -0.037608  0.572429  0.609033  0.559553   \n",
       "점심_구매건수    0.858814  -0.174185 -0.085875  0.823622  0.808700  0.818074   \n",
       "gender    -0.030724   0.021430 -0.005511 -0.005111 -0.021246 -0.010636   \n",
       "\n",
       "            여름_구매건수   아침_구매건수   저녁_구매건수   점심_구매건수    gender  \n",
       "custid    -0.015739  0.002869 -0.009018 -0.023013  0.261501  \n",
       "총구매액       0.611261  0.406400  0.427438  0.723181 -0.006257  \n",
       "구매건수       0.860464  0.648835  0.656592  0.932303 -0.015588  \n",
       "평균구매가격    -0.026394 -0.048100 -0.054223  0.000333  0.000866  \n",
       "평균할부개월수   -0.036440 -0.055066 -0.037835 -0.023727  0.009953  \n",
       "구매브랜드종류    0.733940  0.501617  0.581379  0.813953 -0.009232  \n",
       "내점일수       0.809060  0.608337  0.648319  0.858814 -0.030724  \n",
       "수입상품_구매비율 -0.166769 -0.124473 -0.134206 -0.174185  0.021430  \n",
       "주말방문비율    -0.088236 -0.082420 -0.037608 -0.085875 -0.005511  \n",
       "가을_구매건수    0.697278  0.575564  0.572429  0.823622 -0.005111  \n",
       "겨울_구매건수    0.647752  0.524301  0.609033  0.808700 -0.021246  \n",
       "봄_구매건수     0.667462  0.579088  0.559553  0.818074 -0.010636  \n",
       "여름_구매건수    1.000000  0.557981  0.526332  0.801861 -0.013912  \n",
       "아침_구매건수    0.557981  1.000000  0.163216  0.461425  0.018611  \n",
       "저녁_구매건수    0.526332  0.163216  1.000000  0.441248 -0.025311  \n",
       "점심_구매건수    0.801861  0.461425  0.441248  1.000000 -0.017671  \n",
       "gender    -0.013912  0.018611 -0.025311 -0.017671  1.000000  "
      ]
     },
     "execution_count": 35,
     "metadata": {},
     "output_type": "execute_result"
    }
   ],
   "source": [
    "corr = tdf.corr()\n",
    "corr"
   ]
  },
  {
   "cell_type": "code",
   "execution_count": 36,
   "metadata": {},
   "outputs": [
    {
     "data": {
      "text/plain": [
       "<matplotlib.image.AxesImage at 0x292a005d430>"
      ]
     },
     "execution_count": 36,
     "metadata": {},
     "output_type": "execute_result"
    },
    {
     "data": {
      "image/png": "[encoded data removed]",
      "text/plain": [
       "<Figure size 288x288 with 1 Axes>"
      ]
     },
     "metadata": {
      "needs_background": "light"
     },
     "output_type": "display_data"
    }
   ],
   "source": [
    "plt.matshow(corr)"
   ]
  },
  {
   "cell_type": "code",
   "execution_count": 37,
   "metadata": {},
   "outputs": [
    {
     "data": {
      "text/plain": [
       "gender       1.000000\n",
       "custid       0.261501\n",
       "수입상품_구매비율    0.021430\n",
       "아침_구매건수      0.018611\n",
       "평균할부개월수      0.009953\n",
       "평균구매가격       0.000866\n",
       "가을_구매건수     -0.005111\n",
       "주말방문비율      -0.005511\n",
       "총구매액        -0.006257\n",
       "구매브랜드종류     -0.009232\n",
       "봄_구매건수      -0.010636\n",
       "여름_구매건수     -0.013912\n",
       "구매건수        -0.015588\n",
       "점심_구매건수     -0.017671\n",
       "겨울_구매건수     -0.021246\n",
       "저녁_구매건수     -0.025311\n",
       "내점일수        -0.030724\n",
       "Name: gender, dtype: float64"
      ]
     },
     "execution_count": 37,
     "metadata": {},
     "output_type": "execute_result"
    }
   ],
   "source": [
    "corr.gender.sort_values(ascending=False)"
   ]
  },
  {
   "cell_type": "code",
   "execution_count": 38,
   "metadata": {},
   "outputs": [
    {
     "data": {
      "text/plain": [
       "0    3479\n",
       "1    1521\n",
       "Name: gender, dtype: int64"
      ]
     },
     "execution_count": 38,
     "metadata": {},
     "output_type": "execute_result"
    }
   ],
   "source": [
    "tdf.gender.value_counts()"
   ]
  },
  {
   "cell_type": "code",
   "execution_count": 39,
   "metadata": {},
   "outputs": [
    {
     "data": {
      "text/plain": [
       "6087"
      ]
     },
     "execution_count": 39,
     "metadata": {},
     "output_type": "execute_result"
    }
   ],
   "source": [
    "tdf.isnull().sum().sum()"
   ]
  },
  {
   "cell_type": "code",
   "execution_count": 40,
   "metadata": {},
   "outputs": [
    {
     "data": {
      "text/plain": [
       "custid       0\n",
       "총구매액         0\n",
       "구매건수         0\n",
       "평균구매가격       0\n",
       "평균할부개월수      0\n",
       "구매브랜드종류      0\n",
       "내점일수         0\n",
       "수입상품_구매비율    0\n",
       "주말방문비율       0\n",
       "가을_구매건수      0\n",
       "겨울_구매건수      0\n",
       "봄_구매건수       0\n",
       "여름_구매건수      0\n",
       "아침_구매건수      0\n",
       "저녁_구매건수      0\n",
       "점심_구매건수      0\n",
       "주구매코너        0\n",
       "gender       0\n",
       "dtype: int64"
      ]
     },
     "execution_count": 40,
     "metadata": {},
     "output_type": "execute_result"
    }
   ],
   "source": [
    "tdf['가을_구매건수'].fillna(round(tdf['가을_구매건수'].mean(),0) , inplace = True)\n",
    "tdf['겨울_구매건수'].fillna(round(tdf['겨울_구매건수'].mean(),0) , inplace = True)\n",
    "tdf['봄_구매건수'].fillna(round(tdf['봄_구매건수'].mean(),0) , inplace = True)\n",
    "tdf['여름_구매건수'].fillna(round(tdf['여름_구매건수'].mean(),0) , inplace = True)\n",
    "tdf['아침_구매건수'].fillna(round(tdf['아침_구매건수'].mean(),0) , inplace = True)\n",
    "tdf['저녁_구매건수'].fillna(round(tdf['저녁_구매건수'].mean(),0) , inplace = True)\n",
    "tdf['점심_구매건수'].fillna(round(tdf['점심_구매건수'].mean(),0) , inplace = True)\n",
    "tdf.isnull().sum()"
   ]
  },
  {
   "cell_type": "code",
   "execution_count": 41,
   "metadata": {},
   "outputs": [
    {
     "data": {
      "text/plain": [
       "6107"
      ]
     },
     "execution_count": 41,
     "metadata": {},
     "output_type": "execute_result"
    }
   ],
   "source": [
    "ndf.isnull().sum().sum()"
   ]
  },
  {
   "cell_type": "code",
   "execution_count": 42,
   "metadata": {},
   "outputs": [
    {
     "data": {
      "text/plain": [
       "custid       0\n",
       "gender       0\n",
       "총구매액         0\n",
       "구매건수         0\n",
       "평균구매가격       0\n",
       "평균할부개월수      0\n",
       "구매브랜드종류      0\n",
       "내점일수         0\n",
       "수입상품_구매비율    0\n",
       "주말방문비율       0\n",
       "가을_구매건수      0\n",
       "겨울_구매건수      0\n",
       "봄_구매건수       0\n",
       "여름_구매건수      0\n",
       "아침_구매건수      0\n",
       "저녁_구매건수      0\n",
       "점심_구매건수      0\n",
       "주구매코너        0\n",
       "dtype: int64"
      ]
     },
     "execution_count": 42,
     "metadata": {},
     "output_type": "execute_result"
    }
   ],
   "source": [
    "ndf['가을_구매건수'].fillna(round(tdf['가을_구매건수'].mean(),0) , inplace = True)\n",
    "ndf['겨울_구매건수'].fillna(round(tdf['겨울_구매건수'].mean(),0) , inplace = True)\n",
    "ndf['봄_구매건수'].fillna(round(tdf['봄_구매건수'].mean(),0) , inplace = True)\n",
    "ndf['여름_구매건수'].fillna(round(tdf['여름_구매건수'].mean(),0) , inplace = True)\n",
    "ndf['아침_구매건수'].fillna(round(tdf['아침_구매건수'].mean(),0) , inplace = True)\n",
    "ndf['저녁_구매건수'].fillna(round(tdf['저녁_구매건수'].mean(),0) , inplace = True)\n",
    "ndf['점심_구매건수'].fillna(round(tdf['점심_구매건수'].mean(),0) , inplace = True)\n",
    "ndf.isnull().sum()"
   ]
  },
  {
   "cell_type": "code",
   "execution_count": 43,
   "metadata": {},
   "outputs": [
    {
     "name": "stdout",
     "output_type": "stream",
     "text": [
      "<class 'pandas.core.frame.DataFrame'>\n",
      "RangeIndex: 5000 entries, 0 to 4999\n",
      "Data columns (total 18 columns):\n",
      " #   Column     Non-Null Count  Dtype  \n",
      "---  ------     --------------  -----  \n",
      " 0   custid     5000 non-null   int64  \n",
      " 1   총구매액       5000 non-null   int64  \n",
      " 2   구매건수       5000 non-null   int64  \n",
      " 3   평균구매가격     5000 non-null   int64  \n",
      " 4   평균할부개월수    5000 non-null   float64\n",
      " 5   구매브랜드종류    5000 non-null   int64  \n",
      " 6   내점일수       5000 non-null   int64  \n",
      " 7   수입상품_구매비율  5000 non-null   float64\n",
      " 8   주말방문비율     5000 non-null   float64\n",
      " 9   가을_구매건수    5000 non-null   float64\n",
      " 10  겨울_구매건수    5000 non-null   float64\n",
      " 11  봄_구매건수     5000 non-null   float64\n",
      " 12  여름_구매건수    5000 non-null   float64\n",
      " 13  아침_구매건수    5000 non-null   float64\n",
      " 14  저녁_구매건수    5000 non-null   float64\n",
      " 15  점심_구매건수    5000 non-null   float64\n",
      " 16  주구매코너      5000 non-null   object \n",
      " 17  gender     5000 non-null   int64  \n",
      "dtypes: float64(10), int64(7), object(1)\n",
      "memory usage: 703.2+ KB\n"
     ]
    }
   ],
   "source": [
    "tdf.info()"
   ]
  },
  {
   "cell_type": "code",
   "execution_count": 44,
   "metadata": {},
   "outputs": [
    {
     "name": "stdout",
     "output_type": "stream",
     "text": [
      "<class 'pandas.core.frame.DataFrame'>\n",
      "RangeIndex: 5000 entries, 0 to 4999\n",
      "Data columns (total 18 columns):\n",
      " #   Column     Non-Null Count  Dtype  \n",
      "---  ------     --------------  -----  \n",
      " 0   custid     5000 non-null   int64  \n",
      " 1   gender     5000 non-null   int64  \n",
      " 2   총구매액       5000 non-null   int64  \n",
      " 3   구매건수       5000 non-null   int64  \n",
      " 4   평균구매가격     5000 non-null   int64  \n",
      " 5   평균할부개월수    5000 non-null   float64\n",
      " 6   구매브랜드종류    5000 non-null   int64  \n",
      " 7   내점일수       5000 non-null   int64  \n",
      " 8   수입상품_구매비율  5000 non-null   float64\n",
      " 9   주말방문비율     5000 non-null   float64\n",
      " 10  가을_구매건수    5000 non-null   float64\n",
      " 11  겨울_구매건수    5000 non-null   float64\n",
      " 12  봄_구매건수     5000 non-null   float64\n",
      " 13  여름_구매건수    5000 non-null   float64\n",
      " 14  아침_구매건수    5000 non-null   float64\n",
      " 15  저녁_구매건수    5000 non-null   float64\n",
      " 16  점심_구매건수    5000 non-null   float64\n",
      " 17  주구매코너      5000 non-null   object \n",
      "dtypes: float64(10), int64(7), object(1)\n",
      "memory usage: 703.2+ KB\n"
     ]
    }
   ],
   "source": [
    "ndf.info()"
   ]
  },
  {
   "cell_type": "code",
   "execution_count": 45,
   "metadata": {},
   "outputs": [
    {
     "data": {
      "text/plain": [
       "(5000, 18)"
      ]
     },
     "execution_count": 45,
     "metadata": {},
     "output_type": "execute_result"
    }
   ],
   "source": [
    "tdf.shape"
   ]
  },
  {
   "cell_type": "code",
   "execution_count": 46,
   "metadata": {},
   "outputs": [
    {
     "data": {
      "text/plain": [
       "(5000, 18)"
      ]
     },
     "execution_count": 46,
     "metadata": {},
     "output_type": "execute_result"
    }
   ],
   "source": [
    "ndf.shape"
   ]
  },
  {
   "cell_type": "code",
   "execution_count": 47,
   "metadata": {},
   "outputs": [],
   "source": [
    "obj = ['주구매코너']"
   ]
  },
  {
   "cell_type": "code",
   "execution_count": 48,
   "metadata": {},
   "outputs": [
    {
     "data": {
      "text/html": [
       "<div>\n",
       "<style scoped>\n",
       "    .dataframe tbody tr th:only-of-type {\n",
       "        vertical-align: middle;\n",
       "    }\n",
       "\n",
       "    .dataframe tbody tr th {\n",
       "        vertical-align: top;\n",
       "    }\n",
       "\n",
       "    .dataframe thead th {\n",
       "        text-align: right;\n",
       "    }\n",
       "</style>\n",
       "<table border=\"1\" class=\"dataframe\">\n",
       "  <thead>\n",
       "    <tr style=\"text-align: right;\">\n",
       "      <th></th>\n",
       "      <th>주구매코너</th>\n",
       "    </tr>\n",
       "  </thead>\n",
       "  <tbody>\n",
       "    <tr>\n",
       "      <th>0</th>\n",
       "      <td>장신구</td>\n",
       "    </tr>\n",
       "    <tr>\n",
       "      <th>1</th>\n",
       "      <td>유아동복</td>\n",
       "    </tr>\n",
       "    <tr>\n",
       "      <th>2</th>\n",
       "      <td>유아동복</td>\n",
       "    </tr>\n",
       "    <tr>\n",
       "      <th>3</th>\n",
       "      <td>수입명품</td>\n",
       "    </tr>\n",
       "    <tr>\n",
       "      <th>4</th>\n",
       "      <td>스포츠</td>\n",
       "    </tr>\n",
       "  </tbody>\n",
       "</table>\n",
       "</div>"
      ],
      "text/plain": [
       "  주구매코너\n",
       "0   장신구\n",
       "1  유아동복\n",
       "2  유아동복\n",
       "3  수입명품\n",
       "4   스포츠"
      ]
     },
     "execution_count": 48,
     "metadata": {},
     "output_type": "execute_result"
    }
   ],
   "source": [
    "tdf[obj].head()"
   ]
  },
  {
   "cell_type": "code",
   "execution_count": 49,
   "metadata": {},
   "outputs": [
    {
     "data": {
      "text/html": [
       "<div>\n",
       "<style scoped>\n",
       "    .dataframe tbody tr th:only-of-type {\n",
       "        vertical-align: middle;\n",
       "    }\n",
       "\n",
       "    .dataframe tbody tr th {\n",
       "        vertical-align: top;\n",
       "    }\n",
       "\n",
       "    .dataframe thead th {\n",
       "        text-align: right;\n",
       "    }\n",
       "</style>\n",
       "<table border=\"1\" class=\"dataframe\">\n",
       "  <thead>\n",
       "    <tr style=\"text-align: right;\">\n",
       "      <th></th>\n",
       "      <th>주구매코너</th>\n",
       "    </tr>\n",
       "  </thead>\n",
       "  <tbody>\n",
       "    <tr>\n",
       "      <th>0</th>\n",
       "      <td>화장품</td>\n",
       "    </tr>\n",
       "    <tr>\n",
       "      <th>1</th>\n",
       "      <td>영캐주얼</td>\n",
       "    </tr>\n",
       "    <tr>\n",
       "      <th>2</th>\n",
       "      <td>장신구</td>\n",
       "    </tr>\n",
       "    <tr>\n",
       "      <th>3</th>\n",
       "      <td>화장품</td>\n",
       "    </tr>\n",
       "    <tr>\n",
       "      <th>4</th>\n",
       "      <td>피혁A</td>\n",
       "    </tr>\n",
       "  </tbody>\n",
       "</table>\n",
       "</div>"
      ],
      "text/plain": [
       "  주구매코너\n",
       "0   화장품\n",
       "1  영캐주얼\n",
       "2   장신구\n",
       "3   화장품\n",
       "4   피혁A"
      ]
     },
     "execution_count": 49,
     "metadata": {},
     "output_type": "execute_result"
    }
   ],
   "source": [
    "ndf[obj].head()"
   ]
  },
  {
   "cell_type": "code",
   "execution_count": 50,
   "metadata": {},
   "outputs": [],
   "source": [
    "tdf[obj] = tdf[obj].apply(lambda x: x.astype('category').cat.codes)"
   ]
  },
  {
   "cell_type": "code",
   "execution_count": 51,
   "metadata": {},
   "outputs": [],
   "source": [
    "ndf[obj] = tdf[obj].apply(lambda x: x.astype('category').cat.codes)"
   ]
  },
  {
   "cell_type": "code",
   "execution_count": 52,
   "metadata": {},
   "outputs": [
    {
     "data": {
      "text/html": [
       "<div>\n",
       "<style scoped>\n",
       "    .dataframe tbody tr th:only-of-type {\n",
       "        vertical-align: middle;\n",
       "    }\n",
       "\n",
       "    .dataframe tbody tr th {\n",
       "        vertical-align: top;\n",
       "    }\n",
       "\n",
       "    .dataframe thead th {\n",
       "        text-align: right;\n",
       "    }\n",
       "</style>\n",
       "<table border=\"1\" class=\"dataframe\">\n",
       "  <thead>\n",
       "    <tr style=\"text-align: right;\">\n",
       "      <th></th>\n",
       "      <th>주구매코너</th>\n",
       "    </tr>\n",
       "  </thead>\n",
       "  <tbody>\n",
       "    <tr>\n",
       "      <th>0</th>\n",
       "      <td>15</td>\n",
       "    </tr>\n",
       "    <tr>\n",
       "      <th>1</th>\n",
       "      <td>13</td>\n",
       "    </tr>\n",
       "    <tr>\n",
       "      <th>2</th>\n",
       "      <td>13</td>\n",
       "    </tr>\n",
       "    <tr>\n",
       "      <th>3</th>\n",
       "      <td>8</td>\n",
       "    </tr>\n",
       "    <tr>\n",
       "      <th>4</th>\n",
       "      <td>9</td>\n",
       "    </tr>\n",
       "  </tbody>\n",
       "</table>\n",
       "</div>"
      ],
      "text/plain": [
       "   주구매코너\n",
       "0     15\n",
       "1     13\n",
       "2     13\n",
       "3      8\n",
       "4      9"
      ]
     },
     "execution_count": 52,
     "metadata": {},
     "output_type": "execute_result"
    }
   ],
   "source": [
    "tdf[obj].head()"
   ]
  },
  {
   "cell_type": "code",
   "execution_count": 53,
   "metadata": {},
   "outputs": [
    {
     "data": {
      "text/html": [
       "<div>\n",
       "<style scoped>\n",
       "    .dataframe tbody tr th:only-of-type {\n",
       "        vertical-align: middle;\n",
       "    }\n",
       "\n",
       "    .dataframe tbody tr th {\n",
       "        vertical-align: top;\n",
       "    }\n",
       "\n",
       "    .dataframe thead th {\n",
       "        text-align: right;\n",
       "    }\n",
       "</style>\n",
       "<table border=\"1\" class=\"dataframe\">\n",
       "  <thead>\n",
       "    <tr style=\"text-align: right;\">\n",
       "      <th></th>\n",
       "      <th>주구매코너</th>\n",
       "    </tr>\n",
       "  </thead>\n",
       "  <tbody>\n",
       "    <tr>\n",
       "      <th>0</th>\n",
       "      <td>15</td>\n",
       "    </tr>\n",
       "    <tr>\n",
       "      <th>1</th>\n",
       "      <td>13</td>\n",
       "    </tr>\n",
       "    <tr>\n",
       "      <th>2</th>\n",
       "      <td>13</td>\n",
       "    </tr>\n",
       "    <tr>\n",
       "      <th>3</th>\n",
       "      <td>8</td>\n",
       "    </tr>\n",
       "    <tr>\n",
       "      <th>4</th>\n",
       "      <td>9</td>\n",
       "    </tr>\n",
       "  </tbody>\n",
       "</table>\n",
       "</div>"
      ],
      "text/plain": [
       "   주구매코너\n",
       "0     15\n",
       "1     13\n",
       "2     13\n",
       "3      8\n",
       "4      9"
      ]
     },
     "execution_count": 53,
     "metadata": {},
     "output_type": "execute_result"
    }
   ],
   "source": [
    "ndf[obj].head()"
   ]
  },
  {
   "cell_type": "markdown",
   "metadata": {},
   "source": [
    "### 계절별, 시간별 컬럼 각각 합치기"
   ]
  },
  {
   "cell_type": "code",
   "execution_count": 54,
   "metadata": {},
   "outputs": [],
   "source": [
    "drop_cols = ['봄_구매건수','여름_구매건수','겨울_구매건수','가을_구매건수','점심_구매건수','저녁_구매건수','아침_구매건수']"
   ]
  },
  {
   "cell_type": "code",
   "execution_count": 55,
   "metadata": {},
   "outputs": [
    {
     "name": "stdout",
     "output_type": "stream",
     "text": [
      "<class 'pandas.core.frame.DataFrame'>\n",
      "RangeIndex: 5000 entries, 0 to 4999\n",
      "Data columns (total 18 columns):\n",
      " #   Column     Non-Null Count  Dtype  \n",
      "---  ------     --------------  -----  \n",
      " 0   custid     5000 non-null   int64  \n",
      " 1   총구매액       5000 non-null   int64  \n",
      " 2   구매건수       5000 non-null   int64  \n",
      " 3   평균구매가격     5000 non-null   int64  \n",
      " 4   평균할부개월수    5000 non-null   float64\n",
      " 5   구매브랜드종류    5000 non-null   int64  \n",
      " 6   내점일수       5000 non-null   int64  \n",
      " 7   수입상품_구매비율  5000 non-null   float64\n",
      " 8   주말방문비율     5000 non-null   float64\n",
      " 9   가을_구매건수    5000 non-null   float64\n",
      " 10  겨울_구매건수    5000 non-null   float64\n",
      " 11  봄_구매건수     5000 non-null   float64\n",
      " 12  여름_구매건수    5000 non-null   float64\n",
      " 13  아침_구매건수    5000 non-null   float64\n",
      " 14  저녁_구매건수    5000 non-null   float64\n",
      " 15  점심_구매건수    5000 non-null   float64\n",
      " 16  주구매코너      5000 non-null   int8   \n",
      " 17  gender     5000 non-null   int64  \n",
      "dtypes: float64(10), int64(7), int8(1)\n",
      "memory usage: 669.1 KB\n"
     ]
    }
   ],
   "source": [
    "tdf.info()"
   ]
  },
  {
   "cell_type": "code",
   "execution_count": 56,
   "metadata": {},
   "outputs": [
    {
     "data": {
      "text/plain": [
       "SimpleImputer(strategy='most_frequent')"
      ]
     },
     "execution_count": 56,
     "metadata": {},
     "output_type": "execute_result"
    }
   ],
   "source": [
    "from sklearn.impute import SimpleImputer\n",
    "imputer_drop_cols = SimpleImputer(strategy=\"most_frequent\")  \n",
    "imputer_drop_cols.fit(tdf[drop_cols])"
   ]
  },
  {
   "cell_type": "code",
   "execution_count": 57,
   "metadata": {},
   "outputs": [
    {
     "data": {
      "text/plain": [
       "SimpleImputer(strategy='most_frequent')"
      ]
     },
     "execution_count": 57,
     "metadata": {},
     "output_type": "execute_result"
    }
   ],
   "source": [
    "from sklearn.impute import SimpleImputer\n",
    "imputer_drop_cols = SimpleImputer(strategy=\"most_frequent\")  \n",
    "imputer_drop_cols.fit(ndf[drop_cols])"
   ]
  },
  {
   "cell_type": "code",
   "execution_count": 58,
   "metadata": {},
   "outputs": [
    {
     "data": {
      "text/plain": [
       "array([[ 7.,  9.,  4., ..., 11.,  1., 13.],\n",
       "       [10.,  8.,  8., ..., 25., 10.,  4.],\n",
       "       [ 3.,  6.,  7., ..., 18.,  1.,  3.],\n",
       "       ...,\n",
       "       [ 6.,  1.,  1., ..., 12., 10.,  9.],\n",
       "       [ 4.,  3.,  7., ...,  8.,  4.,  2.],\n",
       "       [ 9., 24., 20., ..., 61.,  4., 11.]])"
      ]
     },
     "execution_count": 58,
     "metadata": {},
     "output_type": "execute_result"
    }
   ],
   "source": [
    "x = imputer_drop_cols.transform(tdf[drop_cols])\n",
    "x"
   ]
  },
  {
   "cell_type": "code",
   "execution_count": 59,
   "metadata": {},
   "outputs": [
    {
     "data": {
      "text/plain": [
       "array([[ 6., 11.,  9., ...,  9.,  6.,  9.],\n",
       "       [ 4., 11.,  5., ...,  6., 10.,  3.],\n",
       "       [12., 11., 17., ..., 15., 11., 10.],\n",
       "       ...,\n",
       "       [ 6., 13.,  6., ..., 21., 10., 16.],\n",
       "       [ 2.,  1.,  4., ..., 11.,  2.,  9.],\n",
       "       [10., 11.,  5., ..., 19.,  5.,  8.]])"
      ]
     },
     "execution_count": 59,
     "metadata": {},
     "output_type": "execute_result"
    }
   ],
   "source": [
    "y = imputer_drop_cols.transform(ndf[drop_cols])\n",
    "y"
   ]
  },
  {
   "cell_type": "code",
   "execution_count": 60,
   "metadata": {},
   "outputs": [
    {
     "name": "stdout",
     "output_type": "stream",
     "text": [
      "<class 'pandas.core.frame.DataFrame'>\n",
      "RangeIndex: 5000 entries, 0 to 4999\n",
      "Data columns (total 18 columns):\n",
      " #   Column     Non-Null Count  Dtype  \n",
      "---  ------     --------------  -----  \n",
      " 0   custid     5000 non-null   int64  \n",
      " 1   총구매액       5000 non-null   int64  \n",
      " 2   구매건수       5000 non-null   int64  \n",
      " 3   평균구매가격     5000 non-null   int64  \n",
      " 4   평균할부개월수    5000 non-null   float64\n",
      " 5   구매브랜드종류    5000 non-null   int64  \n",
      " 6   내점일수       5000 non-null   int64  \n",
      " 7   수입상품_구매비율  5000 non-null   float64\n",
      " 8   주말방문비율     5000 non-null   float64\n",
      " 9   가을_구매건수    5000 non-null   float64\n",
      " 10  겨울_구매건수    5000 non-null   float64\n",
      " 11  봄_구매건수     5000 non-null   float64\n",
      " 12  여름_구매건수    5000 non-null   float64\n",
      " 13  아침_구매건수    5000 non-null   float64\n",
      " 14  저녁_구매건수    5000 non-null   float64\n",
      " 15  점심_구매건수    5000 non-null   float64\n",
      " 16  주구매코너      5000 non-null   int8   \n",
      " 17  gender     5000 non-null   int64  \n",
      "dtypes: float64(10), int64(7), int8(1)\n",
      "memory usage: 669.1 KB\n"
     ]
    }
   ],
   "source": [
    "tdf[drop_cols] = x\n",
    "tdf.info()"
   ]
  },
  {
   "cell_type": "code",
   "execution_count": 61,
   "metadata": {},
   "outputs": [
    {
     "name": "stdout",
     "output_type": "stream",
     "text": [
      "<class 'pandas.core.frame.DataFrame'>\n",
      "RangeIndex: 5000 entries, 0 to 4999\n",
      "Data columns (total 18 columns):\n",
      " #   Column     Non-Null Count  Dtype  \n",
      "---  ------     --------------  -----  \n",
      " 0   custid     5000 non-null   int64  \n",
      " 1   gender     5000 non-null   int64  \n",
      " 2   총구매액       5000 non-null   int64  \n",
      " 3   구매건수       5000 non-null   int64  \n",
      " 4   평균구매가격     5000 non-null   int64  \n",
      " 5   평균할부개월수    5000 non-null   float64\n",
      " 6   구매브랜드종류    5000 non-null   int64  \n",
      " 7   내점일수       5000 non-null   int64  \n",
      " 8   수입상품_구매비율  5000 non-null   float64\n",
      " 9   주말방문비율     5000 non-null   float64\n",
      " 10  가을_구매건수    5000 non-null   float64\n",
      " 11  겨울_구매건수    5000 non-null   float64\n",
      " 12  봄_구매건수     5000 non-null   float64\n",
      " 13  여름_구매건수    5000 non-null   float64\n",
      " 14  아침_구매건수    5000 non-null   float64\n",
      " 15  저녁_구매건수    5000 non-null   float64\n",
      " 16  점심_구매건수    5000 non-null   float64\n",
      " 17  주구매코너      5000 non-null   int8   \n",
      "dtypes: float64(10), int64(7), int8(1)\n",
      "memory usage: 669.1 KB\n"
     ]
    }
   ],
   "source": [
    "ndf[drop_cols] = x\n",
    "ndf.info()"
   ]
  },
  {
   "cell_type": "code",
   "execution_count": 62,
   "metadata": {},
   "outputs": [],
   "source": [
    "dfX = tdf.drop(['gender','custid'], axis=1) \n",
    "dfy = tdf['gender']"
   ]
  },
  {
   "cell_type": "code",
   "execution_count": 63,
   "metadata": {},
   "outputs": [],
   "source": [
    "from sklearn.linear_model import LogisticRegression\n",
    "from sklearn.neighbors import KNeighborsClassifier\n",
    "from sklearn.tree import DecisionTreeClassifier\n",
    "model = LogisticRegression()"
   ]
  },
  {
   "cell_type": "code",
   "execution_count": 64,
   "metadata": {},
   "outputs": [],
   "source": [
    "from sklearn.model_selection import cross_val_score\n",
    "from sklearn.model_selection import KFold"
   ]
  },
  {
   "cell_type": "code",
   "execution_count": 65,
   "metadata": {},
   "outputs": [
    {
     "data": {
      "text/plain": [
       "array([0.697, 0.696, 0.696, 0.696, 0.695])"
      ]
     },
     "execution_count": 65,
     "metadata": {},
     "output_type": "execute_result"
    }
   ],
   "source": [
    "scores = cross_val_score(model, dfX, dfy); scores"
   ]
  },
  {
   "cell_type": "code",
   "execution_count": 66,
   "metadata": {},
   "outputs": [
    {
     "name": "stdout",
     "output_type": "stream",
     "text": [
      "Mean: 0.696\n",
      "Std: 0.001\n",
      "Min: 0.695\n",
      "Max: 0.697\n"
     ]
    }
   ],
   "source": [
    "print(\"Mean: {:.3f}\\nStd: {:.3f}\\nMin: {:.3f}\\nMax: {:.3f}\".format(\n",
    "    scores.mean(), scores.std(), scores.min(), scores.max()))"
   ]
  },
  {
   "cell_type": "code",
   "execution_count": 67,
   "metadata": {},
   "outputs": [
    {
     "data": {
      "text/plain": [
       "0    3479\n",
       "1    1521\n",
       "Name: gender, dtype: int64"
      ]
     },
     "execution_count": 67,
     "metadata": {},
     "output_type": "execute_result"
    }
   ],
   "source": [
    "tdf['gender'].value_counts()"
   ]
  },
  {
   "cell_type": "code",
   "execution_count": 68,
   "metadata": {},
   "outputs": [
    {
     "data": {
      "text/plain": [
       "0    3479\n",
       "1    1521\n",
       "Name: gender, dtype: int64"
      ]
     },
     "execution_count": 68,
     "metadata": {},
     "output_type": "execute_result"
    }
   ],
   "source": [
    "ndf['gender'].value_counts()"
   ]
  },
  {
   "cell_type": "code",
   "execution_count": 69,
   "metadata": {},
   "outputs": [],
   "source": [
    "from imblearn.under_sampling import *"
   ]
  },
  {
   "cell_type": "code",
   "execution_count": 70,
   "metadata": {},
   "outputs": [],
   "source": [
    "from imblearn.combine import SMOTETomek"
   ]
  },
  {
   "cell_type": "code",
   "execution_count": 71,
   "metadata": {},
   "outputs": [
    {
     "data": {
      "text/plain": [
       "array([0.697, 0.696, 0.696, 0.696, 0.695])"
      ]
     },
     "execution_count": 71,
     "metadata": {},
     "output_type": "execute_result"
    }
   ],
   "source": [
    "scores = cross_val_score(model, dfX, dfy); scores"
   ]
  },
  {
   "cell_type": "code",
   "execution_count": 72,
   "metadata": {},
   "outputs": [],
   "source": [
    "from sklearn.model_selection import train_test_split\n",
    "from sklearn.metrics import classification_report"
   ]
  },
  {
   "cell_type": "code",
   "execution_count": 73,
   "metadata": {},
   "outputs": [],
   "source": [
    "X_train, X_test, y_train, y_test = train_test_split(dfX, \n",
    "                                                    dfy, test_size=0.25, random_state=0)"
   ]
  },
  {
   "cell_type": "code",
   "execution_count": 74,
   "metadata": {},
   "outputs": [
    {
     "name": "stdout",
     "output_type": "stream",
     "text": [
      "              precision    recall  f1-score   support\n",
      "\n",
      "           0       0.70      0.98      0.82       883\n",
      "           1       0.17      0.01      0.02       367\n",
      "\n",
      "    accuracy                           0.70      1250\n",
      "   macro avg       0.44      0.50      0.42      1250\n",
      "weighted avg       0.55      0.70      0.58      1250\n",
      "\n"
     ]
    }
   ],
   "source": [
    "tree3 = DecisionTreeClassifier(max_depth=4, random_state=0)\n",
    "\n",
    "tree3.fit(X_train, y_train)\n",
    "y_pred3 = tree3.predict(X_test)\n",
    "\n",
    "print(classification_report(y_test, y_pred3))"
   ]
  },
  {
   "cell_type": "code",
   "execution_count": 75,
   "metadata": {},
   "outputs": [],
   "source": [
    "from imblearn.under_sampling import TomekLinks"
   ]
  },
  {
   "cell_type": "code",
   "execution_count": 76,
   "metadata": {},
   "outputs": [
    {
     "name": "stdout",
     "output_type": "stream",
     "text": [
      "              precision    recall  f1-score   support\n",
      "\n",
      "           0       0.71      0.98      0.82       883\n",
      "           1       0.22      0.01      0.02       367\n",
      "\n",
      "    accuracy                           0.70      1250\n",
      "   macro avg       0.46      0.50      0.42      1250\n",
      "weighted avg       0.56      0.70      0.59      1250\n",
      "\n"
     ]
    }
   ],
   "source": [
    "XX, yy = TomekLinks().fit_sample(X_train, y_train)\n",
    "tree0 = DecisionTreeClassifier(max_depth=4, random_state=0)\n",
    "tree0.fit(XX, yy)\n",
    "y_pred0 = tree0.predict(X_test)\n",
    "print(classification_report(y_test, y_pred0))"
   ]
  },
  {
   "cell_type": "code",
   "execution_count": 77,
   "metadata": {},
   "outputs": [],
   "source": [
    "XX, yy = SMOTETomek(random_state=0).fit_sample(X_train, y_train)"
   ]
  },
  {
   "cell_type": "code",
   "execution_count": 78,
   "metadata": {},
   "outputs": [
    {
     "data": {
      "text/plain": [
       "0.6968"
      ]
     },
     "execution_count": 78,
     "metadata": {},
     "output_type": "execute_result"
    }
   ],
   "source": [
    "tree3.score(X_test,y_test)"
   ]
  },
  {
   "cell_type": "code",
   "execution_count": 79,
   "metadata": {},
   "outputs": [
    {
     "name": "stdout",
     "output_type": "stream",
     "text": [
      "0    883\n",
      "1    367\n",
      "Name: gender, dtype: int64\n"
     ]
    },
    {
     "data": {
      "text/plain": [
       "0.7064"
      ]
     },
     "execution_count": 79,
     "metadata": {},
     "output_type": "execute_result"
    }
   ],
   "source": [
    "from sklearn.dummy import DummyClassifier\n",
    "print(y_test.value_counts())\n",
    "DummyClassifier(strategy='most_frequent').fit(X_train, y_train).score(X_test, y_test)"
   ]
  },
  {
   "cell_type": "markdown",
   "metadata": {},
   "source": [
    "# xgboost 전개 추가 부분\n"
   ]
  },
  {
   "cell_type": "code",
   "execution_count": 80,
   "metadata": {},
   "outputs": [],
   "source": [
    "from xgboost import XGBClassifier\n",
    "from lightgbm import LGBMClassifier"
   ]
  },
  {
   "cell_type": "code",
   "execution_count": 81,
   "metadata": {},
   "outputs": [],
   "source": [
    "import xgboost as xgb\n",
    "from xgboost import plot_importance\n",
    "#import pan\n",
    "import numpy as np"
   ]
  },
  {
   "cell_type": "code",
   "execution_count": 82,
   "metadata": {},
   "outputs": [],
   "source": [
    "dtrain = xgb.DMatrix(data=X_train, label=y_train)\n",
    "dtest = xgb.DMatrix(data=X_test, label=y_test)"
   ]
  },
  {
   "cell_type": "code",
   "execution_count": 83,
   "metadata": {},
   "outputs": [],
   "source": [
    "params = {'max_depth':3,\n",
    "          'eta':0.1,\n",
    "          'objective':'binary:logistic',\n",
    "          'eval_metric':'logloss',\n",
    "          'early_stoppings':100\n",
    "         }\n",
    "num_rounds = 400"
   ]
  },
  {
   "cell_type": "code",
   "execution_count": 84,
   "metadata": {},
   "outputs": [
    {
     "name": "stdout",
     "output_type": "stream",
     "text": [
      "[09:27:23] WARNING: C:/Users/Administrator/workspace/xgboost-win64_release_1.3.0/src/learner.cc:541: \n",
      "Parameters: { early_stoppings } might not be used.\n",
      "\n",
      "  This may not be accurate due to some parameters are only used in language bindings but\n",
      "  passed down to XGBoost core.  Or some parameters are not used but slip through this\n",
      "  verification. Please open an issue if you find above cases.\n",
      "\n",
      "\n",
      "[0]\ttrain-logloss:0.67824\teval-logloss:0.67798\n",
      "[1]\ttrain-logloss:0.66587\teval-logloss:0.66597\n",
      "[2]\ttrain-logloss:0.65601\teval-logloss:0.65584\n",
      "[3]\ttrain-logloss:0.64765\teval-logloss:0.64791\n",
      "[4]\ttrain-logloss:0.64033\teval-logloss:0.64121\n",
      "[5]\ttrain-logloss:0.63457\teval-logloss:0.63539\n",
      "[6]\ttrain-logloss:0.62950\teval-logloss:0.63097\n",
      "[7]\ttrain-logloss:0.62515\teval-logloss:0.62720\n",
      "[8]\ttrain-logloss:0.62178\teval-logloss:0.62425\n",
      "[9]\ttrain-logloss:0.61872\teval-logloss:0.62177\n",
      "[10]\ttrain-logloss:0.61644\teval-logloss:0.61958\n",
      "[11]\ttrain-logloss:0.61416\teval-logloss:0.61786\n",
      "[12]\ttrain-logloss:0.61205\teval-logloss:0.61647\n",
      "[13]\ttrain-logloss:0.61069\teval-logloss:0.61543\n",
      "[14]\ttrain-logloss:0.60908\teval-logloss:0.61461\n",
      "[15]\ttrain-logloss:0.60777\teval-logloss:0.61412\n",
      "[16]\ttrain-logloss:0.60635\teval-logloss:0.61357\n",
      "[17]\ttrain-logloss:0.60507\teval-logloss:0.61317\n",
      "[18]\ttrain-logloss:0.60396\teval-logloss:0.61246\n",
      "[19]\ttrain-logloss:0.60304\teval-logloss:0.61238\n",
      "[20]\ttrain-logloss:0.60233\teval-logloss:0.61240\n",
      "[21]\ttrain-logloss:0.60123\teval-logloss:0.61206\n",
      "[22]\ttrain-logloss:0.60041\teval-logloss:0.61226\n",
      "[23]\ttrain-logloss:0.59964\teval-logloss:0.61197\n",
      "[24]\ttrain-logloss:0.59920\teval-logloss:0.61159\n",
      "[25]\ttrain-logloss:0.59822\teval-logloss:0.61130\n",
      "[26]\ttrain-logloss:0.59714\teval-logloss:0.61112\n",
      "[27]\ttrain-logloss:0.59636\teval-logloss:0.61104\n",
      "[28]\ttrain-logloss:0.59557\teval-logloss:0.61113\n",
      "[29]\ttrain-logloss:0.59491\teval-logloss:0.61095\n",
      "[30]\ttrain-logloss:0.59413\teval-logloss:0.61104\n",
      "[31]\ttrain-logloss:0.59341\teval-logloss:0.61146\n",
      "[32]\ttrain-logloss:0.59282\teval-logloss:0.61155\n",
      "[33]\ttrain-logloss:0.59153\teval-logloss:0.61125\n",
      "[34]\ttrain-logloss:0.59100\teval-logloss:0.61148\n",
      "[35]\ttrain-logloss:0.59016\teval-logloss:0.61154\n",
      "[36]\ttrain-logloss:0.58994\teval-logloss:0.61174\n",
      "[37]\ttrain-logloss:0.58914\teval-logloss:0.61186\n",
      "[38]\ttrain-logloss:0.58826\teval-logloss:0.61200\n",
      "[39]\ttrain-logloss:0.58776\teval-logloss:0.61260\n",
      "[40]\ttrain-logloss:0.58683\teval-logloss:0.61234\n",
      "[41]\ttrain-logloss:0.58628\teval-logloss:0.61256\n",
      "[42]\ttrain-logloss:0.58575\teval-logloss:0.61251\n",
      "[43]\ttrain-logloss:0.58556\teval-logloss:0.61234\n",
      "[44]\ttrain-logloss:0.58478\teval-logloss:0.61231\n",
      "[45]\ttrain-logloss:0.58431\teval-logloss:0.61234\n",
      "[46]\ttrain-logloss:0.58402\teval-logloss:0.61240\n",
      "[47]\ttrain-logloss:0.58384\teval-logloss:0.61255\n",
      "[48]\ttrain-logloss:0.58338\teval-logloss:0.61250\n",
      "[49]\ttrain-logloss:0.58267\teval-logloss:0.61263\n",
      "[50]\ttrain-logloss:0.58199\teval-logloss:0.61291\n",
      "[51]\ttrain-logloss:0.58184\teval-logloss:0.61303\n",
      "[52]\ttrain-logloss:0.58096\teval-logloss:0.61327\n",
      "[53]\ttrain-logloss:0.58028\teval-logloss:0.61344\n",
      "[54]\ttrain-logloss:0.57981\teval-logloss:0.61375\n",
      "[55]\ttrain-logloss:0.57924\teval-logloss:0.61390\n",
      "[56]\ttrain-logloss:0.57839\teval-logloss:0.61393\n",
      "[57]\ttrain-logloss:0.57815\teval-logloss:0.61403\n",
      "[58]\ttrain-logloss:0.57801\teval-logloss:0.61418\n",
      "[59]\ttrain-logloss:0.57736\teval-logloss:0.61457\n",
      "[60]\ttrain-logloss:0.57696\teval-logloss:0.61443\n",
      "[61]\ttrain-logloss:0.57673\teval-logloss:0.61428\n",
      "[62]\ttrain-logloss:0.57587\teval-logloss:0.61430\n",
      "[63]\ttrain-logloss:0.57534\teval-logloss:0.61445\n",
      "[64]\ttrain-logloss:0.57464\teval-logloss:0.61446\n",
      "[65]\ttrain-logloss:0.57451\teval-logloss:0.61473\n",
      "[66]\ttrain-logloss:0.57386\teval-logloss:0.61523\n",
      "[67]\ttrain-logloss:0.57320\teval-logloss:0.61536\n",
      "[68]\ttrain-logloss:0.57249\teval-logloss:0.61567\n",
      "[69]\ttrain-logloss:0.57194\teval-logloss:0.61591\n",
      "[70]\ttrain-logloss:0.57132\teval-logloss:0.61603\n",
      "[71]\ttrain-logloss:0.57073\teval-logloss:0.61614\n",
      "[72]\ttrain-logloss:0.57006\teval-logloss:0.61656\n",
      "[73]\ttrain-logloss:0.56939\teval-logloss:0.61687\n",
      "[74]\ttrain-logloss:0.56857\teval-logloss:0.61684\n",
      "[75]\ttrain-logloss:0.56827\teval-logloss:0.61669\n",
      "[76]\ttrain-logloss:0.56815\teval-logloss:0.61682\n",
      "[77]\ttrain-logloss:0.56719\teval-logloss:0.61671\n",
      "[78]\ttrain-logloss:0.56653\teval-logloss:0.61678\n",
      "[79]\ttrain-logloss:0.56635\teval-logloss:0.61692\n",
      "[80]\ttrain-logloss:0.56588\teval-logloss:0.61743\n",
      "[81]\ttrain-logloss:0.56484\teval-logloss:0.61782\n",
      "[82]\ttrain-logloss:0.56462\teval-logloss:0.61779\n",
      "[83]\ttrain-logloss:0.56398\teval-logloss:0.61818\n",
      "[84]\ttrain-logloss:0.56324\teval-logloss:0.61843\n",
      "[85]\ttrain-logloss:0.56250\teval-logloss:0.61869\n",
      "[86]\ttrain-logloss:0.56192\teval-logloss:0.61907\n",
      "[87]\ttrain-logloss:0.56173\teval-logloss:0.61892\n",
      "[88]\ttrain-logloss:0.56109\teval-logloss:0.61849\n",
      "[89]\ttrain-logloss:0.56090\teval-logloss:0.61872\n",
      "[90]\ttrain-logloss:0.56066\teval-logloss:0.61893\n",
      "[91]\ttrain-logloss:0.56039\teval-logloss:0.61879\n",
      "[92]\ttrain-logloss:0.56002\teval-logloss:0.61880\n",
      "[93]\ttrain-logloss:0.55935\teval-logloss:0.61904\n",
      "[94]\ttrain-logloss:0.55871\teval-logloss:0.61901\n",
      "[95]\ttrain-logloss:0.55834\teval-logloss:0.61894\n",
      "[96]\ttrain-logloss:0.55769\teval-logloss:0.61862\n",
      "[97]\ttrain-logloss:0.55730\teval-logloss:0.61859\n",
      "[98]\ttrain-logloss:0.55673\teval-logloss:0.61865\n",
      "[99]\ttrain-logloss:0.55649\teval-logloss:0.61871\n",
      "[100]\ttrain-logloss:0.55640\teval-logloss:0.61884\n",
      "[101]\ttrain-logloss:0.55621\teval-logloss:0.61879\n",
      "[102]\ttrain-logloss:0.55563\teval-logloss:0.61853\n",
      "[103]\ttrain-logloss:0.55504\teval-logloss:0.61863\n",
      "[104]\ttrain-logloss:0.55436\teval-logloss:0.61871\n",
      "[105]\ttrain-logloss:0.55373\teval-logloss:0.61871\n",
      "[106]\ttrain-logloss:0.55309\teval-logloss:0.61894\n",
      "[107]\ttrain-logloss:0.55248\teval-logloss:0.61889\n",
      "[108]\ttrain-logloss:0.55212\teval-logloss:0.61914\n",
      "[109]\ttrain-logloss:0.55150\teval-logloss:0.61928\n",
      "[110]\ttrain-logloss:0.55099\teval-logloss:0.61954\n",
      "[111]\ttrain-logloss:0.55030\teval-logloss:0.61996\n",
      "[112]\ttrain-logloss:0.54997\teval-logloss:0.61987\n",
      "[113]\ttrain-logloss:0.54961\teval-logloss:0.61980\n",
      "[114]\ttrain-logloss:0.54952\teval-logloss:0.61992\n",
      "[115]\ttrain-logloss:0.54909\teval-logloss:0.61998\n",
      "[116]\ttrain-logloss:0.54893\teval-logloss:0.61990\n",
      "[117]\ttrain-logloss:0.54885\teval-logloss:0.62003\n",
      "[118]\ttrain-logloss:0.54836\teval-logloss:0.62038\n",
      "[119]\ttrain-logloss:0.54760\teval-logloss:0.62026\n",
      "[120]\ttrain-logloss:0.54722\teval-logloss:0.62010\n",
      "[121]\ttrain-logloss:0.54703\teval-logloss:0.62015\n",
      "[122]\ttrain-logloss:0.54641\teval-logloss:0.62012\n",
      "[123]\ttrain-logloss:0.54580\teval-logloss:0.62029\n",
      "[124]\ttrain-logloss:0.54564\teval-logloss:0.62014\n",
      "[125]\ttrain-logloss:0.54522\teval-logloss:0.62053\n",
      "[126]\ttrain-logloss:0.54501\teval-logloss:0.62092\n",
      "[127]\ttrain-logloss:0.54451\teval-logloss:0.62057\n",
      "[128]\ttrain-logloss:0.54417\teval-logloss:0.62052\n",
      "[129]\ttrain-logloss:0.54362\teval-logloss:0.62080\n",
      "[130]\ttrain-logloss:0.54284\teval-logloss:0.62115\n",
      "[131]\ttrain-logloss:0.54226\teval-logloss:0.62154\n",
      "[132]\ttrain-logloss:0.54183\teval-logloss:0.62157\n",
      "[133]\ttrain-logloss:0.54148\teval-logloss:0.62152\n",
      "[134]\ttrain-logloss:0.54090\teval-logloss:0.62182\n",
      "[135]\ttrain-logloss:0.54036\teval-logloss:0.62188\n",
      "[136]\ttrain-logloss:0.54020\teval-logloss:0.62181\n",
      "[137]\ttrain-logloss:0.53968\teval-logloss:0.62201\n",
      "[138]\ttrain-logloss:0.53917\teval-logloss:0.62226\n",
      "[139]\ttrain-logloss:0.53865\teval-logloss:0.62224\n",
      "[140]\ttrain-logloss:0.53820\teval-logloss:0.62235\n",
      "[141]\ttrain-logloss:0.53806\teval-logloss:0.62227\n",
      "[142]\ttrain-logloss:0.53753\teval-logloss:0.62238\n",
      "[143]\ttrain-logloss:0.53704\teval-logloss:0.62249\n",
      "[144]\ttrain-logloss:0.53650\teval-logloss:0.62267\n",
      "[145]\ttrain-logloss:0.53585\teval-logloss:0.62303\n",
      "[146]\ttrain-logloss:0.53532\teval-logloss:0.62360\n",
      "[147]\ttrain-logloss:0.53504\teval-logloss:0.62379\n",
      "[148]\ttrain-logloss:0.53458\teval-logloss:0.62356\n",
      "[149]\ttrain-logloss:0.53448\teval-logloss:0.62364\n",
      "[150]\ttrain-logloss:0.53408\teval-logloss:0.62379\n",
      "[151]\ttrain-logloss:0.53368\teval-logloss:0.62446\n",
      "[152]\ttrain-logloss:0.53334\teval-logloss:0.62455\n",
      "[153]\ttrain-logloss:0.53319\teval-logloss:0.62480\n",
      "[154]\ttrain-logloss:0.53292\teval-logloss:0.62494\n",
      "[155]\ttrain-logloss:0.53284\teval-logloss:0.62497\n",
      "[156]\ttrain-logloss:0.53228\teval-logloss:0.62509\n",
      "[157]\ttrain-logloss:0.53185\teval-logloss:0.62555\n",
      "[158]\ttrain-logloss:0.53131\teval-logloss:0.62491\n",
      "[159]\ttrain-logloss:0.53076\teval-logloss:0.62510\n",
      "[160]\ttrain-logloss:0.53023\teval-logloss:0.62517\n",
      "[161]\ttrain-logloss:0.52970\teval-logloss:0.62536\n"
     ]
    },
    {
     "name": "stdout",
     "output_type": "stream",
     "text": [
      "[162]\ttrain-logloss:0.52927\teval-logloss:0.62545\n",
      "[163]\ttrain-logloss:0.52874\teval-logloss:0.62555\n",
      "[164]\ttrain-logloss:0.52823\teval-logloss:0.62557\n",
      "[165]\ttrain-logloss:0.52795\teval-logloss:0.62570\n",
      "[166]\ttrain-logloss:0.52782\teval-logloss:0.62557\n",
      "[167]\ttrain-logloss:0.52738\teval-logloss:0.62548\n",
      "[168]\ttrain-logloss:0.52731\teval-logloss:0.62563\n",
      "[169]\ttrain-logloss:0.52652\teval-logloss:0.62609\n",
      "[170]\ttrain-logloss:0.52598\teval-logloss:0.62592\n",
      "[171]\ttrain-logloss:0.52548\teval-logloss:0.62588\n",
      "[172]\ttrain-logloss:0.52498\teval-logloss:0.62592\n",
      "[173]\ttrain-logloss:0.52465\teval-logloss:0.62596\n",
      "[174]\ttrain-logloss:0.52403\teval-logloss:0.62575\n",
      "[175]\ttrain-logloss:0.52345\teval-logloss:0.62593\n",
      "[176]\ttrain-logloss:0.52285\teval-logloss:0.62634\n",
      "[177]\ttrain-logloss:0.52238\teval-logloss:0.62645\n",
      "[178]\ttrain-logloss:0.52195\teval-logloss:0.62650\n",
      "[179]\ttrain-logloss:0.52181\teval-logloss:0.62664\n",
      "[180]\ttrain-logloss:0.52174\teval-logloss:0.62667\n",
      "[181]\ttrain-logloss:0.52166\teval-logloss:0.62675\n",
      "[182]\ttrain-logloss:0.52104\teval-logloss:0.62667\n",
      "[183]\ttrain-logloss:0.52059\teval-logloss:0.62705\n",
      "[184]\ttrain-logloss:0.52034\teval-logloss:0.62723\n",
      "[185]\ttrain-logloss:0.52027\teval-logloss:0.62731\n",
      "[186]\ttrain-logloss:0.51963\teval-logloss:0.62744\n",
      "[187]\ttrain-logloss:0.51910\teval-logloss:0.62733\n",
      "[188]\ttrain-logloss:0.51870\teval-logloss:0.62720\n",
      "[189]\ttrain-logloss:0.51827\teval-logloss:0.62730\n",
      "[190]\ttrain-logloss:0.51783\teval-logloss:0.62735\n",
      "[191]\ttrain-logloss:0.51740\teval-logloss:0.62737\n",
      "[192]\ttrain-logloss:0.51709\teval-logloss:0.62710\n",
      "[193]\ttrain-logloss:0.51665\teval-logloss:0.62720\n",
      "[194]\ttrain-logloss:0.51617\teval-logloss:0.62721\n",
      "[195]\ttrain-logloss:0.51560\teval-logloss:0.62773\n",
      "[196]\ttrain-logloss:0.51515\teval-logloss:0.62788\n",
      "[197]\ttrain-logloss:0.51485\teval-logloss:0.62815\n",
      "[198]\ttrain-logloss:0.51426\teval-logloss:0.62805\n",
      "[199]\ttrain-logloss:0.51402\teval-logloss:0.62827\n",
      "[200]\ttrain-logloss:0.51363\teval-logloss:0.62846\n",
      "[201]\ttrain-logloss:0.51319\teval-logloss:0.62859\n",
      "[202]\ttrain-logloss:0.51271\teval-logloss:0.62884\n",
      "[203]\ttrain-logloss:0.51213\teval-logloss:0.62885\n",
      "[204]\ttrain-logloss:0.51185\teval-logloss:0.62873\n",
      "[205]\ttrain-logloss:0.51136\teval-logloss:0.62891\n",
      "[206]\ttrain-logloss:0.51078\teval-logloss:0.62889\n",
      "[207]\ttrain-logloss:0.50999\teval-logloss:0.62898\n",
      "[208]\ttrain-logloss:0.50975\teval-logloss:0.62927\n",
      "[209]\ttrain-logloss:0.50969\teval-logloss:0.62936\n",
      "[210]\ttrain-logloss:0.50954\teval-logloss:0.62946\n",
      "[211]\ttrain-logloss:0.50907\teval-logloss:0.62958\n",
      "[212]\ttrain-logloss:0.50889\teval-logloss:0.62954\n",
      "[213]\ttrain-logloss:0.50848\teval-logloss:0.62997\n",
      "[214]\ttrain-logloss:0.50821\teval-logloss:0.63035\n",
      "[215]\ttrain-logloss:0.50773\teval-logloss:0.63049\n",
      "[216]\ttrain-logloss:0.50729\teval-logloss:0.63045\n",
      "[217]\ttrain-logloss:0.50674\teval-logloss:0.63052\n",
      "[218]\ttrain-logloss:0.50624\teval-logloss:0.63071\n",
      "[219]\ttrain-logloss:0.50608\teval-logloss:0.63091\n",
      "[220]\ttrain-logloss:0.50571\teval-logloss:0.63081\n",
      "[221]\ttrain-logloss:0.50531\teval-logloss:0.63080\n",
      "[222]\ttrain-logloss:0.50452\teval-logloss:0.63087\n",
      "[223]\ttrain-logloss:0.50411\teval-logloss:0.63122\n",
      "[224]\ttrain-logloss:0.50374\teval-logloss:0.63144\n",
      "[225]\ttrain-logloss:0.50328\teval-logloss:0.63140\n",
      "[226]\ttrain-logloss:0.50302\teval-logloss:0.63158\n",
      "[227]\ttrain-logloss:0.50241\teval-logloss:0.63128\n",
      "[228]\ttrain-logloss:0.50190\teval-logloss:0.63143\n",
      "[229]\ttrain-logloss:0.50130\teval-logloss:0.63140\n",
      "[230]\ttrain-logloss:0.50079\teval-logloss:0.63125\n",
      "[231]\ttrain-logloss:0.50038\teval-logloss:0.63133\n",
      "[232]\ttrain-logloss:0.50004\teval-logloss:0.63108\n",
      "[233]\ttrain-logloss:0.49991\teval-logloss:0.63120\n",
      "[234]\ttrain-logloss:0.49971\teval-logloss:0.63152\n",
      "[235]\ttrain-logloss:0.49965\teval-logloss:0.63161\n",
      "[236]\ttrain-logloss:0.49922\teval-logloss:0.63169\n",
      "[237]\ttrain-logloss:0.49880\teval-logloss:0.63185\n",
      "[238]\ttrain-logloss:0.49850\teval-logloss:0.63201\n",
      "[239]\ttrain-logloss:0.49842\teval-logloss:0.63204\n",
      "[240]\ttrain-logloss:0.49795\teval-logloss:0.63212\n",
      "[241]\ttrain-logloss:0.49766\teval-logloss:0.63188\n",
      "[242]\ttrain-logloss:0.49722\teval-logloss:0.63198\n",
      "[243]\ttrain-logloss:0.49686\teval-logloss:0.63196\n",
      "[244]\ttrain-logloss:0.49642\teval-logloss:0.63188\n",
      "[245]\ttrain-logloss:0.49601\teval-logloss:0.63212\n",
      "[246]\ttrain-logloss:0.49565\teval-logloss:0.63227\n",
      "[247]\ttrain-logloss:0.49534\teval-logloss:0.63241\n",
      "[248]\ttrain-logloss:0.49521\teval-logloss:0.63239\n",
      "[249]\ttrain-logloss:0.49484\teval-logloss:0.63265\n",
      "[250]\ttrain-logloss:0.49448\teval-logloss:0.63248\n",
      "[251]\ttrain-logloss:0.49425\teval-logloss:0.63260\n",
      "[252]\ttrain-logloss:0.49408\teval-logloss:0.63259\n",
      "[253]\ttrain-logloss:0.49341\teval-logloss:0.63259\n",
      "[254]\ttrain-logloss:0.49292\teval-logloss:0.63307\n",
      "[255]\ttrain-logloss:0.49273\teval-logloss:0.63325\n",
      "[256]\ttrain-logloss:0.49247\teval-logloss:0.63348\n",
      "[257]\ttrain-logloss:0.49220\teval-logloss:0.63393\n",
      "[258]\ttrain-logloss:0.49210\teval-logloss:0.63422\n",
      "[259]\ttrain-logloss:0.49187\teval-logloss:0.63418\n",
      "[260]\ttrain-logloss:0.49140\teval-logloss:0.63447\n",
      "[261]\ttrain-logloss:0.49100\teval-logloss:0.63475\n",
      "[262]\ttrain-logloss:0.49077\teval-logloss:0.63488\n",
      "[263]\ttrain-logloss:0.49048\teval-logloss:0.63480\n",
      "[264]\ttrain-logloss:0.49009\teval-logloss:0.63490\n",
      "[265]\ttrain-logloss:0.48975\teval-logloss:0.63517\n",
      "[266]\ttrain-logloss:0.48969\teval-logloss:0.63526\n",
      "[267]\ttrain-logloss:0.48930\teval-logloss:0.63573\n",
      "[268]\ttrain-logloss:0.48907\teval-logloss:0.63550\n",
      "[269]\ttrain-logloss:0.48864\teval-logloss:0.63596\n",
      "[270]\ttrain-logloss:0.48839\teval-logloss:0.63630\n",
      "[271]\ttrain-logloss:0.48793\teval-logloss:0.63644\n",
      "[272]\ttrain-logloss:0.48764\teval-logloss:0.63666\n",
      "[273]\ttrain-logloss:0.48721\teval-logloss:0.63669\n",
      "[274]\ttrain-logloss:0.48716\teval-logloss:0.63656\n",
      "[275]\ttrain-logloss:0.48709\teval-logloss:0.63659\n",
      "[276]\ttrain-logloss:0.48668\teval-logloss:0.63662\n",
      "[277]\ttrain-logloss:0.48632\teval-logloss:0.63691\n",
      "[278]\ttrain-logloss:0.48596\teval-logloss:0.63704\n",
      "[279]\ttrain-logloss:0.48552\teval-logloss:0.63713\n",
      "[280]\ttrain-logloss:0.48506\teval-logloss:0.63705\n",
      "[281]\ttrain-logloss:0.48480\teval-logloss:0.63743\n",
      "[282]\ttrain-logloss:0.48446\teval-logloss:0.63768\n",
      "[283]\ttrain-logloss:0.48410\teval-logloss:0.63801\n",
      "[284]\ttrain-logloss:0.48354\teval-logloss:0.63806\n",
      "[285]\ttrain-logloss:0.48307\teval-logloss:0.63797\n",
      "[286]\ttrain-logloss:0.48281\teval-logloss:0.63792\n",
      "[287]\ttrain-logloss:0.48268\teval-logloss:0.63788\n",
      "[288]\ttrain-logloss:0.48240\teval-logloss:0.63800\n",
      "[289]\ttrain-logloss:0.48203\teval-logloss:0.63816\n",
      "[290]\ttrain-logloss:0.48159\teval-logloss:0.63823\n",
      "[291]\ttrain-logloss:0.48131\teval-logloss:0.63845\n",
      "[292]\ttrain-logloss:0.48120\teval-logloss:0.63835\n",
      "[293]\ttrain-logloss:0.48110\teval-logloss:0.63825\n",
      "[294]\ttrain-logloss:0.48105\teval-logloss:0.63836\n",
      "[295]\ttrain-logloss:0.48056\teval-logloss:0.63880\n",
      "[296]\ttrain-logloss:0.48012\teval-logloss:0.63896\n",
      "[297]\ttrain-logloss:0.47977\teval-logloss:0.63934\n",
      "[298]\ttrain-logloss:0.47937\teval-logloss:0.63936\n",
      "[299]\ttrain-logloss:0.47918\teval-logloss:0.63948\n",
      "[300]\ttrain-logloss:0.47895\teval-logloss:0.63953\n",
      "[301]\ttrain-logloss:0.47872\teval-logloss:0.64010\n",
      "[302]\ttrain-logloss:0.47844\teval-logloss:0.64004\n",
      "[303]\ttrain-logloss:0.47810\teval-logloss:0.64013\n",
      "[304]\ttrain-logloss:0.47769\teval-logloss:0.64037\n",
      "[305]\ttrain-logloss:0.47763\teval-logloss:0.64045\n",
      "[306]\ttrain-logloss:0.47713\teval-logloss:0.64026\n",
      "[307]\ttrain-logloss:0.47669\teval-logloss:0.64075\n",
      "[308]\ttrain-logloss:0.47624\teval-logloss:0.64074\n",
      "[309]\ttrain-logloss:0.47591\teval-logloss:0.64049\n",
      "[310]\ttrain-logloss:0.47559\teval-logloss:0.64058\n",
      "[311]\ttrain-logloss:0.47528\teval-logloss:0.64068\n",
      "[312]\ttrain-logloss:0.47523\teval-logloss:0.64076\n",
      "[313]\ttrain-logloss:0.47477\teval-logloss:0.64089\n",
      "[314]\ttrain-logloss:0.47425\teval-logloss:0.64103\n",
      "[315]\ttrain-logloss:0.47365\teval-logloss:0.64089\n",
      "[316]\ttrain-logloss:0.47324\teval-logloss:0.64097\n",
      "[317]\ttrain-logloss:0.47283\teval-logloss:0.64119\n",
      "[318]\ttrain-logloss:0.47250\teval-logloss:0.64129\n",
      "[319]\ttrain-logloss:0.47209\teval-logloss:0.64166\n",
      "[320]\ttrain-logloss:0.47179\teval-logloss:0.64198\n",
      "[321]\ttrain-logloss:0.47141\teval-logloss:0.64180\n",
      "[322]\ttrain-logloss:0.47094\teval-logloss:0.64194\n",
      "[323]\ttrain-logloss:0.47033\teval-logloss:0.64166\n",
      "[324]\ttrain-logloss:0.46991\teval-logloss:0.64196\n",
      "[325]\ttrain-logloss:0.46963\teval-logloss:0.64184\n",
      "[326]\ttrain-logloss:0.46914\teval-logloss:0.64162\n",
      "[327]\ttrain-logloss:0.46868\teval-logloss:0.64213\n",
      "[328]\ttrain-logloss:0.46823\teval-logloss:0.64261\n",
      "[329]\ttrain-logloss:0.46800\teval-logloss:0.64257\n"
     ]
    },
    {
     "name": "stdout",
     "output_type": "stream",
     "text": [
      "[330]\ttrain-logloss:0.46748\teval-logloss:0.64270\n",
      "[331]\ttrain-logloss:0.46712\teval-logloss:0.64282\n",
      "[332]\ttrain-logloss:0.46673\teval-logloss:0.64275\n",
      "[333]\ttrain-logloss:0.46635\teval-logloss:0.64272\n",
      "[334]\ttrain-logloss:0.46595\teval-logloss:0.64305\n",
      "[335]\ttrain-logloss:0.46543\teval-logloss:0.64284\n",
      "[336]\ttrain-logloss:0.46527\teval-logloss:0.64304\n",
      "[337]\ttrain-logloss:0.46507\teval-logloss:0.64338\n",
      "[338]\ttrain-logloss:0.46472\teval-logloss:0.64332\n",
      "[339]\ttrain-logloss:0.46464\teval-logloss:0.64357\n",
      "[340]\ttrain-logloss:0.46418\teval-logloss:0.64376\n",
      "[341]\ttrain-logloss:0.46362\teval-logloss:0.64398\n",
      "[342]\ttrain-logloss:0.46327\teval-logloss:0.64429\n",
      "[343]\ttrain-logloss:0.46284\teval-logloss:0.64446\n",
      "[344]\ttrain-logloss:0.46240\teval-logloss:0.64438\n",
      "[345]\ttrain-logloss:0.46203\teval-logloss:0.64455\n",
      "[346]\ttrain-logloss:0.46167\teval-logloss:0.64504\n",
      "[347]\ttrain-logloss:0.46121\teval-logloss:0.64503\n",
      "[348]\ttrain-logloss:0.46072\teval-logloss:0.64521\n",
      "[349]\ttrain-logloss:0.46030\teval-logloss:0.64544\n",
      "[350]\ttrain-logloss:0.45998\teval-logloss:0.64568\n",
      "[351]\ttrain-logloss:0.45988\teval-logloss:0.64575\n",
      "[352]\ttrain-logloss:0.45980\teval-logloss:0.64595\n",
      "[353]\ttrain-logloss:0.45975\teval-logloss:0.64605\n",
      "[354]\ttrain-logloss:0.45944\teval-logloss:0.64619\n",
      "[355]\ttrain-logloss:0.45905\teval-logloss:0.64622\n",
      "[356]\ttrain-logloss:0.45870\teval-logloss:0.64637\n",
      "[357]\ttrain-logloss:0.45822\teval-logloss:0.64611\n",
      "[358]\ttrain-logloss:0.45787\teval-logloss:0.64636\n",
      "[359]\ttrain-logloss:0.45745\teval-logloss:0.64679\n",
      "[360]\ttrain-logloss:0.45729\teval-logloss:0.64697\n",
      "[361]\ttrain-logloss:0.45696\teval-logloss:0.64736\n",
      "[362]\ttrain-logloss:0.45649\teval-logloss:0.64742\n",
      "[363]\ttrain-logloss:0.45607\teval-logloss:0.64758\n",
      "[364]\ttrain-logloss:0.45584\teval-logloss:0.64796\n",
      "[365]\ttrain-logloss:0.45580\teval-logloss:0.64805\n",
      "[366]\ttrain-logloss:0.45537\teval-logloss:0.64810\n",
      "[367]\ttrain-logloss:0.45493\teval-logloss:0.64813\n",
      "[368]\ttrain-logloss:0.45456\teval-logloss:0.64803\n",
      "[369]\ttrain-logloss:0.45446\teval-logloss:0.64792\n",
      "[370]\ttrain-logloss:0.45414\teval-logloss:0.64805\n",
      "[371]\ttrain-logloss:0.45405\teval-logloss:0.64813\n",
      "[372]\ttrain-logloss:0.45395\teval-logloss:0.64801\n",
      "[373]\ttrain-logloss:0.45389\teval-logloss:0.64801\n",
      "[374]\ttrain-logloss:0.45386\teval-logloss:0.64802\n",
      "[375]\ttrain-logloss:0.45347\teval-logloss:0.64806\n",
      "[376]\ttrain-logloss:0.45320\teval-logloss:0.64824\n",
      "[377]\ttrain-logloss:0.45313\teval-logloss:0.64844\n",
      "[378]\ttrain-logloss:0.45289\teval-logloss:0.64874\n",
      "[379]\ttrain-logloss:0.45277\teval-logloss:0.64880\n",
      "[380]\ttrain-logloss:0.45243\teval-logloss:0.64877\n",
      "[381]\ttrain-logloss:0.45220\teval-logloss:0.64898\n",
      "[382]\ttrain-logloss:0.45193\teval-logloss:0.64916\n",
      "[383]\ttrain-logloss:0.45154\teval-logloss:0.64936\n",
      "[384]\ttrain-logloss:0.45115\teval-logloss:0.64942\n",
      "[385]\ttrain-logloss:0.45110\teval-logloss:0.64945\n",
      "[386]\ttrain-logloss:0.45071\teval-logloss:0.64977\n",
      "[387]\ttrain-logloss:0.45049\teval-logloss:0.64999\n",
      "[388]\ttrain-logloss:0.45018\teval-logloss:0.65009\n",
      "[389]\ttrain-logloss:0.44987\teval-logloss:0.65018\n",
      "[390]\ttrain-logloss:0.44929\teval-logloss:0.65025\n",
      "[391]\ttrain-logloss:0.44892\teval-logloss:0.65075\n",
      "[392]\ttrain-logloss:0.44854\teval-logloss:0.65066\n",
      "[393]\ttrain-logloss:0.44807\teval-logloss:0.65056\n",
      "[394]\ttrain-logloss:0.44776\teval-logloss:0.65082\n",
      "[395]\ttrain-logloss:0.44736\teval-logloss:0.65107\n",
      "[396]\ttrain-logloss:0.44689\teval-logloss:0.65075\n",
      "[397]\ttrain-logloss:0.44650\teval-logloss:0.65104\n",
      "[398]\ttrain-logloss:0.44624\teval-logloss:0.65133\n",
      "[399]\ttrain-logloss:0.44601\teval-logloss:0.65154\n"
     ]
    }
   ],
   "source": [
    "# train 데이터 세트는 'train', evaluation(test) 데이터 세트는 'eval'로 명기\n",
    "wlist = [(dtrain, 'train'),(dtest, 'eval')]\n",
    "# 하이퍼 파라미터와 early stoppinig 파라미터를 train() 함수의 파라미터로 전달\n",
    "xgb_model = xgb.train(params=params, dtrain=dtrain, num_boost_round=num_rounds, evals=wlist)"
   ]
  },
  {
   "cell_type": "code",
   "execution_count": 85,
   "metadata": {},
   "outputs": [
    {
     "name": "stdout",
     "output_type": "stream",
     "text": [
      "predict() 수행 결과값을 10개만 표시, 예측 확률값으로 표시됨\n",
      "[0.361 0.264 0.299 0.179 0.337 0.38  0.2   0.165 0.663 0.136]\n"
     ]
    }
   ],
   "source": [
    "pred_probs = xgb_model.predict(dtest)\n",
    "print('predict() 수행 결과값을 10개만 표시, 예측 확률값으로 표시됨')\n",
    "print(np.round(pred_probs[:10], 3))\n",
    "\n",
    "preds = [1 if x > 0.5 else 0 for x in pred_probs]"
   ]
  },
  {
   "cell_type": "code",
   "execution_count": 86,
   "metadata": {},
   "outputs": [],
   "source": [
    "from sklearn.metrics import accuracy_score, recall_score, precision_score, confusion_matrix\n",
    "def get_clf_eval(y_test, pred):\n",
    "    confusion = confusion_matrix(y_test, pred)\n",
    "    accuracy = accuracy_score(y_test, pred)\n",
    "    precision = precision_score(y_test, pred)\n",
    "    recall = recall_score(y_test, pred)\n",
    "    print('오차행렬')\n",
    "    print(confusion)\n",
    "    print('정확도: {0:.4f}, 정밀도: {1:.4f}, 재현율: {2:.4f}'.format(accuracy, precision, recall))"
   ]
  },
  {
   "cell_type": "code",
   "execution_count": 87,
   "metadata": {},
   "outputs": [
    {
     "name": "stdout",
     "output_type": "stream",
     "text": [
      "오차행렬\n",
      "[[837  46]\n",
      " [339  28]]\n",
      "정확도: 0.6920, 정밀도: 0.3784, 재현율: 0.0763\n"
     ]
    }
   ],
   "source": [
    "get_clf_eval(y_test, preds)"
   ]
  },
  {
   "cell_type": "code",
   "execution_count": 88,
   "metadata": {},
   "outputs": [
    {
     "data": {
      "text/plain": [
       "Index(['총구매액', '구매건수', '평균구매가격', '평균할부개월수', '구매브랜드종류', '내점일수', '수입상품_구매비율',\n",
       "       '주말방문비율', '가을_구매건수', '겨울_구매건수', '봄_구매건수', '여름_구매건수', '아침_구매건수',\n",
       "       '저녁_구매건수', '점심_구매건수', '주구매코너'],\n",
       "      dtype='object')"
      ]
     },
     "execution_count": 88,
     "metadata": {},
     "output_type": "execute_result"
    }
   ],
   "source": [
    "XX.columns"
   ]
  },
  {
   "cell_type": "code",
   "execution_count": 89,
   "metadata": {},
   "outputs": [],
   "source": [
    "col = ['a', 'b', 'c', 'd', 'e', 'f', 'g', 'h', 'i', 'j', 'k', 'l', 'm', 'n','o','p']"
   ]
  },
  {
   "cell_type": "code",
   "execution_count": 90,
   "metadata": {},
   "outputs": [
    {
     "data": {
      "text/html": [
       "<div>\n",
       "<style scoped>\n",
       "    .dataframe tbody tr th:only-of-type {\n",
       "        vertical-align: middle;\n",
       "    }\n",
       "\n",
       "    .dataframe tbody tr th {\n",
       "        vertical-align: top;\n",
       "    }\n",
       "\n",
       "    .dataframe thead th {\n",
       "        text-align: right;\n",
       "    }\n",
       "</style>\n",
       "<table border=\"1\" class=\"dataframe\">\n",
       "  <thead>\n",
       "    <tr style=\"text-align: right;\">\n",
       "      <th></th>\n",
       "      <th>총구매액</th>\n",
       "      <th>구매건수</th>\n",
       "      <th>평균구매가격</th>\n",
       "      <th>평균할부개월수</th>\n",
       "      <th>구매브랜드종류</th>\n",
       "      <th>내점일수</th>\n",
       "      <th>수입상품_구매비율</th>\n",
       "      <th>주말방문비율</th>\n",
       "      <th>가을_구매건수</th>\n",
       "      <th>겨울_구매건수</th>\n",
       "      <th>봄_구매건수</th>\n",
       "      <th>여름_구매건수</th>\n",
       "      <th>아침_구매건수</th>\n",
       "      <th>저녁_구매건수</th>\n",
       "      <th>점심_구매건수</th>\n",
       "      <th>주구매코너</th>\n",
       "    </tr>\n",
       "  </thead>\n",
       "  <tbody>\n",
       "    <tr>\n",
       "      <th>0</th>\n",
       "      <td>4911200</td>\n",
       "      <td>38</td>\n",
       "      <td>129242</td>\n",
       "      <td>2.1</td>\n",
       "      <td>21</td>\n",
       "      <td>19</td>\n",
       "      <td>28.9</td>\n",
       "      <td>42.1</td>\n",
       "      <td>3.0</td>\n",
       "      <td>1.0</td>\n",
       "      <td>25.0</td>\n",
       "      <td>9.0</td>\n",
       "      <td>1.0</td>\n",
       "      <td>13.0</td>\n",
       "      <td>24.0</td>\n",
       "      <td>24</td>\n",
       "    </tr>\n",
       "    <tr>\n",
       "      <th>1</th>\n",
       "      <td>3750300</td>\n",
       "      <td>18</td>\n",
       "      <td>208350</td>\n",
       "      <td>1.2</td>\n",
       "      <td>12</td>\n",
       "      <td>9</td>\n",
       "      <td>38.9</td>\n",
       "      <td>100.0</td>\n",
       "      <td>10.0</td>\n",
       "      <td>10.0</td>\n",
       "      <td>4.0</td>\n",
       "      <td>4.0</td>\n",
       "      <td>9.0</td>\n",
       "      <td>12.0</td>\n",
       "      <td>6.0</td>\n",
       "      <td>10</td>\n",
       "    </tr>\n",
       "    <tr>\n",
       "      <th>2</th>\n",
       "      <td>14525845</td>\n",
       "      <td>244</td>\n",
       "      <td>59532</td>\n",
       "      <td>1.7</td>\n",
       "      <td>63</td>\n",
       "      <td>131</td>\n",
       "      <td>6.6</td>\n",
       "      <td>27.5</td>\n",
       "      <td>54.0</td>\n",
       "      <td>58.0</td>\n",
       "      <td>70.0</td>\n",
       "      <td>62.0</td>\n",
       "      <td>38.0</td>\n",
       "      <td>10.0</td>\n",
       "      <td>206.0</td>\n",
       "      <td>14</td>\n",
       "    </tr>\n",
       "    <tr>\n",
       "      <th>3</th>\n",
       "      <td>2066269</td>\n",
       "      <td>21</td>\n",
       "      <td>98394</td>\n",
       "      <td>1.4</td>\n",
       "      <td>11</td>\n",
       "      <td>14</td>\n",
       "      <td>4.8</td>\n",
       "      <td>21.4</td>\n",
       "      <td>9.0</td>\n",
       "      <td>8.0</td>\n",
       "      <td>2.0</td>\n",
       "      <td>2.0</td>\n",
       "      <td>2.0</td>\n",
       "      <td>7.0</td>\n",
       "      <td>12.0</td>\n",
       "      <td>14</td>\n",
       "    </tr>\n",
       "    <tr>\n",
       "      <th>4</th>\n",
       "      <td>8905841</td>\n",
       "      <td>21</td>\n",
       "      <td>424088</td>\n",
       "      <td>2.0</td>\n",
       "      <td>12</td>\n",
       "      <td>15</td>\n",
       "      <td>47.6</td>\n",
       "      <td>26.7</td>\n",
       "      <td>7.0</td>\n",
       "      <td>4.0</td>\n",
       "      <td>2.0</td>\n",
       "      <td>8.0</td>\n",
       "      <td>3.0</td>\n",
       "      <td>1.0</td>\n",
       "      <td>17.0</td>\n",
       "      <td>8</td>\n",
       "    </tr>\n",
       "  </tbody>\n",
       "</table>\n",
       "</div>"
      ],
      "text/plain": [
       "       총구매액  구매건수  평균구매가격  평균할부개월수  구매브랜드종류  내점일수  수입상품_구매비율  주말방문비율  가을_구매건수  \\\n",
       "0   4911200    38  129242      2.1       21    19       28.9    42.1      3.0   \n",
       "1   3750300    18  208350      1.2       12     9       38.9   100.0     10.0   \n",
       "2  14525845   244   59532      1.7       63   131        6.6    27.5     54.0   \n",
       "3   2066269    21   98394      1.4       11    14        4.8    21.4      9.0   \n",
       "4   8905841    21  424088      2.0       12    15       47.6    26.7      7.0   \n",
       "\n",
       "   겨울_구매건수  봄_구매건수  여름_구매건수  아침_구매건수  저녁_구매건수  점심_구매건수  주구매코너  \n",
       "0      1.0    25.0      9.0      1.0     13.0     24.0     24  \n",
       "1     10.0     4.0      4.0      9.0     12.0      6.0     10  \n",
       "2     58.0    70.0     62.0     38.0     10.0    206.0     14  \n",
       "3      8.0     2.0      2.0      2.0      7.0     12.0     14  \n",
       "4      4.0     2.0      8.0      3.0      1.0     17.0      8  "
      ]
     },
     "execution_count": 90,
     "metadata": {},
     "output_type": "execute_result"
    }
   ],
   "source": [
    "XX.head()"
   ]
  },
  {
   "cell_type": "code",
   "execution_count": 91,
   "metadata": {},
   "outputs": [
    {
     "name": "stdout",
     "output_type": "stream",
     "text": [
      "[LightGBM] [Warning] Unknown parameter: nestimators\n",
      "[1]\tvalid_0's binary_logloss: 0.684097\n",
      "Training until validation scores don't improve for 100 rounds\n",
      "[2]\tvalid_0's binary_logloss: 0.676291\n",
      "[3]\tvalid_0's binary_logloss: 0.671935\n",
      "[4]\tvalid_0's binary_logloss: 0.668701\n",
      "[5]\tvalid_0's binary_logloss: 0.665374\n",
      "[6]\tvalid_0's binary_logloss: 0.662893\n",
      "[7]\tvalid_0's binary_logloss: 0.660642\n",
      "[8]\tvalid_0's binary_logloss: 0.659608\n",
      "[9]\tvalid_0's binary_logloss: 0.658864\n",
      "[10]\tvalid_0's binary_logloss: 0.657031\n",
      "[11]\tvalid_0's binary_logloss: 0.655114\n",
      "[12]\tvalid_0's binary_logloss: 0.654045\n",
      "[13]\tvalid_0's binary_logloss: 0.651285\n",
      "[14]\tvalid_0's binary_logloss: 0.651181\n",
      "[15]\tvalid_0's binary_logloss: 0.650055\n",
      "[16]\tvalid_0's binary_logloss: 0.649217\n",
      "[17]\tvalid_0's binary_logloss: 0.648854\n",
      "[18]\tvalid_0's binary_logloss: 0.64761\n",
      "[19]\tvalid_0's binary_logloss: 0.646474\n",
      "[20]\tvalid_0's binary_logloss: 0.645049\n",
      "[21]\tvalid_0's binary_logloss: 0.6457\n",
      "[22]\tvalid_0's binary_logloss: 0.646651\n",
      "[23]\tvalid_0's binary_logloss: 0.645954\n",
      "[24]\tvalid_0's binary_logloss: 0.645468\n",
      "[25]\tvalid_0's binary_logloss: 0.645616\n",
      "[26]\tvalid_0's binary_logloss: 0.645873\n",
      "[27]\tvalid_0's binary_logloss: 0.645928\n",
      "[28]\tvalid_0's binary_logloss: 0.645901\n",
      "[29]\tvalid_0's binary_logloss: 0.646391\n",
      "[30]\tvalid_0's binary_logloss: 0.646735\n",
      "[31]\tvalid_0's binary_logloss: 0.647115\n",
      "[32]\tvalid_0's binary_logloss: 0.646996\n",
      "[33]\tvalid_0's binary_logloss: 0.646325\n",
      "[34]\tvalid_0's binary_logloss: 0.645237\n",
      "[35]\tvalid_0's binary_logloss: 0.645035\n",
      "[36]\tvalid_0's binary_logloss: 0.64404\n",
      "[37]\tvalid_0's binary_logloss: 0.644418\n",
      "[38]\tvalid_0's binary_logloss: 0.644503\n",
      "[39]\tvalid_0's binary_logloss: 0.645219\n",
      "[40]\tvalid_0's binary_logloss: 0.645016\n",
      "[41]\tvalid_0's binary_logloss: 0.644767\n",
      "[42]\tvalid_0's binary_logloss: 0.64447\n",
      "[43]\tvalid_0's binary_logloss: 0.64493\n",
      "[44]\tvalid_0's binary_logloss: 0.645929\n",
      "[45]\tvalid_0's binary_logloss: 0.646299\n",
      "[46]\tvalid_0's binary_logloss: 0.646656\n",
      "[47]\tvalid_0's binary_logloss: 0.646824\n",
      "[48]\tvalid_0's binary_logloss: 0.645945\n",
      "[49]\tvalid_0's binary_logloss: 0.64633\n",
      "[50]\tvalid_0's binary_logloss: 0.646432\n",
      "[51]\tvalid_0's binary_logloss: 0.646376\n",
      "[52]\tvalid_0's binary_logloss: 0.645871\n",
      "[53]\tvalid_0's binary_logloss: 0.645151\n",
      "[54]\tvalid_0's binary_logloss: 0.644727\n",
      "[55]\tvalid_0's binary_logloss: 0.644898\n",
      "[56]\tvalid_0's binary_logloss: 0.644865\n",
      "[57]\tvalid_0's binary_logloss: 0.644867\n",
      "[58]\tvalid_0's binary_logloss: 0.644614\n",
      "[59]\tvalid_0's binary_logloss: 0.644922\n",
      "[60]\tvalid_0's binary_logloss: 0.645075\n",
      "[61]\tvalid_0's binary_logloss: 0.645163\n",
      "[62]\tvalid_0's binary_logloss: 0.645855\n",
      "[63]\tvalid_0's binary_logloss: 0.646125\n",
      "[64]\tvalid_0's binary_logloss: 0.646148\n",
      "[65]\tvalid_0's binary_logloss: 0.646082\n",
      "[66]\tvalid_0's binary_logloss: 0.645815\n",
      "[67]\tvalid_0's binary_logloss: 0.645309\n",
      "[68]\tvalid_0's binary_logloss: 0.645903\n",
      "[69]\tvalid_0's binary_logloss: 0.645667\n",
      "[70]\tvalid_0's binary_logloss: 0.646202\n",
      "[71]\tvalid_0's binary_logloss: 0.646614\n",
      "[72]\tvalid_0's binary_logloss: 0.64661\n",
      "[73]\tvalid_0's binary_logloss: 0.647103\n",
      "[74]\tvalid_0's binary_logloss: 0.64704\n",
      "[75]\tvalid_0's binary_logloss: 0.647495\n",
      "[76]\tvalid_0's binary_logloss: 0.647852\n",
      "[77]\tvalid_0's binary_logloss: 0.647847\n",
      "[78]\tvalid_0's binary_logloss: 0.648284\n",
      "[79]\tvalid_0's binary_logloss: 0.648581\n",
      "[80]\tvalid_0's binary_logloss: 0.649131\n",
      "[81]\tvalid_0's binary_logloss: 0.649187\n",
      "[82]\tvalid_0's binary_logloss: 0.650261\n",
      "[83]\tvalid_0's binary_logloss: 0.651692\n",
      "[84]\tvalid_0's binary_logloss: 0.650831\n",
      "[85]\tvalid_0's binary_logloss: 0.650767\n",
      "[86]\tvalid_0's binary_logloss: 0.65099\n",
      "[87]\tvalid_0's binary_logloss: 0.651048\n",
      "[88]\tvalid_0's binary_logloss: 0.651672\n",
      "[89]\tvalid_0's binary_logloss: 0.652808\n",
      "[90]\tvalid_0's binary_logloss: 0.653155\n",
      "[91]\tvalid_0's binary_logloss: 0.652286\n",
      "[92]\tvalid_0's binary_logloss: 0.652114\n",
      "[93]\tvalid_0's binary_logloss: 0.653058\n",
      "[94]\tvalid_0's binary_logloss: 0.653805\n",
      "[95]\tvalid_0's binary_logloss: 0.654666\n",
      "[96]\tvalid_0's binary_logloss: 0.655334\n",
      "[97]\tvalid_0's binary_logloss: 0.655558\n",
      "[98]\tvalid_0's binary_logloss: 0.656433\n",
      "[99]\tvalid_0's binary_logloss: 0.657275\n",
      "[100]\tvalid_0's binary_logloss: 0.657805\n",
      "Did not meet early stopping. Best iteration is:\n",
      "[36]\tvalid_0's binary_logloss: 0.64404\n"
     ]
    }
   ],
   "source": [
    "from lightgbm import LGBMClassifier\n",
    "lgbm_wrapper = LGBMClassifier(nestimators=400)\n",
    "evals = [(X_test, y_test)]\n",
    "lgbm_wrapper.fit(XX, yy, feature_name=col, early_stopping_rounds=100, \n",
    "                 eval_metric=\"logloss\", eval_set=evals, verbose=True)\n",
    "pred = lgbm_wrapper.predict(X_test)"
   ]
  },
  {
   "cell_type": "code",
   "execution_count": 92,
   "metadata": {},
   "outputs": [
    {
     "name": "stdout",
     "output_type": "stream",
     "text": [
      "오차행렬\n",
      "[[837  46]\n",
      " [339  28]]\n",
      "정확도: 0.6920, 정밀도: 0.3784, 재현율: 0.0763\n"
     ]
    }
   ],
   "source": [
    "get_clf_eval(y_test, preds)"
   ]
  },
  {
   "cell_type": "markdown",
   "metadata": {},
   "source": [
    "# Features engineering"
   ]
  },
  {
   "cell_type": "code",
   "execution_count": 93,
   "metadata": {},
   "outputs": [
    {
     "name": "stdout",
     "output_type": "stream",
     "text": [
      "gender\n",
      "0    53063574\n",
      "1    16347745\n",
      "Name: 총구매액, dtype: int64\n",
      "gender\n",
      "0    160\n",
      "1    159\n",
      "Name: 구매건수, dtype: int64\n"
     ]
    },
    {
     "data": {
      "text/html": [
       "<div>\n",
       "<style scoped>\n",
       "    .dataframe tbody tr th:only-of-type {\n",
       "        vertical-align: middle;\n",
       "    }\n",
       "\n",
       "    .dataframe tbody tr th {\n",
       "        vertical-align: top;\n",
       "    }\n",
       "\n",
       "    .dataframe thead th {\n",
       "        text-align: right;\n",
       "    }\n",
       "</style>\n",
       "<table border=\"1\" class=\"dataframe\">\n",
       "  <thead>\n",
       "    <tr style=\"text-align: right;\">\n",
       "      <th></th>\n",
       "      <th>custid</th>\n",
       "      <th>총구매액</th>\n",
       "      <th>구매건수</th>\n",
       "      <th>평균구매가격</th>\n",
       "      <th>평균할부개월수</th>\n",
       "      <th>구매브랜드종류</th>\n",
       "      <th>내점일수</th>\n",
       "      <th>수입상품_구매비율</th>\n",
       "      <th>주말방문비율</th>\n",
       "      <th>가을_구매건수</th>\n",
       "      <th>겨울_구매건수</th>\n",
       "      <th>봄_구매건수</th>\n",
       "      <th>여름_구매건수</th>\n",
       "      <th>아침_구매건수</th>\n",
       "      <th>저녁_구매건수</th>\n",
       "      <th>점심_구매건수</th>\n",
       "      <th>주구매코너</th>\n",
       "      <th>gender</th>\n",
       "      <th>코너별구매건</th>\n",
       "    </tr>\n",
       "  </thead>\n",
       "  <tbody>\n",
       "    <tr>\n",
       "      <th>0</th>\n",
       "      <td>100001</td>\n",
       "      <td>3439000</td>\n",
       "      <td>25</td>\n",
       "      <td>137560</td>\n",
       "      <td>2.2</td>\n",
       "      <td>19</td>\n",
       "      <td>16</td>\n",
       "      <td>12.0</td>\n",
       "      <td>31.2</td>\n",
       "      <td>5.0</td>\n",
       "      <td>4.0</td>\n",
       "      <td>7.0</td>\n",
       "      <td>9.0</td>\n",
       "      <td>13.0</td>\n",
       "      <td>1.0</td>\n",
       "      <td>11.0</td>\n",
       "      <td>15</td>\n",
       "      <td>0</td>\n",
       "      <td>1315</td>\n",
       "    </tr>\n",
       "    <tr>\n",
       "      <th>1</th>\n",
       "      <td>100092</td>\n",
       "      <td>2973500</td>\n",
       "      <td>38</td>\n",
       "      <td>78250</td>\n",
       "      <td>4.2</td>\n",
       "      <td>20</td>\n",
       "      <td>16</td>\n",
       "      <td>7.9</td>\n",
       "      <td>43.8</td>\n",
       "      <td>10.0</td>\n",
       "      <td>10.0</td>\n",
       "      <td>13.0</td>\n",
       "      <td>5.0</td>\n",
       "      <td>9.0</td>\n",
       "      <td>3.0</td>\n",
       "      <td>26.0</td>\n",
       "      <td>15</td>\n",
       "      <td>0</td>\n",
       "      <td>1315</td>\n",
       "    </tr>\n",
       "    <tr>\n",
       "      <th>2</th>\n",
       "      <td>100130</td>\n",
       "      <td>3633456</td>\n",
       "      <td>41</td>\n",
       "      <td>88621</td>\n",
       "      <td>3.2</td>\n",
       "      <td>27</td>\n",
       "      <td>16</td>\n",
       "      <td>2.4</td>\n",
       "      <td>43.8</td>\n",
       "      <td>7.0</td>\n",
       "      <td>17.0</td>\n",
       "      <td>4.0</td>\n",
       "      <td>13.0</td>\n",
       "      <td>1.0</td>\n",
       "      <td>27.0</td>\n",
       "      <td>13.0</td>\n",
       "      <td>15</td>\n",
       "      <td>0</td>\n",
       "      <td>1315</td>\n",
       "    </tr>\n",
       "    <tr>\n",
       "      <th>3</th>\n",
       "      <td>100170</td>\n",
       "      <td>1536790</td>\n",
       "      <td>8</td>\n",
       "      <td>192099</td>\n",
       "      <td>2.5</td>\n",
       "      <td>8</td>\n",
       "      <td>5</td>\n",
       "      <td>12.5</td>\n",
       "      <td>0.0</td>\n",
       "      <td>2.0</td>\n",
       "      <td>3.0</td>\n",
       "      <td>2.0</td>\n",
       "      <td>1.0</td>\n",
       "      <td>9.0</td>\n",
       "      <td>10.0</td>\n",
       "      <td>8.0</td>\n",
       "      <td>15</td>\n",
       "      <td>1</td>\n",
       "      <td>1315</td>\n",
       "    </tr>\n",
       "    <tr>\n",
       "      <th>4</th>\n",
       "      <td>100274</td>\n",
       "      <td>1101000</td>\n",
       "      <td>8</td>\n",
       "      <td>137625</td>\n",
       "      <td>5.9</td>\n",
       "      <td>5</td>\n",
       "      <td>5</td>\n",
       "      <td>25.0</td>\n",
       "      <td>0.0</td>\n",
       "      <td>10.0</td>\n",
       "      <td>3.0</td>\n",
       "      <td>5.0</td>\n",
       "      <td>11.0</td>\n",
       "      <td>3.0</td>\n",
       "      <td>10.0</td>\n",
       "      <td>5.0</td>\n",
       "      <td>15</td>\n",
       "      <td>0</td>\n",
       "      <td>1315</td>\n",
       "    </tr>\n",
       "  </tbody>\n",
       "</table>\n",
       "</div>"
      ],
      "text/plain": [
       "   custid     총구매액  구매건수  평균구매가격  평균할부개월수  구매브랜드종류  내점일수  수입상품_구매비율  주말방문비율  \\\n",
       "0  100001  3439000    25  137560      2.2       19    16       12.0    31.2   \n",
       "1  100092  2973500    38   78250      4.2       20    16        7.9    43.8   \n",
       "2  100130  3633456    41   88621      3.2       27    16        2.4    43.8   \n",
       "3  100170  1536790     8  192099      2.5        8     5       12.5     0.0   \n",
       "4  100274  1101000     8  137625      5.9        5     5       25.0     0.0   \n",
       "\n",
       "   가을_구매건수  겨울_구매건수  봄_구매건수  여름_구매건수  아침_구매건수  저녁_구매건수  점심_구매건수  주구매코너  \\\n",
       "0      5.0      4.0     7.0      9.0     13.0      1.0     11.0     15   \n",
       "1     10.0     10.0    13.0      5.0      9.0      3.0     26.0     15   \n",
       "2      7.0     17.0     4.0     13.0      1.0     27.0     13.0     15   \n",
       "3      2.0      3.0     2.0      1.0      9.0     10.0      8.0     15   \n",
       "4     10.0      3.0     5.0     11.0      3.0     10.0      5.0     15   \n",
       "\n",
       "   gender  코너별구매건  \n",
       "0       0    1315  \n",
       "1       0    1315  \n",
       "2       0    1315  \n",
       "3       1    1315  \n",
       "4       0    1315  "
      ]
     },
     "execution_count": 93,
     "metadata": {},
     "output_type": "execute_result"
    }
   ],
   "source": [
    "# 학습용 데이터에 '코너별구매건' 컬럼 추가\n",
    "\n",
    "dt0 = tdf.groupby(['주구매코너'])['구매건수'].agg(sum)   \n",
    "df0 = dt0.to_frame().reset_index()\n",
    "df0.columns = ['주구매코너', '코너별구매건']\n",
    "#df0.head(3)\n",
    "tdf_ = pd.merge(tdf, df0, on='주구매코너')\n",
    "# dataP_.head()\n",
    "print(tdf_[(tdf_['주구매코너']==1)].groupby(['gender'])['총구매액'].agg(sum))\n",
    "print(tdf_[(tdf_['주구매코너']==1)].groupby(['gender'])['구매건수'].agg(sum))\n",
    "tdf_.head()"
   ]
  },
  {
   "cell_type": "code",
   "execution_count": 94,
   "metadata": {},
   "outputs": [
    {
     "data": {
      "text/html": [
       "<div>\n",
       "<style scoped>\n",
       "    .dataframe tbody tr th:only-of-type {\n",
       "        vertical-align: middle;\n",
       "    }\n",
       "\n",
       "    .dataframe tbody tr th {\n",
       "        vertical-align: top;\n",
       "    }\n",
       "\n",
       "    .dataframe thead th {\n",
       "        text-align: right;\n",
       "    }\n",
       "</style>\n",
       "<table border=\"1\" class=\"dataframe\">\n",
       "  <thead>\n",
       "    <tr style=\"text-align: right;\">\n",
       "      <th></th>\n",
       "      <th>custid</th>\n",
       "      <th>총구매액</th>\n",
       "      <th>구매건수</th>\n",
       "      <th>평균구매가격</th>\n",
       "      <th>평균할부개월수</th>\n",
       "      <th>구매브랜드종류</th>\n",
       "      <th>내점일수</th>\n",
       "      <th>수입상품_구매비율</th>\n",
       "      <th>주말방문비율</th>\n",
       "      <th>주구매코너</th>\n",
       "      <th>gender</th>\n",
       "      <th>코너별구매건</th>\n",
       "      <th>아침구매액</th>\n",
       "      <th>점심구매액</th>\n",
       "      <th>저녁구매액</th>\n",
       "      <th>봄구매액</th>\n",
       "      <th>여름구매액</th>\n",
       "      <th>가을구매액</th>\n",
       "      <th>겨울구매액</th>\n",
       "      <th>내점구매율</th>\n",
       "    </tr>\n",
       "  </thead>\n",
       "  <tbody>\n",
       "    <tr>\n",
       "      <th>1122</th>\n",
       "      <td>100008</td>\n",
       "      <td>558610</td>\n",
       "      <td>9</td>\n",
       "      <td>62068</td>\n",
       "      <td>1.2</td>\n",
       "      <td>8</td>\n",
       "      <td>9</td>\n",
       "      <td>11.1</td>\n",
       "      <td>33.3</td>\n",
       "      <td>2</td>\n",
       "      <td>0</td>\n",
       "      <td>158</td>\n",
       "      <td>558610.000</td>\n",
       "      <td>310338.889</td>\n",
       "      <td>248271.111</td>\n",
       "      <td>62067.778</td>\n",
       "      <td>682745.556</td>\n",
       "      <td>248271.111</td>\n",
       "      <td>248271.111</td>\n",
       "      <td>1.000</td>\n",
       "    </tr>\n",
       "    <tr>\n",
       "      <th>1123</th>\n",
       "      <td>100281</td>\n",
       "      <td>918000</td>\n",
       "      <td>5</td>\n",
       "      <td>183600</td>\n",
       "      <td>4.4</td>\n",
       "      <td>5</td>\n",
       "      <td>4</td>\n",
       "      <td>20.0</td>\n",
       "      <td>25.0</td>\n",
       "      <td>2</td>\n",
       "      <td>0</td>\n",
       "      <td>158</td>\n",
       "      <td>1652400.000</td>\n",
       "      <td>918000.000</td>\n",
       "      <td>1836000.000</td>\n",
       "      <td>183600.000</td>\n",
       "      <td>2019600.000</td>\n",
       "      <td>183600.000</td>\n",
       "      <td>550800.000</td>\n",
       "      <td>1.250</td>\n",
       "    </tr>\n",
       "    <tr>\n",
       "      <th>1124</th>\n",
       "      <td>100371</td>\n",
       "      <td>4336880</td>\n",
       "      <td>51</td>\n",
       "      <td>85037</td>\n",
       "      <td>1.9</td>\n",
       "      <td>39</td>\n",
       "      <td>29</td>\n",
       "      <td>7.8</td>\n",
       "      <td>69.0</td>\n",
       "      <td>2</td>\n",
       "      <td>0</td>\n",
       "      <td>158</td>\n",
       "      <td>765331.765</td>\n",
       "      <td>2551105.882</td>\n",
       "      <td>1785774.118</td>\n",
       "      <td>425184.314</td>\n",
       "      <td>1530663.529</td>\n",
       "      <td>935405.490</td>\n",
       "      <td>1445626.667</td>\n",
       "      <td>1.759</td>\n",
       "    </tr>\n",
       "    <tr>\n",
       "      <th>1125</th>\n",
       "      <td>100386</td>\n",
       "      <td>3429200</td>\n",
       "      <td>22</td>\n",
       "      <td>155873</td>\n",
       "      <td>3.1</td>\n",
       "      <td>18</td>\n",
       "      <td>15</td>\n",
       "      <td>9.1</td>\n",
       "      <td>33.3</td>\n",
       "      <td>2</td>\n",
       "      <td>0</td>\n",
       "      <td>158</td>\n",
       "      <td>779363.636</td>\n",
       "      <td>2182218.182</td>\n",
       "      <td>467618.182</td>\n",
       "      <td>1402854.545</td>\n",
       "      <td>467618.182</td>\n",
       "      <td>1402854.545</td>\n",
       "      <td>155872.727</td>\n",
       "      <td>1.467</td>\n",
       "    </tr>\n",
       "    <tr>\n",
       "      <th>1126</th>\n",
       "      <td>100390</td>\n",
       "      <td>3407600</td>\n",
       "      <td>17</td>\n",
       "      <td>200447</td>\n",
       "      <td>1.2</td>\n",
       "      <td>13</td>\n",
       "      <td>8</td>\n",
       "      <td>5.9</td>\n",
       "      <td>12.5</td>\n",
       "      <td>2</td>\n",
       "      <td>0</td>\n",
       "      <td>158</td>\n",
       "      <td>1804023.529</td>\n",
       "      <td>2004470.588</td>\n",
       "      <td>1403129.412</td>\n",
       "      <td>200447.059</td>\n",
       "      <td>2605811.765</td>\n",
       "      <td>601341.176</td>\n",
       "      <td>2004470.588</td>\n",
       "      <td>2.125</td>\n",
       "    </tr>\n",
       "  </tbody>\n",
       "</table>\n",
       "</div>"
      ],
      "text/plain": [
       "      custid     총구매액  구매건수  평균구매가격  평균할부개월수  구매브랜드종류  내점일수  수입상품_구매비율  \\\n",
       "1122  100008   558610     9   62068      1.2        8     9       11.1   \n",
       "1123  100281   918000     5  183600      4.4        5     4       20.0   \n",
       "1124  100371  4336880    51   85037      1.9       39    29        7.8   \n",
       "1125  100386  3429200    22  155873      3.1       18    15        9.1   \n",
       "1126  100390  3407600    17  200447      1.2       13     8        5.9   \n",
       "\n",
       "      주말방문비율  주구매코너  gender  코너별구매건        아침구매액        점심구매액        저녁구매액  \\\n",
       "1122    33.3      2       0     158   558610.000   310338.889   248271.111   \n",
       "1123    25.0      2       0     158  1652400.000   918000.000  1836000.000   \n",
       "1124    69.0      2       0     158   765331.765  2551105.882  1785774.118   \n",
       "1125    33.3      2       0     158   779363.636  2182218.182   467618.182   \n",
       "1126    12.5      2       0     158  1804023.529  2004470.588  1403129.412   \n",
       "\n",
       "             봄구매액        여름구매액        가을구매액        겨울구매액  내점구매율  \n",
       "1122    62067.778   682745.556   248271.111   248271.111  1.000  \n",
       "1123   183600.000  2019600.000   183600.000   550800.000  1.250  \n",
       "1124   425184.314  1530663.529   935405.490  1445626.667  1.759  \n",
       "1125  1402854.545   467618.182  1402854.545   155872.727  1.467  \n",
       "1126   200447.059  2605811.765   601341.176  2004470.588  2.125  "
      ]
     },
     "execution_count": 94,
     "metadata": {},
     "output_type": "execute_result"
    }
   ],
   "source": [
    "# 건수 Feature들을 최소단위 정보인 구매건당 구매액로 변경\n",
    "def createFeatures(df_p):\n",
    "    df_p['아침구매액'] = np.round(df_p['총구매액']*(df_p['아침_구매건수'] /df_p['구매건수'] ), 3)\n",
    "    df_p['점심구매액'] = np.round(df_p['총구매액']*(df_p['점심_구매건수'] /df_p['구매건수'] ), 3)\n",
    "    df_p['저녁구매액'] = np.round(df_p['총구매액']*(df_p['저녁_구매건수'] /df_p['구매건수'] ), 3)  \n",
    "    df_p['봄구매액']   = np.round(df_p['총구매액']*(df_p['봄_구매건수'] /df_p['구매건수'] ), 3) \n",
    "    df_p['여름구매액'] = np.round(df_p['총구매액']*(df_p['여름_구매건수'] /df_p['구매건수'] ), 3) \n",
    "    df_p['가을구매액'] = np.round(df_p['총구매액']*(df_p['가을_구매건수'] /df_p['구매건수'] ), 3)  \n",
    "    df_p['겨울구매액'] = np.round(df_p['총구매액']*(df_p['겨울_구매건수'] /df_p['구매건수'] ), 3)  \n",
    "    df_p['내점구매율'] = np.round(df_p['구매건수'] /df_p['내점일수'], 3)\n",
    "\n",
    "def dropFeatures(df_p):\n",
    "    drop_col = ['아침_구매건수', '점심_구매건수', '저녁_구매건수', '총구매액', '구매건수',\n",
    "         '봄_구매건수', '여름_구매건수', '가을_구매건수', '겨울_구매건수', '내점일수'] \n",
    "    \n",
    "    return df_p.drop(drop_cols, axis=1)\n",
    "\n",
    "createFeatures(tdf_)\n",
    "tdff = dropFeatures(tdf_) \n",
    "tdff[(tdff['주구매코너']==2)].head()"
   ]
  },
  {
   "cell_type": "code",
   "execution_count": 95,
   "metadata": {},
   "outputs": [],
   "source": [
    "import seaborn as sns"
   ]
  },
  {
   "cell_type": "code",
   "execution_count": 96,
   "metadata": {},
   "outputs": [],
   "source": [
    "plt.rcParams['font.family'] = 'Malgun Gothic'"
   ]
  },
  {
   "cell_type": "code",
   "execution_count": 97,
   "metadata": {},
   "outputs": [
    {
     "data": {
      "text/plain": [
       "<AxesSubplot:>"
      ]
     },
     "execution_count": 97,
     "metadata": {},
     "output_type": "execute_result"
    },
    {
     "data": {
      "image/png": "[encoded data removed]",
      "text/plain": [
       "<Figure size 432x288 with 2 Axes>"
      ]
     },
     "metadata": {
      "needs_background": "light"
     },
     "output_type": "display_data"
    }
   ],
   "source": [
    "sns.heatmap(tdff.corr(), annot=True)"
   ]
  },
  {
   "cell_type": "code",
   "execution_count": 98,
   "metadata": {},
   "outputs": [
    {
     "data": {
      "text/html": [
       "<div>\n",
       "<style scoped>\n",
       "    .dataframe tbody tr th:only-of-type {\n",
       "        vertical-align: middle;\n",
       "    }\n",
       "\n",
       "    .dataframe tbody tr th {\n",
       "        vertical-align: top;\n",
       "    }\n",
       "\n",
       "    .dataframe thead th {\n",
       "        text-align: right;\n",
       "    }\n",
       "</style>\n",
       "<table border=\"1\" class=\"dataframe\">\n",
       "  <thead>\n",
       "    <tr style=\"text-align: right;\">\n",
       "      <th></th>\n",
       "      <th>custid</th>\n",
       "      <th>총구매액</th>\n",
       "      <th>구매건수</th>\n",
       "      <th>평균구매가격</th>\n",
       "      <th>구매브랜드종류</th>\n",
       "      <th>내점일수</th>\n",
       "      <th>코너별구매건</th>\n",
       "      <th>아침구매액</th>\n",
       "      <th>점심구매액</th>\n",
       "      <th>봄구매액</th>\n",
       "      <th>여름구매액</th>\n",
       "      <th>가을구매액</th>\n",
       "      <th>겨울구매액</th>\n",
       "      <th>내점구매율</th>\n",
       "    </tr>\n",
       "  </thead>\n",
       "  <tbody>\n",
       "    <tr>\n",
       "      <th>4998</th>\n",
       "      <td>104474</td>\n",
       "      <td>1605900</td>\n",
       "      <td>15</td>\n",
       "      <td>107060</td>\n",
       "      <td>15</td>\n",
       "      <td>10</td>\n",
       "      <td>319</td>\n",
       "      <td>107060.0</td>\n",
       "      <td>1284720.0</td>\n",
       "      <td>428240.0</td>\n",
       "      <td>321180.0</td>\n",
       "      <td>749420.0</td>\n",
       "      <td>107060.0</td>\n",
       "      <td>1.5</td>\n",
       "    </tr>\n",
       "    <tr>\n",
       "      <th>4999</th>\n",
       "      <td>104752</td>\n",
       "      <td>509000</td>\n",
       "      <td>8</td>\n",
       "      <td>63625</td>\n",
       "      <td>8</td>\n",
       "      <td>4</td>\n",
       "      <td>319</td>\n",
       "      <td>572625.0</td>\n",
       "      <td>381750.0</td>\n",
       "      <td>254500.0</td>\n",
       "      <td>254500.0</td>\n",
       "      <td>636250.0</td>\n",
       "      <td>636250.0</td>\n",
       "      <td>2.0</td>\n",
       "    </tr>\n",
       "  </tbody>\n",
       "</table>\n",
       "</div>"
      ],
      "text/plain": [
       "      custid     총구매액  구매건수  평균구매가격  구매브랜드종류  내점일수  코너별구매건     아침구매액  \\\n",
       "4998  104474  1605900    15  107060       15    10     319  107060.0   \n",
       "4999  104752   509000     8   63625        8     4     319  572625.0   \n",
       "\n",
       "          점심구매액      봄구매액     여름구매액     가을구매액     겨울구매액  내점구매율  \n",
       "4998  1284720.0  428240.0  321180.0  749420.0  107060.0    1.5  \n",
       "4999   381750.0  254500.0  254500.0  636250.0  636250.0    2.0  "
      ]
     },
     "execution_count": 98,
     "metadata": {},
     "output_type": "execute_result"
    }
   ],
   "source": [
    "dataPT = tdff.copy()\n",
    "dataPD = dataPT.drop(['주말방문비율', '저녁구매액', '평균할부개월수','수입상품_구매비율','주구매코너'], axis=1)\n",
    "\n",
    "dfy = dataPD['gender']\n",
    "dfX = dataPD.drop('gender', axis=1)\n",
    "dfX.tail(2)"
   ]
  },
  {
   "cell_type": "code",
   "execution_count": 99,
   "metadata": {},
   "outputs": [
    {
     "data": {
      "text/plain": [
       "(5000, 14)"
      ]
     },
     "execution_count": 99,
     "metadata": {},
     "output_type": "execute_result"
    }
   ],
   "source": [
    "dfX.shape"
   ]
  },
  {
   "cell_type": "code",
   "execution_count": 100,
   "metadata": {},
   "outputs": [],
   "source": [
    "X_train, X_test, y_train, y_test = train_test_split(dfX, dfy, test_size=0.25, random_state=0)"
   ]
  },
  {
   "cell_type": "code",
   "execution_count": 101,
   "metadata": {},
   "outputs": [
    {
     "data": {
      "text/plain": [
       "Index(['custid', '총구매액', '구매건수', '평균구매가격', '구매브랜드종류', '내점일수', '코너별구매건',\n",
       "       '아침구매액', '점심구매액', '봄구매액', '여름구매액', '가을구매액', '겨울구매액', '내점구매율'],\n",
       "      dtype='object')"
      ]
     },
     "execution_count": 101,
     "metadata": {},
     "output_type": "execute_result"
    }
   ],
   "source": [
    "X_train.columns"
   ]
  },
  {
   "cell_type": "code",
   "execution_count": 102,
   "metadata": {},
   "outputs": [
    {
     "name": "stdout",
     "output_type": "stream",
     "text": [
      "<class 'pandas.core.frame.DataFrame'>\n",
      "Int64Index: 3750 entries, 4154 to 2732\n",
      "Data columns (total 14 columns):\n",
      " #   Column   Non-Null Count  Dtype  \n",
      "---  ------   --------------  -----  \n",
      " 0   custid   3750 non-null   int64  \n",
      " 1   총구매액     3750 non-null   int64  \n",
      " 2   구매건수     3750 non-null   int64  \n",
      " 3   평균구매가격   3750 non-null   int64  \n",
      " 4   구매브랜드종류  3750 non-null   int64  \n",
      " 5   내점일수     3750 non-null   int64  \n",
      " 6   코너별구매건   3750 non-null   int64  \n",
      " 7   아침구매액    3750 non-null   float64\n",
      " 8   점심구매액    3750 non-null   float64\n",
      " 9   봄구매액     3750 non-null   float64\n",
      " 10  여름구매액    3750 non-null   float64\n",
      " 11  가을구매액    3750 non-null   float64\n",
      " 12  겨울구매액    3750 non-null   float64\n",
      " 13  내점구매율    3750 non-null   float64\n",
      "dtypes: float64(7), int64(7)\n",
      "memory usage: 439.5 KB\n"
     ]
    }
   ],
   "source": [
    "X_train.info()"
   ]
  },
  {
   "cell_type": "code",
   "execution_count": 103,
   "metadata": {},
   "outputs": [
    {
     "data": {
      "text/html": [
       "<div>\n",
       "<style scoped>\n",
       "    .dataframe tbody tr th:only-of-type {\n",
       "        vertical-align: middle;\n",
       "    }\n",
       "\n",
       "    .dataframe tbody tr th {\n",
       "        vertical-align: top;\n",
       "    }\n",
       "\n",
       "    .dataframe thead th {\n",
       "        text-align: right;\n",
       "    }\n",
       "</style>\n",
       "<table border=\"1\" class=\"dataframe\">\n",
       "  <thead>\n",
       "    <tr style=\"text-align: right;\">\n",
       "      <th></th>\n",
       "      <th>custid</th>\n",
       "      <th>총구매액</th>\n",
       "      <th>구매건수</th>\n",
       "      <th>평균구매가격</th>\n",
       "      <th>구매브랜드종류</th>\n",
       "      <th>내점일수</th>\n",
       "      <th>코너별구매건</th>\n",
       "      <th>아침구매액</th>\n",
       "      <th>점심구매액</th>\n",
       "      <th>봄구매액</th>\n",
       "      <th>여름구매액</th>\n",
       "      <th>가을구매액</th>\n",
       "      <th>겨울구매액</th>\n",
       "      <th>내점구매율</th>\n",
       "    </tr>\n",
       "  </thead>\n",
       "  <tbody>\n",
       "    <tr>\n",
       "      <th>4154</th>\n",
       "      <td>101809</td>\n",
       "      <td>368000</td>\n",
       "      <td>5</td>\n",
       "      <td>73600</td>\n",
       "      <td>4</td>\n",
       "      <td>3</td>\n",
       "      <td>11500</td>\n",
       "      <td>662400.000</td>\n",
       "      <td>147200.000</td>\n",
       "      <td>220800.000</td>\n",
       "      <td>73600.000</td>\n",
       "      <td>736000.000</td>\n",
       "      <td>73600.000</td>\n",
       "      <td>1.667</td>\n",
       "    </tr>\n",
       "    <tr>\n",
       "      <th>4820</th>\n",
       "      <td>102483</td>\n",
       "      <td>4532150</td>\n",
       "      <td>26</td>\n",
       "      <td>174313</td>\n",
       "      <td>14</td>\n",
       "      <td>12</td>\n",
       "      <td>798</td>\n",
       "      <td>522940.385</td>\n",
       "      <td>3486269.231</td>\n",
       "      <td>871567.308</td>\n",
       "      <td>1045880.769</td>\n",
       "      <td>697253.846</td>\n",
       "      <td>1917448.077</td>\n",
       "      <td>2.167</td>\n",
       "    </tr>\n",
       "  </tbody>\n",
       "</table>\n",
       "</div>"
      ],
      "text/plain": [
       "      custid     총구매액  구매건수  평균구매가격  구매브랜드종류  내점일수  코너별구매건       아침구매액  \\\n",
       "4154  101809   368000     5   73600        4     3   11500  662400.000   \n",
       "4820  102483  4532150    26  174313       14    12     798  522940.385   \n",
       "\n",
       "            점심구매액        봄구매액        여름구매액       가을구매액        겨울구매액  내점구매율  \n",
       "4154   147200.000  220800.000    73600.000  736000.000    73600.000  1.667  \n",
       "4820  3486269.231  871567.308  1045880.769  697253.846  1917448.077  2.167  "
      ]
     },
     "execution_count": 103,
     "metadata": {},
     "output_type": "execute_result"
    }
   ],
   "source": [
    "X_train.head(2)"
   ]
  },
  {
   "cell_type": "code",
   "execution_count": 104,
   "metadata": {},
   "outputs": [],
   "source": [
    "xCol = ['a', 'b', 'c', 'd', 'e', 'f', 'g', 'h', 'i', 'j', 'k','l','m','n']"
   ]
  },
  {
   "cell_type": "code",
   "execution_count": 105,
   "metadata": {},
   "outputs": [
    {
     "name": "stdout",
     "output_type": "stream",
     "text": [
      "[LightGBM] [Warning] Unknown parameter: nestimators\n",
      "[1]\tvalid_0's binary_logloss: 0.607764\n",
      "Training until validation scores don't improve for 100 rounds\n",
      "[2]\tvalid_0's binary_logloss: 0.60148\n",
      "[3]\tvalid_0's binary_logloss: 0.596591\n",
      "[4]\tvalid_0's binary_logloss: 0.593092\n",
      "[5]\tvalid_0's binary_logloss: 0.589605\n",
      "[6]\tvalid_0's binary_logloss: 0.587994\n",
      "[7]\tvalid_0's binary_logloss: 0.585964\n",
      "[8]\tvalid_0's binary_logloss: 0.584288\n",
      "[9]\tvalid_0's binary_logloss: 0.582306\n",
      "[10]\tvalid_0's binary_logloss: 0.581493\n",
      "[11]\tvalid_0's binary_logloss: 0.581234\n",
      "[12]\tvalid_0's binary_logloss: 0.580242\n",
      "[13]\tvalid_0's binary_logloss: 0.579939\n",
      "[14]\tvalid_0's binary_logloss: 0.57958\n",
      "[15]\tvalid_0's binary_logloss: 0.580374\n",
      "[16]\tvalid_0's binary_logloss: 0.580883\n",
      "[17]\tvalid_0's binary_logloss: 0.580736\n",
      "[18]\tvalid_0's binary_logloss: 0.580264\n",
      "[19]\tvalid_0's binary_logloss: 0.580155\n",
      "[20]\tvalid_0's binary_logloss: 0.580877\n",
      "[21]\tvalid_0's binary_logloss: 0.581373\n",
      "[22]\tvalid_0's binary_logloss: 0.582306\n",
      "[23]\tvalid_0's binary_logloss: 0.583778\n",
      "[24]\tvalid_0's binary_logloss: 0.584545\n",
      "[25]\tvalid_0's binary_logloss: 0.585741\n",
      "[26]\tvalid_0's binary_logloss: 0.586629\n",
      "[27]\tvalid_0's binary_logloss: 0.587145\n",
      "[28]\tvalid_0's binary_logloss: 0.58685\n",
      "[29]\tvalid_0's binary_logloss: 0.588144\n",
      "[30]\tvalid_0's binary_logloss: 0.588319\n",
      "[31]\tvalid_0's binary_logloss: 0.58905\n",
      "[32]\tvalid_0's binary_logloss: 0.589677\n",
      "[33]\tvalid_0's binary_logloss: 0.589521\n",
      "[34]\tvalid_0's binary_logloss: 0.589637\n",
      "[35]\tvalid_0's binary_logloss: 0.590006\n",
      "[36]\tvalid_0's binary_logloss: 0.590444\n",
      "[37]\tvalid_0's binary_logloss: 0.590112\n",
      "[38]\tvalid_0's binary_logloss: 0.590738\n",
      "[39]\tvalid_0's binary_logloss: 0.59252\n",
      "[40]\tvalid_0's binary_logloss: 0.593752\n",
      "[41]\tvalid_0's binary_logloss: 0.594087\n",
      "[42]\tvalid_0's binary_logloss: 0.595329\n",
      "[43]\tvalid_0's binary_logloss: 0.59618\n",
      "[44]\tvalid_0's binary_logloss: 0.597236\n",
      "[45]\tvalid_0's binary_logloss: 0.597888\n",
      "[46]\tvalid_0's binary_logloss: 0.598501\n",
      "[47]\tvalid_0's binary_logloss: 0.599112\n",
      "[48]\tvalid_0's binary_logloss: 0.598949\n",
      "[49]\tvalid_0's binary_logloss: 0.598923\n",
      "[50]\tvalid_0's binary_logloss: 0.599584\n",
      "[51]\tvalid_0's binary_logloss: 0.600127\n",
      "[52]\tvalid_0's binary_logloss: 0.600153\n",
      "[53]\tvalid_0's binary_logloss: 0.599609\n",
      "[54]\tvalid_0's binary_logloss: 0.599591\n",
      "[55]\tvalid_0's binary_logloss: 0.599537\n",
      "[56]\tvalid_0's binary_logloss: 0.60016\n",
      "[57]\tvalid_0's binary_logloss: 0.6004\n",
      "[58]\tvalid_0's binary_logloss: 0.600764\n",
      "[59]\tvalid_0's binary_logloss: 0.601207\n",
      "[60]\tvalid_0's binary_logloss: 0.601866\n",
      "[61]\tvalid_0's binary_logloss: 0.602479\n",
      "[62]\tvalid_0's binary_logloss: 0.602613\n",
      "[63]\tvalid_0's binary_logloss: 0.60335\n",
      "[64]\tvalid_0's binary_logloss: 0.603277\n",
      "[65]\tvalid_0's binary_logloss: 0.60386\n",
      "[66]\tvalid_0's binary_logloss: 0.604259\n",
      "[67]\tvalid_0's binary_logloss: 0.604816\n",
      "[68]\tvalid_0's binary_logloss: 0.605042\n",
      "[69]\tvalid_0's binary_logloss: 0.604995\n",
      "[70]\tvalid_0's binary_logloss: 0.604679\n",
      "[71]\tvalid_0's binary_logloss: 0.604698\n",
      "[72]\tvalid_0's binary_logloss: 0.605316\n",
      "[73]\tvalid_0's binary_logloss: 0.60644\n",
      "[74]\tvalid_0's binary_logloss: 0.60727\n",
      "[75]\tvalid_0's binary_logloss: 0.608101\n",
      "[76]\tvalid_0's binary_logloss: 0.608768\n",
      "[77]\tvalid_0's binary_logloss: 0.609314\n",
      "[78]\tvalid_0's binary_logloss: 0.609\n",
      "[79]\tvalid_0's binary_logloss: 0.6089\n",
      "[80]\tvalid_0's binary_logloss: 0.609506\n",
      "[81]\tvalid_0's binary_logloss: 0.610191\n",
      "[82]\tvalid_0's binary_logloss: 0.610375\n",
      "[83]\tvalid_0's binary_logloss: 0.610878\n",
      "[84]\tvalid_0's binary_logloss: 0.611587\n",
      "[85]\tvalid_0's binary_logloss: 0.611919\n",
      "[86]\tvalid_0's binary_logloss: 0.612524\n",
      "[87]\tvalid_0's binary_logloss: 0.61307\n",
      "[88]\tvalid_0's binary_logloss: 0.613004\n",
      "[89]\tvalid_0's binary_logloss: 0.613299\n",
      "[90]\tvalid_0's binary_logloss: 0.614118\n",
      "[91]\tvalid_0's binary_logloss: 0.613553\n",
      "[92]\tvalid_0's binary_logloss: 0.614886\n",
      "[93]\tvalid_0's binary_logloss: 0.615551\n",
      "[94]\tvalid_0's binary_logloss: 0.616013\n",
      "[95]\tvalid_0's binary_logloss: 0.61682\n",
      "[96]\tvalid_0's binary_logloss: 0.616656\n",
      "[97]\tvalid_0's binary_logloss: 0.616904\n",
      "[98]\tvalid_0's binary_logloss: 0.61693\n",
      "[99]\tvalid_0's binary_logloss: 0.618202\n",
      "[100]\tvalid_0's binary_logloss: 0.617855\n",
      "Did not meet early stopping. Best iteration is:\n",
      "[14]\tvalid_0's binary_logloss: 0.57958\n"
     ]
    }
   ],
   "source": [
    "lgbm_wrapper = LGBMClassifier(nestimators=400)\n",
    "evals = [(X_test, y_test)]\n",
    "lgbm_wrapper.fit(X_train, y_train, feature_name=xCol, early_stopping_rounds=100, \n",
    "                 eval_metric=\"logloss\", eval_set=evals)\n",
    "pred = lgbm_wrapper.predict(X_test)"
   ]
  },
  {
   "cell_type": "code",
   "execution_count": 106,
   "metadata": {},
   "outputs": [
    {
     "name": "stdout",
     "output_type": "stream",
     "text": [
      "오차행렬\n",
      "[[821  49]\n",
      " [355  25]]\n",
      "정확도: 0.6768, 정밀도: 0.3378, 재현율: 0.0658\n"
     ]
    }
   ],
   "source": [
    "get_clf_eval(y_test, preds)"
   ]
  },
  {
   "cell_type": "markdown",
   "metadata": {},
   "source": [
    "# merge"
   ]
  },
  {
   "cell_type": "code",
   "execution_count": 107,
   "metadata": {},
   "outputs": [],
   "source": [
    "df_sum = tdf.groupby('주구매코너')['구매건수'].sum()"
   ]
  },
  {
   "cell_type": "code",
   "execution_count": 108,
   "metadata": {},
   "outputs": [
    {
     "data": {
      "text/plain": [
       "주구매코너\n",
       "0      49\n",
       "1     319\n",
       "2     158\n",
       "3    2716\n",
       "4     183\n",
       "Name: 구매건수, dtype: int64"
      ]
     },
     "execution_count": 108,
     "metadata": {},
     "output_type": "execute_result"
    }
   ],
   "source": [
    "df_sum.head()"
   ]
  },
  {
   "cell_type": "code",
   "execution_count": 109,
   "metadata": {},
   "outputs": [],
   "source": [
    "df_sum = df_sum.reset_index()\n",
    "df_sum.columns = ['주구매코너', '코너별구매건']"
   ]
  },
  {
   "cell_type": "code",
   "execution_count": 110,
   "metadata": {},
   "outputs": [
    {
     "data": {
      "text/html": [
       "<div>\n",
       "<style scoped>\n",
       "    .dataframe tbody tr th:only-of-type {\n",
       "        vertical-align: middle;\n",
       "    }\n",
       "\n",
       "    .dataframe tbody tr th {\n",
       "        vertical-align: top;\n",
       "    }\n",
       "\n",
       "    .dataframe thead th {\n",
       "        text-align: right;\n",
       "    }\n",
       "</style>\n",
       "<table border=\"1\" class=\"dataframe\">\n",
       "  <thead>\n",
       "    <tr style=\"text-align: right;\">\n",
       "      <th></th>\n",
       "      <th>주구매코너</th>\n",
       "      <th>코너별구매건</th>\n",
       "    </tr>\n",
       "  </thead>\n",
       "  <tbody>\n",
       "    <tr>\n",
       "      <th>0</th>\n",
       "      <td>0</td>\n",
       "      <td>49</td>\n",
       "    </tr>\n",
       "    <tr>\n",
       "      <th>1</th>\n",
       "      <td>1</td>\n",
       "      <td>319</td>\n",
       "    </tr>\n",
       "    <tr>\n",
       "      <th>2</th>\n",
       "      <td>2</td>\n",
       "      <td>158</td>\n",
       "    </tr>\n",
       "    <tr>\n",
       "      <th>3</th>\n",
       "      <td>3</td>\n",
       "      <td>2716</td>\n",
       "    </tr>\n",
       "    <tr>\n",
       "      <th>4</th>\n",
       "      <td>4</td>\n",
       "      <td>183</td>\n",
       "    </tr>\n",
       "    <tr>\n",
       "      <th>5</th>\n",
       "      <td>5</td>\n",
       "      <td>1424</td>\n",
       "    </tr>\n",
       "    <tr>\n",
       "      <th>6</th>\n",
       "      <td>6</td>\n",
       "      <td>1107</td>\n",
       "    </tr>\n",
       "    <tr>\n",
       "      <th>7</th>\n",
       "      <td>7</td>\n",
       "      <td>1326</td>\n",
       "    </tr>\n",
       "    <tr>\n",
       "      <th>8</th>\n",
       "      <td>8</td>\n",
       "      <td>4541</td>\n",
       "    </tr>\n",
       "    <tr>\n",
       "      <th>9</th>\n",
       "      <td>9</td>\n",
       "      <td>10476</td>\n",
       "    </tr>\n",
       "    <tr>\n",
       "      <th>10</th>\n",
       "      <td>10</td>\n",
       "      <td>1859</td>\n",
       "    </tr>\n",
       "    <tr>\n",
       "      <th>11</th>\n",
       "      <td>11</td>\n",
       "      <td>7335</td>\n",
       "    </tr>\n",
       "    <tr>\n",
       "      <th>12</th>\n",
       "      <td>12</td>\n",
       "      <td>11500</td>\n",
       "    </tr>\n",
       "    <tr>\n",
       "      <th>13</th>\n",
       "      <td>13</td>\n",
       "      <td>15923</td>\n",
       "    </tr>\n",
       "    <tr>\n",
       "      <th>14</th>\n",
       "      <td>14</td>\n",
       "      <td>74942</td>\n",
       "    </tr>\n",
       "    <tr>\n",
       "      <th>15</th>\n",
       "      <td>15</td>\n",
       "      <td>1315</td>\n",
       "    </tr>\n",
       "    <tr>\n",
       "      <th>16</th>\n",
       "      <td>16</td>\n",
       "      <td>1404</td>\n",
       "    </tr>\n",
       "    <tr>\n",
       "      <th>17</th>\n",
       "      <td>17</td>\n",
       "      <td>798</td>\n",
       "    </tr>\n",
       "    <tr>\n",
       "      <th>18</th>\n",
       "      <td>18</td>\n",
       "      <td>364</td>\n",
       "    </tr>\n",
       "    <tr>\n",
       "      <th>19</th>\n",
       "      <td>19</td>\n",
       "      <td>6399</td>\n",
       "    </tr>\n",
       "    <tr>\n",
       "      <th>20</th>\n",
       "      <td>20</td>\n",
       "      <td>335</td>\n",
       "    </tr>\n",
       "    <tr>\n",
       "      <th>21</th>\n",
       "      <td>21</td>\n",
       "      <td>1753</td>\n",
       "    </tr>\n",
       "    <tr>\n",
       "      <th>22</th>\n",
       "      <td>22</td>\n",
       "      <td>775</td>\n",
       "    </tr>\n",
       "    <tr>\n",
       "      <th>23</th>\n",
       "      <td>23</td>\n",
       "      <td>933</td>\n",
       "    </tr>\n",
       "    <tr>\n",
       "      <th>24</th>\n",
       "      <td>24</td>\n",
       "      <td>26123</td>\n",
       "    </tr>\n",
       "  </tbody>\n",
       "</table>\n",
       "</div>"
      ],
      "text/plain": [
       "    주구매코너  코너별구매건\n",
       "0       0      49\n",
       "1       1     319\n",
       "2       2     158\n",
       "3       3    2716\n",
       "4       4     183\n",
       "5       5    1424\n",
       "6       6    1107\n",
       "7       7    1326\n",
       "8       8    4541\n",
       "9       9   10476\n",
       "10     10    1859\n",
       "11     11    7335\n",
       "12     12   11500\n",
       "13     13   15923\n",
       "14     14   74942\n",
       "15     15    1315\n",
       "16     16    1404\n",
       "17     17     798\n",
       "18     18     364\n",
       "19     19    6399\n",
       "20     20     335\n",
       "21     21    1753\n",
       "22     22     775\n",
       "23     23     933\n",
       "24     24   26123"
      ]
     },
     "execution_count": 110,
     "metadata": {},
     "output_type": "execute_result"
    }
   ],
   "source": [
    "df_sum"
   ]
  },
  {
   "cell_type": "code",
   "execution_count": 111,
   "metadata": {},
   "outputs": [
    {
     "data": {
      "text/html": [
       "<div>\n",
       "<style scoped>\n",
       "    .dataframe tbody tr th:only-of-type {\n",
       "        vertical-align: middle;\n",
       "    }\n",
       "\n",
       "    .dataframe tbody tr th {\n",
       "        vertical-align: top;\n",
       "    }\n",
       "\n",
       "    .dataframe thead th {\n",
       "        text-align: right;\n",
       "    }\n",
       "</style>\n",
       "<table border=\"1\" class=\"dataframe\">\n",
       "  <thead>\n",
       "    <tr style=\"text-align: right;\">\n",
       "      <th></th>\n",
       "      <th>custid</th>\n",
       "      <th>총구매액</th>\n",
       "      <th>구매건수</th>\n",
       "      <th>평균구매가격</th>\n",
       "      <th>평균할부개월수</th>\n",
       "      <th>구매브랜드종류</th>\n",
       "      <th>내점일수</th>\n",
       "      <th>수입상품_구매비율</th>\n",
       "      <th>주말방문비율</th>\n",
       "      <th>가을_구매건수</th>\n",
       "      <th>겨울_구매건수</th>\n",
       "      <th>봄_구매건수</th>\n",
       "      <th>여름_구매건수</th>\n",
       "      <th>아침_구매건수</th>\n",
       "      <th>저녁_구매건수</th>\n",
       "      <th>점심_구매건수</th>\n",
       "      <th>주구매코너</th>\n",
       "      <th>gender</th>\n",
       "    </tr>\n",
       "  </thead>\n",
       "  <tbody>\n",
       "    <tr>\n",
       "      <th>0</th>\n",
       "      <td>100001</td>\n",
       "      <td>3439000</td>\n",
       "      <td>25</td>\n",
       "      <td>137560</td>\n",
       "      <td>2.2</td>\n",
       "      <td>19</td>\n",
       "      <td>16</td>\n",
       "      <td>12.0</td>\n",
       "      <td>31.2</td>\n",
       "      <td>5.0</td>\n",
       "      <td>4.0</td>\n",
       "      <td>7.0</td>\n",
       "      <td>9.0</td>\n",
       "      <td>13.0</td>\n",
       "      <td>1.0</td>\n",
       "      <td>11.0</td>\n",
       "      <td>15</td>\n",
       "      <td>0</td>\n",
       "    </tr>\n",
       "    <tr>\n",
       "      <th>1</th>\n",
       "      <td>100002</td>\n",
       "      <td>2073090</td>\n",
       "      <td>39</td>\n",
       "      <td>53156</td>\n",
       "      <td>1.3</td>\n",
       "      <td>18</td>\n",
       "      <td>29</td>\n",
       "      <td>0.0</td>\n",
       "      <td>20.7</td>\n",
       "      <td>13.0</td>\n",
       "      <td>8.0</td>\n",
       "      <td>10.0</td>\n",
       "      <td>8.0</td>\n",
       "      <td>4.0</td>\n",
       "      <td>10.0</td>\n",
       "      <td>25.0</td>\n",
       "      <td>13</td>\n",
       "      <td>0</td>\n",
       "    </tr>\n",
       "  </tbody>\n",
       "</table>\n",
       "</div>"
      ],
      "text/plain": [
       "   custid     총구매액  구매건수  평균구매가격  평균할부개월수  구매브랜드종류  내점일수  수입상품_구매비율  주말방문비율  \\\n",
       "0  100001  3439000    25  137560      2.2       19    16       12.0    31.2   \n",
       "1  100002  2073090    39   53156      1.3       18    29        0.0    20.7   \n",
       "\n",
       "   가을_구매건수  겨울_구매건수  봄_구매건수  여름_구매건수  아침_구매건수  저녁_구매건수  점심_구매건수  주구매코너  gender  \n",
       "0      5.0      4.0     7.0      9.0     13.0      1.0     11.0     15       0  \n",
       "1     13.0      8.0    10.0      8.0      4.0     10.0     25.0     13       0  "
      ]
     },
     "execution_count": 111,
     "metadata": {},
     "output_type": "execute_result"
    }
   ],
   "source": [
    "tdf.head(2)"
   ]
  },
  {
   "cell_type": "code",
   "execution_count": 112,
   "metadata": {},
   "outputs": [
    {
     "data": {
      "text/html": [
       "<div>\n",
       "<style scoped>\n",
       "    .dataframe tbody tr th:only-of-type {\n",
       "        vertical-align: middle;\n",
       "    }\n",
       "\n",
       "    .dataframe tbody tr th {\n",
       "        vertical-align: top;\n",
       "    }\n",
       "\n",
       "    .dataframe thead th {\n",
       "        text-align: right;\n",
       "    }\n",
       "</style>\n",
       "<table border=\"1\" class=\"dataframe\">\n",
       "  <thead>\n",
       "    <tr style=\"text-align: right;\">\n",
       "      <th></th>\n",
       "      <th>주구매코너</th>\n",
       "      <th>코너별구매건</th>\n",
       "    </tr>\n",
       "  </thead>\n",
       "  <tbody>\n",
       "    <tr>\n",
       "      <th>0</th>\n",
       "      <td>0</td>\n",
       "      <td>49</td>\n",
       "    </tr>\n",
       "    <tr>\n",
       "      <th>1</th>\n",
       "      <td>1</td>\n",
       "      <td>319</td>\n",
       "    </tr>\n",
       "  </tbody>\n",
       "</table>\n",
       "</div>"
      ],
      "text/plain": [
       "   주구매코너  코너별구매건\n",
       "0      0      49\n",
       "1      1     319"
      ]
     },
     "execution_count": 112,
     "metadata": {},
     "output_type": "execute_result"
    }
   ],
   "source": [
    "df_sum.head(2)"
   ]
  },
  {
   "cell_type": "code",
   "execution_count": 113,
   "metadata": {},
   "outputs": [
    {
     "data": {
      "text/html": [
       "<div>\n",
       "<style scoped>\n",
       "    .dataframe tbody tr th:only-of-type {\n",
       "        vertical-align: middle;\n",
       "    }\n",
       "\n",
       "    .dataframe tbody tr th {\n",
       "        vertical-align: top;\n",
       "    }\n",
       "\n",
       "    .dataframe thead th {\n",
       "        text-align: right;\n",
       "    }\n",
       "</style>\n",
       "<table border=\"1\" class=\"dataframe\">\n",
       "  <thead>\n",
       "    <tr style=\"text-align: right;\">\n",
       "      <th></th>\n",
       "      <th>custid</th>\n",
       "      <th>총구매액</th>\n",
       "      <th>구매건수</th>\n",
       "      <th>평균구매가격</th>\n",
       "      <th>평균할부개월수</th>\n",
       "      <th>구매브랜드종류</th>\n",
       "      <th>내점일수</th>\n",
       "      <th>수입상품_구매비율</th>\n",
       "      <th>주말방문비율</th>\n",
       "      <th>가을_구매건수</th>\n",
       "      <th>겨울_구매건수</th>\n",
       "      <th>봄_구매건수</th>\n",
       "      <th>여름_구매건수</th>\n",
       "      <th>아침_구매건수</th>\n",
       "      <th>저녁_구매건수</th>\n",
       "      <th>점심_구매건수</th>\n",
       "      <th>주구매코너</th>\n",
       "      <th>gender</th>\n",
       "      <th>코너별구매건</th>\n",
       "    </tr>\n",
       "  </thead>\n",
       "  <tbody>\n",
       "    <tr>\n",
       "      <th>0</th>\n",
       "      <td>100001</td>\n",
       "      <td>3439000</td>\n",
       "      <td>25</td>\n",
       "      <td>137560</td>\n",
       "      <td>2.2</td>\n",
       "      <td>19</td>\n",
       "      <td>16</td>\n",
       "      <td>12.0</td>\n",
       "      <td>31.2</td>\n",
       "      <td>5.0</td>\n",
       "      <td>4.0</td>\n",
       "      <td>7.0</td>\n",
       "      <td>9.0</td>\n",
       "      <td>13.0</td>\n",
       "      <td>1.0</td>\n",
       "      <td>11.0</td>\n",
       "      <td>15</td>\n",
       "      <td>0</td>\n",
       "      <td>1315</td>\n",
       "    </tr>\n",
       "    <tr>\n",
       "      <th>1</th>\n",
       "      <td>100002</td>\n",
       "      <td>2073090</td>\n",
       "      <td>39</td>\n",
       "      <td>53156</td>\n",
       "      <td>1.3</td>\n",
       "      <td>18</td>\n",
       "      <td>29</td>\n",
       "      <td>0.0</td>\n",
       "      <td>20.7</td>\n",
       "      <td>13.0</td>\n",
       "      <td>8.0</td>\n",
       "      <td>10.0</td>\n",
       "      <td>8.0</td>\n",
       "      <td>4.0</td>\n",
       "      <td>10.0</td>\n",
       "      <td>25.0</td>\n",
       "      <td>13</td>\n",
       "      <td>0</td>\n",
       "      <td>15923</td>\n",
       "    </tr>\n",
       "    <tr>\n",
       "      <th>2</th>\n",
       "      <td>100003</td>\n",
       "      <td>1303800</td>\n",
       "      <td>22</td>\n",
       "      <td>59264</td>\n",
       "      <td>1.8</td>\n",
       "      <td>14</td>\n",
       "      <td>12</td>\n",
       "      <td>0.0</td>\n",
       "      <td>41.7</td>\n",
       "      <td>6.0</td>\n",
       "      <td>7.0</td>\n",
       "      <td>3.0</td>\n",
       "      <td>6.0</td>\n",
       "      <td>3.0</td>\n",
       "      <td>1.0</td>\n",
       "      <td>18.0</td>\n",
       "      <td>13</td>\n",
       "      <td>0</td>\n",
       "      <td>15923</td>\n",
       "    </tr>\n",
       "    <tr>\n",
       "      <th>3</th>\n",
       "      <td>100004</td>\n",
       "      <td>6696522</td>\n",
       "      <td>46</td>\n",
       "      <td>145577</td>\n",
       "      <td>1.7</td>\n",
       "      <td>31</td>\n",
       "      <td>22</td>\n",
       "      <td>37.0</td>\n",
       "      <td>50.0</td>\n",
       "      <td>5.0</td>\n",
       "      <td>15.0</td>\n",
       "      <td>9.0</td>\n",
       "      <td>17.0</td>\n",
       "      <td>9.0</td>\n",
       "      <td>4.0</td>\n",
       "      <td>42.0</td>\n",
       "      <td>8</td>\n",
       "      <td>0</td>\n",
       "      <td>4541</td>\n",
       "    </tr>\n",
       "    <tr>\n",
       "      <th>4</th>\n",
       "      <td>100005</td>\n",
       "      <td>1297640</td>\n",
       "      <td>26</td>\n",
       "      <td>49909</td>\n",
       "      <td>2.3</td>\n",
       "      <td>13</td>\n",
       "      <td>9</td>\n",
       "      <td>11.5</td>\n",
       "      <td>22.2</td>\n",
       "      <td>18.0</td>\n",
       "      <td>10.0</td>\n",
       "      <td>5.0</td>\n",
       "      <td>3.0</td>\n",
       "      <td>9.0</td>\n",
       "      <td>10.0</td>\n",
       "      <td>26.0</td>\n",
       "      <td>9</td>\n",
       "      <td>0</td>\n",
       "      <td>10476</td>\n",
       "    </tr>\n",
       "    <tr>\n",
       "      <th>...</th>\n",
       "      <td>...</td>\n",
       "      <td>...</td>\n",
       "      <td>...</td>\n",
       "      <td>...</td>\n",
       "      <td>...</td>\n",
       "      <td>...</td>\n",
       "      <td>...</td>\n",
       "      <td>...</td>\n",
       "      <td>...</td>\n",
       "      <td>...</td>\n",
       "      <td>...</td>\n",
       "      <td>...</td>\n",
       "      <td>...</td>\n",
       "      <td>...</td>\n",
       "      <td>...</td>\n",
       "      <td>...</td>\n",
       "      <td>...</td>\n",
       "      <td>...</td>\n",
       "      <td>...</td>\n",
       "    </tr>\n",
       "    <tr>\n",
       "      <th>4995</th>\n",
       "      <td>104996</td>\n",
       "      <td>670690</td>\n",
       "      <td>5</td>\n",
       "      <td>134138</td>\n",
       "      <td>1.4</td>\n",
       "      <td>5</td>\n",
       "      <td>4</td>\n",
       "      <td>0.0</td>\n",
       "      <td>75.0</td>\n",
       "      <td>1.0</td>\n",
       "      <td>2.0</td>\n",
       "      <td>2.0</td>\n",
       "      <td>11.0</td>\n",
       "      <td>1.0</td>\n",
       "      <td>1.0</td>\n",
       "      <td>3.0</td>\n",
       "      <td>14</td>\n",
       "      <td>1</td>\n",
       "      <td>74942</td>\n",
       "    </tr>\n",
       "    <tr>\n",
       "      <th>4996</th>\n",
       "      <td>104997</td>\n",
       "      <td>628700</td>\n",
       "      <td>13</td>\n",
       "      <td>48362</td>\n",
       "      <td>1.8</td>\n",
       "      <td>10</td>\n",
       "      <td>7</td>\n",
       "      <td>7.7</td>\n",
       "      <td>42.9</td>\n",
       "      <td>10.0</td>\n",
       "      <td>5.0</td>\n",
       "      <td>1.0</td>\n",
       "      <td>7.0</td>\n",
       "      <td>9.0</td>\n",
       "      <td>3.0</td>\n",
       "      <td>10.0</td>\n",
       "      <td>17</td>\n",
       "      <td>0</td>\n",
       "      <td>798</td>\n",
       "    </tr>\n",
       "    <tr>\n",
       "      <th>4997</th>\n",
       "      <td>104998</td>\n",
       "      <td>960923</td>\n",
       "      <td>12</td>\n",
       "      <td>80077</td>\n",
       "      <td>1.8</td>\n",
       "      <td>7</td>\n",
       "      <td>7</td>\n",
       "      <td>0.0</td>\n",
       "      <td>42.9</td>\n",
       "      <td>4.0</td>\n",
       "      <td>1.0</td>\n",
       "      <td>6.0</td>\n",
       "      <td>1.0</td>\n",
       "      <td>9.0</td>\n",
       "      <td>10.0</td>\n",
       "      <td>12.0</td>\n",
       "      <td>14</td>\n",
       "      <td>1</td>\n",
       "      <td>74942</td>\n",
       "    </tr>\n",
       "    <tr>\n",
       "      <th>4998</th>\n",
       "      <td>104999</td>\n",
       "      <td>786600</td>\n",
       "      <td>14</td>\n",
       "      <td>56186</td>\n",
       "      <td>1.7</td>\n",
       "      <td>12</td>\n",
       "      <td>9</td>\n",
       "      <td>14.3</td>\n",
       "      <td>55.6</td>\n",
       "      <td>10.0</td>\n",
       "      <td>7.0</td>\n",
       "      <td>4.0</td>\n",
       "      <td>3.0</td>\n",
       "      <td>2.0</td>\n",
       "      <td>4.0</td>\n",
       "      <td>8.0</td>\n",
       "      <td>24</td>\n",
       "      <td>1</td>\n",
       "      <td>26123</td>\n",
       "    </tr>\n",
       "    <tr>\n",
       "      <th>4999</th>\n",
       "      <td>105000</td>\n",
       "      <td>2568073</td>\n",
       "      <td>76</td>\n",
       "      <td>33790</td>\n",
       "      <td>1.6</td>\n",
       "      <td>23</td>\n",
       "      <td>35</td>\n",
       "      <td>10.5</td>\n",
       "      <td>22.9</td>\n",
       "      <td>23.0</td>\n",
       "      <td>20.0</td>\n",
       "      <td>9.0</td>\n",
       "      <td>24.0</td>\n",
       "      <td>11.0</td>\n",
       "      <td>4.0</td>\n",
       "      <td>61.0</td>\n",
       "      <td>14</td>\n",
       "      <td>1</td>\n",
       "      <td>74942</td>\n",
       "    </tr>\n",
       "  </tbody>\n",
       "</table>\n",
       "<p>5000 rows × 19 columns</p>\n",
       "</div>"
      ],
      "text/plain": [
       "      custid     총구매액  구매건수  평균구매가격  평균할부개월수  구매브랜드종류  내점일수  수입상품_구매비율  \\\n",
       "0     100001  3439000    25  137560      2.2       19    16       12.0   \n",
       "1     100002  2073090    39   53156      1.3       18    29        0.0   \n",
       "2     100003  1303800    22   59264      1.8       14    12        0.0   \n",
       "3     100004  6696522    46  145577      1.7       31    22       37.0   \n",
       "4     100005  1297640    26   49909      2.3       13     9       11.5   \n",
       "...      ...      ...   ...     ...      ...      ...   ...        ...   \n",
       "4995  104996   670690     5  134138      1.4        5     4        0.0   \n",
       "4996  104997   628700    13   48362      1.8       10     7        7.7   \n",
       "4997  104998   960923    12   80077      1.8        7     7        0.0   \n",
       "4998  104999   786600    14   56186      1.7       12     9       14.3   \n",
       "4999  105000  2568073    76   33790      1.6       23    35       10.5   \n",
       "\n",
       "      주말방문비율  가을_구매건수  겨울_구매건수  봄_구매건수  여름_구매건수  아침_구매건수  저녁_구매건수  점심_구매건수  \\\n",
       "0       31.2      5.0      4.0     7.0      9.0     13.0      1.0     11.0   \n",
       "1       20.7     13.0      8.0    10.0      8.0      4.0     10.0     25.0   \n",
       "2       41.7      6.0      7.0     3.0      6.0      3.0      1.0     18.0   \n",
       "3       50.0      5.0     15.0     9.0     17.0      9.0      4.0     42.0   \n",
       "4       22.2     18.0     10.0     5.0      3.0      9.0     10.0     26.0   \n",
       "...      ...      ...      ...     ...      ...      ...      ...      ...   \n",
       "4995    75.0      1.0      2.0     2.0     11.0      1.0      1.0      3.0   \n",
       "4996    42.9     10.0      5.0     1.0      7.0      9.0      3.0     10.0   \n",
       "4997    42.9      4.0      1.0     6.0      1.0      9.0     10.0     12.0   \n",
       "4998    55.6     10.0      7.0     4.0      3.0      2.0      4.0      8.0   \n",
       "4999    22.9     23.0     20.0     9.0     24.0     11.0      4.0     61.0   \n",
       "\n",
       "      주구매코너  gender  코너별구매건  \n",
       "0        15       0    1315  \n",
       "1        13       0   15923  \n",
       "2        13       0   15923  \n",
       "3         8       0    4541  \n",
       "4         9       0   10476  \n",
       "...     ...     ...     ...  \n",
       "4995     14       1   74942  \n",
       "4996     17       0     798  \n",
       "4997     14       1   74942  \n",
       "4998     24       1   26123  \n",
       "4999     14       1   74942  \n",
       "\n",
       "[5000 rows x 19 columns]"
      ]
     },
     "execution_count": 113,
     "metadata": {},
     "output_type": "execute_result"
    }
   ],
   "source": [
    "# 데이터 합치기\n",
    "df_merge = tdf.merge(df_sum, how='left', on='주구매코너')\n",
    "df_merge"
   ]
  },
  {
   "cell_type": "code",
   "execution_count": 114,
   "metadata": {},
   "outputs": [],
   "source": [
    "# 파생변수를 저장할 빈 리스트를 만든다\n",
    "features = []"
   ]
  },
  {
   "cell_type": "code",
   "execution_count": 115,
   "metadata": {},
   "outputs": [
    {
     "data": {
      "text/html": [
       "<div>\n",
       "<style scoped>\n",
       "    .dataframe tbody tr th:only-of-type {\n",
       "        vertical-align: middle;\n",
       "    }\n",
       "\n",
       "    .dataframe tbody tr th {\n",
       "        vertical-align: top;\n",
       "    }\n",
       "\n",
       "    .dataframe thead th {\n",
       "        text-align: right;\n",
       "    }\n",
       "</style>\n",
       "<table border=\"1\" class=\"dataframe\">\n",
       "  <thead>\n",
       "    <tr style=\"text-align: right;\">\n",
       "      <th></th>\n",
       "      <th>custid</th>\n",
       "      <th>코너별구매건수</th>\n",
       "    </tr>\n",
       "  </thead>\n",
       "  <tbody>\n",
       "    <tr>\n",
       "      <th>0</th>\n",
       "      <td>18</td>\n",
       "      <td>15</td>\n",
       "    </tr>\n",
       "    <tr>\n",
       "      <th>1</th>\n",
       "      <td>21</td>\n",
       "      <td>9</td>\n",
       "    </tr>\n",
       "    <tr>\n",
       "      <th>2</th>\n",
       "      <td>23</td>\n",
       "      <td>36</td>\n",
       "    </tr>\n",
       "    <tr>\n",
       "      <th>3</th>\n",
       "      <td>26</td>\n",
       "      <td>28</td>\n",
       "    </tr>\n",
       "    <tr>\n",
       "      <th>4</th>\n",
       "      <td>35</td>\n",
       "      <td>5</td>\n",
       "    </tr>\n",
       "    <tr>\n",
       "      <th>...</th>\n",
       "      <td>...</td>\n",
       "      <td>...</td>\n",
       "    </tr>\n",
       "    <tr>\n",
       "      <th>4995</th>\n",
       "      <td>49952</td>\n",
       "      <td>93</td>\n",
       "    </tr>\n",
       "    <tr>\n",
       "      <th>4996</th>\n",
       "      <td>49954</td>\n",
       "      <td>17</td>\n",
       "    </tr>\n",
       "    <tr>\n",
       "      <th>4997</th>\n",
       "      <td>49957</td>\n",
       "      <td>37</td>\n",
       "    </tr>\n",
       "    <tr>\n",
       "      <th>4998</th>\n",
       "      <td>49975</td>\n",
       "      <td>13</td>\n",
       "    </tr>\n",
       "    <tr>\n",
       "      <th>4999</th>\n",
       "      <td>49993</td>\n",
       "      <td>32</td>\n",
       "    </tr>\n",
       "  </tbody>\n",
       "</table>\n",
       "<p>5000 rows × 2 columns</p>\n",
       "</div>"
      ],
      "text/plain": [
       "      custid  코너별구매건수\n",
       "0         18       15\n",
       "1         21        9\n",
       "2         23       36\n",
       "3         26       28\n",
       "4         35        5\n",
       "...      ...      ...\n",
       "4995   49952       93\n",
       "4996   49954       17\n",
       "4997   49957       37\n",
       "4998   49975       13\n",
       "4999   49993       32\n",
       "\n",
       "[5000 rows x 2 columns]"
      ]
     },
     "execution_count": 115,
     "metadata": {},
     "output_type": "execute_result"
    }
   ],
   "source": [
    "# 파생변수1 : 코너별구매건수\n",
    "f = ndf.groupby('custid')['구매건수'].agg([('코너별구매건수', 'sum')]).reset_index()\n",
    "features.append(f)\n",
    "f"
   ]
  },
  {
   "cell_type": "code",
   "execution_count": 116,
   "metadata": {},
   "outputs": [
    {
     "data": {
      "text/html": [
       "<div>\n",
       "<style scoped>\n",
       "    .dataframe tbody tr th:only-of-type {\n",
       "        vertical-align: middle;\n",
       "    }\n",
       "\n",
       "    .dataframe tbody tr th {\n",
       "        vertical-align: top;\n",
       "    }\n",
       "\n",
       "    .dataframe thead th {\n",
       "        text-align: right;\n",
       "    }\n",
       "</style>\n",
       "<table border=\"1\" class=\"dataframe\">\n",
       "  <thead>\n",
       "    <tr style=\"text-align: right;\">\n",
       "      <th></th>\n",
       "      <th>custid</th>\n",
       "      <th>코너별구매액</th>\n",
       "    </tr>\n",
       "  </thead>\n",
       "  <tbody>\n",
       "    <tr>\n",
       "      <th>0</th>\n",
       "      <td>18</td>\n",
       "      <td>680100</td>\n",
       "    </tr>\n",
       "    <tr>\n",
       "      <th>1</th>\n",
       "      <td>21</td>\n",
       "      <td>353450</td>\n",
       "    </tr>\n",
       "    <tr>\n",
       "      <th>2</th>\n",
       "      <td>23</td>\n",
       "      <td>5671400</td>\n",
       "    </tr>\n",
       "    <tr>\n",
       "      <th>3</th>\n",
       "      <td>26</td>\n",
       "      <td>1964000</td>\n",
       "    </tr>\n",
       "    <tr>\n",
       "      <th>4</th>\n",
       "      <td>35</td>\n",
       "      <td>885000</td>\n",
       "    </tr>\n",
       "    <tr>\n",
       "      <th>...</th>\n",
       "      <td>...</td>\n",
       "      <td>...</td>\n",
       "    </tr>\n",
       "    <tr>\n",
       "      <th>4995</th>\n",
       "      <td>49952</td>\n",
       "      <td>6666517</td>\n",
       "    </tr>\n",
       "    <tr>\n",
       "      <th>4996</th>\n",
       "      <td>49954</td>\n",
       "      <td>3112100</td>\n",
       "    </tr>\n",
       "    <tr>\n",
       "      <th>4997</th>\n",
       "      <td>49957</td>\n",
       "      <td>5852482</td>\n",
       "    </tr>\n",
       "    <tr>\n",
       "      <th>4998</th>\n",
       "      <td>49975</td>\n",
       "      <td>654498</td>\n",
       "    </tr>\n",
       "    <tr>\n",
       "      <th>4999</th>\n",
       "      <td>49993</td>\n",
       "      <td>2554723</td>\n",
       "    </tr>\n",
       "  </tbody>\n",
       "</table>\n",
       "<p>5000 rows × 2 columns</p>\n",
       "</div>"
      ],
      "text/plain": [
       "      custid   코너별구매액\n",
       "0         18   680100\n",
       "1         21   353450\n",
       "2         23  5671400\n",
       "3         26  1964000\n",
       "4         35   885000\n",
       "...      ...      ...\n",
       "4995   49952  6666517\n",
       "4996   49954  3112100\n",
       "4997   49957  5852482\n",
       "4998   49975   654498\n",
       "4999   49993  2554723\n",
       "\n",
       "[5000 rows x 2 columns]"
      ]
     },
     "execution_count": 116,
     "metadata": {},
     "output_type": "execute_result"
    }
   ],
   "source": [
    "# 파생변수1 : 코너별구매건수\n",
    "f = ndf.groupby('custid')['총구매액'].agg([('코너별구매액', 'sum')]).reset_index()\n",
    "features.append(f)\n",
    "f"
   ]
  },
  {
   "cell_type": "code",
   "execution_count": 117,
   "metadata": {},
   "outputs": [
    {
     "data": {
      "text/html": [
       "<div>\n",
       "<style scoped>\n",
       "    .dataframe tbody tr th:only-of-type {\n",
       "        vertical-align: middle;\n",
       "    }\n",
       "\n",
       "    .dataframe tbody tr th {\n",
       "        vertical-align: top;\n",
       "    }\n",
       "\n",
       "    .dataframe thead th {\n",
       "        text-align: right;\n",
       "    }\n",
       "</style>\n",
       "<table border=\"1\" class=\"dataframe\">\n",
       "  <thead>\n",
       "    <tr style=\"text-align: right;\">\n",
       "      <th></th>\n",
       "      <th>custid</th>\n",
       "      <th>평균구매가격</th>\n",
       "    </tr>\n",
       "  </thead>\n",
       "  <tbody>\n",
       "    <tr>\n",
       "      <th>0</th>\n",
       "      <td>18</td>\n",
       "      <td>680100</td>\n",
       "    </tr>\n",
       "    <tr>\n",
       "      <th>1</th>\n",
       "      <td>21</td>\n",
       "      <td>353450</td>\n",
       "    </tr>\n",
       "    <tr>\n",
       "      <th>2</th>\n",
       "      <td>23</td>\n",
       "      <td>5671400</td>\n",
       "    </tr>\n",
       "    <tr>\n",
       "      <th>3</th>\n",
       "      <td>26</td>\n",
       "      <td>1964000</td>\n",
       "    </tr>\n",
       "    <tr>\n",
       "      <th>4</th>\n",
       "      <td>35</td>\n",
       "      <td>885000</td>\n",
       "    </tr>\n",
       "    <tr>\n",
       "      <th>...</th>\n",
       "      <td>...</td>\n",
       "      <td>...</td>\n",
       "    </tr>\n",
       "    <tr>\n",
       "      <th>4995</th>\n",
       "      <td>49952</td>\n",
       "      <td>6666517</td>\n",
       "    </tr>\n",
       "    <tr>\n",
       "      <th>4996</th>\n",
       "      <td>49954</td>\n",
       "      <td>3112100</td>\n",
       "    </tr>\n",
       "    <tr>\n",
       "      <th>4997</th>\n",
       "      <td>49957</td>\n",
       "      <td>5852482</td>\n",
       "    </tr>\n",
       "    <tr>\n",
       "      <th>4998</th>\n",
       "      <td>49975</td>\n",
       "      <td>654498</td>\n",
       "    </tr>\n",
       "    <tr>\n",
       "      <th>4999</th>\n",
       "      <td>49993</td>\n",
       "      <td>2554723</td>\n",
       "    </tr>\n",
       "  </tbody>\n",
       "</table>\n",
       "<p>5000 rows × 2 columns</p>\n",
       "</div>"
      ],
      "text/plain": [
       "      custid   평균구매가격\n",
       "0         18   680100\n",
       "1         21   353450\n",
       "2         23  5671400\n",
       "3         26  1964000\n",
       "4         35   885000\n",
       "...      ...      ...\n",
       "4995   49952  6666517\n",
       "4996   49954  3112100\n",
       "4997   49957  5852482\n",
       "4998   49975   654498\n",
       "4999   49993  2554723\n",
       "\n",
       "[5000 rows x 2 columns]"
      ]
     },
     "execution_count": 117,
     "metadata": {},
     "output_type": "execute_result"
    }
   ],
   "source": [
    "# 평균구매가격\n",
    "f = ndf.groupby('custid')['총구매액'].agg([('평균구매가격', 'mean')]).reset_index()\n",
    "features.append(f); f"
   ]
  },
  {
   "cell_type": "code",
   "execution_count": 118,
   "metadata": {},
   "outputs": [
    {
     "data": {
      "text/plain": [
       "[      custid  코너별구매건수\n",
       " 0         18       15\n",
       " 1         21        9\n",
       " 2         23       36\n",
       " 3         26       28\n",
       " 4         35        5\n",
       " ...      ...      ...\n",
       " 4995   49952       93\n",
       " 4996   49954       17\n",
       " 4997   49957       37\n",
       " 4998   49975       13\n",
       " 4999   49993       32\n",
       " \n",
       " [5000 rows x 2 columns],\n",
       "       custid   코너별구매액\n",
       " 0         18   680100\n",
       " 1         21   353450\n",
       " 2         23  5671400\n",
       " 3         26  1964000\n",
       " 4         35   885000\n",
       " ...      ...      ...\n",
       " 4995   49952  6666517\n",
       " 4996   49954  3112100\n",
       " 4997   49957  5852482\n",
       " 4998   49975   654498\n",
       " 4999   49993  2554723\n",
       " \n",
       " [5000 rows x 2 columns],\n",
       "       custid   평균구매가격\n",
       " 0         18   680100\n",
       " 1         21   353450\n",
       " 2         23  5671400\n",
       " 3         26  1964000\n",
       " 4         35   885000\n",
       " ...      ...      ...\n",
       " 4995   49952  6666517\n",
       " 4996   49954  3112100\n",
       " 4997   49957  5852482\n",
       " 4998   49975   654498\n",
       " 4999   49993  2554723\n",
       " \n",
       " [5000 rows x 2 columns]]"
      ]
     },
     "execution_count": 118,
     "metadata": {},
     "output_type": "execute_result"
    }
   ],
   "source": [
    "features"
   ]
  },
  {
   "cell_type": "code",
   "execution_count": 119,
   "metadata": {},
   "outputs": [
    {
     "data": {
      "text/html": [
       "<div>\n",
       "<style scoped>\n",
       "    .dataframe tbody tr th:only-of-type {\n",
       "        vertical-align: middle;\n",
       "    }\n",
       "\n",
       "    .dataframe tbody tr th {\n",
       "        vertical-align: top;\n",
       "    }\n",
       "\n",
       "    .dataframe thead th {\n",
       "        text-align: right;\n",
       "    }\n",
       "</style>\n",
       "<table border=\"1\" class=\"dataframe\">\n",
       "  <thead>\n",
       "    <tr style=\"text-align: right;\">\n",
       "      <th></th>\n",
       "      <th>custid</th>\n",
       "    </tr>\n",
       "  </thead>\n",
       "  <tbody>\n",
       "    <tr>\n",
       "      <th>0</th>\n",
       "      <td>18</td>\n",
       "    </tr>\n",
       "    <tr>\n",
       "      <th>1</th>\n",
       "      <td>21</td>\n",
       "    </tr>\n",
       "    <tr>\n",
       "      <th>2</th>\n",
       "      <td>23</td>\n",
       "    </tr>\n",
       "    <tr>\n",
       "      <th>3</th>\n",
       "      <td>26</td>\n",
       "    </tr>\n",
       "    <tr>\n",
       "      <th>4</th>\n",
       "      <td>35</td>\n",
       "    </tr>\n",
       "    <tr>\n",
       "      <th>...</th>\n",
       "      <td>...</td>\n",
       "    </tr>\n",
       "    <tr>\n",
       "      <th>4995</th>\n",
       "      <td>49952</td>\n",
       "    </tr>\n",
       "    <tr>\n",
       "      <th>4996</th>\n",
       "      <td>49954</td>\n",
       "    </tr>\n",
       "    <tr>\n",
       "      <th>4997</th>\n",
       "      <td>49957</td>\n",
       "    </tr>\n",
       "    <tr>\n",
       "      <th>4998</th>\n",
       "      <td>49975</td>\n",
       "    </tr>\n",
       "    <tr>\n",
       "      <th>4999</th>\n",
       "      <td>49993</td>\n",
       "    </tr>\n",
       "  </tbody>\n",
       "</table>\n",
       "<p>5000 rows × 1 columns</p>\n",
       "</div>"
      ],
      "text/plain": [
       "      custid\n",
       "0         18\n",
       "1         21\n",
       "2         23\n",
       "3         26\n",
       "4         35\n",
       "...      ...\n",
       "4995   49952\n",
       "4996   49954\n",
       "4997   49957\n",
       "4998   49975\n",
       "4999   49993\n",
       "\n",
       "[5000 rows x 1 columns]"
      ]
     },
     "execution_count": 119,
     "metadata": {},
     "output_type": "execute_result"
    }
   ],
   "source": [
    "df_train = pd.DataFrame({'custid': ndf.custid.unique()})\n",
    "df_train"
   ]
  },
  {
   "cell_type": "code",
   "execution_count": 120,
   "metadata": {
    "scrolled": false
   },
   "outputs": [
    {
     "data": {
      "text/html": [
       "<div>\n",
       "<style scoped>\n",
       "    .dataframe tbody tr th:only-of-type {\n",
       "        vertical-align: middle;\n",
       "    }\n",
       "\n",
       "    .dataframe tbody tr th {\n",
       "        vertical-align: top;\n",
       "    }\n",
       "\n",
       "    .dataframe thead th {\n",
       "        text-align: right;\n",
       "    }\n",
       "</style>\n",
       "<table border=\"1\" class=\"dataframe\">\n",
       "  <thead>\n",
       "    <tr style=\"text-align: right;\">\n",
       "      <th></th>\n",
       "      <th>custid</th>\n",
       "      <th>코너별구매건수</th>\n",
       "      <th>코너별구매액</th>\n",
       "      <th>평균구매가격</th>\n",
       "    </tr>\n",
       "  </thead>\n",
       "  <tbody>\n",
       "    <tr>\n",
       "      <th>0</th>\n",
       "      <td>18</td>\n",
       "      <td>15</td>\n",
       "      <td>680100</td>\n",
       "      <td>680100</td>\n",
       "    </tr>\n",
       "    <tr>\n",
       "      <th>1</th>\n",
       "      <td>21</td>\n",
       "      <td>9</td>\n",
       "      <td>353450</td>\n",
       "      <td>353450</td>\n",
       "    </tr>\n",
       "    <tr>\n",
       "      <th>2</th>\n",
       "      <td>23</td>\n",
       "      <td>36</td>\n",
       "      <td>5671400</td>\n",
       "      <td>5671400</td>\n",
       "    </tr>\n",
       "    <tr>\n",
       "      <th>3</th>\n",
       "      <td>26</td>\n",
       "      <td>28</td>\n",
       "      <td>1964000</td>\n",
       "      <td>1964000</td>\n",
       "    </tr>\n",
       "    <tr>\n",
       "      <th>4</th>\n",
       "      <td>35</td>\n",
       "      <td>5</td>\n",
       "      <td>885000</td>\n",
       "      <td>885000</td>\n",
       "    </tr>\n",
       "    <tr>\n",
       "      <th>...</th>\n",
       "      <td>...</td>\n",
       "      <td>...</td>\n",
       "      <td>...</td>\n",
       "      <td>...</td>\n",
       "    </tr>\n",
       "    <tr>\n",
       "      <th>4995</th>\n",
       "      <td>49952</td>\n",
       "      <td>93</td>\n",
       "      <td>6666517</td>\n",
       "      <td>6666517</td>\n",
       "    </tr>\n",
       "    <tr>\n",
       "      <th>4996</th>\n",
       "      <td>49954</td>\n",
       "      <td>17</td>\n",
       "      <td>3112100</td>\n",
       "      <td>3112100</td>\n",
       "    </tr>\n",
       "    <tr>\n",
       "      <th>4997</th>\n",
       "      <td>49957</td>\n",
       "      <td>37</td>\n",
       "      <td>5852482</td>\n",
       "      <td>5852482</td>\n",
       "    </tr>\n",
       "    <tr>\n",
       "      <th>4998</th>\n",
       "      <td>49975</td>\n",
       "      <td>13</td>\n",
       "      <td>654498</td>\n",
       "      <td>654498</td>\n",
       "    </tr>\n",
       "    <tr>\n",
       "      <th>4999</th>\n",
       "      <td>49993</td>\n",
       "      <td>32</td>\n",
       "      <td>2554723</td>\n",
       "      <td>2554723</td>\n",
       "    </tr>\n",
       "  </tbody>\n",
       "</table>\n",
       "<p>5000 rows × 4 columns</p>\n",
       "</div>"
      ],
      "text/plain": [
       "      custid  코너별구매건수   코너별구매액   평균구매가격\n",
       "0         18       15   680100   680100\n",
       "1         21        9   353450   353450\n",
       "2         23       36  5671400  5671400\n",
       "3         26       28  1964000  1964000\n",
       "4         35        5   885000   885000\n",
       "...      ...      ...      ...      ...\n",
       "4995   49952       93  6666517  6666517\n",
       "4996   49954       17  3112100  3112100\n",
       "4997   49957       37  5852482  5852482\n",
       "4998   49975       13   654498   654498\n",
       "4999   49993       32  2554723  2554723\n",
       "\n",
       "[5000 rows x 4 columns]"
      ]
     },
     "metadata": {},
     "output_type": "display_data"
    }
   ],
   "source": [
    "for f in features:\n",
    "    df_train = pd.merge(df_train, f, how='left')\n",
    "    \n",
    "display(df_train)    "
   ]
  },
  {
   "cell_type": "code",
   "execution_count": 121,
   "metadata": {},
   "outputs": [
    {
     "data": {
      "text/html": [
       "<div>\n",
       "<style scoped>\n",
       "    .dataframe tbody tr th:only-of-type {\n",
       "        vertical-align: middle;\n",
       "    }\n",
       "\n",
       "    .dataframe tbody tr th {\n",
       "        vertical-align: top;\n",
       "    }\n",
       "\n",
       "    .dataframe thead th {\n",
       "        text-align: right;\n",
       "    }\n",
       "</style>\n",
       "<table border=\"1\" class=\"dataframe\">\n",
       "  <thead>\n",
       "    <tr style=\"text-align: right;\">\n",
       "      <th></th>\n",
       "      <th>custid</th>\n",
       "      <th>총구매액</th>\n",
       "      <th>구매건수</th>\n",
       "      <th>평균구매가격</th>\n",
       "      <th>평균할부개월수</th>\n",
       "      <th>구매브랜드종류</th>\n",
       "      <th>내점일수</th>\n",
       "      <th>수입상품_구매비율</th>\n",
       "      <th>주말방문비율</th>\n",
       "      <th>가을_구매건수</th>\n",
       "      <th>겨울_구매건수</th>\n",
       "      <th>봄_구매건수</th>\n",
       "      <th>여름_구매건수</th>\n",
       "      <th>아침_구매건수</th>\n",
       "      <th>저녁_구매건수</th>\n",
       "      <th>점심_구매건수</th>\n",
       "      <th>주구매코너</th>\n",
       "      <th>gender</th>\n",
       "    </tr>\n",
       "  </thead>\n",
       "  <tbody>\n",
       "    <tr>\n",
       "      <th>0</th>\n",
       "      <td>100001</td>\n",
       "      <td>3439000</td>\n",
       "      <td>25</td>\n",
       "      <td>137560</td>\n",
       "      <td>2.2</td>\n",
       "      <td>19</td>\n",
       "      <td>16</td>\n",
       "      <td>12.0</td>\n",
       "      <td>31.2</td>\n",
       "      <td>5.0</td>\n",
       "      <td>4.0</td>\n",
       "      <td>7.0</td>\n",
       "      <td>9.0</td>\n",
       "      <td>13.0</td>\n",
       "      <td>1.0</td>\n",
       "      <td>11.0</td>\n",
       "      <td>15</td>\n",
       "      <td>0</td>\n",
       "    </tr>\n",
       "    <tr>\n",
       "      <th>1</th>\n",
       "      <td>100002</td>\n",
       "      <td>2073090</td>\n",
       "      <td>39</td>\n",
       "      <td>53156</td>\n",
       "      <td>1.3</td>\n",
       "      <td>18</td>\n",
       "      <td>29</td>\n",
       "      <td>0.0</td>\n",
       "      <td>20.7</td>\n",
       "      <td>13.0</td>\n",
       "      <td>8.0</td>\n",
       "      <td>10.0</td>\n",
       "      <td>8.0</td>\n",
       "      <td>4.0</td>\n",
       "      <td>10.0</td>\n",
       "      <td>25.0</td>\n",
       "      <td>13</td>\n",
       "      <td>0</td>\n",
       "    </tr>\n",
       "  </tbody>\n",
       "</table>\n",
       "</div>"
      ],
      "text/plain": [
       "   custid     총구매액  구매건수  평균구매가격  평균할부개월수  구매브랜드종류  내점일수  수입상품_구매비율  주말방문비율  \\\n",
       "0  100001  3439000    25  137560      2.2       19    16       12.0    31.2   \n",
       "1  100002  2073090    39   53156      1.3       18    29        0.0    20.7   \n",
       "\n",
       "   가을_구매건수  겨울_구매건수  봄_구매건수  여름_구매건수  아침_구매건수  저녁_구매건수  점심_구매건수  주구매코너  gender  \n",
       "0      5.0      4.0     7.0      9.0     13.0      1.0     11.0     15       0  \n",
       "1     13.0      8.0    10.0      8.0      4.0     10.0     25.0     13       0  "
      ]
     },
     "execution_count": 121,
     "metadata": {},
     "output_type": "execute_result"
    }
   ],
   "source": [
    "tdf.head(2)"
   ]
  },
  {
   "cell_type": "markdown",
   "metadata": {},
   "source": [
    "## 문자열을 수치로 변환\n"
   ]
  },
  {
   "cell_type": "code",
   "execution_count": 122,
   "metadata": {},
   "outputs": [
    {
     "data": {
      "text/html": [
       "<div>\n",
       "<style scoped>\n",
       "    .dataframe tbody tr th:only-of-type {\n",
       "        vertical-align: middle;\n",
       "    }\n",
       "\n",
       "    .dataframe tbody tr th {\n",
       "        vertical-align: top;\n",
       "    }\n",
       "\n",
       "    .dataframe thead th {\n",
       "        text-align: right;\n",
       "    }\n",
       "</style>\n",
       "<table border=\"1\" class=\"dataframe\">\n",
       "  <thead>\n",
       "    <tr style=\"text-align: right;\">\n",
       "      <th></th>\n",
       "      <th>0</th>\n",
       "      <th>1</th>\n",
       "      <th>2</th>\n",
       "      <th>3</th>\n",
       "      <th>4</th>\n",
       "      <th>5</th>\n",
       "      <th>6</th>\n",
       "      <th>7</th>\n",
       "      <th>8</th>\n",
       "      <th>9</th>\n",
       "      <th>...</th>\n",
       "      <th>15</th>\n",
       "      <th>16</th>\n",
       "      <th>17</th>\n",
       "      <th>18</th>\n",
       "      <th>19</th>\n",
       "      <th>20</th>\n",
       "      <th>21</th>\n",
       "      <th>22</th>\n",
       "      <th>23</th>\n",
       "      <th>24</th>\n",
       "    </tr>\n",
       "  </thead>\n",
       "  <tbody>\n",
       "    <tr>\n",
       "      <th>0</th>\n",
       "      <td>0</td>\n",
       "      <td>0</td>\n",
       "      <td>0</td>\n",
       "      <td>0</td>\n",
       "      <td>0</td>\n",
       "      <td>0</td>\n",
       "      <td>0</td>\n",
       "      <td>0</td>\n",
       "      <td>0</td>\n",
       "      <td>0</td>\n",
       "      <td>...</td>\n",
       "      <td>1</td>\n",
       "      <td>0</td>\n",
       "      <td>0</td>\n",
       "      <td>0</td>\n",
       "      <td>0</td>\n",
       "      <td>0</td>\n",
       "      <td>0</td>\n",
       "      <td>0</td>\n",
       "      <td>0</td>\n",
       "      <td>0</td>\n",
       "    </tr>\n",
       "    <tr>\n",
       "      <th>1</th>\n",
       "      <td>0</td>\n",
       "      <td>0</td>\n",
       "      <td>0</td>\n",
       "      <td>0</td>\n",
       "      <td>0</td>\n",
       "      <td>0</td>\n",
       "      <td>0</td>\n",
       "      <td>0</td>\n",
       "      <td>0</td>\n",
       "      <td>0</td>\n",
       "      <td>...</td>\n",
       "      <td>0</td>\n",
       "      <td>0</td>\n",
       "      <td>0</td>\n",
       "      <td>0</td>\n",
       "      <td>0</td>\n",
       "      <td>0</td>\n",
       "      <td>0</td>\n",
       "      <td>0</td>\n",
       "      <td>0</td>\n",
       "      <td>0</td>\n",
       "    </tr>\n",
       "    <tr>\n",
       "      <th>2</th>\n",
       "      <td>0</td>\n",
       "      <td>0</td>\n",
       "      <td>0</td>\n",
       "      <td>0</td>\n",
       "      <td>0</td>\n",
       "      <td>0</td>\n",
       "      <td>0</td>\n",
       "      <td>0</td>\n",
       "      <td>0</td>\n",
       "      <td>0</td>\n",
       "      <td>...</td>\n",
       "      <td>0</td>\n",
       "      <td>0</td>\n",
       "      <td>0</td>\n",
       "      <td>0</td>\n",
       "      <td>0</td>\n",
       "      <td>0</td>\n",
       "      <td>0</td>\n",
       "      <td>0</td>\n",
       "      <td>0</td>\n",
       "      <td>0</td>\n",
       "    </tr>\n",
       "    <tr>\n",
       "      <th>3</th>\n",
       "      <td>0</td>\n",
       "      <td>0</td>\n",
       "      <td>0</td>\n",
       "      <td>0</td>\n",
       "      <td>0</td>\n",
       "      <td>0</td>\n",
       "      <td>0</td>\n",
       "      <td>0</td>\n",
       "      <td>1</td>\n",
       "      <td>0</td>\n",
       "      <td>...</td>\n",
       "      <td>0</td>\n",
       "      <td>0</td>\n",
       "      <td>0</td>\n",
       "      <td>0</td>\n",
       "      <td>0</td>\n",
       "      <td>0</td>\n",
       "      <td>0</td>\n",
       "      <td>0</td>\n",
       "      <td>0</td>\n",
       "      <td>0</td>\n",
       "    </tr>\n",
       "    <tr>\n",
       "      <th>4</th>\n",
       "      <td>0</td>\n",
       "      <td>0</td>\n",
       "      <td>0</td>\n",
       "      <td>0</td>\n",
       "      <td>0</td>\n",
       "      <td>0</td>\n",
       "      <td>0</td>\n",
       "      <td>0</td>\n",
       "      <td>0</td>\n",
       "      <td>1</td>\n",
       "      <td>...</td>\n",
       "      <td>0</td>\n",
       "      <td>0</td>\n",
       "      <td>0</td>\n",
       "      <td>0</td>\n",
       "      <td>0</td>\n",
       "      <td>0</td>\n",
       "      <td>0</td>\n",
       "      <td>0</td>\n",
       "      <td>0</td>\n",
       "      <td>0</td>\n",
       "    </tr>\n",
       "    <tr>\n",
       "      <th>...</th>\n",
       "      <td>...</td>\n",
       "      <td>...</td>\n",
       "      <td>...</td>\n",
       "      <td>...</td>\n",
       "      <td>...</td>\n",
       "      <td>...</td>\n",
       "      <td>...</td>\n",
       "      <td>...</td>\n",
       "      <td>...</td>\n",
       "      <td>...</td>\n",
       "      <td>...</td>\n",
       "      <td>...</td>\n",
       "      <td>...</td>\n",
       "      <td>...</td>\n",
       "      <td>...</td>\n",
       "      <td>...</td>\n",
       "      <td>...</td>\n",
       "      <td>...</td>\n",
       "      <td>...</td>\n",
       "      <td>...</td>\n",
       "      <td>...</td>\n",
       "    </tr>\n",
       "    <tr>\n",
       "      <th>4995</th>\n",
       "      <td>0</td>\n",
       "      <td>0</td>\n",
       "      <td>0</td>\n",
       "      <td>0</td>\n",
       "      <td>0</td>\n",
       "      <td>0</td>\n",
       "      <td>0</td>\n",
       "      <td>0</td>\n",
       "      <td>0</td>\n",
       "      <td>0</td>\n",
       "      <td>...</td>\n",
       "      <td>0</td>\n",
       "      <td>0</td>\n",
       "      <td>0</td>\n",
       "      <td>0</td>\n",
       "      <td>0</td>\n",
       "      <td>0</td>\n",
       "      <td>0</td>\n",
       "      <td>0</td>\n",
       "      <td>0</td>\n",
       "      <td>0</td>\n",
       "    </tr>\n",
       "    <tr>\n",
       "      <th>4996</th>\n",
       "      <td>0</td>\n",
       "      <td>0</td>\n",
       "      <td>0</td>\n",
       "      <td>0</td>\n",
       "      <td>0</td>\n",
       "      <td>0</td>\n",
       "      <td>0</td>\n",
       "      <td>0</td>\n",
       "      <td>0</td>\n",
       "      <td>0</td>\n",
       "      <td>...</td>\n",
       "      <td>0</td>\n",
       "      <td>0</td>\n",
       "      <td>1</td>\n",
       "      <td>0</td>\n",
       "      <td>0</td>\n",
       "      <td>0</td>\n",
       "      <td>0</td>\n",
       "      <td>0</td>\n",
       "      <td>0</td>\n",
       "      <td>0</td>\n",
       "    </tr>\n",
       "    <tr>\n",
       "      <th>4997</th>\n",
       "      <td>0</td>\n",
       "      <td>0</td>\n",
       "      <td>0</td>\n",
       "      <td>0</td>\n",
       "      <td>0</td>\n",
       "      <td>0</td>\n",
       "      <td>0</td>\n",
       "      <td>0</td>\n",
       "      <td>0</td>\n",
       "      <td>0</td>\n",
       "      <td>...</td>\n",
       "      <td>0</td>\n",
       "      <td>0</td>\n",
       "      <td>0</td>\n",
       "      <td>0</td>\n",
       "      <td>0</td>\n",
       "      <td>0</td>\n",
       "      <td>0</td>\n",
       "      <td>0</td>\n",
       "      <td>0</td>\n",
       "      <td>0</td>\n",
       "    </tr>\n",
       "    <tr>\n",
       "      <th>4998</th>\n",
       "      <td>0</td>\n",
       "      <td>0</td>\n",
       "      <td>0</td>\n",
       "      <td>0</td>\n",
       "      <td>0</td>\n",
       "      <td>0</td>\n",
       "      <td>0</td>\n",
       "      <td>0</td>\n",
       "      <td>0</td>\n",
       "      <td>0</td>\n",
       "      <td>...</td>\n",
       "      <td>0</td>\n",
       "      <td>0</td>\n",
       "      <td>0</td>\n",
       "      <td>0</td>\n",
       "      <td>0</td>\n",
       "      <td>0</td>\n",
       "      <td>0</td>\n",
       "      <td>0</td>\n",
       "      <td>0</td>\n",
       "      <td>1</td>\n",
       "    </tr>\n",
       "    <tr>\n",
       "      <th>4999</th>\n",
       "      <td>0</td>\n",
       "      <td>0</td>\n",
       "      <td>0</td>\n",
       "      <td>0</td>\n",
       "      <td>0</td>\n",
       "      <td>0</td>\n",
       "      <td>0</td>\n",
       "      <td>0</td>\n",
       "      <td>0</td>\n",
       "      <td>0</td>\n",
       "      <td>...</td>\n",
       "      <td>0</td>\n",
       "      <td>0</td>\n",
       "      <td>0</td>\n",
       "      <td>0</td>\n",
       "      <td>0</td>\n",
       "      <td>0</td>\n",
       "      <td>0</td>\n",
       "      <td>0</td>\n",
       "      <td>0</td>\n",
       "      <td>0</td>\n",
       "    </tr>\n",
       "  </tbody>\n",
       "</table>\n",
       "<p>5000 rows × 25 columns</p>\n",
       "</div>"
      ],
      "text/plain": [
       "      0   1   2   3   4   5   6   7   8   9   ...  15  16  17  18  19  20  21  \\\n",
       "0      0   0   0   0   0   0   0   0   0   0  ...   1   0   0   0   0   0   0   \n",
       "1      0   0   0   0   0   0   0   0   0   0  ...   0   0   0   0   0   0   0   \n",
       "2      0   0   0   0   0   0   0   0   0   0  ...   0   0   0   0   0   0   0   \n",
       "3      0   0   0   0   0   0   0   0   1   0  ...   0   0   0   0   0   0   0   \n",
       "4      0   0   0   0   0   0   0   0   0   1  ...   0   0   0   0   0   0   0   \n",
       "...   ..  ..  ..  ..  ..  ..  ..  ..  ..  ..  ...  ..  ..  ..  ..  ..  ..  ..   \n",
       "4995   0   0   0   0   0   0   0   0   0   0  ...   0   0   0   0   0   0   0   \n",
       "4996   0   0   0   0   0   0   0   0   0   0  ...   0   0   1   0   0   0   0   \n",
       "4997   0   0   0   0   0   0   0   0   0   0  ...   0   0   0   0   0   0   0   \n",
       "4998   0   0   0   0   0   0   0   0   0   0  ...   0   0   0   0   0   0   0   \n",
       "4999   0   0   0   0   0   0   0   0   0   0  ...   0   0   0   0   0   0   0   \n",
       "\n",
       "      22  23  24  \n",
       "0      0   0   0  \n",
       "1      0   0   0  \n",
       "2      0   0   0  \n",
       "3      0   0   0  \n",
       "4      0   0   0  \n",
       "...   ..  ..  ..  \n",
       "4995   0   0   0  \n",
       "4996   0   0   0  \n",
       "4997   0   0   0  \n",
       "4998   0   0   1  \n",
       "4999   0   0   0  \n",
       "\n",
       "[5000 rows x 25 columns]"
      ]
     },
     "execution_count": 122,
     "metadata": {},
     "output_type": "execute_result"
    }
   ],
   "source": [
    "# 주구매코너을 더미 변수로 변경(one-hot encoding) \n",
    "tdf_주구매코너 = pd.get_dummies(tdf['주구매코너'])\n",
    "tdf_주구매코너"
   ]
  },
  {
   "cell_type": "code",
   "execution_count": 123,
   "metadata": {},
   "outputs": [
    {
     "data": {
      "text/plain": [
       "custid         int64\n",
       "총구매액           int64\n",
       "구매건수           int64\n",
       "평균구매가격         int64\n",
       "평균할부개월수      float64\n",
       "구매브랜드종류        int64\n",
       "내점일수           int64\n",
       "수입상품_구매비율    float64\n",
       "주말방문비율       float64\n",
       "가을_구매건수      float64\n",
       "겨울_구매건수      float64\n",
       "봄_구매건수       float64\n",
       "여름_구매건수      float64\n",
       "아침_구매건수      float64\n",
       "저녁_구매건수      float64\n",
       "점심_구매건수      float64\n",
       "주구매코너           int8\n",
       "gender         int64\n",
       "dtype: object"
      ]
     },
     "execution_count": 123,
     "metadata": {},
     "output_type": "execute_result"
    }
   ],
   "source": [
    "tdf.dtypes"
   ]
  },
  {
   "cell_type": "code",
   "execution_count": 124,
   "metadata": {},
   "outputs": [
    {
     "data": {
      "text/html": [
       "<div>\n",
       "<style scoped>\n",
       "    .dataframe tbody tr th:only-of-type {\n",
       "        vertical-align: middle;\n",
       "    }\n",
       "\n",
       "    .dataframe tbody tr th {\n",
       "        vertical-align: top;\n",
       "    }\n",
       "\n",
       "    .dataframe thead th {\n",
       "        text-align: right;\n",
       "    }\n",
       "</style>\n",
       "<table border=\"1\" class=\"dataframe\">\n",
       "  <thead>\n",
       "    <tr style=\"text-align: right;\">\n",
       "      <th></th>\n",
       "      <th>custid</th>\n",
       "      <th>총구매액</th>\n",
       "      <th>구매건수</th>\n",
       "      <th>평균구매가격</th>\n",
       "      <th>구매브랜드종류</th>\n",
       "      <th>내점일수</th>\n",
       "      <th>주구매코너</th>\n",
       "      <th>gender</th>\n",
       "    </tr>\n",
       "  </thead>\n",
       "  <tbody>\n",
       "    <tr>\n",
       "      <th>0</th>\n",
       "      <td>100001</td>\n",
       "      <td>3439000</td>\n",
       "      <td>25</td>\n",
       "      <td>137560</td>\n",
       "      <td>19</td>\n",
       "      <td>16</td>\n",
       "      <td>15</td>\n",
       "      <td>0</td>\n",
       "    </tr>\n",
       "    <tr>\n",
       "      <th>1</th>\n",
       "      <td>100002</td>\n",
       "      <td>2073090</td>\n",
       "      <td>39</td>\n",
       "      <td>53156</td>\n",
       "      <td>18</td>\n",
       "      <td>29</td>\n",
       "      <td>13</td>\n",
       "      <td>0</td>\n",
       "    </tr>\n",
       "    <tr>\n",
       "      <th>2</th>\n",
       "      <td>100003</td>\n",
       "      <td>1303800</td>\n",
       "      <td>22</td>\n",
       "      <td>59264</td>\n",
       "      <td>14</td>\n",
       "      <td>12</td>\n",
       "      <td>13</td>\n",
       "      <td>0</td>\n",
       "    </tr>\n",
       "    <tr>\n",
       "      <th>3</th>\n",
       "      <td>100004</td>\n",
       "      <td>6696522</td>\n",
       "      <td>46</td>\n",
       "      <td>145577</td>\n",
       "      <td>31</td>\n",
       "      <td>22</td>\n",
       "      <td>8</td>\n",
       "      <td>0</td>\n",
       "    </tr>\n",
       "    <tr>\n",
       "      <th>4</th>\n",
       "      <td>100005</td>\n",
       "      <td>1297640</td>\n",
       "      <td>26</td>\n",
       "      <td>49909</td>\n",
       "      <td>13</td>\n",
       "      <td>9</td>\n",
       "      <td>9</td>\n",
       "      <td>0</td>\n",
       "    </tr>\n",
       "  </tbody>\n",
       "</table>\n",
       "</div>"
      ],
      "text/plain": [
       "   custid     총구매액  구매건수  평균구매가격  구매브랜드종류  내점일수  주구매코너  gender\n",
       "0  100001  3439000    25  137560       19    16     15       0\n",
       "1  100002  2073090    39   53156       18    29     13       0\n",
       "2  100003  1303800    22   59264       14    12     13       0\n",
       "3  100004  6696522    46  145577       31    22      8       0\n",
       "4  100005  1297640    26   49909       13     9      9       0"
      ]
     },
     "execution_count": 124,
     "metadata": {},
     "output_type": "execute_result"
    }
   ],
   "source": [
    "# 원래의 데이터 세트에서 수치항목을 추출\n",
    "tmp1 = tdf[['custid', '총구매액', '구매건수', '평균구매가격', '구매브랜드종류',\n",
    "                '내점일수', '주구매코너', 'gender']]\n",
    "\n",
    "# 선두에서 5행까지 표시\n",
    "tmp1.head()"
   ]
  },
  {
   "cell_type": "code",
   "execution_count": 125,
   "metadata": {},
   "outputs": [
    {
     "data": {
      "text/html": [
       "<div>\n",
       "<style scoped>\n",
       "    .dataframe tbody tr th:only-of-type {\n",
       "        vertical-align: middle;\n",
       "    }\n",
       "\n",
       "    .dataframe tbody tr th {\n",
       "        vertical-align: top;\n",
       "    }\n",
       "\n",
       "    .dataframe thead th {\n",
       "        text-align: right;\n",
       "    }\n",
       "</style>\n",
       "<table border=\"1\" class=\"dataframe\">\n",
       "  <thead>\n",
       "    <tr style=\"text-align: right;\">\n",
       "      <th></th>\n",
       "      <th>0</th>\n",
       "      <th>1</th>\n",
       "      <th>2</th>\n",
       "      <th>3</th>\n",
       "      <th>4</th>\n",
       "      <th>5</th>\n",
       "      <th>6</th>\n",
       "      <th>7</th>\n",
       "      <th>8</th>\n",
       "      <th>9</th>\n",
       "      <th>...</th>\n",
       "      <th>15</th>\n",
       "      <th>16</th>\n",
       "      <th>17</th>\n",
       "      <th>18</th>\n",
       "      <th>19</th>\n",
       "      <th>20</th>\n",
       "      <th>21</th>\n",
       "      <th>22</th>\n",
       "      <th>23</th>\n",
       "      <th>24</th>\n",
       "    </tr>\n",
       "  </thead>\n",
       "  <tbody>\n",
       "    <tr>\n",
       "      <th>0</th>\n",
       "      <td>0</td>\n",
       "      <td>0</td>\n",
       "      <td>0</td>\n",
       "      <td>0</td>\n",
       "      <td>0</td>\n",
       "      <td>0</td>\n",
       "      <td>0</td>\n",
       "      <td>0</td>\n",
       "      <td>0</td>\n",
       "      <td>0</td>\n",
       "      <td>...</td>\n",
       "      <td>1</td>\n",
       "      <td>0</td>\n",
       "      <td>0</td>\n",
       "      <td>0</td>\n",
       "      <td>0</td>\n",
       "      <td>0</td>\n",
       "      <td>0</td>\n",
       "      <td>0</td>\n",
       "      <td>0</td>\n",
       "      <td>0</td>\n",
       "    </tr>\n",
       "    <tr>\n",
       "      <th>1</th>\n",
       "      <td>0</td>\n",
       "      <td>0</td>\n",
       "      <td>0</td>\n",
       "      <td>0</td>\n",
       "      <td>0</td>\n",
       "      <td>0</td>\n",
       "      <td>0</td>\n",
       "      <td>0</td>\n",
       "      <td>0</td>\n",
       "      <td>0</td>\n",
       "      <td>...</td>\n",
       "      <td>0</td>\n",
       "      <td>0</td>\n",
       "      <td>0</td>\n",
       "      <td>0</td>\n",
       "      <td>0</td>\n",
       "      <td>0</td>\n",
       "      <td>0</td>\n",
       "      <td>0</td>\n",
       "      <td>0</td>\n",
       "      <td>0</td>\n",
       "    </tr>\n",
       "  </tbody>\n",
       "</table>\n",
       "<p>2 rows × 25 columns</p>\n",
       "</div>"
      ],
      "text/plain": [
       "   0   1   2   3   4   5   6   7   8   9   ...  15  16  17  18  19  20  21  \\\n",
       "0   0   0   0   0   0   0   0   0   0   0  ...   1   0   0   0   0   0   0   \n",
       "1   0   0   0   0   0   0   0   0   0   0  ...   0   0   0   0   0   0   0   \n",
       "\n",
       "   22  23  24  \n",
       "0   0   0   0  \n",
       "1   0   0   0  \n",
       "\n",
       "[2 rows x 25 columns]"
      ]
     },
     "execution_count": 125,
     "metadata": {},
     "output_type": "execute_result"
    }
   ],
   "source": [
    "tdf_주구매코너.head(2)"
   ]
  },
  {
   "cell_type": "markdown",
   "metadata": {},
   "source": [
    "### 모델작성"
   ]
  },
  {
   "cell_type": "code",
   "execution_count": 126,
   "metadata": {},
   "outputs": [],
   "source": [
    "import pandas as pd\n",
    "import numpy as np"
   ]
  },
  {
   "cell_type": "code",
   "execution_count": 127,
   "metadata": {},
   "outputs": [
    {
     "data": {
      "text/html": [
       "<div>\n",
       "<style scoped>\n",
       "    .dataframe tbody tr th:only-of-type {\n",
       "        vertical-align: middle;\n",
       "    }\n",
       "\n",
       "    .dataframe tbody tr th {\n",
       "        vertical-align: top;\n",
       "    }\n",
       "\n",
       "    .dataframe thead th {\n",
       "        text-align: right;\n",
       "    }\n",
       "</style>\n",
       "<table border=\"1\" class=\"dataframe\">\n",
       "  <thead>\n",
       "    <tr style=\"text-align: right;\">\n",
       "      <th></th>\n",
       "      <th>custid</th>\n",
       "      <th>총구매액</th>\n",
       "      <th>구매건수</th>\n",
       "      <th>평균구매가격</th>\n",
       "      <th>평균할부개월수</th>\n",
       "      <th>구매브랜드종류</th>\n",
       "      <th>내점일수</th>\n",
       "      <th>수입상품_구매비율</th>\n",
       "      <th>주말방문비율</th>\n",
       "      <th>가을_구매건수</th>\n",
       "      <th>겨울_구매건수</th>\n",
       "      <th>봄_구매건수</th>\n",
       "      <th>여름_구매건수</th>\n",
       "      <th>아침_구매건수</th>\n",
       "      <th>저녁_구매건수</th>\n",
       "      <th>점심_구매건수</th>\n",
       "      <th>주구매코너</th>\n",
       "      <th>gender</th>\n",
       "    </tr>\n",
       "  </thead>\n",
       "  <tbody>\n",
       "    <tr>\n",
       "      <th>0</th>\n",
       "      <td>100001</td>\n",
       "      <td>3439000</td>\n",
       "      <td>25</td>\n",
       "      <td>137560</td>\n",
       "      <td>2.2</td>\n",
       "      <td>19</td>\n",
       "      <td>16</td>\n",
       "      <td>12.0</td>\n",
       "      <td>31.2</td>\n",
       "      <td>5.0</td>\n",
       "      <td>4.0</td>\n",
       "      <td>7.0</td>\n",
       "      <td>9.0</td>\n",
       "      <td>13.0</td>\n",
       "      <td>1.0</td>\n",
       "      <td>11.0</td>\n",
       "      <td>15</td>\n",
       "      <td>0</td>\n",
       "    </tr>\n",
       "    <tr>\n",
       "      <th>1</th>\n",
       "      <td>100002</td>\n",
       "      <td>2073090</td>\n",
       "      <td>39</td>\n",
       "      <td>53156</td>\n",
       "      <td>1.3</td>\n",
       "      <td>18</td>\n",
       "      <td>29</td>\n",
       "      <td>0.0</td>\n",
       "      <td>20.7</td>\n",
       "      <td>13.0</td>\n",
       "      <td>8.0</td>\n",
       "      <td>10.0</td>\n",
       "      <td>8.0</td>\n",
       "      <td>4.0</td>\n",
       "      <td>10.0</td>\n",
       "      <td>25.0</td>\n",
       "      <td>13</td>\n",
       "      <td>0</td>\n",
       "    </tr>\n",
       "    <tr>\n",
       "      <th>2</th>\n",
       "      <td>100003</td>\n",
       "      <td>1303800</td>\n",
       "      <td>22</td>\n",
       "      <td>59264</td>\n",
       "      <td>1.8</td>\n",
       "      <td>14</td>\n",
       "      <td>12</td>\n",
       "      <td>0.0</td>\n",
       "      <td>41.7</td>\n",
       "      <td>6.0</td>\n",
       "      <td>7.0</td>\n",
       "      <td>3.0</td>\n",
       "      <td>6.0</td>\n",
       "      <td>3.0</td>\n",
       "      <td>1.0</td>\n",
       "      <td>18.0</td>\n",
       "      <td>13</td>\n",
       "      <td>0</td>\n",
       "    </tr>\n",
       "    <tr>\n",
       "      <th>3</th>\n",
       "      <td>100004</td>\n",
       "      <td>6696522</td>\n",
       "      <td>46</td>\n",
       "      <td>145577</td>\n",
       "      <td>1.7</td>\n",
       "      <td>31</td>\n",
       "      <td>22</td>\n",
       "      <td>37.0</td>\n",
       "      <td>50.0</td>\n",
       "      <td>5.0</td>\n",
       "      <td>15.0</td>\n",
       "      <td>9.0</td>\n",
       "      <td>17.0</td>\n",
       "      <td>9.0</td>\n",
       "      <td>4.0</td>\n",
       "      <td>42.0</td>\n",
       "      <td>8</td>\n",
       "      <td>0</td>\n",
       "    </tr>\n",
       "    <tr>\n",
       "      <th>4</th>\n",
       "      <td>100005</td>\n",
       "      <td>1297640</td>\n",
       "      <td>26</td>\n",
       "      <td>49909</td>\n",
       "      <td>2.3</td>\n",
       "      <td>13</td>\n",
       "      <td>9</td>\n",
       "      <td>11.5</td>\n",
       "      <td>22.2</td>\n",
       "      <td>18.0</td>\n",
       "      <td>10.0</td>\n",
       "      <td>5.0</td>\n",
       "      <td>3.0</td>\n",
       "      <td>9.0</td>\n",
       "      <td>10.0</td>\n",
       "      <td>26.0</td>\n",
       "      <td>9</td>\n",
       "      <td>0</td>\n",
       "    </tr>\n",
       "  </tbody>\n",
       "</table>\n",
       "</div>"
      ],
      "text/plain": [
       "   custid     총구매액  구매건수  평균구매가격  평균할부개월수  구매브랜드종류  내점일수  수입상품_구매비율  주말방문비율  \\\n",
       "0  100001  3439000    25  137560      2.2       19    16       12.0    31.2   \n",
       "1  100002  2073090    39   53156      1.3       18    29        0.0    20.7   \n",
       "2  100003  1303800    22   59264      1.8       14    12        0.0    41.7   \n",
       "3  100004  6696522    46  145577      1.7       31    22       37.0    50.0   \n",
       "4  100005  1297640    26   49909      2.3       13     9       11.5    22.2   \n",
       "\n",
       "   가을_구매건수  겨울_구매건수  봄_구매건수  여름_구매건수  아침_구매건수  저녁_구매건수  점심_구매건수  주구매코너  gender  \n",
       "0      5.0      4.0     7.0      9.0     13.0      1.0     11.0     15       0  \n",
       "1     13.0      8.0    10.0      8.0      4.0     10.0     25.0     13       0  \n",
       "2      6.0      7.0     3.0      6.0      3.0      1.0     18.0     13       0  \n",
       "3      5.0     15.0     9.0     17.0      9.0      4.0     42.0      8       0  \n",
       "4     18.0     10.0     5.0      3.0      9.0     10.0     26.0      9       0  "
      ]
     },
     "execution_count": 127,
     "metadata": {},
     "output_type": "execute_result"
    }
   ],
   "source": [
    "tdf_new = tdf\n",
    "tdf_new.head()"
   ]
  },
  {
   "cell_type": "code",
   "execution_count": 128,
   "metadata": {},
   "outputs": [],
   "source": [
    "tdf_new.to_csv('test-prep.csv', index=False)"
   ]
  },
  {
   "cell_type": "code",
   "execution_count": 129,
   "metadata": {},
   "outputs": [],
   "source": [
    "import pandas as pd\n",
    "import numpy as np"
   ]
  },
  {
   "cell_type": "code",
   "execution_count": 130,
   "metadata": {},
   "outputs": [
    {
     "data": {
      "text/html": [
       "<div>\n",
       "<style scoped>\n",
       "    .dataframe tbody tr th:only-of-type {\n",
       "        vertical-align: middle;\n",
       "    }\n",
       "\n",
       "    .dataframe tbody tr th {\n",
       "        vertical-align: top;\n",
       "    }\n",
       "\n",
       "    .dataframe thead th {\n",
       "        text-align: right;\n",
       "    }\n",
       "</style>\n",
       "<table border=\"1\" class=\"dataframe\">\n",
       "  <thead>\n",
       "    <tr style=\"text-align: right;\">\n",
       "      <th></th>\n",
       "      <th>custid</th>\n",
       "      <th>총구매액</th>\n",
       "      <th>구매건수</th>\n",
       "      <th>평균구매가격</th>\n",
       "      <th>평균할부개월수</th>\n",
       "      <th>구매브랜드종류</th>\n",
       "      <th>내점일수</th>\n",
       "      <th>수입상품_구매비율</th>\n",
       "      <th>주말방문비율</th>\n",
       "      <th>가을_구매건수</th>\n",
       "      <th>겨울_구매건수</th>\n",
       "      <th>봄_구매건수</th>\n",
       "      <th>여름_구매건수</th>\n",
       "      <th>아침_구매건수</th>\n",
       "      <th>저녁_구매건수</th>\n",
       "      <th>점심_구매건수</th>\n",
       "      <th>주구매코너</th>\n",
       "      <th>gender</th>\n",
       "    </tr>\n",
       "  </thead>\n",
       "  <tbody>\n",
       "    <tr>\n",
       "      <th>0</th>\n",
       "      <td>100001</td>\n",
       "      <td>3439000</td>\n",
       "      <td>25</td>\n",
       "      <td>137560</td>\n",
       "      <td>2.2</td>\n",
       "      <td>19</td>\n",
       "      <td>16</td>\n",
       "      <td>12.0</td>\n",
       "      <td>31.2</td>\n",
       "      <td>5.0</td>\n",
       "      <td>4.0</td>\n",
       "      <td>7.0</td>\n",
       "      <td>9.0</td>\n",
       "      <td>13.0</td>\n",
       "      <td>1.0</td>\n",
       "      <td>11.0</td>\n",
       "      <td>15</td>\n",
       "      <td>0</td>\n",
       "    </tr>\n",
       "    <tr>\n",
       "      <th>1</th>\n",
       "      <td>100002</td>\n",
       "      <td>2073090</td>\n",
       "      <td>39</td>\n",
       "      <td>53156</td>\n",
       "      <td>1.3</td>\n",
       "      <td>18</td>\n",
       "      <td>29</td>\n",
       "      <td>0.0</td>\n",
       "      <td>20.7</td>\n",
       "      <td>13.0</td>\n",
       "      <td>8.0</td>\n",
       "      <td>10.0</td>\n",
       "      <td>8.0</td>\n",
       "      <td>4.0</td>\n",
       "      <td>10.0</td>\n",
       "      <td>25.0</td>\n",
       "      <td>13</td>\n",
       "      <td>0</td>\n",
       "    </tr>\n",
       "    <tr>\n",
       "      <th>2</th>\n",
       "      <td>100003</td>\n",
       "      <td>1303800</td>\n",
       "      <td>22</td>\n",
       "      <td>59264</td>\n",
       "      <td>1.8</td>\n",
       "      <td>14</td>\n",
       "      <td>12</td>\n",
       "      <td>0.0</td>\n",
       "      <td>41.7</td>\n",
       "      <td>6.0</td>\n",
       "      <td>7.0</td>\n",
       "      <td>3.0</td>\n",
       "      <td>6.0</td>\n",
       "      <td>3.0</td>\n",
       "      <td>1.0</td>\n",
       "      <td>18.0</td>\n",
       "      <td>13</td>\n",
       "      <td>0</td>\n",
       "    </tr>\n",
       "    <tr>\n",
       "      <th>3</th>\n",
       "      <td>100004</td>\n",
       "      <td>6696522</td>\n",
       "      <td>46</td>\n",
       "      <td>145577</td>\n",
       "      <td>1.7</td>\n",
       "      <td>31</td>\n",
       "      <td>22</td>\n",
       "      <td>37.0</td>\n",
       "      <td>50.0</td>\n",
       "      <td>5.0</td>\n",
       "      <td>15.0</td>\n",
       "      <td>9.0</td>\n",
       "      <td>17.0</td>\n",
       "      <td>9.0</td>\n",
       "      <td>4.0</td>\n",
       "      <td>42.0</td>\n",
       "      <td>8</td>\n",
       "      <td>0</td>\n",
       "    </tr>\n",
       "    <tr>\n",
       "      <th>4</th>\n",
       "      <td>100005</td>\n",
       "      <td>1297640</td>\n",
       "      <td>26</td>\n",
       "      <td>49909</td>\n",
       "      <td>2.3</td>\n",
       "      <td>13</td>\n",
       "      <td>9</td>\n",
       "      <td>11.5</td>\n",
       "      <td>22.2</td>\n",
       "      <td>18.0</td>\n",
       "      <td>10.0</td>\n",
       "      <td>5.0</td>\n",
       "      <td>3.0</td>\n",
       "      <td>9.0</td>\n",
       "      <td>10.0</td>\n",
       "      <td>26.0</td>\n",
       "      <td>9</td>\n",
       "      <td>0</td>\n",
       "    </tr>\n",
       "  </tbody>\n",
       "</table>\n",
       "</div>"
      ],
      "text/plain": [
       "   custid     총구매액  구매건수  평균구매가격  평균할부개월수  구매브랜드종류  내점일수  수입상품_구매비율  주말방문비율  \\\n",
       "0  100001  3439000    25  137560      2.2       19    16       12.0    31.2   \n",
       "1  100002  2073090    39   53156      1.3       18    29        0.0    20.7   \n",
       "2  100003  1303800    22   59264      1.8       14    12        0.0    41.7   \n",
       "3  100004  6696522    46  145577      1.7       31    22       37.0    50.0   \n",
       "4  100005  1297640    26   49909      2.3       13     9       11.5    22.2   \n",
       "\n",
       "   가을_구매건수  겨울_구매건수  봄_구매건수  여름_구매건수  아침_구매건수  저녁_구매건수  점심_구매건수  주구매코너  gender  \n",
       "0      5.0      4.0     7.0      9.0     13.0      1.0     11.0     15       0  \n",
       "1     13.0      8.0    10.0      8.0      4.0     10.0     25.0     13       0  \n",
       "2      6.0      7.0     3.0      6.0      3.0      1.0     18.0     13       0  \n",
       "3      5.0     15.0     9.0     17.0      9.0      4.0     42.0      8       0  \n",
       "4     18.0     10.0     5.0      3.0      9.0     10.0     26.0      9       0  "
      ]
     },
     "execution_count": 130,
     "metadata": {},
     "output_type": "execute_result"
    }
   ],
   "source": [
    "tdf_new = pd.read_csv('test-prep.csv', sep=',')\n",
    "tdf_new.head()"
   ]
  },
  {
   "cell_type": "markdown",
   "metadata": {},
   "source": [
    "##### 불균형데이터의 균형화"
   ]
  },
  {
   "cell_type": "code",
   "execution_count": 131,
   "metadata": {},
   "outputs": [
    {
     "data": {
      "text/plain": [
       "0    3479\n",
       "1    1521\n",
       "Name: gender, dtype: int64"
      ]
     },
     "execution_count": 131,
     "metadata": {},
     "output_type": "execute_result"
    }
   ],
   "source": [
    "tdf_new['gender'].value_counts()"
   ]
  },
  {
   "cell_type": "code",
   "execution_count": 132,
   "metadata": {},
   "outputs": [
    {
     "name": "stdout",
     "output_type": "stream",
     "text": [
      "Name: imbalanced-learn\n",
      "Version: 0.7.0\n",
      "Summary: Toolbox for imbalanced dataset in machine learning.\n",
      "Home-page: https://github.com/scikit-learn-contrib/imbalanced-learn\n",
      "Author: None\n",
      "Author-email: None\n",
      "License: MIT\n",
      "Location: c:\\anaconda3\\lib\\site-packages\n",
      "Requires: scipy, scikit-learn, joblib, numpy\n",
      "Required-by: \n"
     ]
    }
   ],
   "source": [
    "!pip show imbalanced-learn"
   ]
  },
  {
   "cell_type": "code",
   "execution_count": 133,
   "metadata": {},
   "outputs": [],
   "source": [
    "# 불균형 데이터 세트에 대한 언더 샘플링\n",
    "from imblearn.under_sampling import RandomUnderSampler\n",
    "\n",
    "# 오버 샘플링\n",
    "from imblearn.over_sampling import RandomOverSampler"
   ]
  },
  {
   "cell_type": "code",
   "execution_count": 134,
   "metadata": {},
   "outputs": [
    {
     "data": {
      "text/plain": [
       "array([[1.000010e+05, 3.439000e+06, 2.500000e+01, ..., 1.000000e+00,\n",
       "        1.100000e+01, 1.500000e+01],\n",
       "       [1.000020e+05, 2.073090e+06, 3.900000e+01, ..., 1.000000e+01,\n",
       "        2.500000e+01, 1.300000e+01],\n",
       "       [1.000030e+05, 1.303800e+06, 2.200000e+01, ..., 1.000000e+00,\n",
       "        1.800000e+01, 1.300000e+01],\n",
       "       ...,\n",
       "       [1.049980e+05, 9.609230e+05, 1.200000e+01, ..., 1.000000e+01,\n",
       "        1.200000e+01, 1.400000e+01],\n",
       "       [1.049990e+05, 7.866000e+05, 1.400000e+01, ..., 4.000000e+00,\n",
       "        8.000000e+00, 2.400000e+01],\n",
       "       [1.050000e+05, 2.568073e+06, 7.600000e+01, ..., 4.000000e+00,\n",
       "        6.100000e+01, 1.400000e+01]])"
      ]
     },
     "execution_count": 134,
     "metadata": {},
     "output_type": "execute_result"
    }
   ],
   "source": [
    "X = np.array(tdf_new.drop('gender', axis=1))\n",
    "X"
   ]
  },
  {
   "cell_type": "code",
   "execution_count": 135,
   "metadata": {},
   "outputs": [
    {
     "data": {
      "text/plain": [
       "array([0, 0, 0, ..., 1, 1, 1], dtype=int64)"
      ]
     },
     "execution_count": 135,
     "metadata": {},
     "output_type": "execute_result"
    }
   ],
   "source": [
    "Y = np.array(tdf_new['gender'])\n",
    "Y"
   ]
  },
  {
   "cell_type": "code",
   "execution_count": 136,
   "metadata": {},
   "outputs": [
    {
     "name": "stdout",
     "output_type": "stream",
     "text": [
      "1521 3479\n"
     ]
    }
   ],
   "source": [
    "# gender가 1과 0인 데이터의 건수를 카운트\n",
    "print(np.sum(Y == 1), np.sum(Y == 0))"
   ]
  },
  {
   "cell_type": "code",
   "execution_count": 137,
   "metadata": {},
   "outputs": [],
   "source": [
    "# gender가 1인 데이터의 건수에 맞춰서 다운사이징\n",
    "sampler = RandomUnderSampler(random_state=42)\n",
    "X, Y = sampler.fit_resample(X, Y)"
   ]
  },
  {
   "cell_type": "code",
   "execution_count": 138,
   "metadata": {},
   "outputs": [
    {
     "name": "stdout",
     "output_type": "stream",
     "text": [
      "1521 1521\n"
     ]
    }
   ],
   "source": [
    "# gender가 1과 0인 데이터의 건수를 카운트\n",
    "print(np.sum(Y == 1), np.sum(Y == 0))"
   ]
  },
  {
   "cell_type": "code",
   "execution_count": 139,
   "metadata": {},
   "outputs": [],
   "source": [
    "#결정트리의 작성과 검증\n",
    "from sklearn.model_selection import KFold\n",
    "from sklearn import tree\n",
    "from sklearn.metrics import accuracy_score"
   ]
  },
  {
   "cell_type": "code",
   "execution_count": 140,
   "metadata": {},
   "outputs": [],
   "source": [
    "# K-Fold 교차검증\n",
    "# 10개의 테스터 데이터셋으로 구성된 데이터셋으로 나누고 각각의 데이터셋을 섞어준다.\n",
    "kf = KFold(n_splits=10, shuffle=True)"
   ]
  },
  {
   "cell_type": "code",
   "execution_count": 141,
   "metadata": {},
   "outputs": [
    {
     "data": {
      "text/plain": [
       "KFold(n_splits=10, random_state=None, shuffle=True)"
      ]
     },
     "execution_count": 141,
     "metadata": {},
     "output_type": "execute_result"
    }
   ],
   "source": [
    "kf"
   ]
  },
  {
   "cell_type": "code",
   "execution_count": 142,
   "metadata": {},
   "outputs": [],
   "source": [
    "# 모델의 정밀도를 보존할 준비\n",
    "scores = []"
   ]
  },
  {
   "cell_type": "code",
   "execution_count": 143,
   "metadata": {},
   "outputs": [
    {
     "name": "stdout",
     "output_type": "stream",
     "text": [
      "0.5463567730802416 0.013506280669601177 0.5657894736842105 0.5197368421052632\n"
     ]
    }
   ],
   "source": [
    "# 데이터를 셔플하고, 훈련데이터와 테스트데이트로 분할\n",
    "for train_id, test_id in kf.split(X):\n",
    "    # 훈련 데이터를 사용하여 모델을 작성\n",
    "    x = X[train_id]\n",
    "    y = Y[train_id]\n",
    "    clf = tree.DecisionTreeClassifier()\n",
    "    clf.fit(x,y)\n",
    "    # 테스트 데이터에 모델을 적용\n",
    "    pred_y = clf.predict(X[test_id])\n",
    "    # 모델의 정밀도를 계산해서 보존\n",
    "    score = accuracy_score(Y[test_id], pred_y)\n",
    "    scores.append(score)\n",
    "\n",
    "# 모델의 평균정밀도, 표준편차를 확인\n",
    "scores = np.array(scores)\n",
    "print(scores.mean(), scores.std(), scores.max(), scores.min())"
   ]
  },
  {
   "cell_type": "code",
   "execution_count": 144,
   "metadata": {},
   "outputs": [
    {
     "name": "stdout",
     "output_type": "stream",
     "text": [
      "0.5774647887323944\n",
      "0.5157232704402516\n"
     ]
    }
   ],
   "source": [
    "# Scikit-learn의 로드\n",
    "from sklearn.metrics import recall_score\n",
    "from sklearn.metrics import precision_score\n",
    "\n",
    "# 재현률, 적합도의 확인\n",
    "#print(confusion_matrix(Y[test_id], pred_y))\n",
    "print(recall_score(Y[test_id], pred_y))\n",
    "print(precision_score(Y[test_id], pred_y))"
   ]
  },
  {
   "cell_type": "markdown",
   "metadata": {},
   "source": [
    "### 모델의 정밀도 향상(모델 튜닝)\n"
   ]
  },
  {
   "cell_type": "code",
   "execution_count": 145,
   "metadata": {},
   "outputs": [
    {
     "name": "stdout",
     "output_type": "stream",
     "text": [
      "DecisionTreeClassifier()\n"
     ]
    }
   ],
   "source": [
    "# 모델작성용 파라미터 확인\n",
    "print(clf)"
   ]
  },
  {
   "cell_type": "code",
   "execution_count": 146,
   "metadata": {},
   "outputs": [],
   "source": [
    "# 그리드 서치를 사용한 모델의 성능 개선\n",
    "from sklearn.model_selection import GridSearchCV"
   ]
  },
  {
   "cell_type": "code",
   "execution_count": 147,
   "metadata": {},
   "outputs": [],
   "source": [
    "# 그리드 서치를 사용한 모델의 성능 개선\n",
    "from sklearn.model_selection import GridSearchCV\n",
    "# 패러메터 범위설정\n",
    "params = {\n",
    "    'criterion': ['entropy'],    \n",
    "    'max_depth': [2, 4, 6, 8, 10],\n",
    "    'min_samples_leaf': [10, 20, 30, 40, 50],\n",
    "}"
   ]
  },
  {
   "cell_type": "code",
   "execution_count": 148,
   "metadata": {},
   "outputs": [],
   "source": [
    "# 그리드 서치의 실행조건을 설정\n",
    "clf_gs = GridSearchCV(tree.DecisionTreeClassifier(), params, \n",
    "                cv=KFold(n_splits=10, shuffle=True), scoring='accuracy')"
   ]
  },
  {
   "cell_type": "code",
   "execution_count": 149,
   "metadata": {},
   "outputs": [
    {
     "data": {
      "text/plain": [
       "0.6217105263157895"
      ]
     },
     "execution_count": 149,
     "metadata": {},
     "output_type": "execute_result"
    }
   ],
   "source": [
    "from sklearn.tree import DecisionTreeClassifier\n",
    "tree11 = DecisionTreeClassifier(max_depth=6, random_state=0)\n",
    "tree11.fit(X, Y).score(X[test_id],Y[test_id])"
   ]
  },
  {
   "cell_type": "code",
   "execution_count": 150,
   "metadata": {},
   "outputs": [
    {
     "data": {
      "text/plain": [
       "GridSearchCV(cv=KFold(n_splits=10, random_state=None, shuffle=True),\n",
       "             estimator=DecisionTreeClassifier(),\n",
       "             param_grid={'criterion': ['entropy'],\n",
       "                         'max_depth': [2, 4, 6, 8, 10],\n",
       "                         'min_samples_leaf': [10, 20, 30, 40, 50]},\n",
       "             scoring='accuracy')"
      ]
     },
     "execution_count": 150,
     "metadata": {},
     "output_type": "execute_result"
    }
   ],
   "source": [
    "# 그리드 서치 실행\n",
    "clf_gs.fit(X, Y)"
   ]
  },
  {
   "cell_type": "code",
   "execution_count": 151,
   "metadata": {},
   "outputs": [
    {
     "name": "stdout",
     "output_type": "stream",
     "text": [
      "0.6305133735979294\n",
      "{'criterion': 'entropy', 'max_depth': 4, 'min_samples_leaf': 20}\n"
     ]
    }
   ],
   "source": [
    "# 가장 높은 성능일 때의 모델에 대한 정밀도와 파라미터 조합 확인\n",
    "print(clf_gs.best_score_)\n",
    "print(clf_gs.best_params_)"
   ]
  },
  {
   "cell_type": "code",
   "execution_count": 152,
   "metadata": {},
   "outputs": [
    {
     "data": {
      "text/plain": [
       "DecisionTreeClassifier(criterion='entropy', max_depth=10, min_samples_leaf=20)"
      ]
     },
     "execution_count": 152,
     "metadata": {},
     "output_type": "execute_result"
    }
   ],
   "source": [
    "{'criterion': 'entropy', 'max_depth': 6, 'min_samples_leaf': 30}\n",
    "# 최적의 파라미터를 사용한 모델 완성\n",
    "clf_best = tree.DecisionTreeClassifier(\n",
    "    criterion='entropy', max_depth=10, min_samples_leaf=20)\n",
    "clf_best.fit(X, Y)"
   ]
  },
  {
   "cell_type": "code",
   "execution_count": 153,
   "metadata": {},
   "outputs": [
    {
     "name": "stdout",
     "output_type": "stream",
     "text": [
      "[0.5278748  0.07406331 0.01932149 0.03168964 0.02977267 0.02010362\n",
      " 0.03060375 0.03499045 0.05108407 0.03185161 0.00572298 0.02520948\n",
      " 0.03891664 0.03069407 0.00868646 0.03209409 0.00732086]\n"
     ]
    }
   ],
   "source": [
    "# 영향이 높은 변수를 확인\n",
    "print(clf_best.feature_importances_)"
   ]
  },
  {
   "cell_type": "markdown",
   "metadata": {},
   "source": [
    "#### 변수의 영향도 시각화"
   ]
  },
  {
   "cell_type": "code",
   "execution_count": 154,
   "metadata": {},
   "outputs": [
    {
     "data": {
      "text/html": [
       "        <script type=\"text/javascript\">\n",
       "        window.PlotlyConfig = {MathJaxConfig: 'local'};\n",
       "        if (window.MathJax) {MathJax.Hub.Config({SVG: {font: \"STIX-Web\"}});}\n",
       "        if (typeof require !== 'undefined') {\n",
       "        require.undef(\"plotly\");\n",
       "        requirejs.config({\n",
       "            paths: {\n",
       "                'plotly': ['https://cdn.plot.ly/plotly-latest.min']\n",
       "            }\n",
       "        });\n",
       "        require(['plotly'], function(Plotly) {\n",
       "            window._Plotly = Plotly;\n",
       "        });\n",
       "        }\n",
       "        </script>\n",
       "        "
      ]
     },
     "metadata": {},
     "output_type": "display_data"
    }
   ],
   "source": [
    "import matplotlib.pyplot as plt\n",
    "%matplotlib inline\n",
    "\n",
    "import plotly.offline as py\n",
    "py.init_notebook_mode(connected=True)\n",
    "\n",
    "import plotly.graph_objs as go\n",
    "import plotly.tools as tls\n",
    "\n",
    "from sklearn.model_selection import train_test_split"
   ]
  },
  {
   "cell_type": "code",
   "execution_count": 155,
   "metadata": {},
   "outputs": [
    {
     "data": {
      "text/plain": [
       "array(['총구매액', '구매건수', '평균구매가격', '평균할부개월수', '구매브랜드종류', '내점일수',\n",
       "       '수입상품_구매비율', '주말방문비율', '가을_구매건수', '겨울_구매건수', '봄_구매건수', '여름_구매건수',\n",
       "       '아침_구매건수', '저녁_구매건수', '점심_구매건수', '주구매코너', 'gender'], dtype=object)"
      ]
     },
     "execution_count": 155,
     "metadata": {},
     "output_type": "execute_result"
    }
   ],
   "source": [
    "features = tdf_new.drop(['custid'], axis=1).columns.values\n",
    "features"
   ]
  },
  {
   "cell_type": "code",
   "execution_count": 156,
   "metadata": {},
   "outputs": [
    {
     "data": {
      "application/vnd.plotly.v1+json": {
       "config": {
        "linkText": "Export to plot.ly",
        "plotlyServerURL": "https://plot.ly",
        "showLink": false
       },
       "data": [
        {
         "marker": {
          "color": [
           0.527874801165007,
           0.07406331200634682,
           0.019321489743195128,
           0.03168964233063031,
           0.029772668365560914,
           0.020103618158258018,
           0.030603751927917987,
           0.03499045251372077,
           0.05108407293786249,
           0.031851608730264644,
           0.005722984581988002,
           0.02520947767753936,
           0.03891663975757778,
           0.0306940736529595,
           0.008686459640377547,
           0.032094090175267716,
           0.007320856635525984
          ],
          "colorscale": [
           [
            0,
            "rgb(12,51,131)"
           ],
           [
            0.25,
            "rgb(10,136,186)"
           ],
           [
            0.5,
            "rgb(242,211,56)"
           ],
           [
            0.75,
            "rgb(242,143,56)"
           ],
           [
            1,
            "rgb(217,30,30)"
           ]
          ],
          "showscale": true,
          "size": 13,
          "sizemode": "diameter",
          "sizeref": 1
         },
         "mode": "markers",
         "text": [
          "총구매액",
          "구매건수",
          "평균구매가격",
          "평균할부개월수",
          "구매브랜드종류",
          "내점일수",
          "수입상품_구매비율",
          "주말방문비율",
          "가을_구매건수",
          "겨울_구매건수",
          "봄_구매건수",
          "여름_구매건수",
          "아침_구매건수",
          "저녁_구매건수",
          "점심_구매건수",
          "주구매코너",
          "gender"
         ],
         "type": "scatter",
         "x": [
          "총구매액",
          "구매건수",
          "평균구매가격",
          "평균할부개월수",
          "구매브랜드종류",
          "내점일수",
          "수입상품_구매비율",
          "주말방문비율",
          "가을_구매건수",
          "겨울_구매건수",
          "봄_구매건수",
          "여름_구매건수",
          "아침_구매건수",
          "저녁_구매건수",
          "점심_구매건수",
          "주구매코너",
          "gender"
         ],
         "y": [
          0.527874801165007,
          0.07406331200634682,
          0.019321489743195128,
          0.03168964233063031,
          0.029772668365560914,
          0.020103618158258018,
          0.030603751927917987,
          0.03499045251372077,
          0.05108407293786249,
          0.031851608730264644,
          0.005722984581988002,
          0.02520947767753936,
          0.03891663975757778,
          0.0306940736529595,
          0.008686459640377547,
          0.032094090175267716,
          0.007320856635525984
         ]
        }
       ],
       "layout": {
        "autosize": true,
        "hovermode": "closest",
        "showlegend": false,
        "template": {
         "data": {
          "bar": [
           {
            "error_x": {
             "color": "#2a3f5f"
            },
            "error_y": {
             "color": "#2a3f5f"
            },
            "marker": {
             "line": {
              "color": "#E5ECF6",
              "width": 0.5
             }
            },
            "type": "bar"
           }
          ],
          "barpolar": [
           {
            "marker": {
             "line": {
              "color": "#E5ECF6",
              "width": 0.5
             }
            },
            "type": "barpolar"
           }
          ],
          "carpet": [
           {
            "aaxis": {
             "endlinecolor": "#2a3f5f",
             "gridcolor": "white",
             "linecolor": "white",
             "minorgridcolor": "white",
             "startlinecolor": "#2a3f5f"
            },
            "baxis": {
             "endlinecolor": "#2a3f5f",
             "gridcolor": "white",
             "linecolor": "white",
             "minorgridcolor": "white",
             "startlinecolor": "#2a3f5f"
            },
            "type": "carpet"
           }
          ],
          "choropleth": [
           {
            "colorbar": {
             "outlinewidth": 0,
             "ticks": ""
            },
            "type": "choropleth"
           }
          ],
          "contour": [
           {
            "colorbar": {
             "outlinewidth": 0,
             "ticks": ""
            },
            "colorscale": [
             [
              0,
              "#0d0887"
             ],
             [
              0.1111111111111111,
              "#46039f"
             ],
             [
              0.2222222222222222,
              "#7201a8"
             ],
             [
              0.3333333333333333,
              "#9c179e"
             ],
             [
              0.4444444444444444,
              "#bd3786"
             ],
             [
              0.5555555555555556,
              "#d8576b"
             ],
             [
              0.6666666666666666,
              "#ed7953"
             ],
             [
              0.7777777777777778,
              "#fb9f3a"
             ],
             [
              0.8888888888888888,
              "#fdca26"
             ],
             [
              1,
              "#f0f921"
             ]
            ],
            "type": "contour"
           }
          ],
          "contourcarpet": [
           {
            "colorbar": {
             "outlinewidth": 0,
             "ticks": ""
            },
            "type": "contourcarpet"
           }
          ],
          "heatmap": [
           {
            "colorbar": {
             "outlinewidth": 0,
             "ticks": ""
            },
            "colorscale": [
             [
              0,
              "#0d0887"
             ],
             [
              0.1111111111111111,
              "#46039f"
             ],
             [
              0.2222222222222222,
              "#7201a8"
             ],
             [
              0.3333333333333333,
              "#9c179e"
             ],
             [
              0.4444444444444444,
              "#bd3786"
             ],
             [
              0.5555555555555556,
              "#d8576b"
             ],
             [
              0.6666666666666666,
              "#ed7953"
             ],
             [
              0.7777777777777778,
              "#fb9f3a"
             ],
             [
              0.8888888888888888,
              "#fdca26"
             ],
             [
              1,
              "#f0f921"
             ]
            ],
            "type": "heatmap"
           }
          ],
          "heatmapgl": [
           {
            "colorbar": {
             "outlinewidth": 0,
             "ticks": ""
            },
            "colorscale": [
             [
              0,
              "#0d0887"
             ],
             [
              0.1111111111111111,
              "#46039f"
             ],
             [
              0.2222222222222222,
              "#7201a8"
             ],
             [
              0.3333333333333333,
              "#9c179e"
             ],
             [
              0.4444444444444444,
              "#bd3786"
             ],
             [
              0.5555555555555556,
              "#d8576b"
             ],
             [
              0.6666666666666666,
              "#ed7953"
             ],
             [
              0.7777777777777778,
              "#fb9f3a"
             ],
             [
              0.8888888888888888,
              "#fdca26"
             ],
             [
              1,
              "#f0f921"
             ]
            ],
            "type": "heatmapgl"
           }
          ],
          "histogram": [
           {
            "marker": {
             "colorbar": {
              "outlinewidth": 0,
              "ticks": ""
             }
            },
            "type": "histogram"
           }
          ],
          "histogram2d": [
           {
            "colorbar": {
             "outlinewidth": 0,
             "ticks": ""
            },
            "colorscale": [
             [
              0,
              "#0d0887"
             ],
             [
              0.1111111111111111,
              "#46039f"
             ],
             [
              0.2222222222222222,
              "#7201a8"
             ],
             [
              0.3333333333333333,
              "#9c179e"
             ],
             [
              0.4444444444444444,
              "#bd3786"
             ],
             [
              0.5555555555555556,
              "#d8576b"
             ],
             [
              0.6666666666666666,
              "#ed7953"
             ],
             [
              0.7777777777777778,
              "#fb9f3a"
             ],
             [
              0.8888888888888888,
              "#fdca26"
             ],
             [
              1,
              "#f0f921"
             ]
            ],
            "type": "histogram2d"
           }
          ],
          "histogram2dcontour": [
           {
            "colorbar": {
             "outlinewidth": 0,
             "ticks": ""
            },
            "colorscale": [
             [
              0,
              "#0d0887"
             ],
             [
              0.1111111111111111,
              "#46039f"
             ],
             [
              0.2222222222222222,
              "#7201a8"
             ],
             [
              0.3333333333333333,
              "#9c179e"
             ],
             [
              0.4444444444444444,
              "#bd3786"
             ],
             [
              0.5555555555555556,
              "#d8576b"
             ],
             [
              0.6666666666666666,
              "#ed7953"
             ],
             [
              0.7777777777777778,
              "#fb9f3a"
             ],
             [
              0.8888888888888888,
              "#fdca26"
             ],
             [
              1,
              "#f0f921"
             ]
            ],
            "type": "histogram2dcontour"
           }
          ],
          "mesh3d": [
           {
            "colorbar": {
             "outlinewidth": 0,
             "ticks": ""
            },
            "type": "mesh3d"
           }
          ],
          "parcoords": [
           {
            "line": {
             "colorbar": {
              "outlinewidth": 0,
              "ticks": ""
             }
            },
            "type": "parcoords"
           }
          ],
          "pie": [
           {
            "automargin": true,
            "type": "pie"
           }
          ],
          "scatter": [
           {
            "marker": {
             "colorbar": {
              "outlinewidth": 0,
              "ticks": ""
             }
            },
            "type": "scatter"
           }
          ],
          "scatter3d": [
           {
            "line": {
             "colorbar": {
              "outlinewidth": 0,
              "ticks": ""
             }
            },
            "marker": {
             "colorbar": {
              "outlinewidth": 0,
              "ticks": ""
             }
            },
            "type": "scatter3d"
           }
          ],
          "scattercarpet": [
           {
            "marker": {
             "colorbar": {
              "outlinewidth": 0,
              "ticks": ""
             }
            },
            "type": "scattercarpet"
           }
          ],
          "scattergeo": [
           {
            "marker": {
             "colorbar": {
              "outlinewidth": 0,
              "ticks": ""
             }
            },
            "type": "scattergeo"
           }
          ],
          "scattergl": [
           {
            "marker": {
             "colorbar": {
              "outlinewidth": 0,
              "ticks": ""
             }
            },
            "type": "scattergl"
           }
          ],
          "scattermapbox": [
           {
            "marker": {
             "colorbar": {
              "outlinewidth": 0,
              "ticks": ""
             }
            },
            "type": "scattermapbox"
           }
          ],
          "scatterpolar": [
           {
            "marker": {
             "colorbar": {
              "outlinewidth": 0,
              "ticks": ""
             }
            },
            "type": "scatterpolar"
           }
          ],
          "scatterpolargl": [
           {
            "marker": {
             "colorbar": {
              "outlinewidth": 0,
              "ticks": ""
             }
            },
            "type": "scatterpolargl"
           }
          ],
          "scatterternary": [
           {
            "marker": {
             "colorbar": {
              "outlinewidth": 0,
              "ticks": ""
             }
            },
            "type": "scatterternary"
           }
          ],
          "surface": [
           {
            "colorbar": {
             "outlinewidth": 0,
             "ticks": ""
            },
            "colorscale": [
             [
              0,
              "#0d0887"
             ],
             [
              0.1111111111111111,
              "#46039f"
             ],
             [
              0.2222222222222222,
              "#7201a8"
             ],
             [
              0.3333333333333333,
              "#9c179e"
             ],
             [
              0.4444444444444444,
              "#bd3786"
             ],
             [
              0.5555555555555556,
              "#d8576b"
             ],
             [
              0.6666666666666666,
              "#ed7953"
             ],
             [
              0.7777777777777778,
              "#fb9f3a"
             ],
             [
              0.8888888888888888,
              "#fdca26"
             ],
             [
              1,
              "#f0f921"
             ]
            ],
            "type": "surface"
           }
          ],
          "table": [
           {
            "cells": {
             "fill": {
              "color": "#EBF0F8"
             },
             "line": {
              "color": "white"
             }
            },
            "header": {
             "fill": {
              "color": "#C8D4E3"
             },
             "line": {
              "color": "white"
             }
            },
            "type": "table"
           }
          ]
         },
         "layout": {
          "annotationdefaults": {
           "arrowcolor": "#2a3f5f",
           "arrowhead": 0,
           "arrowwidth": 1
          },
          "autotypenumbers": "strict",
          "coloraxis": {
           "colorbar": {
            "outlinewidth": 0,
            "ticks": ""
           }
          },
          "colorscale": {
           "diverging": [
            [
             0,
             "#8e0152"
            ],
            [
             0.1,
             "#c51b7d"
            ],
            [
             0.2,
             "#de77ae"
            ],
            [
             0.3,
             "#f1b6da"
            ],
            [
             0.4,
             "#fde0ef"
            ],
            [
             0.5,
             "#f7f7f7"
            ],
            [
             0.6,
             "#e6f5d0"
            ],
            [
             0.7,
             "#b8e186"
            ],
            [
             0.8,
             "#7fbc41"
            ],
            [
             0.9,
             "#4d9221"
            ],
            [
             1,
             "#276419"
            ]
           ],
           "sequential": [
            [
             0,
             "#0d0887"
            ],
            [
             0.1111111111111111,
             "#46039f"
            ],
            [
             0.2222222222222222,
             "#7201a8"
            ],
            [
             0.3333333333333333,
             "#9c179e"
            ],
            [
             0.4444444444444444,
             "#bd3786"
            ],
            [
             0.5555555555555556,
             "#d8576b"
            ],
            [
             0.6666666666666666,
             "#ed7953"
            ],
            [
             0.7777777777777778,
             "#fb9f3a"
            ],
            [
             0.8888888888888888,
             "#fdca26"
            ],
            [
             1,
             "#f0f921"
            ]
           ],
           "sequentialminus": [
            [
             0,
             "#0d0887"
            ],
            [
             0.1111111111111111,
             "#46039f"
            ],
            [
             0.2222222222222222,
             "#7201a8"
            ],
            [
             0.3333333333333333,
             "#9c179e"
            ],
            [
             0.4444444444444444,
             "#bd3786"
            ],
            [
             0.5555555555555556,
             "#d8576b"
            ],
            [
             0.6666666666666666,
             "#ed7953"
            ],
            [
             0.7777777777777778,
             "#fb9f3a"
            ],
            [
             0.8888888888888888,
             "#fdca26"
            ],
            [
             1,
             "#f0f921"
            ]
           ]
          },
          "colorway": [
           "#636efa",
           "#EF553B",
           "#00cc96",
           "#ab63fa",
           "#FFA15A",
           "#19d3f3",
           "#FF6692",
           "#B6E880",
           "#FF97FF",
           "#FECB52"
          ],
          "font": {
           "color": "#2a3f5f"
          },
          "geo": {
           "bgcolor": "white",
           "lakecolor": "white",
           "landcolor": "#E5ECF6",
           "showlakes": true,
           "showland": true,
           "subunitcolor": "white"
          },
          "hoverlabel": {
           "align": "left"
          },
          "hovermode": "closest",
          "mapbox": {
           "style": "light"
          },
          "paper_bgcolor": "white",
          "plot_bgcolor": "#E5ECF6",
          "polar": {
           "angularaxis": {
            "gridcolor": "white",
            "linecolor": "white",
            "ticks": ""
           },
           "bgcolor": "#E5ECF6",
           "radialaxis": {
            "gridcolor": "white",
            "linecolor": "white",
            "ticks": ""
           }
          },
          "scene": {
           "xaxis": {
            "backgroundcolor": "#E5ECF6",
            "gridcolor": "white",
            "gridwidth": 2,
            "linecolor": "white",
            "showbackground": true,
            "ticks": "",
            "zerolinecolor": "white"
           },
           "yaxis": {
            "backgroundcolor": "#E5ECF6",
            "gridcolor": "white",
            "gridwidth": 2,
            "linecolor": "white",
            "showbackground": true,
            "ticks": "",
            "zerolinecolor": "white"
           },
           "zaxis": {
            "backgroundcolor": "#E5ECF6",
            "gridcolor": "white",
            "gridwidth": 2,
            "linecolor": "white",
            "showbackground": true,
            "ticks": "",
            "zerolinecolor": "white"
           }
          },
          "shapedefaults": {
           "line": {
            "color": "#2a3f5f"
           }
          },
          "ternary": {
           "aaxis": {
            "gridcolor": "white",
            "linecolor": "white",
            "ticks": ""
           },
           "baxis": {
            "gridcolor": "white",
            "linecolor": "white",
            "ticks": ""
           },
           "bgcolor": "#E5ECF6",
           "caxis": {
            "gridcolor": "white",
            "linecolor": "white",
            "ticks": ""
           }
          },
          "title": {
           "x": 0.05
          },
          "xaxis": {
           "automargin": true,
           "gridcolor": "white",
           "linecolor": "white",
           "ticks": "",
           "title": {
            "standoff": 15
           },
           "zerolinecolor": "white",
           "zerolinewidth": 2
          },
          "yaxis": {
           "automargin": true,
           "gridcolor": "white",
           "linecolor": "white",
           "ticks": "",
           "title": {
            "standoff": 15
           },
           "zerolinecolor": "white",
           "zerolinewidth": 2
          }
         }
        },
        "title": {
         "text": "H백화점 Feature Importance "
        },
        "xaxis": {
         "showgrid": false,
         "showline": false,
         "ticklen": 5,
         "zeroline": false
        },
        "yaxis": {
         "gridwidth": 2,
         "showgrid": false,
         "ticklen": 5,
         "title": {
          "text": "Feature Importance"
         },
         "zeroline": false
        }
       }
      },
      "text/html": [
       "<div>                            <div id=\"cf4d136b-0765-4dec-8e60-934eb0dac0d9\" class=\"plotly-graph-div\" style=\"height:525px; width:100%;\"></div>            <script type=\"text/javascript\">                require([\"plotly\"], function(Plotly) {                    window.PLOTLYENV=window.PLOTLYENV || {};                                    if (document.getElementById(\"cf4d136b-0765-4dec-8e60-934eb0dac0d9\")) {                    Plotly.newPlot(                        \"cf4d136b-0765-4dec-8e60-934eb0dac0d9\",                        [{\"marker\": {\"color\": [0.527874801165007, 0.07406331200634682, 0.019321489743195128, 0.03168964233063031, 0.029772668365560914, 0.020103618158258018, 0.030603751927917987, 0.03499045251372077, 0.05108407293786249, 0.031851608730264644, 0.005722984581988002, 0.02520947767753936, 0.03891663975757778, 0.0306940736529595, 0.008686459640377547, 0.032094090175267716, 0.007320856635525984], \"colorscale\": [[0.0, \"rgb(12,51,131)\"], [0.25, \"rgb(10,136,186)\"], [0.5, \"rgb(242,211,56)\"], [0.75, \"rgb(242,143,56)\"], [1.0, \"rgb(217,30,30)\"]], \"showscale\": true, \"size\": 13, \"sizemode\": \"diameter\", \"sizeref\": 1}, \"mode\": \"markers\", \"text\": [\"\\ucd1d\\uad6c\\ub9e4\\uc561\", \"\\uad6c\\ub9e4\\uac74\\uc218\", \"\\ud3c9\\uade0\\uad6c\\ub9e4\\uac00\\uaca9\", \"\\ud3c9\\uade0\\ud560\\ubd80\\uac1c\\uc6d4\\uc218\", \"\\uad6c\\ub9e4\\ube0c\\ub79c\\ub4dc\\uc885\\ub958\", \"\\ub0b4\\uc810\\uc77c\\uc218\", \"\\uc218\\uc785\\uc0c1\\ud488_\\uad6c\\ub9e4\\ube44\\uc728\", \"\\uc8fc\\ub9d0\\ubc29\\ubb38\\ube44\\uc728\", \"\\uac00\\uc744_\\uad6c\\ub9e4\\uac74\\uc218\", \"\\uaca8\\uc6b8_\\uad6c\\ub9e4\\uac74\\uc218\", \"\\ubd04_\\uad6c\\ub9e4\\uac74\\uc218\", \"\\uc5ec\\ub984_\\uad6c\\ub9e4\\uac74\\uc218\", \"\\uc544\\uce68_\\uad6c\\ub9e4\\uac74\\uc218\", \"\\uc800\\ub141_\\uad6c\\ub9e4\\uac74\\uc218\", \"\\uc810\\uc2ec_\\uad6c\\ub9e4\\uac74\\uc218\", \"\\uc8fc\\uad6c\\ub9e4\\ucf54\\ub108\", \"gender\"], \"type\": \"scatter\", \"x\": [\"\\ucd1d\\uad6c\\ub9e4\\uc561\", \"\\uad6c\\ub9e4\\uac74\\uc218\", \"\\ud3c9\\uade0\\uad6c\\ub9e4\\uac00\\uaca9\", \"\\ud3c9\\uade0\\ud560\\ubd80\\uac1c\\uc6d4\\uc218\", \"\\uad6c\\ub9e4\\ube0c\\ub79c\\ub4dc\\uc885\\ub958\", \"\\ub0b4\\uc810\\uc77c\\uc218\", \"\\uc218\\uc785\\uc0c1\\ud488_\\uad6c\\ub9e4\\ube44\\uc728\", \"\\uc8fc\\ub9d0\\ubc29\\ubb38\\ube44\\uc728\", \"\\uac00\\uc744_\\uad6c\\ub9e4\\uac74\\uc218\", \"\\uaca8\\uc6b8_\\uad6c\\ub9e4\\uac74\\uc218\", \"\\ubd04_\\uad6c\\ub9e4\\uac74\\uc218\", \"\\uc5ec\\ub984_\\uad6c\\ub9e4\\uac74\\uc218\", \"\\uc544\\uce68_\\uad6c\\ub9e4\\uac74\\uc218\", \"\\uc800\\ub141_\\uad6c\\ub9e4\\uac74\\uc218\", \"\\uc810\\uc2ec_\\uad6c\\ub9e4\\uac74\\uc218\", \"\\uc8fc\\uad6c\\ub9e4\\ucf54\\ub108\", \"gender\"], \"y\": [0.527874801165007, 0.07406331200634682, 0.019321489743195128, 0.03168964233063031, 0.029772668365560914, 0.020103618158258018, 0.030603751927917987, 0.03499045251372077, 0.05108407293786249, 0.031851608730264644, 0.005722984581988002, 0.02520947767753936, 0.03891663975757778, 0.0306940736529595, 0.008686459640377547, 0.032094090175267716, 0.007320856635525984]}],                        {\"autosize\": true, \"hovermode\": \"closest\", \"showlegend\": false, \"template\": {\"data\": {\"bar\": [{\"error_x\": {\"color\": \"#2a3f5f\"}, \"error_y\": {\"color\": \"#2a3f5f\"}, \"marker\": {\"line\": {\"color\": \"#E5ECF6\", \"width\": 0.5}}, \"type\": \"bar\"}], \"barpolar\": [{\"marker\": {\"line\": {\"color\": \"#E5ECF6\", \"width\": 0.5}}, \"type\": \"barpolar\"}], \"carpet\": [{\"aaxis\": {\"endlinecolor\": \"#2a3f5f\", \"gridcolor\": \"white\", \"linecolor\": \"white\", \"minorgridcolor\": \"white\", \"startlinecolor\": \"#2a3f5f\"}, \"baxis\": {\"endlinecolor\": \"#2a3f5f\", \"gridcolor\": \"white\", \"linecolor\": \"white\", \"minorgridcolor\": \"white\", \"startlinecolor\": \"#2a3f5f\"}, \"type\": \"carpet\"}], \"choropleth\": [{\"colorbar\": {\"outlinewidth\": 0, \"ticks\": \"\"}, \"type\": \"choropleth\"}], \"contour\": [{\"colorbar\": {\"outlinewidth\": 0, \"ticks\": \"\"}, \"colorscale\": [[0.0, \"#0d0887\"], [0.1111111111111111, \"#46039f\"], [0.2222222222222222, \"#7201a8\"], [0.3333333333333333, \"#9c179e\"], [0.4444444444444444, \"#bd3786\"], [0.5555555555555556, \"#d8576b\"], [0.6666666666666666, \"#ed7953\"], [0.7777777777777778, \"#fb9f3a\"], [0.8888888888888888, \"#fdca26\"], [1.0, \"#f0f921\"]], \"type\": \"contour\"}], \"contourcarpet\": [{\"colorbar\": {\"outlinewidth\": 0, \"ticks\": \"\"}, \"type\": \"contourcarpet\"}], \"heatmap\": [{\"colorbar\": {\"outlinewidth\": 0, \"ticks\": \"\"}, \"colorscale\": [[0.0, \"#0d0887\"], [0.1111111111111111, \"#46039f\"], [0.2222222222222222, \"#7201a8\"], [0.3333333333333333, \"#9c179e\"], [0.4444444444444444, \"#bd3786\"], [0.5555555555555556, \"#d8576b\"], [0.6666666666666666, \"#ed7953\"], [0.7777777777777778, \"#fb9f3a\"], [0.8888888888888888, \"#fdca26\"], [1.0, \"#f0f921\"]], \"type\": \"heatmap\"}], \"heatmapgl\": [{\"colorbar\": {\"outlinewidth\": 0, \"ticks\": \"\"}, \"colorscale\": [[0.0, \"#0d0887\"], [0.1111111111111111, \"#46039f\"], [0.2222222222222222, \"#7201a8\"], [0.3333333333333333, \"#9c179e\"], [0.4444444444444444, \"#bd3786\"], [0.5555555555555556, \"#d8576b\"], [0.6666666666666666, \"#ed7953\"], [0.7777777777777778, \"#fb9f3a\"], [0.8888888888888888, \"#fdca26\"], [1.0, \"#f0f921\"]], \"type\": \"heatmapgl\"}], \"histogram\": [{\"marker\": {\"colorbar\": {\"outlinewidth\": 0, \"ticks\": \"\"}}, \"type\": \"histogram\"}], \"histogram2d\": [{\"colorbar\": {\"outlinewidth\": 0, \"ticks\": \"\"}, \"colorscale\": [[0.0, \"#0d0887\"], [0.1111111111111111, \"#46039f\"], [0.2222222222222222, \"#7201a8\"], [0.3333333333333333, \"#9c179e\"], [0.4444444444444444, \"#bd3786\"], [0.5555555555555556, \"#d8576b\"], [0.6666666666666666, \"#ed7953\"], [0.7777777777777778, \"#fb9f3a\"], [0.8888888888888888, \"#fdca26\"], [1.0, \"#f0f921\"]], \"type\": \"histogram2d\"}], \"histogram2dcontour\": [{\"colorbar\": {\"outlinewidth\": 0, \"ticks\": \"\"}, \"colorscale\": [[0.0, \"#0d0887\"], [0.1111111111111111, \"#46039f\"], [0.2222222222222222, \"#7201a8\"], [0.3333333333333333, \"#9c179e\"], [0.4444444444444444, \"#bd3786\"], [0.5555555555555556, \"#d8576b\"], [0.6666666666666666, \"#ed7953\"], [0.7777777777777778, \"#fb9f3a\"], [0.8888888888888888, \"#fdca26\"], [1.0, \"#f0f921\"]], \"type\": \"histogram2dcontour\"}], \"mesh3d\": [{\"colorbar\": {\"outlinewidth\": 0, \"ticks\": \"\"}, \"type\": \"mesh3d\"}], \"parcoords\": [{\"line\": {\"colorbar\": {\"outlinewidth\": 0, \"ticks\": \"\"}}, \"type\": \"parcoords\"}], \"pie\": [{\"automargin\": true, \"type\": \"pie\"}], \"scatter\": [{\"marker\": {\"colorbar\": {\"outlinewidth\": 0, \"ticks\": \"\"}}, \"type\": \"scatter\"}], \"scatter3d\": [{\"line\": {\"colorbar\": {\"outlinewidth\": 0, \"ticks\": \"\"}}, \"marker\": {\"colorbar\": {\"outlinewidth\": 0, \"ticks\": \"\"}}, \"type\": \"scatter3d\"}], \"scattercarpet\": [{\"marker\": {\"colorbar\": {\"outlinewidth\": 0, \"ticks\": \"\"}}, \"type\": \"scattercarpet\"}], \"scattergeo\": [{\"marker\": {\"colorbar\": {\"outlinewidth\": 0, \"ticks\": \"\"}}, \"type\": \"scattergeo\"}], \"scattergl\": [{\"marker\": {\"colorbar\": {\"outlinewidth\": 0, \"ticks\": \"\"}}, \"type\": \"scattergl\"}], \"scattermapbox\": [{\"marker\": {\"colorbar\": {\"outlinewidth\": 0, \"ticks\": \"\"}}, \"type\": \"scattermapbox\"}], \"scatterpolar\": [{\"marker\": {\"colorbar\": {\"outlinewidth\": 0, \"ticks\": \"\"}}, \"type\": \"scatterpolar\"}], \"scatterpolargl\": [{\"marker\": {\"colorbar\": {\"outlinewidth\": 0, \"ticks\": \"\"}}, \"type\": \"scatterpolargl\"}], \"scatterternary\": [{\"marker\": {\"colorbar\": {\"outlinewidth\": 0, \"ticks\": \"\"}}, \"type\": \"scatterternary\"}], \"surface\": [{\"colorbar\": {\"outlinewidth\": 0, \"ticks\": \"\"}, \"colorscale\": [[0.0, \"#0d0887\"], [0.1111111111111111, \"#46039f\"], [0.2222222222222222, \"#7201a8\"], [0.3333333333333333, \"#9c179e\"], [0.4444444444444444, \"#bd3786\"], [0.5555555555555556, \"#d8576b\"], [0.6666666666666666, \"#ed7953\"], [0.7777777777777778, \"#fb9f3a\"], [0.8888888888888888, \"#fdca26\"], [1.0, \"#f0f921\"]], \"type\": \"surface\"}], \"table\": [{\"cells\": {\"fill\": {\"color\": \"#EBF0F8\"}, \"line\": {\"color\": \"white\"}}, \"header\": {\"fill\": {\"color\": \"#C8D4E3\"}, \"line\": {\"color\": \"white\"}}, \"type\": \"table\"}]}, \"layout\": {\"annotationdefaults\": {\"arrowcolor\": \"#2a3f5f\", \"arrowhead\": 0, \"arrowwidth\": 1}, \"autotypenumbers\": \"strict\", \"coloraxis\": {\"colorbar\": {\"outlinewidth\": 0, \"ticks\": \"\"}}, \"colorscale\": {\"diverging\": [[0, \"#8e0152\"], [0.1, \"#c51b7d\"], [0.2, \"#de77ae\"], [0.3, \"#f1b6da\"], [0.4, \"#fde0ef\"], [0.5, \"#f7f7f7\"], [0.6, \"#e6f5d0\"], [0.7, \"#b8e186\"], [0.8, \"#7fbc41\"], [0.9, \"#4d9221\"], [1, \"#276419\"]], \"sequential\": [[0.0, \"#0d0887\"], [0.1111111111111111, \"#46039f\"], [0.2222222222222222, \"#7201a8\"], [0.3333333333333333, \"#9c179e\"], [0.4444444444444444, \"#bd3786\"], [0.5555555555555556, \"#d8576b\"], [0.6666666666666666, \"#ed7953\"], [0.7777777777777778, \"#fb9f3a\"], [0.8888888888888888, \"#fdca26\"], [1.0, \"#f0f921\"]], \"sequentialminus\": [[0.0, \"#0d0887\"], [0.1111111111111111, \"#46039f\"], [0.2222222222222222, \"#7201a8\"], [0.3333333333333333, \"#9c179e\"], [0.4444444444444444, \"#bd3786\"], [0.5555555555555556, \"#d8576b\"], [0.6666666666666666, \"#ed7953\"], [0.7777777777777778, \"#fb9f3a\"], [0.8888888888888888, \"#fdca26\"], [1.0, \"#f0f921\"]]}, \"colorway\": [\"#636efa\", \"#EF553B\", \"#00cc96\", \"#ab63fa\", \"#FFA15A\", \"#19d3f3\", \"#FF6692\", \"#B6E880\", \"#FF97FF\", \"#FECB52\"], \"font\": {\"color\": \"#2a3f5f\"}, \"geo\": {\"bgcolor\": \"white\", \"lakecolor\": \"white\", \"landcolor\": \"#E5ECF6\", \"showlakes\": true, \"showland\": true, \"subunitcolor\": \"white\"}, \"hoverlabel\": {\"align\": \"left\"}, \"hovermode\": \"closest\", \"mapbox\": {\"style\": \"light\"}, \"paper_bgcolor\": \"white\", \"plot_bgcolor\": \"#E5ECF6\", \"polar\": {\"angularaxis\": {\"gridcolor\": \"white\", \"linecolor\": \"white\", \"ticks\": \"\"}, \"bgcolor\": \"#E5ECF6\", \"radialaxis\": {\"gridcolor\": \"white\", \"linecolor\": \"white\", \"ticks\": \"\"}}, \"scene\": {\"xaxis\": {\"backgroundcolor\": \"#E5ECF6\", \"gridcolor\": \"white\", \"gridwidth\": 2, \"linecolor\": \"white\", \"showbackground\": true, \"ticks\": \"\", \"zerolinecolor\": \"white\"}, \"yaxis\": {\"backgroundcolor\": \"#E5ECF6\", \"gridcolor\": \"white\", \"gridwidth\": 2, \"linecolor\": \"white\", \"showbackground\": true, \"ticks\": \"\", \"zerolinecolor\": \"white\"}, \"zaxis\": {\"backgroundcolor\": \"#E5ECF6\", \"gridcolor\": \"white\", \"gridwidth\": 2, \"linecolor\": \"white\", \"showbackground\": true, \"ticks\": \"\", \"zerolinecolor\": \"white\"}}, \"shapedefaults\": {\"line\": {\"color\": \"#2a3f5f\"}}, \"ternary\": {\"aaxis\": {\"gridcolor\": \"white\", \"linecolor\": \"white\", \"ticks\": \"\"}, \"baxis\": {\"gridcolor\": \"white\", \"linecolor\": \"white\", \"ticks\": \"\"}, \"bgcolor\": \"#E5ECF6\", \"caxis\": {\"gridcolor\": \"white\", \"linecolor\": \"white\", \"ticks\": \"\"}}, \"title\": {\"x\": 0.05}, \"xaxis\": {\"automargin\": true, \"gridcolor\": \"white\", \"linecolor\": \"white\", \"ticks\": \"\", \"title\": {\"standoff\": 15}, \"zerolinecolor\": \"white\", \"zerolinewidth\": 2}, \"yaxis\": {\"automargin\": true, \"gridcolor\": \"white\", \"linecolor\": \"white\", \"ticks\": \"\", \"title\": {\"standoff\": 15}, \"zerolinecolor\": \"white\", \"zerolinewidth\": 2}}}, \"title\": {\"text\": \"H\\ubc31\\ud654\\uc810 Feature Importance \"}, \"xaxis\": {\"showgrid\": false, \"showline\": false, \"ticklen\": 5, \"zeroline\": false}, \"yaxis\": {\"gridwidth\": 2, \"showgrid\": false, \"ticklen\": 5, \"title\": {\"text\": \"Feature Importance\"}, \"zeroline\": false}},                        {\"responsive\": true}                    ).then(function(){\n",
       "                            \n",
       "var gd = document.getElementById('cf4d136b-0765-4dec-8e60-934eb0dac0d9');\n",
       "var x = new MutationObserver(function (mutations, observer) {{\n",
       "        var display = window.getComputedStyle(gd).display;\n",
       "        if (!display || display === 'none') {{\n",
       "            console.log([gd, 'removed!']);\n",
       "            Plotly.purge(gd);\n",
       "            observer.disconnect();\n",
       "        }}\n",
       "}});\n",
       "\n",
       "// Listen for the removal of the full notebook cells\n",
       "var notebookContainer = gd.closest('#notebook-container');\n",
       "if (notebookContainer) {{\n",
       "    x.observe(notebookContainer, {childList: true});\n",
       "}}\n",
       "\n",
       "// Listen for the clearing of the current output cell\n",
       "var outputEl = gd.closest('.output');\n",
       "if (outputEl) {{\n",
       "    x.observe(outputEl, {childList: true});\n",
       "}}\n",
       "\n",
       "                        })                };                });            </script>        </div>"
      ]
     },
     "metadata": {},
     "output_type": "display_data"
    }
   ],
   "source": [
    "# Scatter plot\n",
    "trace = go.Scatter(\n",
    "    y = clf_best.feature_importances_,\n",
    "    x = features,\n",
    "    mode = 'markers',\n",
    "    marker = dict(\n",
    "                    sizemode = 'diameter',\n",
    "                    sizeref = 1,\n",
    "                    size = 13,\n",
    "                    color = clf_best.feature_importances_,\n",
    "                    colorscale = 'Portland',\n",
    "                    showscale = True\n",
    "                 ),\n",
    "    text = features\n",
    ")\n",
    "\n",
    "data = [trace]\n",
    "\n",
    "layout = go.Layout(\n",
    "    autosize = True,\n",
    "    title = 'H백화점 Feature Importance ',\n",
    "    hovermode = 'closest',\n",
    "        xaxis = dict(\n",
    "            ticklen = 5,\n",
    "            showgrid = False,\n",
    "            zeroline = False,\n",
    "            showline = False\n",
    "        ),\n",
    "        yaxis = dict(\n",
    "            title = 'Feature Importance',\n",
    "            showgrid = False,\n",
    "            zeroline = False,\n",
    "            ticklen = 5,\n",
    "            gridwidth = 2\n",
    "        ),\n",
    "        showlegend = False\n",
    ")\n",
    "\n",
    "fig = go.Figure(data=data, layout=layout)\n",
    "py.iplot(fig, filename='scatter2021')"
   ]
  },
  {
   "cell_type": "code",
   "execution_count": null,
   "metadata": {},
   "outputs": [],
   "source": []
  }
 ],
 "metadata": {
  "kernelspec": {
   "display_name": "Python 3",
   "language": "python",
   "name": "python3"
  },
  "language_info": {
   "codemirror_mode": {
    "name": "ipython",
    "version": 3
   },
   "file_extension": ".py",
   "mimetype": "text/x-python",
   "name": "python",
   "nbconvert_exporter": "python",
   "pygments_lexer": "ipython3",
   "version": "3.8.5"
  }
 },
 "nbformat": 4,
 "nbformat_minor": 4
}
